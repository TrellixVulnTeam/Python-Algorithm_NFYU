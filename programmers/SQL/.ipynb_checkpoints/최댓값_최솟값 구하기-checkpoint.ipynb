{
 "cells": [
  {
   "cell_type": "markdown",
   "metadata": {},
   "source": [
    "##### 첫 풀이\n",
    "SELECT DATETIME   \n",
    "FROM ANIMAL_INS       \n",
    "ORDER BY DATETIME DESC   \n",
    "LIMIT 1;   "
   ]
  },
  {
   "cell_type": "markdown",
   "metadata": {},
   "source": [
    "#### 최댓값 구하기\n",
    "\n",
    "SELECT MAX(DATETIME) AS '시간'   \n",
    "FROM ANIMAL_INS;   "
   ]
  },
  {
   "cell_type": "markdown",
   "metadata": {},
   "source": [
    "<br>"
   ]
  },
  {
   "cell_type": "markdown",
   "metadata": {},
   "source": [
    "#### 최솟값 구하기\n",
    "SELECT MIN(DATETIME) AS '시간'   \n",
    "FROM ANIMAL_INS;   "
   ]
  }
 ],
 "metadata": {
  "kernelspec": {
   "display_name": "Python 3",
   "language": "python",
   "name": "python3"
  },
  "language_info": {
   "codemirror_mode": {
    "name": "ipython",
    "version": 3
   },
   "file_extension": ".py",
   "mimetype": "text/x-python",
   "name": "python",
   "nbconvert_exporter": "python",
   "pygments_lexer": "ipython3",
   "version": "3.7.3"
  }
 },
 "nbformat": 4,
 "nbformat_minor": 2
}
