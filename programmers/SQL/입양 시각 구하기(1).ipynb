{
 "cells": [
  {
   "cell_type": "markdown",
   "metadata": {},
   "source": [
    "SELECT HOUR(DATETIME) AS HOUR, COUNT(DATETIME) AS COUNT   \n",
    "FROM ANIMAL_OUTS   \n",
    "WHERE HOUR(DATETIME) >= 9 AND HOUR(DATETIME) <= 19   // WHERE HOUR(DATETIME) BETWEEN 9 AND 19        \n",
    "GROUP BY HOUR\n",
    "ORDER BY HOUR     "
   ]
  },
  {
   "cell_type": "markdown",
   "metadata": {},
   "source": [
    "SELECT HOUR(DATETIME) AS HOUR, COUNT(DATETIME) AS COUNT    \n",
    "FROM ANIMAL_OUTS   \n",
    "GROUP BY HOUR    \n",
    "HAVING HOUR >= 9 AND HOUR <= 19   \n",
    "ORDER BY HOUR     "
   ]
  },
  {
   "cell_type": "markdown",
   "metadata": {},
   "source": [
    "http://happycgi.com/community/bbs_detail.php?bbs_num=43&tb=board_man_story"
   ]
  },
  {
   "cell_type": "code",
   "execution_count": null,
   "metadata": {},
   "outputs": [],
   "source": []
  }
 ],
 "metadata": {
  "kernelspec": {
   "display_name": "Python 3",
   "language": "python",
   "name": "python3"
  },
  "language_info": {
   "codemirror_mode": {
    "name": "ipython",
    "version": 3
   },
   "file_extension": ".py",
   "mimetype": "text/x-python",
   "name": "python",
   "nbconvert_exporter": "python",
   "pygments_lexer": "ipython3",
   "version": "3.7.3"
  }
 },
 "nbformat": 4,
 "nbformat_minor": 2
}
