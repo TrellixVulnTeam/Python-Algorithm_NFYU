{
 "cells": [
  {
   "cell_type": "code",
   "execution_count": 82,
   "id": "02c770ed",
   "metadata": {},
   "outputs": [
    {
     "data": {
      "text/plain": [
       "3"
      ]
     },
     "execution_count": 82,
     "metadata": {},
     "output_type": "execute_result"
    }
   ],
   "source": [
    "# dfs, bfs로 푸는 문제 아님,,,\n",
    "def dfs(k, n):\n",
    "    \n",
    "    global ans\n",
    "    \n",
    "    if k >= n:\n",
    "        return ans\n",
    "    \n",
    "    \n",
    "    if k <= n and k * 2 <= n: # 2를 곱하는 경우 \n",
    "        k *= 2\n",
    "    \n",
    "    else:\n",
    "        k += 1\n",
    "        ans += 1\n",
    "\n",
    "    dfs(k, n)\n",
    "    \n",
    "\n",
    "\n",
    "def solution(n):\n",
    "    \n",
    "    res = []\n",
    "    global ans\n",
    "    for k in range(1, n + 1):     \n",
    "        if k * 2 <= n:\n",
    "            ans = k   \n",
    "            dfs(k, n)\n",
    "            res.append(ans)\n",
    "    return min(res)\n",
    "\n",
    "solution(6)"
   ]
  },
  {
   "cell_type": "markdown",
   "id": "46eede9c",
   "metadata": {},
   "source": [
    "- n -> 0으로 가는 경우를 생각하자\n",
    "- 2로 나눌수 있으면 나눈 후 거리의 값을 업데이트 해주자\n",
    "- 2로 나눌수 없다면 n의 거리는 -1의 거리값으로 업데이트 해주자. 동시에 cnt +=1"
   ]
  },
  {
   "cell_type": "code",
   "execution_count": null,
   "id": "520c5caa",
   "metadata": {},
   "outputs": [],
   "source": [
    "def solution(n):\n",
    "    cnt = 0\n",
    "    while n > 0:\n",
    "        q, r = divmod(n, 2)\n",
    "        n = q\n",
    "        if r != 0:\n",
    "            cnt += 1\n",
    "    return cnt\n",
    "\n",
    "solution(6)"
   ]
  },
  {
   "cell_type": "code",
   "execution_count": null,
   "id": "eb137aa6",
   "metadata": {},
   "outputs": [],
   "source": [
    "def solution(n):\n",
    "    cnt = 0\n",
    "    while n > 0:\n",
    "        if n % 2 == 0:\n",
    "            n //= 2\n",
    "        else:\n",
    "            n -= 1\n",
    "            cnt += 1\n",
    "    return cnt\n",
    "\n",
    "solution(6)"
   ]
  }
 ],
 "metadata": {
  "kernelspec": {
   "display_name": "Python 3 (ipykernel)",
   "language": "python",
   "name": "python3"
  },
  "language_info": {
   "codemirror_mode": {
    "name": "ipython",
    "version": 3
   },
   "file_extension": ".py",
   "mimetype": "text/x-python",
   "name": "python",
   "nbconvert_exporter": "python",
   "pygments_lexer": "ipython3",
   "version": "3.8.10"
  }
 },
 "nbformat": 4,
 "nbformat_minor": 5
}
