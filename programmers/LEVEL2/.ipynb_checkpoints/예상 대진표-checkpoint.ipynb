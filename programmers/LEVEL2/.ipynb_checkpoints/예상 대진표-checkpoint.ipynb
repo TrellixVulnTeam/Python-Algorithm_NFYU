{
 "cells": [
  {
   "cell_type": "code",
   "execution_count": 28,
   "id": "f0356765",
   "metadata": {},
   "outputs": [
    {
     "data": {
      "text/plain": [
       "3"
      ]
     },
     "execution_count": 28,
     "metadata": {},
     "output_type": "execute_result"
    }
   ],
   "source": [
    "def solution(n,a,b):\n",
    "    answer = 0\n",
    "    while True:\n",
    "        a = a // 2 + a % 2 \n",
    "        b = b // 2 + b % 2\n",
    "        answer += 1\n",
    "        if a == b:\n",
    "            return answer\n",
    "\n",
    "solution(8, 4, 7)"
   ]
  },
  {
   "cell_type": "code",
   "execution_count": null,
   "id": "918a3962",
   "metadata": {},
   "outputs": [],
   "source": []
  }
 ],
 "metadata": {
  "kernelspec": {
   "display_name": "Python 3 (ipykernel)",
   "language": "python",
   "name": "python3"
  },
  "language_info": {
   "codemirror_mode": {
    "name": "ipython",
    "version": 3
   },
   "file_extension": ".py",
   "mimetype": "text/x-python",
   "name": "python",
   "nbconvert_exporter": "python",
   "pygments_lexer": "ipython3",
   "version": "3.8.10"
  }
 },
 "nbformat": 4,
 "nbformat_minor": 5
}
