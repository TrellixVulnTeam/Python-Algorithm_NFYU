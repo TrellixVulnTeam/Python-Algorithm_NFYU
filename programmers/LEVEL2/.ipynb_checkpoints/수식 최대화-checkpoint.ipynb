{
 "cells": [
  {
   "cell_type": "code",
   "execution_count": 88,
   "id": "9b4c11f5",
   "metadata": {},
   "outputs": [
    {
     "data": {
      "text/plain": [
       "300"
      ]
     },
     "execution_count": 88,
     "metadata": {},
     "output_type": "execute_result"
    }
   ],
   "source": [
    "from itertools import permutations\n",
    "\n",
    "\n",
    "def operation(n1, n2, op):\n",
    "    if op == '+':\n",
    "        return str(int(n1) + int(n2))\n",
    "    if op == '-':\n",
    "        return str(int(n1) - int(n2))\n",
    "    if op == '*':\n",
    "        return str(int(n1) * int(n2))\n",
    "\n",
    "\n",
    "def calc(express, op):\n",
    "    arr = []\n",
    "    tmp = ''\n",
    "    for i in express:\n",
    "        if i.isdigit():\n",
    "            tmp += i\n",
    "        else:\n",
    "            arr.append(tmp)\n",
    "            arr.append(i)\n",
    "            tmp = ''\n",
    "    \n",
    "    arr.append(tmp)\n",
    "    \n",
    "    for o in op:\n",
    "        stack = []\n",
    "        while len(arr) != 0:\n",
    "#             print(arr)\n",
    "            tmp = arr.pop(0)\n",
    "            if tmp == o:\n",
    "                stack.append(operation(stack.pop(), arr.pop(0), o))\n",
    "                \n",
    "            else:\n",
    "                stack.append(tmp)\n",
    "        arr = stack\n",
    "    return abs(int(arr[0]))\n",
    "        \n",
    "\n",
    "def solution(expression):\n",
    "    oper = ['+', '-', '*']\n",
    "    oper = list(permutations(oper, 3))\n",
    "    res = []\n",
    "    for i in oper:\n",
    "        res.append(calc(expression, i))\n",
    "    \n",
    "    return max(res)\n",
    "\n"
   ]
  }
 ],
 "metadata": {
  "kernelspec": {
   "display_name": "Python 3 (ipykernel)",
   "language": "python",
   "name": "python3"
  },
  "language_info": {
   "codemirror_mode": {
    "name": "ipython",
    "version": 3
   },
   "file_extension": ".py",
   "mimetype": "text/x-python",
   "name": "python",
   "nbconvert_exporter": "python",
   "pygments_lexer": "ipython3",
   "version": "3.8.10"
  }
 },
 "nbformat": 4,
 "nbformat_minor": 5
}
