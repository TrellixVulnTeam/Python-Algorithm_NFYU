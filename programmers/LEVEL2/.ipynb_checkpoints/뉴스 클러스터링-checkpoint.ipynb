{
 "cells": [
  {
   "cell_type": "code",
   "execution_count": 181,
   "id": "0c9f9822",
   "metadata": {},
   "outputs": [
    {
     "data": {
      "text/plain": [
       "65536"
      ]
     },
     "execution_count": 181,
     "metadata": {},
     "output_type": "execute_result"
    }
   ],
   "source": [
    "from itertools import combinations\n",
    "import math\n",
    "\n",
    "\n",
    "def solution(str1, str2):\n",
    "    s1 = []\n",
    "    s2 = []\n",
    "    str1 = list(str1.lower())\n",
    "    str2 = list(str2.lower())\n",
    "    \n",
    "    for i in range(1, len(str1)):\n",
    "        st = str1[i - 1] + str1[i]\n",
    "        s1.append(st)\n",
    "    \n",
    "    for i in range(1, len(str2)):\n",
    "        st = str2[i - 1] + str2[i]\n",
    "        s2.append(st)\n",
    "    \n",
    "    s1 = list(filter(str.isalpha, s1))  # 단 두줄로 s1,s2의 리스트를 만들 수 있음\n",
    "    s2 = list(filter(str.isalpha, s2))  # s1 = [str1[i:i+2].lower() for i in range(len(str1) - 1) if str1[i:i+2].isalpha()]\n",
    "                                        # s2 = [str2[i:i+2].lower() for i in range(len(str2) - 1) if str2[i:i+2].isalpha()]\n",
    "    \n",
    "    s1_tmp = s1.copy()\n",
    "    s1_res = s1.copy()\n",
    "\n",
    "    if not s1 and not s2:\n",
    "        return 1 * 65536\n",
    "    \n",
    "    for i in s2:\n",
    "        if i not in s1_tmp:\n",
    "            s1_res.append(i)\n",
    "        else:\n",
    "            s1_tmp.remove(i)\n",
    "    \n",
    "    s1_tmp2 = s1.copy()\n",
    "    re = []\n",
    "    \n",
    "    for i in s2:\n",
    "        if i in s1_tmp2:\n",
    "            re.append(i)\n",
    "            s1_tmp2.remove(i)\n",
    "           \n",
    "    answer = math.trunc(len(re) / len(s1_res) * 65536) \n",
    "    \n",
    "    return answer\n",
    "\n",
    "solution('E=M*C^2','E=M*C^2')"
   ]
  },
  {
   "cell_type": "code",
   "execution_count": 196,
   "id": "8c5151b1",
   "metadata": {
    "scrolled": true
   },
   "outputs": [
    {
     "data": {
      "text/plain": [
       "16384"
      ]
     },
     "execution_count": 196,
     "metadata": {},
     "output_type": "execute_result"
    }
   ],
   "source": [
    "# 다른 풀이\n",
    "# Counter를 이용해 각 리스트의 데이터개수를 딕셔너리 형태로 카운트 해준다\n",
    "# 딕셔너리의 데이터는 |,& 등의 차집합을 사용할 수 있다\n",
    "from collections import Counter\n",
    "\n",
    "\n",
    "def solution(str1, str2):\n",
    "    # make sets\n",
    "    s1 = [str1[i:i+2].lower() for i in range(len(str1)-1) if str1[i:i+2].isalpha()]\n",
    "    s2 = [str2[i:i+2].lower() for i in range(len(str2)-1) if str2[i:i+2].isalpha()]\n",
    "    if not s1 and not s2:\n",
    "        return 65536\n",
    "    c1 = Counter(s1)\n",
    "    c2 = Counter(s2)\n",
    "    answer = int(float(sum((c1&c2).values()))/float(sum((c1|c2).values())) * 65536)\n",
    "    return answer\n",
    "\n",
    "solution('FRANCE','french')"
   ]
  }
 ],
 "metadata": {
  "kernelspec": {
   "display_name": "Python 3 (ipykernel)",
   "language": "python",
   "name": "python3"
  },
  "language_info": {
   "codemirror_mode": {
    "name": "ipython",
    "version": 3
   },
   "file_extension": ".py",
   "mimetype": "text/x-python",
   "name": "python",
   "nbconvert_exporter": "python",
   "pygments_lexer": "ipython3",
   "version": "3.8.10"
  }
 },
 "nbformat": 4,
 "nbformat_minor": 5
}
