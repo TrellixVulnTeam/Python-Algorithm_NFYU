{
 "cells": [
  {
   "cell_type": "code",
   "execution_count": null,
   "id": "33dbd0fd",
   "metadata": {},
   "outputs": [],
   "source": [
    "# 문자열 압축\n",
    "\n",
    "def solution(s):\n",
    "    answer = []\n",
    "    for i in range(1, len(s) + 1):\n",
    "        ss = s[:]\n",
    "        tmp = []\n",
    "        st = ''\n",
    "        while ss:\n",
    "            if ss[:i] == ''.join(tmp):\n",
    "                st += '2' + ss[:i]\n",
    "                tmp = []\n",
    "                tmp.append(st)\n",
    "            else:\n",
    "                tmp.append(ss[:i])\n",
    "            ss = ss[i:]\n",
    "            print('ss',ss)\n",
    "        answer.append(''.join(tmp))\n",
    "        print()\n",
    "    return answer\n",
    "\n",
    "solution(\"aabb\")"
   ]
  },
  {
   "cell_type": "code",
   "execution_count": null,
   "id": "7b24ddf9",
   "metadata": {},
   "outputs": [],
   "source": [
    "# 문자열 압축\n",
    "\n",
    "def solution(s):\n",
    "    if len(s) == 1:\n",
    "        return 1\n",
    "    \n",
    "    answer = []\n",
    "    for size in range(1, len(s)):\n",
    "        cnt = 1\n",
    "        compressed = ''\n",
    "        splited = []\n",
    "        \n",
    "        for i in range(0, len(s), size):\n",
    "            splited.append(s[i:i + size])\n",
    "        print(splited)\n",
    "        \n",
    "        for j in range(1, len(splited)):\n",
    "            prev, cur = splited[j - 1], splited[j]\n",
    "            if prev == cur:\n",
    "                cnt += 1\n",
    "            else:\n",
    "                compressed += (str(cnt) + prev) if cnt > 1 else prev\n",
    "                cnt = 1\n",
    "            \n",
    "        compressed += (str(cnt) + splited[-1] if cnt > 1 else splited[-1])\n",
    "        answer.append(len(compressed))\n",
    "    return min(answer)\n",
    "\n",
    "solution(\"abbb\")"
   ]
  },
  {
   "cell_type": "markdown",
   "id": "339cd88f",
   "metadata": {},
   "source": [
    "for j in range(1, len(splited) + 1): 이렇게 앞뒤값을 비교하면 index error가 난다. splited는 배열이기 때문에 마지막 값이 5이면 4이기때문에 +1을 하면 index error 발생\n",
    "그렇기 때문에 마지막 값은 for문을 벗어나서  splited[-1] 로 값을 비교해 문자열에 붙여준다"
   ]
  },
  {
   "cell_type": "code",
   "execution_count": null,
   "id": "11080f35",
   "metadata": {},
   "outputs": [],
   "source": [
    "def solution(s):\n",
    "    for size in range(1, len(s)): # s의 문자열을 1 ~ 7개씩 잘라서 배열에 담기\n",
    "        splited = []\n",
    "        cnt = 1\n",
    "        for i in range(0, len(s), size):\n",
    "            splited.append(s[i:i + size])\n",
    "        print(splited)  \n",
    "        '''\n",
    "        ['a', 'b', 'b', 'b', 'c', 'd', 'd', 'e']\n",
    "        ['ab', 'bb', 'cd', 'de']\n",
    "        ['abb', 'bcd', 'de']\n",
    "        ['abbb', 'cdde']\n",
    "        ['abbbc', 'dde']\n",
    "        ['abbbcd', 'de']\n",
    "        ['abbbcdd', 'e']\n",
    "        '''\n",
    "\n",
    "        for j in range(1, len(splited)):\n",
    "            prev, curr = splited[j - 1], splited[j] # a vs b 비교...\n",
    "            if prev == curr:\n",
    "                cnt += 1\n",
    "            else:\n",
    "                print(f'{prev}의 값 연속해서 {cnt}개 같음') # 마지막 값만 결과값이 나올 수 없음\n",
    "                cnt = 1\n",
    "        print(f'{splited[-1]}의 값 연속해서 {cnt}개 같음')\n",
    "\n",
    "        \n",
    "            \n",
    "\n",
    "\n",
    "\n",
    "solution(\"abbbcdde\")"
   ]
  },
  {
   "cell_type": "code",
   "execution_count": null,
   "id": "5b655661",
   "metadata": {},
   "outputs": [],
   "source": [
    "def dfs(v):\n",
    "    visited[v] = 1\n",
    "    for i in range(1, n + 1):\n",
    "        if not visited[i] and graph[v][i] == 1:\n",
    "            dfs(i)\n",
    "\n",
    "\n",
    "n, m = map(int, input().split())\n",
    "graph = [[0] * (n + 1) for _ in range(n + 1)]\n",
    "visited = [0] * (n + 1)\n",
    "cnt = 0\n",
    "\n",
    "for _ in range(m):\n",
    "    i, j = map(int, input().split())\n",
    "    graph[i][j] = 1\n",
    "    graph[j][i] = 1\n",
    "for i in range(1, n + 1):\n",
    "    if visited[i] == 0:\n",
    "        dfs(i)\n",
    "        cnt += 1\n",
    "print(cnt)"
   ]
  },
  {
   "cell_type": "code",
   "execution_count": null,
   "id": "3ad75a8c",
   "metadata": {},
   "outputs": [],
   "source": [
    "from collections import deque\n",
    "import sys\n",
    "\n",
    "\n",
    "def bfs(v):\n",
    "    visited[v] = 1\n",
    "    queue = deque()\n",
    "    queue.append(v)\n",
    "    while queue:\n",
    "        v = queue.popleft()\n",
    "        for i in range(1, n + 1):\n",
    "            if visited[i] == 0 and graph[v][i] == 1:\n",
    "                    queue.append(i)\n",
    "                    visited[i] = 1\n",
    "    \n",
    "    \n",
    "\n",
    "cnt = 0\n",
    "n, m = map(int, input().split())\n",
    "graph = [[0] * (n + 1) for _ in range(n + 1)]\n",
    "visited = [0] * (n + 1)\n",
    "for k in range(m):\n",
    "    i, j = map(int, input().split())\n",
    "    graph[i][j] = 1\n",
    "    graph[j][i] = 1\n",
    "\n",
    "for i in range(1, n + 1):\n",
    "         if visited[i] == 0:\n",
    "                cnt += 1\n",
    "                bfs(i)\n",
    "                \n",
    "print(cnt)"
   ]
  },
  {
   "cell_type": "markdown",
   "id": "49217cf5",
   "metadata": {},
   "source": [
    "## "
   ]
  },
  {
   "cell_type": "code",
   "execution_count": null,
   "id": "289179a3",
   "metadata": {},
   "outputs": [],
   "source": [
    "from collections import deque\n",
    "import sys\n",
    " \n",
    "def bfs(start):    # BFS implementation\n",
    "    queue = deque([start])\n",
    "    visited[start] = True\n",
    " \n",
    "    while queue:\n",
    "        v = queue.popleft()\n",
    "        print(v)\n",
    "        for i in graph[v]:\n",
    "            if not visited[i]:\n",
    "                queue.append(i)\n",
    "                visited[i] = True\n",
    " \n",
    "N, M = map(int, input().split())\n",
    "graph = [[] for _ in range(N + 1)]\n",
    "visited = [False] * (N + 1)\n",
    " \n",
    "for i in range(M):\n",
    "    node1, node2 = map(int, input().split())\n",
    "    graph[node2].append(node1)\n",
    "    graph[node1].append(node2)\n",
    "print(graph)\n",
    " \n",
    "cnt = 0\n",
    "for i in range(1, N+1):    # check each node\n",
    "    if not visited[i]:\n",
    "        bfs(i)\n",
    "        cnt += 1\n",
    "print(cnt)"
   ]
  },
  {
   "cell_type": "code",
   "execution_count": 29,
   "id": "d5f81b72",
   "metadata": {},
   "outputs": [
    {
     "name": "stdout",
     "output_type": "stream",
     "text": [
      "6 5\n",
      "1 2\n",
      "2 5\n",
      "5 1\n",
      "3 4\n",
      "4 6\n",
      "2\n"
     ]
    }
   ],
   "source": [
    "def dfs(v):\n",
    "    visited[v] = 1\n",
    "    for i in graph[v]:\n",
    "        if not visited[i]:\n",
    "            dfs(i)\n",
    "\n",
    "\n",
    "N, M = map(int, input().split())\n",
    "graph = [[] for _ in range(N + 1)]\n",
    "visited = [0] * (N + 1)\n",
    "cnt = 0\n",
    "for _ in range(M):\n",
    "    i, j = map(int, input().split())\n",
    "    graph[i].append(j)\n",
    "    graph[j].append(i)\n",
    "    \n",
    "for i in range(1, n + 1):\n",
    "    if not visited[i]:\n",
    "        dfs(i)\n",
    "        cnt += 1\n",
    "print(cnt)"
   ]
  },
  {
   "cell_type": "markdown",
   "id": "8f1f56f1",
   "metadata": {},
   "source": [
    "join이란\n",
    "- 두개 이상의 테이블이나 데이터베이스를 연결하여 데이터를 검색하는 방법이다\n",
    "- 자신이 검색하고 싶은 컬럼이 다른 테이블에 있을 경우 주로 사용한다\n",
    "- 보통 primary key 또는 foreign key로 두 테이블을 연결한다\n",
    "- 테이블을 연결하기 위해서는 적어도 하나의 컬럼은 서로 공유되고 있어야 한다"
   ]
  },
  {
   "cell_type": "markdown",
   "id": "1312a767",
   "metadata": {},
   "source": [
    "### inner join\n",
    "- 교집합이라고 생각하면 된다. 기준 테이블과 join한 테이블의 중복된 값을 보여준다\n",
    "- 결과값은 a의 테이블과 b의 테이블이 모두 가지고 있는 데이터만 검색된다\n",
    "\n",
    "```sql\n",
    "SELECT A.NAME, B.AGE\n",
    "FROM ATABLE A\n",
    "INNER JOIN BTABLE B ON A.ID = B.ID\n",
    "```"
   ]
  },
  {
   "cell_type": "markdown",
   "id": "54169197",
   "metadata": {},
   "source": [
    "### left outer join\n",
    "- 기준 테이블의 값 + 테이블과 기준 테이블의 중복된 값을 보여준다\n",
    "- a테이블을 기준으로 join을 하면 a테이블의 모든 데이터와 a테이블과 b테이블의 중복되는 값이 검색된다\n",
    "\n",
    "```sql\n",
    "SELECT A.NAME, B.AGE\n",
    "FROM ATABLE A\n",
    "LEFT OUTER JOIN BTABLE B ON A.ID = B.ID\n",
    "```"
   ]
  },
  {
   "cell_type": "markdown",
   "id": "3051e0da",
   "metadata": {},
   "source": [
    "### right outer join\n",
    "- 기준 테이블의 값 + 테이블과 기준 테이블의 중복된 값을 보여준다\n",
    "- 오른쪽 테이블을 기준으로 join한다고 생각하면 된다\n",
    "- 오른쪽 테이블인 b테이블을 기준으로 join을 하면 b테이블의 모든 데이터와 a테이블과 b테이블의 중복되는 값이 검색된다\n",
    "\n",
    "```sql\n",
    "SELECT A.NAME, B.AGE\n",
    "FROM ATABLE A\n",
    "RIGHT OUTER JOIN BTABLE B ON A.ID = B.ID\n",
    "```"
   ]
  },
  {
   "cell_type": "code",
   "execution_count": null,
   "id": "ea91a04c",
   "metadata": {},
   "outputs": [],
   "source": [
    "select *\n",
    "from subway_stations\n",
    "where id not in (\n",
    "    select b.line_color\n",
    "    from b\n",
    "    where b.line_color = green or b.line_color = red\n",
    "    두번째 테이블에서 green이랑 Red line_color인 것 가져오기\n",
    ")"
   ]
  },
  {
   "cell_type": "code",
   "execution_count": null,
   "id": "020e4110",
   "metadata": {},
   "outputs": [],
   "source": [
    "# not in\n",
    "\n",
    "select * \n",
    "from a\n",
    "where a.key not in (\n",
    "    select b.key\n",
    "    from b\n",
    ")\n",
    "\n",
    "- b테이블을 먼저 접근한다\n",
    "- b.key를 in 리스트에 나열 후 a.key에 공급\n",
    "- b테이블: 공급자 역할을 한다"
   ]
  },
  {
   "cell_type": "code",
   "execution_count": null,
   "id": "298167d8",
   "metadata": {},
   "outputs": [],
   "source": [
    "# not exists\n",
    "\n",
    "select *\n",
    "from a \n",
    "where not exists(\n",
    "    select *\n",
    "    from b\n",
    "    where a.key = b.key\n",
    ")\n",
    "- a테이블을 먼저 접근\n",
    "- 구해진 a의 행들을 not exists절의 b테이블에서 필터링한다\n",
    "- b테이블 : 확인자 역할"
   ]
  },
  {
   "cell_type": "code",
   "execution_count": null,
   "id": "97573628",
   "metadata": {},
   "outputs": [],
   "source": []
  },
  {
   "cell_type": "code",
   "execution_count": null,
   "id": "795f3d31",
   "metadata": {},
   "outputs": [],
   "source": []
  },
  {
   "cell_type": "code",
   "execution_count": null,
   "id": "9b6d5105",
   "metadata": {},
   "outputs": [],
   "source": []
  },
  {
   "cell_type": "code",
   "execution_count": null,
   "id": "5999a9f6",
   "metadata": {},
   "outputs": [],
   "source": []
  },
  {
   "cell_type": "code",
   "execution_count": null,
   "id": "b7e88a10",
   "metadata": {},
   "outputs": [],
   "source": []
  },
  {
   "cell_type": "code",
   "execution_count": null,
   "id": "1cd5a75f",
   "metadata": {},
   "outputs": [],
   "source": []
  },
  {
   "cell_type": "code",
   "execution_count": null,
   "id": "4df5a063",
   "metadata": {},
   "outputs": [],
   "source": []
  },
  {
   "cell_type": "code",
   "execution_count": null,
   "id": "834537d3",
   "metadata": {},
   "outputs": [],
   "source": []
  },
  {
   "cell_type": "code",
   "execution_count": null,
   "id": "06026207",
   "metadata": {},
   "outputs": [],
   "source": []
  },
  {
   "cell_type": "code",
   "execution_count": null,
   "id": "f4cb461b",
   "metadata": {},
   "outputs": [],
   "source": []
  },
  {
   "cell_type": "code",
   "execution_count": null,
   "id": "139f7411",
   "metadata": {},
   "outputs": [],
   "source": []
  },
  {
   "cell_type": "code",
   "execution_count": null,
   "id": "ff561b62",
   "metadata": {},
   "outputs": [],
   "source": []
  }
 ],
 "metadata": {
  "kernelspec": {
   "display_name": "Python 3 (ipykernel)",
   "language": "python",
   "name": "python3"
  },
  "language_info": {
   "codemirror_mode": {
    "name": "ipython",
    "version": 3
   },
   "file_extension": ".py",
   "mimetype": "text/x-python",
   "name": "python",
   "nbconvert_exporter": "python",
   "pygments_lexer": "ipython3",
   "version": "3.8.10"
  }
 },
 "nbformat": 4,
 "nbformat_minor": 5
}
