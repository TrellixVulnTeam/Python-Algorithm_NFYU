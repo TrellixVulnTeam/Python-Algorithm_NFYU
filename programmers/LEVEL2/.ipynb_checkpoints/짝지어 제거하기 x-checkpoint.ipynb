{
 "cells": [
  {
   "cell_type": "code",
   "execution_count": 221,
   "metadata": {},
   "outputs": [
    {
     "data": {
      "text/plain": [
       "1"
      ]
     },
     "execution_count": 221,
     "metadata": {},
     "output_type": "execute_result"
    }
   ],
   "source": [
    "# testcase 3,4,5,10 실패, 효율성 2,3,4,5 실패 \n",
    "# 60.2 / 100\n",
    "\n",
    "def solution(s):\n",
    "    s = list(''.join(s.split()))\n",
    "    i = 1\n",
    "    cnt = len(s) - 1\n",
    "    \n",
    "    while cnt > 1:\n",
    "        if len(s) == 1 or not len(s):\n",
    "            break\n",
    "        \n",
    "        if s[i - 1] == s[i]:\n",
    "            del s[i - 1:i + 1]\n",
    "            i = 1\n",
    "            cnt -= 1\n",
    "\n",
    "        else:\n",
    "            i += 1\n",
    "            cnt -= 1\n",
    "    return 1 if not len(s) else 0\n",
    "\n",
    "solution('aabaab')"
   ]
  },
  {
   "cell_type": "markdown",
   "metadata": {},
   "source": [
    "스택을 활용해본다\n",
    "1. for문으로 문자열 반복을 돌면서 stack과 s의 문자 하나하나의 값을 비교한다\n",
    "2. stack안에 아무것도 없으면 문자를 append한다\n",
    "3. 만약 stack안에 가장 마지막에 들어온 값이 문자 i와 같다면 stack의 값을 pop해준다 (같은 문자이기 때문)\n",
    "4. 만약 stack안에 있는 값과 문자 i의 값이 다르다면 i의 값을 stack에 append해준다 (다른 문자이기 때문)"
   ]
  },
  {
   "cell_type": "code",
   "execution_count": 219,
   "metadata": {},
   "outputs": [
    {
     "data": {
      "text/plain": [
       "0"
      ]
     },
     "execution_count": 219,
     "metadata": {},
     "output_type": "execute_result"
    }
   ],
   "source": [
    "def solution(s):\n",
    "    stack = []\n",
    "    for i in s:\n",
    "        if not len(stack):\n",
    "            stack.append(i)\n",
    "        elif stack[-1] == i:\n",
    "            stack.pop()\n",
    "        else:\n",
    "            stack.append(i)\n",
    "    return 1 if not len(stack) else 0\n",
    "\n",
    "solution('aabaabcd')"
   ]
  }
 ],
 "metadata": {
  "kernelspec": {
   "display_name": "Python 3",
   "language": "python",
   "name": "python3"
  },
  "language_info": {
   "codemirror_mode": {
    "name": "ipython",
    "version": 3
   },
   "file_extension": ".py",
   "mimetype": "text/x-python",
   "name": "python",
   "nbconvert_exporter": "python",
   "pygments_lexer": "ipython3",
   "version": "3.7.3"
  }
 },
 "nbformat": 4,
 "nbformat_minor": 2
}
