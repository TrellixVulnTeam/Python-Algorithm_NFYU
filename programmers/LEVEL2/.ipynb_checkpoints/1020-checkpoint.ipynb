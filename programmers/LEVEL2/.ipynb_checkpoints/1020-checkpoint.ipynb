{
 "cells": [
  {
   "cell_type": "code",
   "execution_count": 5,
   "id": "f70f2931",
   "metadata": {},
   "outputs": [
    {
     "name": "stdout",
     "output_type": "stream",
     "text": [
      "6 5\n",
      "1 2\n",
      "2 5\n",
      "5 1\n",
      "3 4\n",
      "4 6\n",
      "6\n"
     ]
    }
   ],
   "source": [
    "def dfs(v):\n",
    "    visited[v] = 1\n",
    "    for i in range(n + 1):\n",
    "        if not visited[v] and graph[v][i]:\n",
    "            dfs(i)\n",
    "\n",
    "\n",
    "n, m = map(int, input().split())\n",
    "graph = [[0] * (n + 1) for _ in range(n + 1)]\n",
    "visited =[0] * (n + 1)\n",
    "\n",
    "for _ in range(m):\n",
    "    i, j = map(int, input().split())\n",
    "    graph[i][j] = 1\n",
    "    graph[j][i] = 1\n",
    "    \n",
    "cnt = 0   \n",
    "for i in range(n):\n",
    "    if not visited[i]:\n",
    "        dfs(i)\n",
    "        cnt += 1\n",
    "print(cnt)\n",
    "    "
   ]
  },
  {
   "cell_type": "code",
   "execution_count": null,
   "id": "6470651e",
   "metadata": {},
   "outputs": [],
   "source": []
  }
 ],
 "metadata": {
  "kernelspec": {
   "display_name": "Python 3 (ipykernel)",
   "language": "python",
   "name": "python3"
  },
  "language_info": {
   "codemirror_mode": {
    "name": "ipython",
    "version": 3
   },
   "file_extension": ".py",
   "mimetype": "text/x-python",
   "name": "python",
   "nbconvert_exporter": "python",
   "pygments_lexer": "ipython3",
   "version": "3.8.10"
  }
 },
 "nbformat": 4,
 "nbformat_minor": 5
}
