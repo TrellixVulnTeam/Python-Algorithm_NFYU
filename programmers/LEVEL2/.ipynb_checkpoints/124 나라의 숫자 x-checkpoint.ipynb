{
 "cells": [
  {
   "cell_type": "markdown",
   "metadata": {},
   "source": [
    "각 자리수 별로 표현할 수 있는 숫자가 1부터 시작하는 것을 0부터 시작하는 것으로 바꾸어야 해서 '124'[n % 3]을 이용해 0일때는 1, 1일때는 2, 2일때는 4를 삽입해야 한다\n",
    "\n",
    "이 과정을 위해서 각 자리가 올라갈 때마다 전체 숫자에서 1을 빼준 값을 통해 삽입할 숫자를 정해준다"
   ]
  },
  {
   "cell_type": "code",
   "execution_count": 16,
   "metadata": {
    "scrolled": true
   },
   "outputs": [
    {
     "name": "stdout",
     "output_type": "stream",
     "text": [
      "19\n",
      "5\n",
      "0\n"
     ]
    },
    {
     "data": {
      "text/plain": [
       "'142'"
      ]
     },
     "execution_count": 16,
     "metadata": {},
     "output_type": "execute_result"
    }
   ],
   "source": [
    "def solution(n):\n",
    "    answer = ''\n",
    "    \n",
    "    while n > 0:\n",
    "        n -= 1 # 인덱스 0부터 시작하게 만들기 위해 -1을 해준다\n",
    "        answer = '124'[n % 3] + answer\n",
    "        n //= 3\n",
    "    return answer\n",
    "\n",
    "\n",
    "solution(20)"
   ]
  },
  {
   "cell_type": "code",
   "execution_count": 18,
   "metadata": {},
   "outputs": [
    {
     "data": {
      "text/plain": [
       "'24'"
      ]
     },
     "execution_count": 18,
     "metadata": {},
     "output_type": "execute_result"
    }
   ],
   "source": [
    "def solution(n):\n",
    "    num = ['1', '2', '4']\n",
    "    answer = ''\n",
    "    \n",
    "    while n > 0:\n",
    "        n -= 1 \n",
    "        answer = num[n % 3] + answer\n",
    "        n //= 3\n",
    "    return answer\n",
    "\n",
    "\n",
    "solution(9)"
   ]
  }
 ],
 "metadata": {
  "kernelspec": {
   "display_name": "Python 3",
   "language": "python",
   "name": "python3"
  },
  "language_info": {
   "codemirror_mode": {
    "name": "ipython",
    "version": 3
   },
   "file_extension": ".py",
   "mimetype": "text/x-python",
   "name": "python",
   "nbconvert_exporter": "python",
   "pygments_lexer": "ipython3",
   "version": "3.7.3"
  }
 },
 "nbformat": 4,
 "nbformat_minor": 2
}
