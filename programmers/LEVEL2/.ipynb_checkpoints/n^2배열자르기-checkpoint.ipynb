{
 "cells": [
  {
   "cell_type": "markdown",
   "metadata": {},
   "source": [
    "처음에 bfs풀었다고 좋아했는데 시간초과에서 한번 좌절,,    \n",
    "무조건 bfs방향으로 푸는게 맞는줄 알았는데 아니여서 또다시 좌절....아놔....\n",
    "\n",
    "1. 시간복잡도를 o(n^2)에서 o(n)까지 줄여야 하는 문제이다\n",
    "2. bfs로 푸는것은 비효율적이다. 시간초과가 나기 때문"
   ]
  },
  {
   "cell_type": "code",
   "execution_count": 93,
   "metadata": {},
   "outputs": [
    {
     "data": {
      "text/plain": [
       "[3, 2, 2, 3]"
      ]
     },
     "execution_count": 93,
     "metadata": {},
     "output_type": "execute_result"
    }
   ],
   "source": [
    "from collections import deque\n",
    "\n",
    "\n",
    "dx = [0, 1, 1] # 오, 아, 오대\n",
    "dy = [1, 0, 1]\n",
    "\n",
    "\n",
    "def bfs(n, graph, visited, i, j):\n",
    "    queue = deque()\n",
    "    queue.append([i, j])\n",
    "    visited[i][j] = 1\n",
    "    while queue:\n",
    "        x, y = queue.popleft()\n",
    "        \n",
    "        for k in range(3):\n",
    "            nx = x + dx[k]\n",
    "            ny = y + dy[k]\n",
    "            if 0 <= nx < n and 0 <= ny < n and visited[nx][ny] == 0:\n",
    "                visited[nx][ny] = visited[nx - dx[k]][ny - dy[k]] + 1\n",
    "                queue.append([nx, ny])\n",
    "    return visited\n",
    "\n",
    "\n",
    "def solution(n, left, right):\n",
    "    graph = [[0] * (n) for _ in range(n)]\n",
    "    visited = [[0] * (n) for _ in range(n)]\n",
    "    \n",
    "    bfs(n, graph, visited, 0, 0)\n",
    "    new_list = sum(visited, [])\n",
    "    return new_list[left:right + 1]\n",
    "\n",
    "solution(3,2,5)"
   ]
  },
  {
   "cell_type": "code",
   "execution_count": 96,
   "metadata": {},
   "outputs": [
    {
     "data": {
      "text/plain": [
       "[3, 2, 2, 3]"
      ]
     },
     "execution_count": 96,
     "metadata": {},
     "output_type": "execute_result"
    }
   ],
   "source": [
    "def solution(n, left, right):\n",
    "    answer = []\n",
    "    for i in range(left , right + 1):\n",
    "        a = i // n \n",
    "        b = i % n\n",
    "        if a < b:\n",
    "            a, b = b, a\n",
    "        answer.append(a + 1)\n",
    "    return answer\n",
    "\n",
    "solution(3, 2, 5)"
   ]
  }
 ],
 "metadata": {
  "kernelspec": {
   "display_name": "Python 3 (ipykernel)",
   "language": "python",
   "name": "python3"
  },
  "language_info": {
   "codemirror_mode": {
    "name": "ipython",
    "version": 3
   },
   "file_extension": ".py",
   "mimetype": "text/x-python",
   "name": "python",
   "nbconvert_exporter": "python",
   "pygments_lexer": "ipython3",
   "version": "3.8.10"
  },
  "toc": {
   "base_numbering": 1,
   "nav_menu": {},
   "number_sections": true,
   "sideBar": true,
   "skip_h1_title": false,
   "title_cell": "Table of Contents",
   "title_sidebar": "Contents",
   "toc_cell": false,
   "toc_position": {},
   "toc_section_display": true,
   "toc_window_display": false
  }
 },
 "nbformat": 4,
 "nbformat_minor": 4
}
