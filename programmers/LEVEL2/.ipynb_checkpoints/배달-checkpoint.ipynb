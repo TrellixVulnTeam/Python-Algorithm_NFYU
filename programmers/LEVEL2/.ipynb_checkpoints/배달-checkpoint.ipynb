{
 "cells": [
  {
   "cell_type": "code",
   "execution_count": null,
   "id": "dc66d7e1",
   "metadata": {},
   "outputs": [],
   "source": [
    "# 다익스트라 문제 풀이 (boj,kr/1753과 굉장히 유사 - 다익스트라 기본 문제임)\n",
    "import heapq\n",
    "\n",
    "\n",
    "def solution(N, road, K):\n",
    "    answer = 0\n",
    "    INF = int(1e9)\n",
    "    graph = [[] for _ in range(N + 1)]\n",
    "    distance = [INF] * (N + 1)\n",
    "    start = 1\n",
    "    \n",
    "    for i in road:\n",
    "        a, b, c = i\n",
    "        graph[a].append((b, c))\n",
    "        graph[b].append((a, c))\n",
    "    \n",
    "    def dijkstar(start):\n",
    "        q = []\n",
    "        heapq.heappush(q, (0, start))\n",
    "        distance[start] = 0\n",
    "        \n",
    "        while q:\n",
    "            dist, node = heapq.heappop(q)\n",
    "            if distance[node] < dist:\n",
    "                continue\n",
    "            \n",
    "            for i in graph[node]:\n",
    "                cost = dist + i[1]\n",
    "                if cost < distance[i[0]]:\n",
    "                    distance[i[0]] = cost\n",
    "                    heapq.heappush(q, (cost, i[0]))\n",
    "        \n",
    "        return len([i for i in distance if i <= K])\n",
    " \n",
    "    ans = dijkstar(start)\n",
    "\n",
    "    return ans\n",
    "\n",
    "\n",
    "\n",
    "solution(5, [[1,2,1],[2,3,3],[5,2,2],[1,4,2],[5,3,1],[5,4,2]], 3)"
   ]
  }
 ],
 "metadata": {
  "kernelspec": {
   "display_name": "Python 3 (ipykernel)",
   "language": "python",
   "name": "python3"
  },
  "language_info": {
   "codemirror_mode": {
    "name": "ipython",
    "version": 3
   },
   "file_extension": ".py",
   "mimetype": "text/x-python",
   "name": "python",
   "nbconvert_exporter": "python",
   "pygments_lexer": "ipython3",
   "version": "3.8.10"
  }
 },
 "nbformat": 4,
 "nbformat_minor": 5
}
