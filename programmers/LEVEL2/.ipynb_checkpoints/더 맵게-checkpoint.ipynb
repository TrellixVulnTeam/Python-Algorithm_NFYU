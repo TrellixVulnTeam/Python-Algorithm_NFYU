{
 "cells": [
  {
   "cell_type": "code",
   "execution_count": 56,
   "metadata": {},
   "outputs": [
    {
     "data": {
      "text/plain": [
       "2"
      ]
     },
     "execution_count": 56,
     "metadata": {},
     "output_type": "execute_result"
    }
   ],
   "source": [
    "# 내 풀이\n",
    "\n",
    "import heapq\n",
    "\n",
    "def solution(scoville, K):\n",
    "    h = []\n",
    "    cnt = 0\n",
    "    \n",
    "    for v in scoville:\n",
    "        heapq.heappush(h, v)\n",
    "    \n",
    "    while True:\n",
    "        try:\n",
    "            if h[0] >= K:\n",
    "                break\n",
    "            s1, s2 = heapq.heappop(h), heapq.heappop(h)\n",
    "            new_sc = s1 + (s2 * 2)\n",
    "            heapq.heappush(h, new_sc)\n",
    "            cnt += 1\n",
    "        except:\n",
    "            return -1\n",
    "        \n",
    "    return cnt\n",
    "\n",
    "solution([1, 2, 3, 9, 10, 12], 7)"
   ]
  },
  {
   "cell_type": "code",
   "execution_count": 57,
   "metadata": {},
   "outputs": [
    {
     "data": {
      "text/plain": [
       "2"
      ]
     },
     "execution_count": 57,
     "metadata": {},
     "output_type": "execute_result"
    }
   ],
   "source": [
    "# 다른 사람 풀이\n",
    "import heapq\n",
    "\n",
    "def solution(scoville, K):\n",
    "    heapq.heapify(scoville)\n",
    "    answer = 0\n",
    "    \n",
    "    while True:\n",
    "        first = heapq.heappop(scoville)\n",
    "        if first >= K:\n",
    "            break\n",
    "        if len(scoville) == 0:\n",
    "            return -1\n",
    "        \n",
    "        second = heapq.heappop(scoville)\n",
    "        heapq.heappush(scoville, first + second * 2)\n",
    "        answer += 1\n",
    "        \n",
    "    return answer\n",
    "\n",
    "\n",
    "solution([1, 2, 3, 9, 10, 12], 7)"
   ]
  }
 ],
 "metadata": {
  "kernelspec": {
   "display_name": "Python 3",
   "language": "python",
   "name": "python3"
  },
  "language_info": {
   "codemirror_mode": {
    "name": "ipython",
    "version": 3
   },
   "file_extension": ".py",
   "mimetype": "text/x-python",
   "name": "python",
   "nbconvert_exporter": "python",
   "pygments_lexer": "ipython3",
   "version": "3.7.3"
  }
 },
 "nbformat": 4,
 "nbformat_minor": 2
}
