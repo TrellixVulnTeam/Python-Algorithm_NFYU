{
 "cells": [
  {
   "cell_type": "code",
   "execution_count": 9,
   "metadata": {},
   "outputs": [
    {
     "name": "stdout",
     "output_type": "stream",
     "text": [
      "() ))((()\n",
      "))(( ()\n",
      "() \n"
     ]
    },
    {
     "data": {
      "text/plain": [
       "'()(())()'"
      ]
     },
     "execution_count": 9,
     "metadata": {},
     "output_type": "execute_result"
    }
   ],
   "source": [
    "# step1 u,v분리하기\n",
    "def divUV(p):                                                \n",
    "    left, right = 0, 0\n",
    "    for i in range(len(p)):\n",
    "        if p[i] == '(':\n",
    "            left += 1\n",
    "        else:\n",
    "            right += 1\n",
    "        if left == right:\n",
    "            u = p[:i+1]\n",
    "            v = p[i+1:] if i + 1 < len(p) else \"\" # v = p[i+1: ] 로만 하면 out of index 오류가 발생할 수 있다.\n",
    "            break\n",
    "    return u, v\n",
    "\n",
    "\n",
    "# step2 올바른 괄호 문자열 판별하기\n",
    "def isCorrect(p):\n",
    "    stack = []\n",
    "    for c in p:\n",
    "        if c == '(':\n",
    "            stack.append(c)\n",
    "        else:\n",
    "            if not len(stack):\n",
    "                return False\n",
    "            elif stack[-1] == '(':\n",
    "                stack.pop()\n",
    "    return False if len(stack) else True\n",
    "\n",
    "\n",
    "def rec(p):\n",
    "    result = ''\n",
    "    if not len(p): \n",
    "        return ''\n",
    "    u, v = divUV(p)\n",
    "    if isCorrect(u):\n",
    "        result = u + rec(v)\n",
    "    else:\n",
    "        tmp = '('\n",
    "        tmp += rec(v)\n",
    "        tmp += ')'\n",
    "        u = u[1:-1]\n",
    "        for c in u:\n",
    "            if c == '(':\n",
    "                tmp += ')'\n",
    "            else:\n",
    "                tmp += '('\n",
    "        result += tmp\n",
    "    return result\n",
    "\n",
    "\n",
    "def solution(p):\n",
    "    answer = ''\n",
    "    if isCorrect(p):\n",
    "        return p\n",
    "    \n",
    "    answer = rec(p)\n",
    "    return answer\n",
    "\n",
    "solution(\"()))((()\")\n"
   ]
  },
  {
   "cell_type": "code",
   "execution_count": 18,
   "metadata": {},
   "outputs": [
    {
     "data": {
      "text/plain": [
       "'()(())()'"
      ]
     },
     "execution_count": 18,
     "metadata": {},
     "output_type": "execute_result"
    }
   ],
   "source": [
    "def solution(p):\n",
    "    if p=='': \n",
    "        return p\n",
    "    r=True\n",
    "    c=0\n",
    "    for i in range(len(p)):\n",
    "        if p[i]=='(': c-=1\n",
    "        else: c+=1\n",
    "        if c>0: r=False\n",
    "        if c==0:\n",
    "            if r:\n",
    "                return p[:i+1]+solution(p[i+1:])\n",
    "            else:\n",
    "                return '('+solution(p[i+1:])+')'+''.join(list(map(lambda x:'(' if x==')' else ')',p[1:i]) ))\n",
    "\n",
    "solution(\"()))((()\")\n"
   ]
  },
  {
   "cell_type": "code",
   "execution_count": null,
   "metadata": {},
   "outputs": [],
   "source": []
  }
 ],
 "metadata": {
  "kernelspec": {
   "display_name": "Python 3",
   "language": "python",
   "name": "python3"
  },
  "language_info": {
   "codemirror_mode": {
    "name": "ipython",
    "version": 3
   },
   "file_extension": ".py",
   "mimetype": "text/x-python",
   "name": "python",
   "nbconvert_exporter": "python",
   "pygments_lexer": "ipython3",
   "version": "3.7.3"
  }
 },
 "nbformat": 4,
 "nbformat_minor": 2
}
