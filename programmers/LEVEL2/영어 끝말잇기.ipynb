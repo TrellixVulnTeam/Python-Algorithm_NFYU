{
 "cells": [
  {
   "cell_type": "code",
   "execution_count": null,
   "id": "ca52cf1d",
   "metadata": {},
   "outputs": [],
   "source": [
    "def solution(n, words):\n",
    "    arr = []\n",
    "    a = {}\n",
    "    length = len(words)//n\n",
    "    for i in range(1, len(words)):\n",
    "        if words[i - 1][-1] == words[i][0]:\n",
    "            if words[i] in a:\n",
    "                print('arr배열에 이미 단어 존재',words[i])\n",
    "                index = words.index(words[i])\n",
    "                break\n",
    "            else:\n",
    "                a[words[i - 1]] = 1\n",
    "                a[words[i]] = 1\n",
    "        else:\n",
    "            print('값이 다른 단어 존재', words[i])\n",
    "            index = words.index(words[i])\n",
    "            print(index)\n",
    "            cnt = 0\n",
    "            for i in range(1, length + 1):\n",
    "                w = words[:].pop()\n",
    "                cnt += 1\n",
    "                if w == words[index]:\n",
    "                    print(cnt, i)\n",
    "            break\n",
    "    \n",
    "        \n",
    "    return [0, 0]\n",
    "    \n",
    "solution(2, [\"hello\", \"one\", \"even\", \"never\", \"now\", \"world\", \"draw\"])"
   ]
  },
  {
   "cell_type": "markdown",
   "id": "c5bf1b81",
   "metadata": {},
   "source": [
    "아래의 로직을 생각해서 구현할 수 있는 방법은 어디에서 얻어야 하는가....\n",
    "number = (i % n) + 1\n",
    "order = (i // n) + 1"
   ]
  },
  {
   "cell_type": "code",
   "execution_count": null,
   "id": "b1b7a42d",
   "metadata": {},
   "outputs": [],
   "source": [
    "def solution(n, words):\n",
    "    arr = []\n",
    "    number, order = 0,0\n",
    "    arr.append(words[0])\n",
    "    for i in range(1, len(words)):\n",
    "        if words[i] not in arr and words[i - 1][-1] == words[i][0]:\n",
    "            arr.append(words[i])\n",
    "        else:\n",
    "            number = (i % n) + 1\n",
    "            order = (i // n) + 1\n",
    "            break\n",
    "    return [number, order]\n",
    "\n",
    "solution(3, [\"tank\", \"kick\", \"know\", \"wheel\", \"land\", \"dream\", \"mother\", \"robot\", \"tank\"])"
   ]
  }
 ],
 "metadata": {
  "kernelspec": {
   "display_name": "Python 3 (ipykernel)",
   "language": "python",
   "name": "python3"
  },
  "language_info": {
   "codemirror_mode": {
    "name": "ipython",
    "version": 3
   },
   "file_extension": ".py",
   "mimetype": "text/x-python",
   "name": "python",
   "nbconvert_exporter": "python",
   "pygments_lexer": "ipython3",
   "version": "3.8.10"
  }
 },
 "nbformat": 4,
 "nbformat_minor": 5
}
