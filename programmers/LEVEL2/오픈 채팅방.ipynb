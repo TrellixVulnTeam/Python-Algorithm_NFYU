{
 "cells": [
  {
   "cell_type": "markdown",
   "metadata": {},
   "source": [
    "### 내풀이\n",
    "\n",
    "- record리스트 for문을 돌며 stack에 유저의 상태와 아이디를 append한다. 동시에 유저의 아이디와 닉네임을 딕셔너리에 담는다. (Leave의 경우 딕셔너리는 제외하고 스택에만 상태와 아이디를 담는다)    \n",
    "\n",
    "- 유저의 상태왕 아이디가 담긴 stack for문을 돌며 상태에 따라 stack_msg에 필요한 메시지를 닉네임과 함께 담는다.    \n",
    "\n",
    "- Change의 경우 이미 유저의 닉네임이 위의 for문에서 변경되었기 때문에 스택에 담긴 상태에 따라서 바뀐 닉네임으로 필요한 메시지가 출력된다"
   ]
  },
  {
   "cell_type": "code",
   "execution_count": 109,
   "metadata": {},
   "outputs": [
    {
     "data": {
      "text/plain": [
       "['Prodo님이 들어왔습니다.', 'Ryan님이 들어왔습니다.', 'Prodo님이 나갔습니다.', 'Prodo님이 들어왔습니다.']"
      ]
     },
     "execution_count": 109,
     "metadata": {},
     "output_type": "execute_result"
    }
   ],
   "source": [
    "# test case 최대 통과 (147.02ms, 58.2MB)\n",
    "def solution(record):\n",
    "    stack = []\n",
    "    stack_msg = []\n",
    "    dic = {}\n",
    "    \n",
    "    for i in record:\n",
    "        i_list = i.split()\n",
    "        if i_list[0] == 'Enter':\n",
    "            dic[i_list[1]] = i_list[2]\n",
    "            stack.append([i_list[0], i_list[1]])\n",
    "        elif i_list[0] == 'Leave':\n",
    "            stack.append([i_list[0], i_list[1]])\n",
    "        elif i_list[0] == 'Change':\n",
    "            stack.append([i_list[0], i_list[1]])\n",
    "            dic[i_list[1]] = i_list[2]\n",
    "            \n",
    "    for i in stack:\n",
    "        if i[0] == 'Enter':\n",
    "            stack_msg.append(f'{dic[i[1]]}님이 들어왔습니다.')\n",
    "        elif i[0] == 'Leave':\n",
    "            stack_msg.append(f'{dic[i[1]]}님이 나갔습니다.')\n",
    "            \n",
    "    return stack_msg\n",
    "        \n",
    "solution([\"Enter uid1234 Muzi\", \n",
    "          \"Enter uid4567 Prodo\",\n",
    "          \"Leave uid1234\",\n",
    "          \"Enter uid1234 Prodo\",\n",
    "          \"Change uid4567 Ryan\"])"
   ]
  },
  {
   "cell_type": "markdown",
   "metadata": {},
   "source": [
    "### 다른 사람 풀이"
   ]
  },
  {
   "cell_type": "code",
   "execution_count": 111,
   "metadata": {},
   "outputs": [
    {
     "data": {
      "text/plain": [
       "['Prodo님이 들어왔습니다.', 'Ryan님이 들어왔습니다.', 'Prodo님이 나갔습니다.', 'Prodo님이 들어왔습니다.']"
      ]
     },
     "execution_count": 111,
     "metadata": {},
     "output_type": "execute_result"
    }
   ],
   "source": [
    "def solution(record):\n",
    "    answer = []\n",
    "    namespace = {}\n",
    "    printer = {'Enter':'님이 들어왔습니다.', 'Leave':'님이 나갔습니다.'}\n",
    "    for r in record:\n",
    "        rr = r.split(' ')\n",
    "        if rr[0] in ['Enter', 'Change']:\n",
    "            namespace[rr[1]] = rr[2]\n",
    "\n",
    "    for r in record:\n",
    "        if r.split(' ')[0] != 'Change':\n",
    "            answer.append(namespace[r.split(' ')[1]] + printer[r.split(' ')[0]])\n",
    "\n",
    "    return answer\n",
    "\n",
    "solution([\"Enter uid1234 Muzi\", \n",
    "          \"Enter uid4567 Prodo\",\n",
    "          \"Leave uid1234\",\n",
    "          \"Enter uid1234 Prodo\",\n",
    "          \"Change uid4567 Ryan\"])\n"
   ]
  },
  {
   "cell_type": "code",
   "execution_count": null,
   "metadata": {},
   "outputs": [],
   "source": []
  }
 ],
 "metadata": {
  "kernelspec": {
   "display_name": "Python 3",
   "language": "python",
   "name": "python3"
  },
  "language_info": {
   "codemirror_mode": {
    "name": "ipython",
    "version": 3
   },
   "file_extension": ".py",
   "mimetype": "text/x-python",
   "name": "python",
   "nbconvert_exporter": "python",
   "pygments_lexer": "ipython3",
   "version": "3.7.3"
  }
 },
 "nbformat": 4,
 "nbformat_minor": 2
}
