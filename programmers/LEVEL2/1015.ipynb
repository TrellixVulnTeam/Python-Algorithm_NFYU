{
 "cells": [
  {
   "cell_type": "code",
   "execution_count": 11,
   "id": "baf7151b",
   "metadata": {},
   "outputs": [
    {
     "name": "stdout",
     "output_type": "stream",
     "text": [
      "0\n"
     ]
    },
    {
     "ename": "ValueError",
     "evalue": "not enough values to unpack (expected 2, got 1)",
     "output_type": "error",
     "traceback": [
      "\u001b[0;31m---------------------------------------------------------------------------\u001b[0m",
      "\u001b[0;31mValueError\u001b[0m                                Traceback (most recent call last)",
      "\u001b[0;32m/tmp/ipykernel_5750/322045971.py\u001b[0m in \u001b[0;36m<module>\u001b[0;34m\u001b[0m\n\u001b[1;32m      4\u001b[0m \u001b[0;34m\u001b[0m\u001b[0m\n\u001b[1;32m      5\u001b[0m \u001b[0;34m\u001b[0m\u001b[0m\n\u001b[0;32m----> 6\u001b[0;31m \u001b[0mv\u001b[0m\u001b[0;34m,\u001b[0m \u001b[0me\u001b[0m \u001b[0;34m=\u001b[0m \u001b[0mmap\u001b[0m\u001b[0;34m(\u001b[0m\u001b[0mint\u001b[0m\u001b[0;34m,\u001b[0m \u001b[0minput\u001b[0m\u001b[0;34m(\u001b[0m\u001b[0;34m)\u001b[0m\u001b[0;34m.\u001b[0m\u001b[0msplit\u001b[0m\u001b[0;34m(\u001b[0m\u001b[0;34m)\u001b[0m\u001b[0;34m)\u001b[0m\u001b[0;34m\u001b[0m\u001b[0;34m\u001b[0m\u001b[0m\n\u001b[0m\u001b[1;32m      7\u001b[0m \u001b[0mstart\u001b[0m \u001b[0;34m=\u001b[0m \u001b[0mint\u001b[0m\u001b[0;34m(\u001b[0m\u001b[0minput\u001b[0m\u001b[0;34m(\u001b[0m\u001b[0;34m)\u001b[0m\u001b[0;34m)\u001b[0m\u001b[0;34m\u001b[0m\u001b[0;34m\u001b[0m\u001b[0m\n\u001b[1;32m      8\u001b[0m \u001b[0mINF\u001b[0m \u001b[0;34m=\u001b[0m \u001b[0mint\u001b[0m\u001b[0;34m(\u001b[0m\u001b[0;36m1e9\u001b[0m\u001b[0;34m)\u001b[0m\u001b[0;34m\u001b[0m\u001b[0;34m\u001b[0m\u001b[0m\n",
      "\u001b[0;31mValueError\u001b[0m: not enough values to unpack (expected 2, got 1)"
     ]
    }
   ],
   "source": [
    "## dijkstra algorithm\n",
    "\n",
    "import heapq\n",
    "        \n",
    "\n",
    "v, e = map(int, input().split())\n",
    "start = int(input())\n",
    "INF = int(1e9)\n",
    "graph = [[] for _ in range(v + 1)]\n",
    "distance = [INF] * (v + 1)\n",
    "\n",
    "for _ in range(e):\n",
    "    u, v, w = map(int, input().split())\n",
    "    graph[u].append((v, w))\n",
    "    \n",
    "def dijkstra(start):\n",
    "    q = []\n",
    "    heapq.heappush(q, (0, start)) # start가 시작 노드임\n",
    "    distance[start] = 0\n",
    "    \n",
    "    while q:\n",
    "        dist, node = heapq.heappop(q) # 노드, 거리\n",
    "        if distance[node] < dist:\n",
    "            continue\n",
    "            \n",
    "        for i in graph[node]:\n",
    "            cost = dist + i[1]\n",
    "            \n",
    "            if cost < distance[i[0]]:\n",
    "                distance[i[0]] = cost\n",
    "                heapq.heappush(q, (cost, i[0]))\n",
    "                \n",
    "dijkstra(start)\n",
    "\n",
    "for i in range(1, v + 1):\n",
    "    if distance[i] == INF:\n",
    "        print('INF')\n",
    "    else:\n",
    "        print(distance[i])\n",
    "    \n",
    "    "
   ]
  },
  {
   "cell_type": "code",
   "execution_count": 14,
   "id": "8e894a9f",
   "metadata": {},
   "outputs": [
    {
     "name": "stdout",
     "output_type": "stream",
     "text": [
      "[[], [(2, 1), (4, 2)], [(1, 1), (3, 3), (5, 2)], [(2, 3), (5, 1)], [(1, 2), (5, 2)], [(2, 2), (3, 1), (4, 2)]]\n",
      "(2, 1)\n",
      "(4, 2)\n",
      "(1, 1)\n",
      "(3, 3)\n",
      "(5, 2)\n",
      "(1, 2)\n",
      "(5, 2)\n",
      "(2, 2)\n",
      "(3, 1)\n",
      "(4, 2)\n",
      "(2, 3)\n",
      "(5, 1)\n"
     ]
    },
    {
     "data": {
      "text/plain": [
       "4"
      ]
     },
     "execution_count": 14,
     "metadata": {},
     "output_type": "execute_result"
    }
   ],
   "source": [
    "import heapq\n",
    "\n",
    "\n",
    "def solution(N, road, K):\n",
    "    answer = 0\n",
    "    INF = int(1e9)\n",
    "    graph = [[] for _ in range(N + 1)]\n",
    "    distance = [INF] * (N + 1)\n",
    "    start = 1\n",
    "    \n",
    "    for i in road:\n",
    "        a, b, c = i\n",
    "        graph[a].append((b, c))\n",
    "        graph[b].append((a, c))\n",
    "    print(graph)\n",
    "    \n",
    "    def dijkstar(start):\n",
    "        q = []\n",
    "        heapq.heappush(q, (0, start))\n",
    "        distance[start] = 0\n",
    "        \n",
    "        while q:\n",
    "            dist, node = heapq.heappop(q)\n",
    "            if distance[node] < dist:\n",
    "                continue\n",
    "            \n",
    "            for i in graph[node]:\n",
    "                print(i)\n",
    "                cost = dist + i[1]\n",
    "                if cost < distance[i[0]]:\n",
    "                    distance[i[0]] = cost\n",
    "                    heapq.heappush(q, (cost, i[0]))\n",
    "        \n",
    "        return len([i for i in distance if i <= K])\n",
    " \n",
    "    ans = dijkstar(start)\n",
    "\n",
    "    return ans\n",
    "\n",
    "solution(5,[[1,2,1],[2,3,3],[5,2,2],[1,4,2],[5,3,1],[5,4,2]], 3)"
   ]
  },
  {
   "cell_type": "code",
   "execution_count": null,
   "id": "5ab684db",
   "metadata": {},
   "outputs": [],
   "source": [
    "v1번 노드에서 출발해 v2번 노드를 방문하는 경우 : 1 ~ v1 ~ v2 ~ n\n",
    "v2번 노드에서 출발해 v1번 노드를 방문하는 경우 : 1 ~ v2 ~ v1 ~ n\n",
    "    \n",
    "첫번째 다익스트라 : 1에서 출발 1~n의 최단 경로를 구한다/ 1~v1 1~v2의 길이를 구할 수 있다\n",
    "두번째 다익스트라 : v1 ~ n의 길이를 구할 수 있다\n",
    "세번째 다익스트라 : v2 ~ n의 딜이를 구할 수 있다"
   ]
  },
  {
   "cell_type": "code",
   "execution_count": 22,
   "id": "5661cce6",
   "metadata": {},
   "outputs": [
    {
     "name": "stdout",
     "output_type": "stream",
     "text": [
      "4 6\n",
      "1 2 3\n",
      "2 3 3\n",
      "3 4 1\n",
      "1 3 5\n",
      "2 4 5\n",
      "1 4 4\n",
      "2 3\n",
      "11\n"
     ]
    }
   ],
   "source": [
    "import heapq\n",
    "\n",
    "INF = int(1e9)\n",
    "n, e = map(int, input().split())\n",
    "graph = [[] for _ in range(n + 1)]\n",
    "\n",
    "for _ in range(e):\n",
    "    a, b, c = map(int,input().split())\n",
    "    graph[a].append((b, c))\n",
    "    graph[b].append((a, c))\n",
    "v1, v2 = map(int, input().split())\n",
    "\n",
    "\n",
    "\n",
    "def dijkstra(start):\n",
    "    distance = [INF] * (n + 1)\n",
    "    q = []\n",
    "    heapq.heappush(q, (0, start)) # dist, node\n",
    "    distance[start] = 0\n",
    "    while q:\n",
    "        dist, node = heapq.heappop(q)\n",
    "        \n",
    "        if dist > distance[node]:\n",
    "            continue\n",
    "            \n",
    "        for i in graph[node]:\n",
    "            cost = dist + i[1]\n",
    "            \n",
    "            if distance[i[0]] > cost:\n",
    "                distance[i[0]] = cost\n",
    "                heapq.heappush(q, (cost, i[0]))\n",
    "    \n",
    "    return distance\n",
    "                \n",
    "\n",
    "from_one = dijkstra(1) # 1 ~ v1 or 1~v2\n",
    "from_v1 = dijkstra(v1) # v1 ~ v2\n",
    "from_v2 = dijkstra(v2) # v2 ~ v1\n",
    "\n",
    "\n",
    "cand1 = from_one[v1] + from_v1[v2] + from_v2[n]\n",
    "cand2 = from_one[v2] + from_v2[v1] + from_v1[v2]\n",
    "\n",
    "\n",
    "print(min(cand1, cand2))\n",
    "\n"
   ]
  },
  {
   "cell_type": "code",
   "execution_count": null,
   "id": "7dc00665",
   "metadata": {},
   "outputs": [],
   "source": []
  },
  {
   "cell_type": "code",
   "execution_count": null,
   "id": "74afc89b",
   "metadata": {},
   "outputs": [],
   "source": []
  },
  {
   "cell_type": "code",
   "execution_count": null,
   "id": "213dd626",
   "metadata": {},
   "outputs": [],
   "source": []
  },
  {
   "cell_type": "code",
   "execution_count": null,
   "id": "95f18465",
   "metadata": {},
   "outputs": [],
   "source": []
  },
  {
   "cell_type": "code",
   "execution_count": null,
   "id": "56a9fb8e",
   "metadata": {},
   "outputs": [],
   "source": []
  },
  {
   "cell_type": "code",
   "execution_count": null,
   "id": "8df02d43",
   "metadata": {},
   "outputs": [],
   "source": []
  },
  {
   "cell_type": "code",
   "execution_count": null,
   "id": "513d0f8b",
   "metadata": {},
   "outputs": [],
   "source": []
  },
  {
   "cell_type": "code",
   "execution_count": null,
   "id": "8daa23a6",
   "metadata": {},
   "outputs": [],
   "source": []
  },
  {
   "cell_type": "code",
   "execution_count": null,
   "id": "0fec74ce",
   "metadata": {},
   "outputs": [],
   "source": []
  },
  {
   "cell_type": "code",
   "execution_count": null,
   "id": "fcd2c4bf",
   "metadata": {},
   "outputs": [],
   "source": []
  },
  {
   "cell_type": "code",
   "execution_count": null,
   "id": "ede08ac3",
   "metadata": {},
   "outputs": [],
   "source": []
  },
  {
   "cell_type": "code",
   "execution_count": null,
   "id": "6a800669",
   "metadata": {},
   "outputs": [],
   "source": []
  },
  {
   "cell_type": "code",
   "execution_count": null,
   "id": "3305451b",
   "metadata": {},
   "outputs": [],
   "source": []
  }
 ],
 "metadata": {
  "kernelspec": {
   "display_name": "Python 3 (ipykernel)",
   "language": "python",
   "name": "python3"
  },
  "language_info": {
   "codemirror_mode": {
    "name": "ipython",
    "version": 3
   },
   "file_extension": ".py",
   "mimetype": "text/x-python",
   "name": "python",
   "nbconvert_exporter": "python",
   "pygments_lexer": "ipython3",
   "version": "3.8.10"
  }
 },
 "nbformat": 4,
 "nbformat_minor": 5
}
