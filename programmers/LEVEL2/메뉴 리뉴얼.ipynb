{
 "cells": [
  {
   "cell_type": "code",
   "execution_count": 388,
   "metadata": {},
   "outputs": [
    {
     "data": {
      "text/plain": [
       "['ACD', 'AD', 'ADE', 'CD', 'XYZ']"
      ]
     },
     "execution_count": 388,
     "metadata": {},
     "output_type": "execute_result"
    }
   ],
   "source": [
    "from itertools import combinations\n",
    "\n",
    "def solution(orders, course):\n",
    "    ord_dict = {}\n",
    "    result = []\n",
    "    for k in course:\n",
    "        cnd = []\n",
    "        ord_dict = {}\n",
    "        m = 0\n",
    "        for menu in orders:\n",
    "            menu_li = list(''.join(menu))\n",
    "            for li in combinations(menu_li, k):\n",
    "                n_li = ''.join(sorted(li))\n",
    "                if n_li not in cnd:\n",
    "                    cnd.append(n_li)\n",
    "                else:\n",
    "                    if n_li not in ord_dict.keys():\n",
    "                        ord_dict[n_li] = 2\n",
    "                    else:\n",
    "                        ord_dict[n_li] += 1\n",
    "        \n",
    "        for i,v in ord_dict.items():\n",
    "            m = max(m, v)\n",
    "        \n",
    "        result += [''.join(i) for i,v in ord_dict.items() if m == v]\n",
    "    \n",
    "    return sorted(set(result))\n",
    "            \n",
    "\n",
    "solution([\"ABCDE\", \"AB\", \"CD\", \"ADE\", \"XYZ\", \"XYZ\", \"ACD\"], [2, 3, 5])"
   ]
  },
  {
   "cell_type": "code",
   "execution_count": 389,
   "metadata": {},
   "outputs": [
    {
     "data": {
      "text/plain": [
       "['ACD', 'AD', 'ADE', 'CD', 'XYZ']"
      ]
     },
     "execution_count": 389,
     "metadata": {},
     "output_type": "execute_result"
    }
   ],
   "source": [
    "## Counter이용한 풀이\n",
    "\n",
    "from itertools import combinations\n",
    "from collections import Counter\n",
    "\n",
    "def solution(orders, course):\n",
    "    result = []\n",
    "    \n",
    "    for course_size in course:\n",
    "        order_combinations = []\n",
    "        for order in orders:\n",
    "            order_combinations += combinations(sorted(order), course_size)\n",
    "        \n",
    "        most_ordered = Counter(order_combinations).most_common()\n",
    "        result += [k for k, v in most_ordered if v > 1 and v == most_ordered[0][1]]\n",
    "\n",
    "    return [''.join(v) for v in sorted(result)]\n",
    "\n",
    "solution([\"ABCDE\", \"AB\", \"CD\", \"ADE\", \"XYZ\", \"XYZ\", \"ACD\"], [2, 3, 5])"
   ]
  }
 ],
 "metadata": {
  "kernelspec": {
   "display_name": "Python 3",
   "language": "python",
   "name": "python3"
  },
  "language_info": {
   "codemirror_mode": {
    "name": "ipython",
    "version": 3
   },
   "file_extension": ".py",
   "mimetype": "text/x-python",
   "name": "python",
   "nbconvert_exporter": "python",
   "pygments_lexer": "ipython3",
   "version": "3.7.3"
  }
 },
 "nbformat": 4,
 "nbformat_minor": 2
}
