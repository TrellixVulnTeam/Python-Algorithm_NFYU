{
 "cells": [
  {
   "cell_type": "markdown",
   "metadata": {},
   "source": [
    "### 다른 방식으로 풀어보기\n",
    "\n",
    "__1번 풀이__ : count를 이용한 풀이 10/4 , 10/5"
   ]
  },
  {
   "cell_type": "markdown",
   "metadata": {},
   "source": [
    "1. 완전탐색을 이용해 1 ~ len(s)길이까지 1씩 늘려가며 비교를 한다\n",
    "2. 예를 들어 문자열이 1개로 쪼개질때의 길이를 구한다고 생각하면, 앞의 값과 뒤의 값이 같은지 비교한다\n",
    "3. 만약 같다면 cnt + 1 해준다.  같지 않다면 비교한 문자열의 이전값을 리스트에 담아준다(이때 cnt이 값이 1보다 크다면 cnt의 값을 앞에 같이 붙여주다. 이후 cnt는 리셋)\n",
    "4. 3번을 len(s)길이까지 반복한다\n",
    "5. 이때 마지막 문자열의 값은 for문이 끝난뒤 리스트에 3번과 같은 과정으로 추가해주는 과정이 따로 필요하다\n",
    "6. 리스트에 마지막 문자열 값을 담아주는데 만약 cnt의 값이 1보다 크다면 리스트 앞에 cnt의 값과 함께 마지막 문자열을 추가해준다. \n",
    "7. 같지 않다면 마지막 문자열의 값만을 추가해준다\n",
    "8. 새롭게 담긴 리스트의 len값을 새로운 리스트에 다시 append해준다\n",
    "9. 반복이 끝난후 리스트의 len값을 담았던 리스트의 값이 가장 작은 수를 리턴한다"
   ]
  },
  {
   "cell_type": "code",
   "execution_count": 61,
   "metadata": {},
   "outputs": [
    {
     "data": {
      "text/plain": [
       "1"
      ]
     },
     "execution_count": 61,
     "metadata": {},
     "output_type": "execute_result"
    }
   ],
   "source": [
    "# testcase 5번 런타임 error -> s의 len값이 1일 경우 체크\n",
    "def solution(s):\n",
    "    length = []\n",
    "    \n",
    "    if len(s) == 1:\n",
    "        return 1\n",
    "    \n",
    "    for size in range(1, len(s)):\n",
    "        cnt = 1\n",
    "        compressed = ''\n",
    "        splited = []\n",
    "        \n",
    "        for i in range(0, len(s), size):\n",
    "            splited.append(s[i:i + size])\n",
    "            \n",
    "        for j in range(1, len(splited)):\n",
    "            prev, curr = splited[j - 1], splited[j]\n",
    "            if prev == curr:\n",
    "                cnt += 1\n",
    "            else:\n",
    "                compressed += (str(cnt) + prev) if cnt > 1 else prev\n",
    "                cnt = 1\n",
    "        \n",
    "        compressed += (str(cnt) + splited[-1]) if cnt > 1 else splited[-1]\n",
    "        length.append(len(compressed))\n",
    "    \n",
    "    return min(length)\n",
    "\n",
    "solution(\"a\")"
   ]
  }
 ],
 "metadata": {
  "kernelspec": {
   "display_name": "Python 3",
   "language": "python",
   "name": "python3"
  },
  "language_info": {
   "codemirror_mode": {
    "name": "ipython",
    "version": 3
   },
   "file_extension": ".py",
   "mimetype": "text/x-python",
   "name": "python",
   "nbconvert_exporter": "python",
   "pygments_lexer": "ipython3",
   "version": "3.7.3"
  }
 },
 "nbformat": 4,
 "nbformat_minor": 2
}
