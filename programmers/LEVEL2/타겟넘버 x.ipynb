{
 "cells": [
  {
   "cell_type": "code",
   "execution_count": null,
   "metadata": {},
   "outputs": [],
   "source": [
    "# 3가지 방법으로 다시 풀어보기 !! 왜케 이해가 안가ㄴ ㅑ...."
   ]
  },
  {
   "cell_type": "code",
   "execution_count": null,
   "metadata": {},
   "outputs": [],
   "source": [
    "from itertools import product\n",
    "\n",
    "def solution(numbers, target):\n",
    "    l = [(x, -x) for x in numbers]\n",
    "    print(l)\n",
    "    s = list(map(sum, product(*l)))\n",
    "    print(s)\n",
    "    return s.count(target)\n",
    "\n",
    "solution([1, 1, 1, 1, 1], 3)"
   ]
  },
  {
   "cell_type": "code",
   "execution_count": 33,
   "metadata": {},
   "outputs": [
    {
     "data": {
      "text/plain": [
       "5"
      ]
     },
     "execution_count": 33,
     "metadata": {},
     "output_type": "execute_result"
    }
   ],
   "source": [
    "# dfs 풀이\n",
    "\n",
    "answer = 0\n",
    "\n",
    "def dfs(idx, numbers, target, value):\n",
    "    global answer\n",
    "    n = len(numbers)\n",
    "    if idx == n and target == value:\n",
    "        answer += 1\n",
    "        return \n",
    "    if idx == n:\n",
    "        return \n",
    "    \n",
    "    dfs(idx + 1, numbers, target, value + numbers[idx])\n",
    "    dfs(idx + 1, numbers, target, value - numbers[idx])\n",
    "    \n",
    "def solution(numbers, target):\n",
    "    global answer\n",
    "    dfs(0, numbers, target, 0)\n",
    "    return answer\n",
    "\n",
    "solution([1, 1, 1, 1, 1], 3)"
   ]
  },
  {
   "cell_type": "code",
   "execution_count": 35,
   "metadata": {},
   "outputs": [
    {
     "data": {
      "text/plain": [
       "5"
      ]
     },
     "execution_count": 35,
     "metadata": {},
     "output_type": "execute_result"
    }
   ],
   "source": [
    "# bfs 풀이\n",
    "\n",
    "from collections import deque\n",
    "\n",
    "def solution(numbers, target):\n",
    "    answer = 0\n",
    "    queue = deque()\n",
    "    n = len(numbers)\n",
    "    queue.append([numbers[0],0])\n",
    "    queue.append([-1 * numbers[0],0])\n",
    "    \n",
    "    while queue:\n",
    "        temp, idx = queue.popleft()\n",
    "        idx += 1\n",
    "        if idx < n:\n",
    "            queue.append([temp + numbers[idx], idx])\n",
    "            queue.append([temp - numbers[idx], idx])\n",
    "        else:\n",
    "            if temp == target:\n",
    "                answer += 1\n",
    "    return answer\n",
    "  \n",
    "solution([1, 1, 1, 1, 1], 3)"
   ]
  }
 ],
 "metadata": {
  "kernelspec": {
   "display_name": "Python 3",
   "language": "python",
   "name": "python3"
  },
  "language_info": {
   "codemirror_mode": {
    "name": "ipython",
    "version": 3
   },
   "file_extension": ".py",
   "mimetype": "text/x-python",
   "name": "python",
   "nbconvert_exporter": "python",
   "pygments_lexer": "ipython3",
   "version": "3.7.3"
  }
 },
 "nbformat": 4,
 "nbformat_minor": 2
}
