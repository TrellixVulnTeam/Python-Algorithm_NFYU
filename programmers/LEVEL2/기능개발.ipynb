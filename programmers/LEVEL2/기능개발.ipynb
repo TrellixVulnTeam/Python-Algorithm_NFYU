{
 "cells": [
  {
   "cell_type": "markdown",
   "metadata": {},
   "source": [
    "처음부터 접근방향을 완료된 개수를 카운트해서 리스트에 담는 방향으로 갔다"
   ]
  },
  {
   "cell_type": "code",
   "execution_count": 38,
   "metadata": {},
   "outputs": [],
   "source": [
    "'''\n",
    "stack/queue 활용 문제\n",
    "기능개발\n",
    "o(n^2)\n",
    "'''\n",
    "\n",
    "def solution(progresses, speeds):\n",
    "    answer = []\n",
    "    while progresses:\n",
    "        cnt = 0\n",
    "        for i in range(len(progresses)):\n",
    "            progresses[i] = progresses[i] + speeds[i] # 동시에 계속 더해진다.\n",
    "        \n",
    "        while progresses[0] >= 100: # 첫번째 인덱스값이 0인 경우에 / 이미 동시에 시작했기 때문에 100이 이미 된 요소들이 cnt +=1 을 연속으로 진행\n",
    "            progresses.pop(0) # pop 해준다\n",
    "            speeds.pop(0)\n",
    "            cnt += 1 \n",
    "            \n",
    "            if not progresses: # 만약 progresses가 없다면 break\n",
    "                break\n",
    "        \n",
    "        if cnt > 0: \n",
    "            answer.append(cnt)\n",
    "    \n",
    "    return answer\n"
   ]
  }
 ],
 "metadata": {
  "kernelspec": {
   "display_name": "Python 3",
   "language": "python",
   "name": "python3"
  },
  "language_info": {
   "codemirror_mode": {
    "name": "ipython",
    "version": 3
   },
   "file_extension": ".py",
   "mimetype": "text/x-python",
   "name": "python",
   "nbconvert_exporter": "python",
   "pygments_lexer": "ipython3",
   "version": "3.7.3"
  }
 },
 "nbformat": 4,
 "nbformat_minor": 2
}
