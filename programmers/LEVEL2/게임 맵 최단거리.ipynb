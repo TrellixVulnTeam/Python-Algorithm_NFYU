{
 "cells": [
  {
   "cell_type": "code",
   "execution_count": 40,
   "id": "36403268",
   "metadata": {},
   "outputs": [
    {
     "data": {
      "text/plain": [
       "11"
      ]
     },
     "execution_count": 40,
     "metadata": {},
     "output_type": "execute_result"
    }
   ],
   "source": [
    "# 테스트케이스 / 효율성 실패\n",
    "from collections import deque\n",
    "\n",
    "def solution(maps):\n",
    "\n",
    "    dx = [-1, 1, 0, 0]\n",
    "    dy = [0, 0, -1, 1]\n",
    "\n",
    "    n = len(maps)\n",
    "    m = len(maps[0])\n",
    "\n",
    "    graph = [[-1 for _ in range(n)] for _ in range(m)]\n",
    "\n",
    "    queue = deque()\n",
    "    queue.append([0, 0])\n",
    "\n",
    "    graph[0][0] = 1\n",
    "\n",
    "    while queue:\n",
    "        y, x = queue.popleft()\n",
    "       \n",
    "        for i in range(4):\n",
    "            nx = x + dx[i]\n",
    "            ny = y + dy[i]\n",
    "            if 0 <= ny < n and 0 <= nx < m and maps[ny][nx] == 1:\n",
    "                if graph[ny][nx] == -1:\n",
    "                    graph[ny][nx] = graph[y][x] + 1\n",
    "                    queue.append([ny, nx])\n",
    "\n",
    "    if graph[-1][-1] == -1:\n",
    "        return -1\n",
    "    else:\n",
    "        return graph[-1][-1]\n",
    "\n",
    "solution([[1,0,1,1,1],[1,0,1,0,1],[1,0,1,1,1],[1,1,1,0,1],[0,0,0,0,1]])"
   ]
  },
  {
   "cell_type": "code",
   "execution_count": 41,
   "id": "c4997ab5",
   "metadata": {},
   "outputs": [],
   "source": [
    "# 통과 \n",
    "from collections import deque\n",
    "\n",
    "def solution(maps):\n",
    "    n, m = len(maps), len(maps[0])\n",
    "    dx = [-1, 1, 0, 0]\n",
    "    dy = [0, 0, -1, 1]\n",
    "    visited = [[0 for _ in range(m)] for _ in range(n)]\n",
    "    visited[0][0] = 1\n",
    "    queue = deque([(0, 0)])\n",
    "    cnt = 0\n",
    "    \n",
    "    while queue:\n",
    "        x, y = queue.popleft()\n",
    "        for i in range(4):\n",
    "            if x == n - 1 and y == m - 1:\n",
    "                return visited[x][y]\n",
    "            \n",
    "            nx, ny = x + dx[i], y + dy[i]\n",
    "            if 0 <= nx < n and 0 <= ny < m and visited[nx][ny] == 0 and maps[x][y] == 1:\n",
    "                visited[nx][ny] = visited[x][y] + 1\n",
    "                queue.append((nx, ny))\n",
    "                \n",
    "    return -1\n",
    "    \n",
    "    "
   ]
  },
  {
   "cell_type": "code",
   "execution_count": null,
   "id": "4f5371c6",
   "metadata": {},
   "outputs": [],
   "source": []
  }
 ],
 "metadata": {
  "kernelspec": {
   "display_name": "Python 3 (ipykernel)",
   "language": "python",
   "name": "python3"
  },
  "language_info": {
   "codemirror_mode": {
    "name": "ipython",
    "version": 3
   },
   "file_extension": ".py",
   "mimetype": "text/x-python",
   "name": "python",
   "nbconvert_exporter": "python",
   "pygments_lexer": "ipython3",
   "version": "3.8.10"
  }
 },
 "nbformat": 4,
 "nbformat_minor": 5
}
