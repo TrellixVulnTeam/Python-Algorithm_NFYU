{
 "cells": [
  {
   "cell_type": "markdown",
   "id": "6b802e71",
   "metadata": {},
   "source": [
    "1. 1.change로 각 자리의 알파벳을 만들기 위해 움직여야 하는 최소한의 조이스틱 가동횟수를 구한다\n",
    "2. 0번 idx부터 시작해서 좌우 이동 횟수를 answer에 더해준다\n",
    "3. 좌우 방향 전환시에는 바꿔야 하는 알파벳이 나오기까지의 좌우 거리를 구한뒤, 그중 최솟값이 되는 방향으로 전환한다\n",
    "4. 모든 알파벳이 조정된 경우 (change배열이 전부 0인 경우) 결과값을 반환한다\n",
    "\n",
    "이해가 안간다.. 아놔... 어렵다.. 이런거 도대체 어떻게 풀지... 일단 1시간 지났으니까 넘어가도록 한다..."
   ]
  },
  {
   "cell_type": "code",
   "execution_count": 24,
   "id": "e19765db",
   "metadata": {},
   "outputs": [
    {
     "name": "stdout",
     "output_type": "stream",
     "text": [
      "[0, 4, 9, 12, 4, 13]\n",
      "1\n",
      "left, right 1 1\n",
      "10\n",
      "1\n",
      "\n",
      "[0, 0, 9, 12, 4, 13]\n",
      "2\n",
      "left, right 2 1\n",
      "15\n",
      "2\n",
      "\n",
      "[0, 0, 0, 12, 4, 13]\n",
      "3\n",
      "left, right 3 1\n",
      "25\n",
      "3\n",
      "\n",
      "[0, 0, 0, 0, 4, 13]\n",
      "4\n",
      "left, right 4 1\n",
      "38\n",
      "4\n",
      "\n",
      "[0, 0, 0, 0, 0, 13]\n",
      "5\n",
      "left, right 5 1\n",
      "43\n",
      "5\n",
      "\n"
     ]
    },
    {
     "data": {
      "text/plain": [
       "56"
      ]
     },
     "execution_count": 24,
     "metadata": {},
     "output_type": "execute_result"
    }
   ],
   "source": [
    "def solution(name):\n",
    "    answer = 0\n",
    "    change = [min(ord(i) - ord('A'), ord('Z') - ord(i) + 1) for i in name]\n",
    "#     for i in name:\n",
    "#         print(ord(i) - ord('A'), ord('Z') - ord(i) + 1)\n",
    "    idx = 0\n",
    "    answer = 0\n",
    "    \n",
    "    while True:\n",
    "        answer += change[idx]\n",
    "        change[idx] = 0\n",
    "        if sum(change) == 0:\n",
    "            return answer\n",
    "        print(change)\n",
    "        left, right = 1, 1\n",
    "\n",
    "        while change[idx - left] == 0:\n",
    "            left += 1\n",
    "        print(left)\n",
    "        while change[idx + right] == 0:\n",
    "            right += 1\n",
    "        print('left, right',left, right)\n",
    "        answer += left if left < right else right\n",
    "        print(answer)\n",
    "        idx += -left if left < right else right\n",
    "        print(idx)\n",
    "        print()\n",
    "    return answer\n",
    "\n",
    "solution(\"JEROEN\")"
   ]
  }
 ],
 "metadata": {
  "kernelspec": {
   "display_name": "Python 3 (ipykernel)",
   "language": "python",
   "name": "python3"
  },
  "language_info": {
   "codemirror_mode": {
    "name": "ipython",
    "version": 3
   },
   "file_extension": ".py",
   "mimetype": "text/x-python",
   "name": "python",
   "nbconvert_exporter": "python",
   "pygments_lexer": "ipython3",
   "version": "3.8.10"
  }
 },
 "nbformat": 4,
 "nbformat_minor": 5
}
