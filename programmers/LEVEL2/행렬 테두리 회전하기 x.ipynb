{
 "cells": [
  {
   "cell_type": "code",
   "execution_count": 10,
   "metadata": {},
   "outputs": [
    {
     "name": "stdout",
     "output_type": "stream",
     "text": [
      "[[1, 2, 3, 4, 5, 6], [7, 14, 8, 9, 11, 12], [13, 20, 21, 15, 9, 17], [19, 26, 22, 16, 23, 17], [31, 25, 27, 22, 29, 24], [32, 27, 27, 35, 30, 30]]\n"
     ]
    }
   ],
   "source": [
    "# 1. 행렬 만들기\n",
    "def  solution(rows, columns, queries):\n",
    "    matrix = [[row * columns + col + 1 for col in range(columns)] for row in range(rows)]\n",
    "    for t, l, b, r in queries:\n",
    "        top, left, bottom, right = t - 1, l - 1, b - 1, r - 1\n",
    "        tmp = matrix[top][left]\n",
    "        \n",
    "        # 왼쪽아래를 위로 밀어낸다\n",
    "        for x in range(top, bottom):\n",
    "            matrix[x][left] = matrix[x + 1][left]\n",
    "        \n",
    "        # 위를 오른쪽으로 밀어낸다\n",
    "        for y in range(right, left, -1):\n",
    "            matrix[top][y] = matrix[top][y - 1]\n",
    "        \n",
    "        # 오른쪽위를 아래로 밀어낸다\n",
    "        for x in range(bottom, top, -1):\n",
    "            matrix[x][right] = matrix[x - 1][right]\n",
    "        \n",
    "        # 아래를 왼쪽으로 밀어낸다\n",
    "        for y in range(left, right):\n",
    "            matrix[bottom][y] = matrix[bottom][y + 1]\n",
    "        \n",
    "        matrix[top][left + 1] = tmp\n",
    "\n",
    "        \n",
    "\n",
    "solution(6, 6, [[2,2,5,4],[3,3,6,6],[5,1,6,3]])"
   ]
  },
  {
   "cell_type": "code",
   "execution_count": 13,
   "metadata": {},
   "outputs": [
    {
     "data": {
      "text/plain": [
       "[1, 1, 5, 3]"
      ]
     },
     "execution_count": 13,
     "metadata": {},
     "output_type": "execute_result"
    }
   ],
   "source": [
    "# 값을 1씩 밀면서 동시에 가장 작은 값을 찾는다\n",
    "\n",
    "def  solution(rows, columns, queries):\n",
    "    answer = []\n",
    "    matrix = [[row * columns + col + 1 for col in range(columns)] for row in range(rows)]\n",
    "    \n",
    "    for t, l, b, r in queries:\n",
    "        top, left, bottom, right = t - 1, l - 1, b - 1, r - 1\n",
    "        tmp = matrix[top][left]\n",
    "        m = tmp\n",
    "        \n",
    "        # 왼쪽아래를 위로 밀어낸다\n",
    "        for y in range(top, bottom):\n",
    "            v = matrix[y + 1][left]\n",
    "            matrix[y][left] = v\n",
    "            m = min(m, v)\n",
    "            \n",
    "        # 아래를 왼쪽으로 밀어낸다\n",
    "        for x in range(left, right):\n",
    "            v = matrix[bottom][x + 1]\n",
    "            matrix[bottom][x] = v\n",
    "            m = min(m, v)\n",
    "            \n",
    "        # 오른쪽위를 아래로 밀어낸다\n",
    "        for y in range(bottom, top, -1):\n",
    "            v = matrix[y - 1][right]\n",
    "            matrix[y][right] = v\n",
    "            m = min(m, v)  \n",
    "        \n",
    "        # 위를 오른쪽으로 밀어낸다\n",
    "        for x in range(right, left, -1):\n",
    "            v = matrix[top][x - 1]\n",
    "            matrix[top][x] = v\n",
    "            m = min(m, v)\n",
    "        \n",
    "    \n",
    "        matrix[top][left + 1] = tmp\n",
    "        answer.append(m)\n",
    "    \n",
    "    return answer\n",
    "\n",
    "solution(3, 3, [[1,1,2,2],[1,2,2,3],[2,1,3,2],[2,2,3,3]])"
   ]
  },
  {
   "cell_type": "code",
   "execution_count": null,
   "metadata": {},
   "outputs": [],
   "source": []
  }
 ],
 "metadata": {
  "kernelspec": {
   "display_name": "Python 3",
   "language": "python",
   "name": "python3"
  },
  "language_info": {
   "codemirror_mode": {
    "name": "ipython",
    "version": 3
   },
   "file_extension": ".py",
   "mimetype": "text/x-python",
   "name": "python",
   "nbconvert_exporter": "python",
   "pygments_lexer": "ipython3",
   "version": "3.7.3"
  }
 },
 "nbformat": 4,
 "nbformat_minor": 2
}
