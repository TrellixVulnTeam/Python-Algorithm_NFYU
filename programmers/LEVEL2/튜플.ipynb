{
 "cells": [
  {
   "cell_type": "code",
   "execution_count": 410,
   "id": "85c2f0bb",
   "metadata": {},
   "outputs": [],
   "source": [
    "# 약 2시간...헐\n",
    "\"\"\"\n",
    "파싱방법2 : s1 = s.lstrip('{').rstrip('}').split('},{')\n",
    "\"\"\"\n",
    "\n",
    "def solution(s):\n",
    "    dic = {}\n",
    "    s = list(map(int,s.replace('{','').replace('}','').split(',')))\n",
    "    for i in s:\n",
    "        if i not in dic:\n",
    "            dic[i] = 1\n",
    "        else:\n",
    "            dic[i] += 1\n",
    "    ans = sorted(dic.items(), key=lambda x: x[1], reverse=True)\n",
    "    res = [i[0] for i in ans]\n",
    "solution(\"{{2},{2,1},{2,1,3},{2,1,3,4}}\")"
   ]
  },
  {
   "cell_type": "code",
   "execution_count": 416,
   "id": "c1e26afe",
   "metadata": {
    "scrolled": true
   },
   "outputs": [
    {
     "data": {
      "text/plain": [
       "[2, 1, 3, 4]"
      ]
     },
     "execution_count": 416,
     "metadata": {},
     "output_type": "execute_result"
    }
   ],
   "source": [
    "# 다른풀이\n",
    "from collections import Counter\n",
    "import re\n",
    "\n",
    "def solution(s):\n",
    "\n",
    "    s = Counter(re.findall('\\d+', s))\n",
    "    return list(map(int, [k for k, v in sorted(s.items(), key=lambda x: x[1], reverse=True)]))\n",
    "\n",
    "solution(\"{{2},{2,1},{2,1,3},{2,1,3,4}}\")"
   ]
  },
  {
   "cell_type": "markdown",
   "id": "c1b27f86",
   "metadata": {},
   "source": []
  },
  {
   "cell_type": "markdown",
   "id": "5adf87a9",
   "metadata": {},
   "source": [
    "2시간동안 헤맨 풀이들...    \n",
    "헤맸던 가장 큰 이유가 {}안에 ,의 기호로 문자열이 또 나뉘어져 있는걸 모르고 {}을 무조건 하나의 숫자라고 생각하고 풀이함..젠장젠장 !!!!!!"
   ]
  },
  {
   "cell_type": "code",
   "execution_count": 19,
   "id": "cf977a59",
   "metadata": {},
   "outputs": [
    {
     "name": "stdout",
     "output_type": "stream",
     "text": [
      "{'3', '2', '1', '4'}\n"
     ]
    },
    {
     "data": {
      "text/plain": [
       "[]"
      ]
     },
     "execution_count": 19,
     "metadata": {},
     "output_type": "execute_result"
    }
   ],
   "source": [
    "# pm 7:05 ~ 7:35\n",
    "\n",
    "def solution(s):\n",
    "    answer = []\n",
    "    cand = []\n",
    "    for i in s:\n",
    "        if i.isdigit():\n",
    "            cand.append(i)\n",
    "    print(set(cand))\n",
    "    return answer\n",
    "\n",
    "solution(\"{{2},{2,1},{2,1,3},{2,1,3,4}}\")"
   ]
  },
  {
   "cell_type": "code",
   "execution_count": 84,
   "id": "1802ff10",
   "metadata": {},
   "outputs": [
    {
     "name": "stdout",
     "output_type": "stream",
     "text": [
      "['{2}', '{2', '1}', '{2', '1', '3}', '{2', '1', '3', '4}']\n",
      "{2}\n",
      "{2\n",
      "1}\n",
      "{2\n",
      "3}\n",
      "{2\n",
      "4}\n",
      "['1', '1', '3']\n"
     ]
    },
    {
     "data": {
      "text/plain": [
       "[]"
      ]
     },
     "execution_count": 84,
     "metadata": {},
     "output_type": "execute_result"
    }
   ],
   "source": [
    "# pm 7:05 ~ 7:35\n",
    "\n",
    "def solution(s):\n",
    "    answer = []\n",
    "    s = (','.join(s.split('{}'))[1:-1]).split(',')\n",
    "    print(s)\n",
    "    for i in s[:]:\n",
    "        if not i.isdigit():\n",
    "            print(i)\n",
    "            s.remove(i)\n",
    "    print(s)\n",
    "    return answer\n",
    "\n",
    "solution(\"{{2},{2,1},{2,1,3},{2,1,3,4}}\")"
   ]
  },
  {
   "cell_type": "code",
   "execution_count": 297,
   "id": "9844a2fc",
   "metadata": {},
   "outputs": [
    {
     "data": {
      "text/plain": [
       "[1, 2, 0]"
      ]
     },
     "execution_count": 297,
     "metadata": {},
     "output_type": "execute_result"
    }
   ],
   "source": [
    "# pm 7:05 ~ 7:35\n",
    "\n",
    "def solution(s):\n",
    "    answer = []\n",
    "    cand = []\n",
    "    res = []\n",
    "    s = list(''.join(s.split('{}'))[1:-1].replace(',',''))\n",
    "    for i in s:\n",
    "        if i == '{':\n",
    "            s.remove('{')\n",
    "        \n",
    "        elif i == '}':\n",
    "            cand.append(s[:s.index(i)])\n",
    "            s = s[s.index(i):]\n",
    "            del s[:s.index(i) + 1]\n",
    "    k = ''\n",
    "    cand.sort(key= len)\n",
    "    \n",
    "    if len(cand) == 1:\n",
    "        cand = int(''.join(cand[0]))\n",
    "        return [cand]\n",
    "    \n",
    "    for i in cand:\n",
    "        for j in i:\n",
    "            if j not in k:\n",
    "                k += j\n",
    "    res.append(k)\n",
    "    return list(map(int, k))\n",
    "\n",
    "solution(\"{{20,111},{111}}\")"
   ]
  },
  {
   "cell_type": "code",
   "execution_count": 340,
   "id": "870fb458",
   "metadata": {},
   "outputs": [
    {
     "ename": "TypeError",
     "evalue": "'in <string>' requires string as left operand, not list",
     "output_type": "error",
     "traceback": [
      "\u001b[0;31m---------------------------------------------------------------------------\u001b[0m",
      "\u001b[0;31mTypeError\u001b[0m                                 Traceback (most recent call last)",
      "\u001b[0;32m/tmp/ipykernel_21798/1896239210.py\u001b[0m in \u001b[0;36m<module>\u001b[0;34m\u001b[0m\n\u001b[1;32m     25\u001b[0m \u001b[0;34m\u001b[0m\u001b[0m\n\u001b[1;32m     26\u001b[0m \u001b[0;34m\u001b[0m\u001b[0m\n\u001b[0;32m---> 27\u001b[0;31m \u001b[0msolution\u001b[0m\u001b[0;34m(\u001b[0m\u001b[0;34m\"{{20,111},{111}}\"\u001b[0m\u001b[0;34m)\u001b[0m\u001b[0;34m\u001b[0m\u001b[0;34m\u001b[0m\u001b[0m\n\u001b[0m",
      "\u001b[0;32m/tmp/ipykernel_21798/1896239210.py\u001b[0m in \u001b[0;36msolution\u001b[0;34m(s)\u001b[0m\n\u001b[1;32m     19\u001b[0m \u001b[0;34m\u001b[0m\u001b[0m\n\u001b[1;32m     20\u001b[0m     \u001b[0;32mfor\u001b[0m \u001b[0mi\u001b[0m \u001b[0;32min\u001b[0m \u001b[0mcand\u001b[0m\u001b[0;34m:\u001b[0m\u001b[0;34m\u001b[0m\u001b[0;34m\u001b[0m\u001b[0m\n\u001b[0;32m---> 21\u001b[0;31m         \u001b[0;32mif\u001b[0m \u001b[0mi\u001b[0m \u001b[0;32mnot\u001b[0m \u001b[0;32min\u001b[0m \u001b[0mk\u001b[0m\u001b[0;34m:\u001b[0m\u001b[0;34m\u001b[0m\u001b[0;34m\u001b[0m\u001b[0m\n\u001b[0m\u001b[1;32m     22\u001b[0m             \u001b[0mk\u001b[0m \u001b[0;34m+=\u001b[0m \u001b[0;34m''\u001b[0m\u001b[0;34m.\u001b[0m\u001b[0mjoin\u001b[0m\u001b[0;34m(\u001b[0m\u001b[0mi\u001b[0m\u001b[0;34m)\u001b[0m\u001b[0;34m\u001b[0m\u001b[0;34m\u001b[0m\u001b[0m\n\u001b[1;32m     23\u001b[0m         \u001b[0mprint\u001b[0m\u001b[0;34m(\u001b[0m\u001b[0mk\u001b[0m\u001b[0;34m)\u001b[0m\u001b[0;34m\u001b[0m\u001b[0;34m\u001b[0m\u001b[0m\n",
      "\u001b[0;31mTypeError\u001b[0m: 'in <string>' requires string as left operand, not list"
     ]
    }
   ],
   "source": [
    "# pm 7:05 ~ 7:35\n",
    "\n",
    "def solution(s):\n",
    "    answer = []\n",
    "    cand = []\n",
    "    res = []\n",
    "    s = list(''.join(s.split('{}'))[1:-1].replace(',',''))\n",
    "    for i in s:\n",
    "        if i == '{':\n",
    "            s.remove('{')\n",
    "        \n",
    "        elif i == '}':\n",
    "            cand.append(s[:s.index(i)])\n",
    "            s = s[s.index(i):]\n",
    "            del s[:s.index(i) + 1]\n",
    "    k = ''\n",
    "    cand.sort(key= len)\n",
    "    \n",
    "    \n",
    "    for i in cand:\n",
    "        if i not in k:\n",
    "            k += ''.join(i)\n",
    "        print(k)\n",
    "    return list(map(int, res))\n",
    "   \n",
    "\n",
    "solution(\"{{20,111},{111}}\")"
   ]
  },
  {
   "cell_type": "code",
   "execution_count": 405,
   "id": "abc866ad",
   "metadata": {},
   "outputs": [
    {
     "name": "stdout",
     "output_type": "stream",
     "text": [
      "[2, 21, 213, 2134]\n"
     ]
    }
   ],
   "source": [
    "# pm 7:05 ~ 7:35\n",
    "\n",
    "def solution(s):\n",
    "    cand = []\n",
    "    s = list(''.join(s.split('{}'))[1:-1].replace(',',''))\n",
    "    for i in s:\n",
    "        if i == '{':\n",
    "            s.remove('{')\n",
    "    \n",
    "        elif i == '}':\n",
    "            cand.append(''.join(s[:s.index(i)]))\n",
    "            s = s[s.index(i):]\n",
    "            del s[:s.index(i) + 1]\n",
    "    k = ''\n",
    "    cand.sort(key= len)\n",
    "    cand = list(map(int, cand))\n",
    "    print(cand)\n",
    "\n",
    "    \n",
    "solution(\"{{2},{2,1},{2,1,3},{2,1,3,4}}\")"
   ]
  },
  {
   "cell_type": "code",
   "execution_count": null,
   "id": "0ba792fe",
   "metadata": {},
   "outputs": [],
   "source": []
  }
 ],
 "metadata": {
  "kernelspec": {
   "display_name": "Python 3 (ipykernel)",
   "language": "python",
   "name": "python3"
  },
  "language_info": {
   "codemirror_mode": {
    "name": "ipython",
    "version": 3
   },
   "file_extension": ".py",
   "mimetype": "text/x-python",
   "name": "python",
   "nbconvert_exporter": "python",
   "pygments_lexer": "ipython3",
   "version": "3.8.10"
  }
 },
 "nbformat": 4,
 "nbformat_minor": 5
}
