{
 "cells": [
  {
   "cell_type": "code",
   "execution_count": null,
   "metadata": {},
   "outputs": [],
   "source": [
    "# pm 1: 30 ~ pm 2:00\n",
    "from itertools import permutations\n",
    "\n",
    "\n",
    "def solution(numbers):\n",
    "    per = []\n",
    "    answer = []\n",
    "    \n",
    "    for k in range(1, len(numbers)+1):\n",
    "        per += permutations(numbers, k)\n",
    "    \n",
    "    arr = list(set([int(''.join(i)) for i in per]))\n",
    "    \n",
    "    for i in arr[:]:\n",
    "        if i != 1 and i != 0:\n",
    "            for j in range(2, i):\n",
    "                if i % j == 0:\n",
    "                    arr.remove(i)\n",
    "                    break # 안하면 ValueError: list.remove(x): x not in list 에러발생\n",
    "                    \n",
    "        else:\n",
    "            arr.remove(i)\n",
    " \n",
    "    return len(arr)\n",
    "\n",
    "solution(\"17\")"
   ]
  },
  {
   "cell_type": "code",
   "execution_count": 1,
   "metadata": {},
   "outputs": [
    {
     "data": {
      "text/plain": [
       "3"
      ]
     },
     "execution_count": 1,
     "metadata": {},
     "output_type": "execute_result"
    }
   ],
   "source": [
    "# 다른 풀이\n",
    "\n",
    "from itertools import permutations\n",
    "\n",
    "def solution(n):\n",
    "    a = set()\n",
    "    for i in range(len(n)):\n",
    "        a |= set(map(int, map(''.join, permutations(list(n), i + 1)))) # 합집합과 permutations, set 이용해서 나올수 있는 경우의 수 출력\n",
    "    a -= set(range(0, 2)) # 0,1은 소수에서 제외되기 때문에 제외\n",
    "    for i in range(2, int(max(a) ** 0.5) + 1): # 약수의 특성을 활용해 소수 판별 함수, 약수의 중간값을 기준으로 한쪽을 검사함\n",
    "        a -= set(range(i * 2, max(a) + 1, i)) \n",
    "    return len(a)\n",
    "    \n",
    "solution('17')"
   ]
  },
  {
   "cell_type": "code",
   "execution_count": null,
   "metadata": {},
   "outputs": [],
   "source": []
  }
 ],
 "metadata": {
  "kernelspec": {
   "display_name": "Python 3 (ipykernel)",
   "language": "python",
   "name": "python3"
  },
  "language_info": {
   "codemirror_mode": {
    "name": "ipython",
    "version": 3
   },
   "file_extension": ".py",
   "mimetype": "text/x-python",
   "name": "python",
   "nbconvert_exporter": "python",
   "pygments_lexer": "ipython3",
   "version": "3.8.10"
  }
 },
 "nbformat": 4,
 "nbformat_minor": 2
}
