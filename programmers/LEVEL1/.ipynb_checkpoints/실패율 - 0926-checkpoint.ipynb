{
 "cells": [
  {
   "cell_type": "code",
   "execution_count": null,
   "metadata": {},
   "outputs": [],
   "source": [
    "# 다시\n",
    "def solution(N, stages):\n",
    "    result = {}\n",
    "    num = len(stages)\n",
    "    \n",
    "    for stage in range(1, N + 1):\n",
    "        if num != 0:\n",
    "            count = stages.count(stage)\n",
    "            result[stage] = count / num\n",
    "            num -= count\n",
    "        else:\n",
    "            result[stage] = 0\n",
    "    \n",
    "    return sorted(result, key = lambda x: result[x], reverse=True)\n",
    "    \n",
    "solution(4, [4,4,4,4,4])\n"
   ]
  }
 ],
 "metadata": {
  "kernelspec": {
   "display_name": "Python 3",
   "language": "python",
   "name": "python3"
  },
  "language_info": {
   "codemirror_mode": {
    "name": "ipython",
    "version": 3
   },
   "file_extension": ".py",
   "mimetype": "text/x-python",
   "name": "python",
   "nbconvert_exporter": "python",
   "pygments_lexer": "ipython3",
   "version": "3.7.3"
  }
 },
 "nbformat": 4,
 "nbformat_minor": 2
}
