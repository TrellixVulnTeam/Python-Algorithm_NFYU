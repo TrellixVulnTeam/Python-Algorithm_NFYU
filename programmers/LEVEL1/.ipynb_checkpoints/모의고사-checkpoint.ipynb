{
 "cells": [
  {
   "cell_type": "code",
   "execution_count": 74,
   "metadata": {},
   "outputs": [
    {
     "name": "stdout",
     "output_type": "stream",
     "text": [
      "[2, 2, 2]\n"
     ]
    },
    {
     "data": {
      "text/plain": [
       "[1, 2, 3]"
      ]
     },
     "execution_count": 74,
     "metadata": {},
     "output_type": "execute_result"
    }
   ],
   "source": [
    "def solution(answers):\n",
    "    answer = []\n",
    "    std_score = [0, 0, 0]\n",
    "    std_1 = [1, 2, 3, 4, 5]\n",
    "    std_2 = [2, 1, 2, 3, 2, 4, 2, 5]\n",
    "    std_3 = [3, 3, 1, 1, 2, 2, 4, 4, 5, 5]\n",
    "\n",
    "    for i in range(len(answers)):\n",
    "        if std_1[i % len(std_1)] == answers[i]:\n",
    "            std_score[0] += 1\n",
    "            \n",
    "        if std_2[i % len(std_2)] == answers[i]:\n",
    "            std_score[1] += 1\n",
    "        \n",
    "        if std_3[i % len(std_3)] == answers[i]:\n",
    "            std_score[2] += 1\n",
    "        \n",
    "    for i, s in enumerate(std_score):\n",
    "        if s == max(std_score):\n",
    "            answer.append(i + 1)\n",
    "    return answer\n",
    "\n",
    "solution([1,3,2,4,2])"
   ]
  }
 ],
 "metadata": {
  "kernelspec": {
   "display_name": "Python 3",
   "language": "python",
   "name": "python3"
  },
  "language_info": {
   "codemirror_mode": {
    "name": "ipython",
    "version": 3
   },
   "file_extension": ".py",
   "mimetype": "text/x-python",
   "name": "python",
   "nbconvert_exporter": "python",
   "pygments_lexer": "ipython3",
   "version": "3.7.3"
  }
 },
 "nbformat": 4,
 "nbformat_minor": 2
}
