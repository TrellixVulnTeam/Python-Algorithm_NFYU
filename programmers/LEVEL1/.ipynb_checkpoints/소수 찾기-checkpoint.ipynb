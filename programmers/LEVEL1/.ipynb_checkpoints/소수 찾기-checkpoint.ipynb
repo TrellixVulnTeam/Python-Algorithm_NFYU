{
 "cells": [
  {
   "cell_type": "code",
   "execution_count": 39,
   "metadata": {},
   "outputs": [
    {
     "name": "stdout",
     "output_type": "stream",
     "text": [
      "4\n"
     ]
    }
   ],
   "source": [
    "def solution(nums):\n",
    "    arr = [False, False] + [True] * (nums - 1)\n",
    "    answer = []\n",
    "    \n",
    "    for i in range(2, nums + 1): \n",
    "        if arr[i]:\n",
    "            for j in range(2 * i, nums + 1, i):\n",
    "                arr[j] = False\n",
    "    \n",
    "    for i in range(len(arr)):\n",
    "        if arr[i] == True:\n",
    "            answer.append(arr[i])\n",
    "            \n",
    "    return len(answer)\n",
    "\n",
    "\n",
    "print(solution(10))\n",
    "\n"
   ]
  },
  {
   "cell_type": "code",
   "execution_count": 44,
   "metadata": {},
   "outputs": [
    {
     "data": {
      "text/plain": [
       "4"
      ]
     },
     "execution_count": 44,
     "metadata": {},
     "output_type": "execute_result"
    }
   ],
   "source": [
    "def solution(n):\n",
    "    num=set(range(2,n+1))\n",
    "\n",
    "    for i in range(2,n+1):\n",
    "        if i in num:\n",
    "            num-=set(range(2*i,n+1, i))\n",
    "    return len(num)\n",
    "\n",
    "solution(10)"
   ]
  }
 ],
 "metadata": {
  "kernelspec": {
   "display_name": "Python 3",
   "language": "python",
   "name": "python3"
  },
  "language_info": {
   "codemirror_mode": {
    "name": "ipython",
    "version": 3
   },
   "file_extension": ".py",
   "mimetype": "text/x-python",
   "name": "python",
   "nbconvert_exporter": "python",
   "pygments_lexer": "ipython3",
   "version": "3.7.3"
  }
 },
 "nbformat": 4,
 "nbformat_minor": 2
}
