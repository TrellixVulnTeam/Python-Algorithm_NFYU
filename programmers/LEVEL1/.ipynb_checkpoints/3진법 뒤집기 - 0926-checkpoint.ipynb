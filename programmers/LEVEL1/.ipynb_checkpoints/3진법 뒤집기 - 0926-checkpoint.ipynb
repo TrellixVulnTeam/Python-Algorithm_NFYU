{
 "cells": [
  {
   "cell_type": "code",
   "execution_count": null,
   "metadata": {},
   "outputs": [],
   "source": [
    "def exchange(d, n):\n",
    "    tmp = ''\n",
    "    while d:\n",
    "        tmp += str(d % n)\n",
    "        d //= n\n",
    "    return tmp[::-1]\n",
    "\n",
    "def solution(n):\n",
    "    answer = 0\n",
    "    three_num = exchange(n, 3)\n",
    "    reverse_three_num = three_num[::-1]\n",
    "    return int(reverse_three_num, 3)\n",
    "\n",
    "solution(45)"
   ]
  },
  {
   "cell_type": "code",
   "execution_count": null,
   "metadata": {},
   "outputs": [],
   "source": [
    "def solution(n):\n",
    "    tmp = ''\n",
    "    while n:\n",
    "        tmp += str(n % 3)\n",
    "        n = n // 3\n",
    "    answer = int(tmp, 3)\n",
    "    return answer\n"
   ]
  }
 ],
 "metadata": {
  "kernelspec": {
   "display_name": "Python 3",
   "language": "python",
   "name": "python3"
  },
  "language_info": {
   "codemirror_mode": {
    "name": "ipython",
    "version": 3
   },
   "file_extension": ".py",
   "mimetype": "text/x-python",
   "name": "python",
   "nbconvert_exporter": "python",
   "pygments_lexer": "ipython3",
   "version": "3.7.3"
  }
 },
 "nbformat": 4,
 "nbformat_minor": 2
}
