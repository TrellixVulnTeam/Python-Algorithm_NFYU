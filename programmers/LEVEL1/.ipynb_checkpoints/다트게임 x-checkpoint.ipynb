{
 "cells": [
  {
   "cell_type": "code",
   "execution_count": 56,
   "metadata": {},
   "outputs": [
    {
     "data": {
      "text/plain": [
       "9"
      ]
     },
     "execution_count": 56,
     "metadata": {},
     "output_type": "execute_result"
    }
   ],
   "source": [
    "def solution(d):\n",
    "    n = ''\n",
    "    score = []\n",
    "    \n",
    "    for i in d:\n",
    "        if i.isnumeric():\n",
    "            n += i\n",
    "        elif i == 'S':\n",
    "            n = int(n) ** 1\n",
    "            score.append(n)\n",
    "            n = ''\n",
    "        elif i == 'D':\n",
    "            n = int(n) ** 2\n",
    "            score.append(n)\n",
    "            n = ''\n",
    "        elif i == 'T':\n",
    "            n = int(n) ** 3\n",
    "            score.append(n)\n",
    "            n = ''\n",
    "        elif i == '*':\n",
    "            if len(score) > 1:\n",
    "                score[-1] = score[-1] * 2\n",
    "                score[-2] = score[-2] * 2\n",
    "            else:\n",
    "                score[-1] = score[-1] * 2\n",
    "        elif i == '#':\n",
    "            score[-1] = score[-1] * -1\n",
    "    return sum(score)\n",
    "solution('1D2S#10S')"
   ]
  }
 ],
 "metadata": {
  "kernelspec": {
   "display_name": "Python 3",
   "language": "python",
   "name": "python3"
  },
  "language_info": {
   "codemirror_mode": {
    "name": "ipython",
    "version": 3
   },
   "file_extension": ".py",
   "mimetype": "text/x-python",
   "name": "python",
   "nbconvert_exporter": "python",
   "pygments_lexer": "ipython3",
   "version": "3.7.3"
  }
 },
 "nbformat": 4,
 "nbformat_minor": 2
}
