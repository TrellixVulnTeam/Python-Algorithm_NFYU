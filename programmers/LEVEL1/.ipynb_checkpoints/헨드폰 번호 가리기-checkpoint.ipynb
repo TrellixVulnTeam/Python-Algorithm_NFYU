{
 "cells": [
  {
   "cell_type": "code",
   "execution_count": 51,
   "metadata": {},
   "outputs": [
    {
     "name": "stdout",
     "output_type": "stream",
     "text": [
      "*****8888\n"
     ]
    }
   ],
   "source": [
    "def solution(phone_number):\n",
    "    answer = ''\n",
    "    for i, v in enumerate(phone_number):\n",
    "        if len(phone_number) - 4 > i:\n",
    "            answer += '*'\n",
    "        else:\n",
    "            answer += str(v)\n",
    "    print(answer)\n",
    "solution(\"027778888\")"
   ]
  },
  {
   "cell_type": "code",
   "execution_count": 53,
   "metadata": {},
   "outputs": [
    {
     "data": {
      "text/plain": [
       "'*****8888'"
      ]
     },
     "execution_count": 53,
     "metadata": {},
     "output_type": "execute_result"
    }
   ],
   "source": [
    "def solution(p_num):\n",
    "    return '*' * (len(p_num) - 4) + p_num[-4:]\n",
    "solution(\"027778888\")"
   ]
  }
 ],
 "metadata": {
  "kernelspec": {
   "display_name": "Python 3",
   "language": "python",
   "name": "python3"
  },
  "language_info": {
   "codemirror_mode": {
    "name": "ipython",
    "version": 3
   },
   "file_extension": ".py",
   "mimetype": "text/x-python",
   "name": "python",
   "nbconvert_exporter": "python",
   "pygments_lexer": "ipython3",
   "version": "3.7.3"
  }
 },
 "nbformat": 4,
 "nbformat_minor": 2
}
