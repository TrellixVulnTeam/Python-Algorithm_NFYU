{
 "cells": [
  {
   "cell_type": "code",
   "execution_count": null,
   "metadata": {},
   "outputs": [],
   "source": [
    "# 통과 최대 걸린 시간 : 6.58ms\n",
    "def solution(nums):\n",
    "    answer = 0\n",
    "    result = []\n",
    "    choose = len(nums) // 2\n",
    "    \n",
    "    for i in nums:\n",
    "        if i not in result:\n",
    "            result.append(i)\n",
    "    \n",
    "    while len(result) > choose:\n",
    "        result.pop()\n",
    "    return len(result)\n",
    "\n",
    "solution([3,3,3,2,2,2])"
   ]
  },
  {
   "cell_type": "code",
   "execution_count": null,
   "metadata": {},
   "outputs": [],
   "source": [
    "def solution(nums):\n",
    "    return min(len(nums) / 2, len(set(nums)))\n",
    "\n",
    "solution([3,3,3,2,2,2])"
   ]
  },
  {
   "cell_type": "code",
   "execution_count": null,
   "metadata": {},
   "outputs": [],
   "source": [
    "def solution(nums):\n",
    "    answer = 0\n",
    "    choose = len(nums) / 2\n",
    "    set_list = set(nums)    \n",
    "    answer = min(choose, len(set_list)) # 각자 다른 포켓몬일 경우 n/2의 포켓몬이 선택될 것\n",
    "    return answer\n",
    "\n",
    "solution([3,3,3,2,2,2])"
   ]
  }
 ],
 "metadata": {
  "kernelspec": {
   "display_name": "Python 3",
   "language": "python",
   "name": "python3"
  },
  "language_info": {
   "codemirror_mode": {
    "name": "ipython",
    "version": 3
   },
   "file_extension": ".py",
   "mimetype": "text/x-python",
   "name": "python",
   "nbconvert_exporter": "python",
   "pygments_lexer": "ipython3",
   "version": "3.7.3"
  }
 },
 "nbformat": 4,
 "nbformat_minor": 2
}
