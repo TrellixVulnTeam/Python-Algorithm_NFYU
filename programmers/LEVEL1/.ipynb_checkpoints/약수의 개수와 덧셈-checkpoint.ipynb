{
 "cells": [
  {
   "cell_type": "code",
   "execution_count": null,
   "metadata": {},
   "outputs": [],
   "source": [
    "def solution(left, right):\n",
    "    new_list = [] # 굳이 list에 담지 않아도 된다\n",
    "    for i in range(left, right + 1):\n",
    "        num_list = []\n",
    "        \n",
    "        for j in range(1, i + 1):\n",
    "            if i % j == 0:\n",
    "                num_list.append(j)\n",
    "        \n",
    "        if len(num_list) % 2 == 0:\n",
    "            new_list.append(i)\n",
    "        else:\n",
    "            new_list.append(-i)\n",
    "    \n",
    "    return sum(new_list)\n",
    "\n",
    "solution(24, 27)"
   ]
  },
  {
   "cell_type": "code",
   "execution_count": null,
   "metadata": {},
   "outputs": [],
   "source": [
    "def solution(left, right):\n",
    "    answer = 0\n",
    "    new_list = []\n",
    "    for i in range(left, right + 1):\n",
    "        num_count = 0 \n",
    "        \n",
    "        for j in range(1, i + 1):\n",
    "            if i % j == 0:\n",
    "                num_count += 1\n",
    "        \n",
    "        if num_count % 2 == 0:\n",
    "            answer += i\n",
    "        else:\n",
    "            answer -= i\n",
    "    \n",
    "    return answer\n",
    "\n",
    "solution(24, 27)"
   ]
  }
 ],
 "metadata": {
  "kernelspec": {
   "display_name": "Python 3",
   "language": "python",
   "name": "python3"
  },
  "language_info": {
   "codemirror_mode": {
    "name": "ipython",
    "version": 3
   },
   "file_extension": ".py",
   "mimetype": "text/x-python",
   "name": "python",
   "nbconvert_exporter": "python",
   "pygments_lexer": "ipython3",
   "version": "3.7.3"
  }
 },
 "nbformat": 4,
 "nbformat_minor": 2
}
