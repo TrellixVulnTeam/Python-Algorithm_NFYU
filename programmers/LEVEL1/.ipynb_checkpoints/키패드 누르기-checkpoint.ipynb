{
 "cells": [
  {
   "cell_type": "code",
   "execution_count": 94,
   "metadata": {},
   "outputs": [
    {
     "data": {
      "text/plain": [
       "'LRLLLRLLRRL'"
      ]
     },
     "execution_count": 94,
     "metadata": {},
     "output_type": "execute_result"
    }
   ],
   "source": [
    "from collections import deque\n",
    "\n",
    "\n",
    "def get_distance(hand, num):\n",
    "    location = {'1': (0, 0), '2': (0, 1), '3': (0, 2),\n",
    "                '4': (1, 0), '5': (1, 1), '6': (1, 2),\n",
    "                '7': (2, 0), '8': (2, 1), '9': (2, 2),\n",
    "                '*': (3, 0), '0': (3, 1), '#': (3, 2)}\n",
    "    num = str(num)\n",
    "    hand = str(hand)\n",
    "    x_hand, y_hand = location[hand]\n",
    "    x_number, y_number = location[num]\n",
    "    return abs(x_hand - x_number) + abs(y_hand - y_number)\n",
    "\n",
    "def solution(numbers, hand):\n",
    "    queue = deque(numbers)\n",
    "    answer = ''\n",
    "    left = '*'\n",
    "    right = '#'\n",
    "    while queue:\n",
    "        v = queue.popleft()\n",
    "        if v in [1, 4, 7]:\n",
    "            answer += 'L'\n",
    "            left = v\n",
    "        elif v in [3, 6, 9]:\n",
    "            answer += 'R'\n",
    "            right = v\n",
    "        else:\n",
    "            left_dis = get_distance(left, v)\n",
    "            right_dis = get_distance(right, v)\n",
    "            \n",
    "            \n",
    "            if left_dis > right_dis:\n",
    "                answer += 'R'\n",
    "                right = v\n",
    "            elif left_dis < right_dis:\n",
    "                answer += 'L'\n",
    "                left = v\n",
    "            else:\n",
    "                if hand =='right':\n",
    "                    answer += 'R'\n",
    "                    right = v\n",
    "                else:\n",
    "                    answer += 'L'\n",
    "                    left = v\n",
    "            \n",
    "                \n",
    "    return answer\n",
    "\n",
    "solution([1, 3, 4, 5, 8, 2, 1, 4, 5, 9, 5], 'right')"
   ]
  }
 ],
 "metadata": {
  "kernelspec": {
   "display_name": "Python 3",
   "language": "python",
   "name": "python3"
  },
  "language_info": {
   "codemirror_mode": {
    "name": "ipython",
    "version": 3
   },
   "file_extension": ".py",
   "mimetype": "text/x-python",
   "name": "python",
   "nbconvert_exporter": "python",
   "pygments_lexer": "ipython3",
   "version": "3.7.3"
  }
 },
 "nbformat": 4,
 "nbformat_minor": 2
}
