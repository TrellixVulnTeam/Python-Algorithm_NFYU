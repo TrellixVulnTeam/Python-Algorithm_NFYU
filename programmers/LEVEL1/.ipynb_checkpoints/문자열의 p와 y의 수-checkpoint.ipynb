{
 "cells": [
  {
   "cell_type": "code",
   "execution_count": 6,
   "metadata": {
    "scrolled": true
   },
   "outputs": [
    {
     "data": {
      "text/plain": [
       "True"
      ]
     },
     "execution_count": 6,
     "metadata": {},
     "output_type": "execute_result"
    }
   ],
   "source": [
    "def solution(s):\n",
    "    answer = True\n",
    "    strings = s.lower()\n",
    "    p_cnt = 0\n",
    "    y_cnt = 0\n",
    "    for s in strings:\n",
    "        if s == 'p':\n",
    "            p_cnt += 1\n",
    "        elif s == 'y':\n",
    "            y_cnt += 1\n",
    "    \n",
    "    \n",
    "    return True if p_cnt == y_cnt else False\n",
    "\n",
    "solution(\"pPoooyY\")"
   ]
  },
  {
   "cell_type": "code",
   "execution_count": 7,
   "metadata": {},
   "outputs": [
    {
     "data": {
      "text/plain": [
       "True"
      ]
     },
     "execution_count": 7,
     "metadata": {},
     "output_type": "execute_result"
    }
   ],
   "source": [
    "def solution(s):\n",
    "    return s.lower().count('p') == s.lower().count('y')\n",
    "solution(\"pPoooyY\")"
   ]
  }
 ],
 "metadata": {
  "kernelspec": {
   "display_name": "Python 3",
   "language": "python",
   "name": "python3"
  },
  "language_info": {
   "codemirror_mode": {
    "name": "ipython",
    "version": 3
   },
   "file_extension": ".py",
   "mimetype": "text/x-python",
   "name": "python",
   "nbconvert_exporter": "python",
   "pygments_lexer": "ipython3",
   "version": "3.7.3"
  }
 },
 "nbformat": 4,
 "nbformat_minor": 2
}
