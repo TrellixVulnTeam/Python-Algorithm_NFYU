{
 "cells": [
  {
   "cell_type": "markdown",
   "metadata": {},
   "source": [
    "1. 각 복서마다 w(이긴횟수), l(진 횟수), cnt(자기보다 무거운 복서를 이긴 횟수)를 계산한다   \n",
    "2. result에 승률, cnt, 몸무게를 저장한다   \n",
    "3. 승률, cnt, 몸무게 순으로 정렬해서 출력한다   \n"
   ]
  },
  {
   "cell_type": "code",
   "execution_count": 41,
   "metadata": {},
   "outputs": [
    {
     "data": {
      "text/plain": [
       "[2, 3, 1]"
      ]
     },
     "execution_count": 41,
     "metadata": {},
     "output_type": "execute_result"
    }
   ],
   "source": [
    "def solution(weights, head2head):\n",
    "    answer = []\n",
    "    result = []\n",
    "    for i in range(len(head2head)):\n",
    "        w = 0\n",
    "        l = 0\n",
    "        cnt = 0\n",
    "        head2head[i] = list(head2head[i])\n",
    "        for j in range(len(weights)):\n",
    "            if head2head[i][j] == 'W':\n",
    "                w += 1\n",
    "                if weights[i] < weights[j]:\n",
    "                    cnt += 1\n",
    "            elif head2head[i][j] == 'L':\n",
    "                l += 1\n",
    "        if w + l != 0:\n",
    "            result.append([i + 1, w / (w + l), cnt, weights[i]])\n",
    "        else:\n",
    "            result.append([i + 1, 0, cnt, weights[i]])\n",
    "    result.sort(reverse = True, key = lambda x: (x[1], x[2], x[3]))\n",
    "    \n",
    "    for i in range(len(result)):\n",
    "        answer.append(result[i][0])\n",
    "    return answer\n",
    "    \n",
    "\n",
    "solution([145,92,86],[\"NLW\",\"WNL\",\"LWN\"])"
   ]
  },
  {
   "cell_type": "code",
   "execution_count": null,
   "metadata": {},
   "outputs": [],
   "source": []
  }
 ],
 "metadata": {
  "kernelspec": {
   "display_name": "Python 3",
   "language": "python",
   "name": "python3"
  },
  "language_info": {
   "codemirror_mode": {
    "name": "ipython",
    "version": 3
   },
   "file_extension": ".py",
   "mimetype": "text/x-python",
   "name": "python",
   "nbconvert_exporter": "python",
   "pygments_lexer": "ipython3",
   "version": "3.7.3"
  }
 },
 "nbformat": 4,
 "nbformat_minor": 2
}
