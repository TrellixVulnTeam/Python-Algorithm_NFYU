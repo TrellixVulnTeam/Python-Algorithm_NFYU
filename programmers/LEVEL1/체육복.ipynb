{
 "cells": [
  {
   "cell_type": "code",
   "execution_count": null,
   "metadata": {},
   "outputs": [],
   "source": [
    "# 테스트 케이스 1,6,7 error\n",
    "def solution(n, lost, reserve):\n",
    "    lost = set(lost)\n",
    "    reserve = set(reserve)\n",
    "    answer = n - len(lost)\n",
    "    lost.sort()\n",
    "    reserve.sort()\n",
    "    \n",
    "    for l in lost:\n",
    "        if l in reserve:\n",
    "            reserve.remove(l)\n",
    "            lost.remove(l)\n",
    "            answer += 1\n",
    "            \n",
    "    for l in lost:\n",
    "        if l - 1 in reserve:\n",
    "            reserve.remove(l - 1)\n",
    "            answer += 1\n",
    "        elif l + 1 in reserve:\n",
    "            reserve.remove(l + 1)\n",
    "            answer += 1\n",
    "    return answer\n",
    "\n"
   ]
  },
  {
   "cell_type": "code",
   "execution_count": null,
   "metadata": {},
   "outputs": [],
   "source": [
    "# 테스트 케이스 18, 20 error\n",
    "def solution(n, lost, reserve):\n",
    "    r_reserve = [r for r in reserve if r not in lost]\n",
    "    r_lost = [l for l in lost if l not in reserve]\n",
    "    \n",
    "    for i in r_reserve:\n",
    "        front = i - 1\n",
    "        back = i + 1\n",
    "        \n",
    "        if front in r_lost:\n",
    "            r_lost.remove(front)\n",
    "        elif back in r_lost:\n",
    "            r_lost.remove(back)\n",
    "    return n - len(r_lost)"
   ]
  },
  {
   "cell_type": "code",
   "execution_count": 34,
   "metadata": {},
   "outputs": [],
   "source": [
    "def solution(n, lost, reserve):   \n",
    "    \n",
    "    lost = set(lost)\n",
    "    reserve = set(reserve)\n",
    "    common = lost & reserve\n",
    "    lost = list(lost - common)\n",
    "    reserve = list(reserve - common)\n",
    "    reserve.sort()\n",
    "    \n",
    "    for i in reserve:\n",
    "        if i - 1 in lost:\n",
    "            lost.remove(i - 1)\n",
    "            continue\n",
    "        if i + 1 in lost:\n",
    "            lost.remove(i + 1)\n",
    "    \n",
    "    return n-len(lost)"
   ]
  }
 ],
 "metadata": {
  "kernelspec": {
   "display_name": "Python 3",
   "language": "python",
   "name": "python3"
  },
  "language_info": {
   "codemirror_mode": {
    "name": "ipython",
    "version": 3
   },
   "file_extension": ".py",
   "mimetype": "text/x-python",
   "name": "python",
   "nbconvert_exporter": "python",
   "pygments_lexer": "ipython3",
   "version": "3.7.3"
  }
 },
 "nbformat": 4,
 "nbformat_minor": 2
}
