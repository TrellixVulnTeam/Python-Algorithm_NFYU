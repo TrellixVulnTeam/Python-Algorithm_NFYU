{
 "cells": [
  {
   "cell_type": "code",
   "execution_count": 68,
   "metadata": {},
   "outputs": [
    {
     "data": {
      "text/plain": [
       "1478"
      ]
     },
     "execution_count": 68,
     "metadata": {},
     "output_type": "execute_result"
    }
   ],
   "source": [
    "#error why\n",
    "num_dict = {0:'zero', 1:'one', 2:'two', 3:'three', 4:'four', 5:'five', 6:'six', 7:'seven', 8:'eight', 9:'nine'}\n",
    "\n",
    "def solution(s):\n",
    "    answer = ''\n",
    "    for num in s:\n",
    "        if num.isalpha():\n",
    "            answer +=  num\n",
    "        elif num.isdigit():\n",
    "            for k, v in num_dict.items():\n",
    "                if int(num) == k:\n",
    "                    answer += v\n",
    "    res = []\n",
    "    for k, v in num_dict.items():\n",
    "        if v in answer:\n",
    "            res.append(k)\n",
    "    return int(''.join(map(str, res)))\n",
    "\n",
    "solution(\"one4seveneight\")"
   ]
  },
  {
   "cell_type": "code",
   "execution_count": 82,
   "metadata": {},
   "outputs": [
    {
     "data": {
      "text/plain": [
       "1478"
      ]
     },
     "execution_count": 82,
     "metadata": {},
     "output_type": "execute_result"
    }
   ],
   "source": [
    "num_dict = {'zero':0, 'one':1, 'two':2, 'three':3, 'four':4, 'five':5, 'six':6, 'seven':7, 'eight':8, 'nine':9}\n",
    "\n",
    "def solution(s):\n",
    "    answer = ''\n",
    "    eng = ''\n",
    "    for num in s:\n",
    "        if num.isalpha():\n",
    "            eng += num\n",
    "            if eng in num_dict.keys():\n",
    "                answer += str(num_dict[eng])\n",
    "                eng = ''\n",
    "        elif num.isdigit():\n",
    "            answer += num\n",
    "    return int(answer)\n",
    "solution(\"one4seveneight\")"
   ]
  },
  {
   "cell_type": "code",
   "execution_count": 81,
   "metadata": {},
   "outputs": [
    {
     "data": {
      "text/plain": [
       "1478"
      ]
     },
     "execution_count": 81,
     "metadata": {},
     "output_type": "execute_result"
    }
   ],
   "source": [
    "num_dic = {\"zero\":\"0\", \"one\":\"1\", \"two\":\"2\", \"three\":\"3\", \"four\":\"4\", \"five\":\"5\", \"six\":\"6\", \"seven\":\"7\", \"eight\":\"8\", \"nine\":\"9\"}\n",
    "\n",
    "def solution(s):\n",
    "    answer = s\n",
    "    for key, value in num_dic.items():\n",
    "        answer = answer.replace(key, value)\n",
    "    return int(answer)\n",
    "\n",
    "solution(\"one4seveneight\")"
   ]
  }
 ],
 "metadata": {
  "kernelspec": {
   "display_name": "Python 3",
   "language": "python",
   "name": "python3"
  },
  "language_info": {
   "codemirror_mode": {
    "name": "ipython",
    "version": 3
   },
   "file_extension": ".py",
   "mimetype": "text/x-python",
   "name": "python",
   "nbconvert_exporter": "python",
   "pygments_lexer": "ipython3",
   "version": "3.7.3"
  }
 },
 "nbformat": 4,
 "nbformat_minor": 2
}
