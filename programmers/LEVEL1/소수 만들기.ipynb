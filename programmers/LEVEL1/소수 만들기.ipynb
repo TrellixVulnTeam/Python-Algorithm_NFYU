{
 "cells": [
  {
   "cell_type": "code",
   "execution_count": 39,
   "metadata": {},
   "outputs": [
    {
     "data": {
      "text/plain": [
       "4"
      ]
     },
     "execution_count": 39,
     "metadata": {},
     "output_type": "execute_result"
    }
   ],
   "source": [
    "# 소수를 구하는 로직 error\n",
    "\n",
    "from itertools import combinations\n",
    "\n",
    "def solution(nums):\n",
    "    new_list = []\n",
    "    com_list = list(combinations(nums, 3))\n",
    "    for com in com_list:\n",
    "        if sum(com) % 3 != 0 and sum(com) % 2 != 0: # error\n",
    "            new_list.append(sum(com))\n",
    "\n",
    "    return len(set(new_list))\n",
    "\n",
    "solution([1,2,7,6,4])"
   ]
  },
  {
   "cell_type": "code",
   "execution_count": 37,
   "metadata": {},
   "outputs": [
    {
     "data": {
      "text/plain": [
       "4"
      ]
     },
     "execution_count": 37,
     "metadata": {},
     "output_type": "execute_result"
    }
   ],
   "source": [
    "from itertools import combinations\n",
    "import math\n",
    "\n",
    "def isprime(n):\n",
    "    sqrt = math.sqrt(n)\n",
    "    if sqrt < 2:\n",
    "        return False\n",
    "    for i in range(2, int(sqrt + 1)):\n",
    "        if n % i == 0:\n",
    "            return False\n",
    "    return True\n",
    "\n",
    "def solution(nums):\n",
    "    answer = 0\n",
    "    com_list = list(combinations(nums, 3))\n",
    "    for v1, v2, v3 in com_list:\n",
    "        if isprime(v1 + v2 + v3):\n",
    "            answer += 1\n",
    "    return answer\n",
    "\n",
    "solution([1,2,7,6,4])"
   ]
  },
  {
   "cell_type": "code",
   "execution_count": 38,
   "metadata": {},
   "outputs": [],
   "source": [
    "from itertools import combinations\n",
    "\n",
    "def solution(nums):\n",
    "    answer = 0\n",
    "    for a in combinations(nums, 3):\n",
    "        num_sum = sum(a)\n",
    "        for j in range(2, num_sum):\n",
    "            if num_sum % j == 0:\n",
    "                break\n",
    "        else:\n",
    "            answer += 1\n",
    "    return answer"
   ]
  }
 ],
 "metadata": {
  "kernelspec": {
   "display_name": "Python 3",
   "language": "python",
   "name": "python3"
  },
  "language_info": {
   "codemirror_mode": {
    "name": "ipython",
    "version": 3
   },
   "file_extension": ".py",
   "mimetype": "text/x-python",
   "name": "python",
   "nbconvert_exporter": "python",
   "pygments_lexer": "ipython3",
   "version": "3.7.3"
  }
 },
 "nbformat": 4,
 "nbformat_minor": 2
}
