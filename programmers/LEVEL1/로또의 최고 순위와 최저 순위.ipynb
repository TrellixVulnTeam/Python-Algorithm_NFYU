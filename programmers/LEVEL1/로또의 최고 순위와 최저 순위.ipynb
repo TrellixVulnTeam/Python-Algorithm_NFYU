{
 "cells": [
  {
   "cell_type": "code",
   "execution_count": 50,
   "metadata": {},
   "outputs": [
    {
     "name": "stdout",
     "output_type": "stream",
     "text": [
      "[1, 1]\n"
     ]
    },
    {
     "data": {
      "text/plain": [
       "[1, 1]"
      ]
     },
     "execution_count": 50,
     "metadata": {},
     "output_type": "execute_result"
    }
   ],
   "source": [
    "# my code\n",
    "def solution(lottos, win_nums):\n",
    "    rank = {0:6, 1:6, 2:5, 3:4, 4:3, 5:2, 6:1}\n",
    "    answer = []\n",
    "    cnt = 0\n",
    "    zero = 0\n",
    "    case_list = []\n",
    "    for i in lottos:\n",
    "        if i == 0:\n",
    "            cnt += 1\n",
    "            zero += 1\n",
    "        else:\n",
    "            if i in win_nums:\n",
    "                cnt += 1\n",
    "    answer.append(rank[cnt])\n",
    "    answer.append(rank[cnt - zero])\n",
    "    print(answer)\n",
    "    return answer\n",
    "\n",
    "lottos = [45, 4, 35, 20, 3, 9]\n",
    "win_nums = [20, 9, 3, 45, 4, 35]\n",
    "solution(lottos, win_nums)"
   ]
  },
  {
   "cell_type": "code",
   "execution_count": 51,
   "metadata": {},
   "outputs": [],
   "source": [
    "# other code\n",
    "# count()를 사용해서 미리 0의 값을 알아낸다\n",
    "\n",
    "def solution(lottos, win_nums):\n",
    "    answer = [0, 0]\n",
    "    rank = [6, 6, 5, 4, 3, 2, 1]\n",
    "    cnt = 0\n",
    "    zero_cnt = lottos.count(0)\n",
    "    for i in lottos:\n",
    "        if i in win_nums:\n",
    "            cnt += 1\n",
    "    znswer[0], answer[1] = rank[cnt+zero_cnt], rank[cnt]\n",
    "    return answer"
   ]
  },
  {
   "cell_type": "code",
   "execution_count": null,
   "metadata": {},
   "outputs": [],
   "source": []
  }
 ],
 "metadata": {
  "kernelspec": {
   "display_name": "Python 3",
   "language": "python",
   "name": "python3"
  },
  "language_info": {
   "codemirror_mode": {
    "name": "ipython",
    "version": 3
   },
   "file_extension": ".py",
   "mimetype": "text/x-python",
   "name": "python",
   "nbconvert_exporter": "python",
   "pygments_lexer": "ipython3",
   "version": "3.7.3"
  }
 },
 "nbformat": 4,
 "nbformat_minor": 2
}
