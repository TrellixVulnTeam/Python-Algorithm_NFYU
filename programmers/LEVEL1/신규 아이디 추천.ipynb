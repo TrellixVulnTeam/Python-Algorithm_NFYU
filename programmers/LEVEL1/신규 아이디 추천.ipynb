{
 "cells": [
  {
   "cell_type": "code",
   "execution_count": 47,
   "metadata": {},
   "outputs": [
    {
     "data": {
      "text/plain": [
       "'=.='"
      ]
     },
     "execution_count": 47,
     "metadata": {},
     "output_type": "execute_result"
    }
   ],
   "source": [
    "def solution(new_id):\n",
    "    new_id = list(new_id)\n",
    "    if \n",
    "    if len(new_id) >= 16:\n",
    "        new_id = new_id[:15]\n",
    "    if new_id[-1] == '.' or new_id[0] == '.':\n",
    "        new_id.remove('.')    \n",
    "    if not new_id:\n",
    "        new_id = 'a'\n",
    "    if len(new_id) <= 2:\n",
    "        while len(new_id) >= 3:\n",
    "            new_id += new_id[-1]\n",
    "            \n",
    "    for i, word in enumerate(new_id):\n",
    "        if word.isupper():\n",
    "            new_id[i] = word.lower()\n",
    "        \n",
    "    return ''.join(new_id)\n",
    "\n",
    "new_id =\"=.=\"\n",
    "solution(new_id)"
   ]
  },
  {
   "cell_type": "code",
   "execution_count": 10,
   "metadata": {},
   "outputs": [
    {
     "data": {
      "text/plain": [
       "'aaa'"
      ]
     },
     "execution_count": 10,
     "metadata": {},
     "output_type": "execute_result"
    }
   ],
   "source": [
    "\"\"\"\n",
    "소문자 변경 : word.lower() # word 문자열 내에 모든 알파벳을 소문자로 변경해준다\n",
    "문자열에 옆에 3가지 특수문자만 출력 : -, _, * # if v in ['-', '_', '*']: answer += value\n",
    "\n",
    "\"\"\"\n",
    "def solution(new_id):\n",
    "    answer = ''\n",
    "    new_id = new_id.lower() # 1. 소문자 만들기\n",
    "    for v in new_id:\n",
    "        if v.islower() or v.isdigit() or v in ['-', '_', '.']:\n",
    "            answer += v # 2. 소문자, 숫자, 빼기, 마침표만 사용\n",
    "    while '..' in answer:\n",
    "        answer = answer.replace('..', '.')\n",
    "        print(answer) # 두번이상 반복되는 경우.으로 변경\n",
    "        \n",
    "    if answer[0] == '.':\n",
    "        if len(answer) >= 2:\n",
    "            answer = answer[1:]\n",
    "        else:\n",
    "            answer = '.'\n",
    "    if answer[-1] == '.':\n",
    "        answer = answer[:-1]\n",
    "\n",
    "    if answer == '':\n",
    "        answer = 'a'\n",
    "\n",
    "    if len(answer) >= 16:\n",
    "        answer = answer[:15]\n",
    "        if answer[-1] == '.':\n",
    "            answer = answer[:-1]\n",
    "\n",
    "    while len(answer) < 3:\n",
    "        answer += answer[-1]\n",
    "    return answer\n",
    "solution(\"=.=\")"
   ]
  },
  {
   "cell_type": "code",
   "execution_count": 12,
   "metadata": {},
   "outputs": [
    {
     "data": {
      "text/plain": [
       "'bat.y.abcdefghi'"
      ]
     },
     "execution_count": 12,
     "metadata": {},
     "output_type": "execute_result"
    }
   ],
   "source": [
    "import re\n",
    "\n",
    "def solution(new_id):\n",
    "    st = new_id\n",
    "    st = st.lower()\n",
    "    st = re.sub('[^a-z0-9\\-_.]', '', st)\n",
    "    st = re.sub('\\.+', '.', st)\n",
    "    st = re.sub('^[.]|[.]$', '', st)\n",
    "    st = 'a' if len(st) == 0 else st[:15]\n",
    "    st = re.sub('^[.]|[.]$', '', st)\n",
    "    st = st if len(st) > 2 else st + \"\".join([st[-1] for i in range(3-len(st))])\n",
    "    return st\n",
    "\n",
    "solution(\"...!@BaT#*..y.abcdefghijklm\")"
   ]
  },
  {
   "cell_type": "code",
   "execution_count": null,
   "metadata": {},
   "outputs": [],
   "source": []
  }
 ],
 "metadata": {
  "kernelspec": {
   "display_name": "Python 3",
   "language": "python",
   "name": "python3"
  },
  "language_info": {
   "codemirror_mode": {
    "name": "ipython",
    "version": 3
   },
   "file_extension": ".py",
   "mimetype": "text/x-python",
   "name": "python",
   "nbconvert_exporter": "python",
   "pygments_lexer": "ipython3",
   "version": "3.7.3"
  }
 },
 "nbformat": 4,
 "nbformat_minor": 2
}
