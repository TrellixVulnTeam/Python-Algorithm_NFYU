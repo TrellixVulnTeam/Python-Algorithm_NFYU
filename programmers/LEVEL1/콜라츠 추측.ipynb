{
 "cells": [
  {
   "cell_type": "code",
   "execution_count": 56,
   "metadata": {},
   "outputs": [
    {
     "data": {
      "text/plain": [
       "8"
      ]
     },
     "execution_count": 56,
     "metadata": {},
     "output_type": "execute_result"
    }
   ],
   "source": [
    "def solution(num):\n",
    "    cnt = 0\n",
    "    while num > 1:\n",
    "        if num % 2 == 0:\n",
    "            num = num // 2\n",
    "            cnt += 1\n",
    "        else:\n",
    "            num = (num  * 3) + 1\n",
    "            cnt += 1\n",
    "            \n",
    "        if cnt > 500:\n",
    "            return -1\n",
    "    \n",
    "    return cnt\n",
    "\n",
    "solution(6)"
   ]
  }
 ],
 "metadata": {
  "kernelspec": {
   "display_name": "Python 3",
   "language": "python",
   "name": "python3"
  },
  "language_info": {
   "codemirror_mode": {
    "name": "ipython",
    "version": 3
   },
   "file_extension": ".py",
   "mimetype": "text/x-python",
   "name": "python",
   "nbconvert_exporter": "python",
   "pygments_lexer": "ipython3",
   "version": "3.7.3"
  }
 },
 "nbformat": 4,
 "nbformat_minor": 2
}
