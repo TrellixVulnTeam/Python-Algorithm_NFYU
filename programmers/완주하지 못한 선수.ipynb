{
 "cells": [
  {
   "cell_type": "code",
   "execution_count": 1,
   "metadata": {
    "scrolled": true
   },
   "outputs": [
    {
     "name": "stdout",
     "output_type": "stream",
     "text": [
      "vinko\n"
     ]
    }
   ],
   "source": [
    "def solution(participant, completion):\n",
    "    answer = {}\n",
    "    result = []\n",
    "    for i in participant:\n",
    "        if i in answer:\n",
    "            answer[i] += 1\n",
    "        else:\n",
    "            answer[i] = 1\n",
    "\n",
    "    for i in completion:\n",
    "        if i in answer:\n",
    "            answer[i] -= 1\n",
    "\n",
    "    return [k for k in answer.keys() if answer[k] > 0][0]\n",
    "\n",
    "a = [\"marina\", \"josipa\", \"nikola\", \"vinko\", \"filipa\"]\n",
    "b = [\"josipa\", \"filipa\", \"marina\", \"nikola\"]\n",
    "result = solution(a, b)\n",
    "print(result)"
   ]
  }
 ],
 "metadata": {
  "kernelspec": {
   "display_name": "Python 3",
   "language": "python",
   "name": "python3"
  },
  "language_info": {
   "codemirror_mode": {
    "name": "ipython",
    "version": 3
   },
   "file_extension": ".py",
   "mimetype": "text/x-python",
   "name": "python",
   "nbconvert_exporter": "python",
   "pygments_lexer": "ipython3",
   "version": "3.7.3"
  }
 },
 "nbformat": 4,
 "nbformat_minor": 2
}
