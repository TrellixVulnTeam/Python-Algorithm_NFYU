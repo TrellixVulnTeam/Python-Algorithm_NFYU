{
 "cells": [
  {
   "cell_type": "code",
   "execution_count": null,
   "metadata": {},
   "outputs": [],
   "source": [
    "import sys \n",
    "from collections import deque \n",
    "input = sys.stdin.readline() \n",
    "\n",
    "def bfs(): \n",
    "    q = deque() \n",
    "    q.append(n) \n",
    "    while q: \n",
    "        x = q.popleft() \n",
    "        if x == k: \n",
    "            print(dist[x]) \n",
    "            break \n",
    "        for j in (x-1,x+1,x*2): \n",
    "            if 0<= j <= MAX and not dist[j]: \n",
    "                dist[j] = dist[x] +1 \n",
    "                q.append(j) \n",
    "MAX = 10 ** 5 \n",
    "n,k = map(int,input.split()) \n",
    "dist = [0] * (MAX+1) \n",
    "bfs()\n"
   ]
  },
  {
   "cell_type": "code",
   "execution_count": null,
   "metadata": {},
   "outputs": [],
   "source": [
    "# 메모리 초과 왜 ??\n",
    "from collections import deque\n",
    "import sys\n",
    "\n",
    "def bfs(v):\n",
    "    count = 0\n",
    "    q = deque([[v, count]])\n",
    "    while q:\n",
    "        v = q.popleft()\n",
    "        e = v[0]\n",
    "        count = v[1]\n",
    "        if e == k:\n",
    "            return count\n",
    "        count += 1\n",
    "        if (e * 2) <= MAX:\n",
    "            q.append([e * 2, count])\n",
    "        if (e + 1) <= MAX:\n",
    "            q.append([e + 1, count])\n",
    "        if (e - 1) >= 0:\n",
    "            q.append([e - 1, count])\n",
    "    return count\n",
    "\n",
    "MAX = 10 ** 5\n",
    "n, k = map(int, sys.stdin.readline().split())\n",
    "visited = [False] * (MAX + 1)\n",
    "print(bfs(n))"
   ]
  }
 ],
 "metadata": {
  "kernelspec": {
   "display_name": "Python 3",
   "language": "python",
   "name": "python3"
  },
  "language_info": {
   "codemirror_mode": {
    "name": "ipython",
    "version": 3
   },
   "file_extension": ".py",
   "mimetype": "text/x-python",
   "name": "python",
   "nbconvert_exporter": "python",
   "pygments_lexer": "ipython3",
   "version": "3.7.3"
  }
 },
 "nbformat": 4,
 "nbformat_minor": 2
}
