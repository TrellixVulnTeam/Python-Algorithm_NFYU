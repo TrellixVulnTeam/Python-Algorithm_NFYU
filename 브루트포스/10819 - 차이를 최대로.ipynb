{
 "cells": [
  {
   "cell_type": "code",
   "execution_count": null,
   "metadata": {},
   "outputs": [],
   "source": [
    "from itertools import permutations\n",
    "import sys\n",
    "\n",
    "n = int(input())\n",
    "a = list(map(int, input().split()))\n",
    "\n",
    "per = permutations(a)\n",
    "answer = 0\n",
    "\n",
    "for i in per:\n",
    "    s = 0\n",
    "    for j in range(len(i) - 1):\n",
    "        s += abs(i[j] - i[j + 1])\n",
    "    if s > answer:\n",
    "        answer = s\n",
    "\n",
    "print(answer)"
   ]
  },
  {
   "cell_type": "code",
   "execution_count": null,
   "metadata": {},
   "outputs": [],
   "source": []
  },
  {
   "cell_type": "code",
   "execution_count": null,
   "metadata": {},
   "outputs": [],
   "source": [
    "from itertools import permutations\n",
    "\n",
    "n = int(input())\n",
    "nums = list(map(int, input().split()))\n",
    "per = permutations(nums)\n",
    "answer = 0\n",
    "for i in per:\n",
    "    res = 0\n",
    "    for j in range(1, len(i)):\n",
    "        res += abs(i[j - 1] - i[j])\n",
    "    if res > answer:\n",
    "        answer = res\n",
    "print(answer)  \n",
    "        "
   ]
  }
 ],
 "metadata": {
  "kernelspec": {
   "display_name": "Python 3",
   "language": "python",
   "name": "python3"
  },
  "language_info": {
   "codemirror_mode": {
    "name": "ipython",
    "version": 3
   },
   "file_extension": ".py",
   "mimetype": "text/x-python",
   "name": "python",
   "nbconvert_exporter": "python",
   "pygments_lexer": "ipython3",
   "version": "3.7.3"
  }
 },
 "nbformat": 4,
 "nbformat_minor": 2
}
