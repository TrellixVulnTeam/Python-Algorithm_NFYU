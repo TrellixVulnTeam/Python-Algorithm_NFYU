{
 "cells": [
  {
   "cell_type": "code",
   "execution_count": null,
   "id": "65d6a800",
   "metadata": {},
   "outputs": [],
   "source": [
    "am 7:20 - pm 12:20 -> 5시간\n",
    "pm 1:40 - pm 4:00 -> 2시간 20분\n",
    "- 전날 풀었던 알고리즘 다시 풀어보기 + 이해안가면 외우기(2h)\n",
    "- level2 2문제, 백준완탐 2문제, codilty easy 1-2문제(3h - 5h)\n",
    "- 블로그에 알고리즘 푼 내용 올리기(1h)\n",
    "\n",
    "pm 4:00 - pm 5:00 -> 1시간\n",
    "- SQL문제 풀이\n",
    "\n",
    "pm 5:20 - 7:20 -> 2시간\n",
    "- 도커 강의 듣고 실습\n",
    "- 블로그 올릴거 있으면 정리해서 올리기\n",
    "\n",
    "pm 7:30 - pm 9:30 -> 2시간\n",
    "pm 10:00 - am 12:00 -> 2시간\n",
    "- 장고 기술면접 정리 1-2개\n",
    "- 이번주 절반은 기사 중복 알고리즘 실습해보기 + 안되겠으면 캐싱쪽으로 넘어가기"
   ]
  }
 ],
 "metadata": {
  "kernelspec": {
   "display_name": "Python 3 (ipykernel)",
   "language": "python",
   "name": "python3"
  },
  "language_info": {
   "codemirror_mode": {
    "name": "ipython",
    "version": 3
   },
   "file_extension": ".py",
   "mimetype": "text/x-python",
   "name": "python",
   "nbconvert_exporter": "python",
   "pygments_lexer": "ipython3",
   "version": "3.8.10"
  }
 },
 "nbformat": 4,
 "nbformat_minor": 5
}
