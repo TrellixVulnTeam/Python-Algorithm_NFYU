{
 "cells": [
  {
   "cell_type": "markdown",
   "metadata": {},
   "source": [
    "완전탐색과 + bfs를 이용하자\n",
    "\n",
    "1. 물통이 3개지만 물의 총량이 각각 고정되어 있기 때문에 a,b 두 물통만 체크하면 된다. c는 저절로 정해진다  \n",
    "2. 처음 0,0을 넣고 bfs를 한다    \n",
    " 2-1. a물통이 0일때 c물통의 양을 리스트에 넣어준다   \n",
    " 2-2. a->b, a->c, b->a, b->c, c->a, c->b 6가지를 탐색해준다   \n",
    " 2-3. 조건에 맞다면 물을 나누고 탐색을 계속한다    \n",
    " \n",
    "```python\n",
    "x -> y 물통으로 옮기는 과정\n",
    "water = min(x, b - y)  # x전체를 옮기거나 x, b물통을 꽉 채우는 방법(b - y)\n",
    "pour(x - water, y + water) # 옮긴 후의 x와 y의 값을 큐에 저장한다\n",
    "\n",
    "\n",
    "z = c - x - y # c물통에 남아있는 물의 양이다\n",
    "```"
   ]
  },
  {
   "cell_type": "code",
   "execution_count": 2,
   "metadata": {},
   "outputs": [
    {
     "name": "stdout",
     "output_type": "stream",
     "text": [
      "8 9 10\n",
      "1 2 8 9 10 "
     ]
    }
   ],
   "source": [
    "from collections import deque\n",
    "\n",
    "def pour(x, y):\n",
    "    if not visited[x][y]:\n",
    "        visited[x][y] = True\n",
    "        q.append((x, y))\n",
    "\n",
    "def bfs():\n",
    "    while q:\n",
    "        x, y = q.popleft()\n",
    "        z = c - x - y\n",
    "        \n",
    "        if x == 0:\n",
    "            answer.append(z)\n",
    "        \n",
    "        water = min(x, b - y) # x -> y\n",
    "        pour(x - water, y + water)\n",
    "        water = min(x, c - z) # x -> z\n",
    "        pour(x - water, y)\n",
    "        water = min(y, c - z) # y -> z\n",
    "        pour(x, y - water)\n",
    "        water = min(y, a - x) # y -> x\n",
    "        pour(x + water, y - water)\n",
    "        water = min(z, a - x) # z -> x\n",
    "        pour(x + water, y)\n",
    "        water = min(z, b - y) # z -> y\n",
    "        pour(x, y + water)\n",
    "        \n",
    "        \n",
    "a, b, c = map(int, input().split())\n",
    "q = deque()\n",
    "q.append((0 , 0))\n",
    "visited = [[False] * (b + 1) for _ in range(a + 1)]\n",
    "visited[0][0] = True\n",
    "answer = []\n",
    "\n",
    "bfs()\n",
    "\n",
    "answer.sort()\n",
    "for i in answer:\n",
    "    print(i, end=' ')"
   ]
  },
  {
   "cell_type": "code",
   "execution_count": null,
   "metadata": {},
   "outputs": [],
   "source": []
  }
 ],
 "metadata": {
  "kernelspec": {
   "display_name": "Python 3",
   "language": "python",
   "name": "python3"
  },
  "language_info": {
   "codemirror_mode": {
    "name": "ipython",
    "version": 3
   },
   "file_extension": ".py",
   "mimetype": "text/x-python",
   "name": "python",
   "nbconvert_exporter": "python",
   "pygments_lexer": "ipython3",
   "version": "3.7.3"
  }
 },
 "nbformat": 4,
 "nbformat_minor": 2
}
