{
 "cells": [
  {
   "cell_type": "code",
   "execution_count": 3,
   "metadata": {},
   "outputs": [
    {
     "name": "stdout",
     "output_type": "stream",
     "text": [
      "3\n",
      "3\n",
      "4\n",
      "4\n",
      "7\n",
      "7\n",
      "44\n"
     ]
    }
   ],
   "source": [
    "for _ in range(int(input())):\n",
    "    num = int(input())\n",
    "    dp = [0] * (num + 1)\n",
    "    dp[0] = 1\n",
    "    dp[1] = 1\n",
    "    dp[2] = 2\n",
    "    for i in range(3, num + 1):\n",
    "        dp[i] = (dp[i - 1] + dp[i - 2] + dp[i - 3])\n",
    "    print(dp[num])"
   ]
  }
 ],
 "metadata": {
  "kernelspec": {
   "display_name": "Python 3",
   "language": "python",
   "name": "python3"
  },
  "language_info": {
   "codemirror_mode": {
    "name": "ipython",
    "version": 3
   },
   "file_extension": ".py",
   "mimetype": "text/x-python",
   "name": "python",
   "nbconvert_exporter": "python",
   "pygments_lexer": "ipython3",
   "version": "3.7.3"
  }
 },
 "nbformat": 4,
 "nbformat_minor": 2
}
