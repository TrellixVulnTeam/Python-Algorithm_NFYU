{
 "cells": [
  {
   "cell_type": "code",
   "execution_count": 1,
   "metadata": {},
   "outputs": [
    {
     "name": "stdout",
     "output_type": "stream",
     "text": [
      "5457\n",
      "3\n",
      "6 7 8\n",
      "6\n"
     ]
    }
   ],
   "source": [
    "n = int(input())\n",
    "m = int(input())\n",
    "remote_control = {str(i) for i in range(10)}\n",
    "\n",
    "if m > 0:\n",
    "    remote_control -= set(map(str, input().split()))\n",
    "\n",
    "cur_channel = 100\n",
    "min_cnt = abs(cur_channel - n)\n",
    "\n",
    "for channel in range(1000000):\n",
    "    for j in range(len(str(channel))):\n",
    "        if str(channel)[j] not in remote_control:\n",
    "            break\n",
    "        elif len(str(channel)) - 1 == j:\n",
    "            min_cnt = min(min_cnt, abs(channel - n) + len(str(channel)))\n",
    "print(min_cnt)"
   ]
  },
  {
   "cell_type": "code",
   "execution_count": null,
   "metadata": {},
   "outputs": [],
   "source": []
  }
 ],
 "metadata": {
  "kernelspec": {
   "display_name": "Python 3",
   "language": "python",
   "name": "python3"
  },
  "language_info": {
   "codemirror_mode": {
    "name": "ipython",
    "version": 3
   },
   "file_extension": ".py",
   "mimetype": "text/x-python",
   "name": "python",
   "nbconvert_exporter": "python",
   "pygments_lexer": "ipython3",
   "version": "3.7.3"
  }
 },
 "nbformat": 4,
 "nbformat_minor": 2
}
