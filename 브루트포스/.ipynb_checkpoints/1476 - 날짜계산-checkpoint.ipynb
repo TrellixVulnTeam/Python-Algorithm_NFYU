{
 "cells": [
  {
   "cell_type": "code",
   "execution_count": 2,
   "metadata": {},
   "outputs": [
    {
     "name": "stdout",
     "output_type": "stream",
     "text": [
      "1 2 3\n",
      "5266\n"
     ]
    }
   ],
   "source": [
    "\"\"\"\n",
    "1. while문을 통해 1씩 증가시키면서 년도를 카운트한다\n",
    "2. 3개의 값 모두 입력받은 년도가 되면 break\n",
    "3. 3개의 값이 정해진 값보다 크면 정해진 값을 빼서 다시 1부터 증가될 수 있게 처리한다\n",
    "\"\"\"\n",
    "\n",
    "e, s, m, cnt = 1, 1, 1, 1\n",
    "ee, ss, mm = map(int, input().split())\n",
    "\n",
    "while True:\n",
    "    if ee == e and ss == s and mm == m:\n",
    "        break\n",
    "    e += 1\n",
    "    s += 1\n",
    "    m += 1\n",
    "    cnt += 1\n",
    "    \n",
    "    if e >= 16:\n",
    "        e -= 15\n",
    "    if s >= 29:\n",
    "        s -= 28\n",
    "    if m >= 20:\n",
    "        m -= 19\n",
    "print(cnt)\n",
    "        "
   ]
  },
  {
   "cell_type": "code",
   "execution_count": 5,
   "metadata": {},
   "outputs": [
    {
     "name": "stdout",
     "output_type": "stream",
     "text": [
      "1 16 16\n",
      "16\n"
     ]
    }
   ],
   "source": [
    "\"\"\"\n",
    "(년도 - e), (년도 - s), (년도 - m)은 각각 15, 28, 19로 나누어 떨어진다. \n",
    "모든 조건을 만족할때까지 while문으로 반복하면 된다 \n",
    "\"\"\"\n",
    "E, S, M = map(int, input().split())\n",
    "year = 1\n",
    "\n",
    "while True:\n",
    "    if (year - E) % 15 == 0 and (year - S) % 28 == 0 and (year - M) % 19 == 0:\n",
    "        print(year)\n",
    "        break\n",
    "    year += 1\n"
   ]
  }
 ],
 "metadata": {
  "kernelspec": {
   "display_name": "Python 3",
   "language": "python",
   "name": "python3"
  },
  "language_info": {
   "codemirror_mode": {
    "name": "ipython",
    "version": 3
   },
   "file_extension": ".py",
   "mimetype": "text/x-python",
   "name": "python",
   "nbconvert_exporter": "python",
   "pygments_lexer": "ipython3",
   "version": "3.7.3"
  }
 },
 "nbformat": 4,
 "nbformat_minor": 2
}
