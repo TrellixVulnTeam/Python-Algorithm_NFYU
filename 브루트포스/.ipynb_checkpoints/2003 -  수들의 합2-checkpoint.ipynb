{
 "cells": [
  {
   "cell_type": "code",
   "execution_count": 15,
   "metadata": {},
   "outputs": [
    {
     "name": "stdout",
     "output_type": "stream",
     "text": [
      "10 5\n",
      "1 2 3 4 2 5 3 1 1 2\n",
      "3\n"
     ]
    }
   ],
   "source": [
    "n, m = map(int, input().split())\n",
    "data = [*map(int, input().split())]\n",
    "cnt = 0\n",
    "inter_sum = 0\n",
    "end = 0\n",
    "\n",
    "for start in range(n):\n",
    "    while inter_sum < m and end < n:\n",
    "        inter_sum += data[end]\n",
    "        end += 1\n",
    "    if inter_sum == m:\n",
    "        cnt += 1\n",
    "    inter_sum -= data[start]\n",
    "print(cnt)"
   ]
  }
 ],
 "metadata": {
  "kernelspec": {
   "display_name": "Python 3",
   "language": "python",
   "name": "python3"
  },
  "language_info": {
   "codemirror_mode": {
    "name": "ipython",
    "version": 3
   },
   "file_extension": ".py",
   "mimetype": "text/x-python",
   "name": "python",
   "nbconvert_exporter": "python",
   "pygments_lexer": "ipython3",
   "version": "3.7.3"
  }
 },
 "nbformat": 4,
 "nbformat_minor": 2
}
