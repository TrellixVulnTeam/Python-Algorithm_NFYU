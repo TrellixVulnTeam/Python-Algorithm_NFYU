{
 "cells": [
  {
   "cell_type": "code",
   "execution_count": null,
   "metadata": {},
   "outputs": [],
   "source": [
    "# combinations를 이용한 풀이 704ms\n",
    "\n",
    "from itertools import combinations\n",
    "\n",
    "n, s = map(int, input().split())\n",
    "items = list(map(int, input().split()))\n",
    "cnt = 0\n",
    "for i in range(1, n + 1):\n",
    "    new_list = list(combinations(items, i))\n",
    "    print(new_list)\n",
    "    print()\n",
    "    for j in new_list:\n",
    "        if sum(j) == s:\n",
    "            cnt += 1\n",
    "print(cnt)"
   ]
  },
  {
   "cell_type": "code",
   "execution_count": null,
   "metadata": {},
   "outputs": [],
   "source": [
    "# dfs를 이용한 풀이도 존재 524ms\n",
    "\n",
    "def dfs(index, sum):\n",
    "    global cnt\n",
    "    if index >= n:\n",
    "        return\n",
    "    sum += ns[index]\n",
    "    if sum == s:\n",
    "        cnt += 1\n",
    "    dfs(index + 1, sum) # 해당 원소를 포함하는 경우\n",
    "    dfs(index + 1, sum - ns[index]) # 해당 원소를 포함하지 않는 경우\n",
    "\n",
    "n, s = map(int, input().split())\n",
    "ns = [*map(int, input().split())]\n",
    "cnt = 0\n",
    "dfs(0, 0)\n",
    "print(cnt)"
   ]
  },
  {
   "cell_type": "code",
   "execution_count": null,
   "metadata": {},
   "outputs": [],
   "source": [
    "# dp를 이용한 풀이도 존재\n",
    "\n",
    "n, k=map(int, input().split())\n",
    "li = [*map(int, input().split())]\n",
    "dp = []\n",
    "\n",
    "for i in li:\n",
    "    for j in range(len(dp)):\n",
    "        dp += [dp[j] + i]\n",
    "    dp += [i]\n",
    "\n",
    "\n",
    "print(dp.count(k))"
   ]
  },
  {
   "cell_type": "code",
   "execution_count": null,
   "metadata": {},
   "outputs": [],
   "source": [
    "# 라이브러리 없는 풀이도 존재 280ms\n",
    "\n",
    "def make_sum(arr, tmp, s):\n",
    "    cnt = 0\n",
    "    for f in arr:\n",
    "        for b in list(tmp):\n",
    "            tmp.append(f + b)\n",
    "            if tmp[-1] == s:\n",
    "                cnt += 1\n",
    "    return cnt\n",
    "n, s = map(int, input().split())\n",
    "tmp = [0]\n",
    "cnt = make_sum([*map(int, input().split())], tmp, s)\n",
    "print(cnt)"
   ]
  }
 ],
 "metadata": {
  "kernelspec": {
   "display_name": "Python 3",
   "language": "python",
   "name": "python3"
  },
  "language_info": {
   "codemirror_mode": {
    "name": "ipython",
    "version": 3
   },
   "file_extension": ".py",
   "mimetype": "text/x-python",
   "name": "python",
   "nbconvert_exporter": "python",
   "pygments_lexer": "ipython3",
   "version": "3.7.3"
  }
 },
 "nbformat": 4,
 "nbformat_minor": 2
}
