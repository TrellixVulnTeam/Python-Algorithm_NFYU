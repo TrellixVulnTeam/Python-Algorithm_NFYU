{
 "cells": [
  {
   "cell_type": "code",
   "execution_count": 26,
   "metadata": {},
   "outputs": [
    {
     "name": "stdout",
     "output_type": "stream",
     "text": [
      "7 1 2 3 4 5 6 7\n",
      "1 2 3 4 5 6\n",
      "1 2 3 4 5 7\n",
      "1 2 3 4 6 7\n",
      "1 2 3 5 6 7\n",
      "1 2 4 5 6 7\n",
      "1 3 4 5 6 7\n",
      "2 3 4 5 6 7\n",
      "\n",
      "8 1 2 3 5 8 13 21 344\n",
      "1 2 3 5 8 13\n",
      "1 2 3 5 8 21\n",
      "1 2 3 5 8 344\n",
      "1 2 3 5 13 21\n",
      "1 2 3 5 13 344\n",
      "1 2 3 5 21 344\n",
      "1 2 3 8 13 21\n",
      "1 2 3 8 13 344\n",
      "1 2 3 8 21 344\n",
      "1 2 3 13 21 344\n",
      "1 2 5 8 13 21\n",
      "1 2 5 8 13 344\n",
      "1 2 5 8 21 344\n",
      "1 2 5 13 21 344\n",
      "1 2 8 13 21 344\n",
      "1 3 5 8 13 21\n",
      "1 3 5 8 13 344\n",
      "1 3 5 8 21 344\n",
      "1 3 5 13 21 344\n",
      "1 3 8 13 21 344\n",
      "1 5 8 13 21 344\n",
      "2 3 5 8 13 21\n",
      "2 3 5 8 13 344\n",
      "2 3 5 8 21 344\n",
      "2 3 5 13 21 344\n",
      "2 3 8 13 21 344\n",
      "2 5 8 13 21 344\n",
      "3 5 8 13 21 344\n",
      "\n",
      "0\n"
     ]
    }
   ],
   "source": [
    "from itertools import combinations\n",
    "\n",
    "while True:\n",
    "    x, *args = map(int, input().split())\n",
    "    if x == 0:\n",
    "        break\n",
    "    for i in combinations(args, 6):\n",
    "        print(*i)\n",
    "    print()\n"
   ]
  },
  {
   "cell_type": "code",
   "execution_count": null,
   "metadata": {},
   "outputs": [],
   "source": []
  }
 ],
 "metadata": {
  "kernelspec": {
   "display_name": "Python 3",
   "language": "python",
   "name": "python3"
  },
  "language_info": {
   "codemirror_mode": {
    "name": "ipython",
    "version": 3
   },
   "file_extension": ".py",
   "mimetype": "text/x-python",
   "name": "python",
   "nbconvert_exporter": "python",
   "pygments_lexer": "ipython3",
   "version": "3.7.3"
  }
 },
 "nbformat": 4,
 "nbformat_minor": 2
}
