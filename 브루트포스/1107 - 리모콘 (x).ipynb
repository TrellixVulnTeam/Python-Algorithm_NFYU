{
 "cells": [
  {
   "cell_type": "code",
   "execution_count": 1,
   "metadata": {},
   "outputs": [
    {
     "name": "stdout",
     "output_type": "stream",
     "text": [
      "5457\n",
      "3\n",
      "6 7 8\n",
      "6\n"
     ]
    }
   ],
   "source": [
    "n = int(input())\n",
    "m = int(input())\n",
    "remote_control = {str(i) for i in range(10)}\n",
    "\n",
    "if m > 0:\n",
    "    remote_control -= set(map(str, input().split()))\n",
    "\n",
    "cur_channel = 100\n",
    "min_cnt = abs(cur_channel - n)\n",
    "\n",
    "for channel in range(1000000):\n",
    "    for j in range(len(str(channel))):\n",
    "        if str(channel)[j] not in remote_control:\n",
    "            break\n",
    "        elif len(str(channel)) - 1 == j:\n",
    "            min_cnt = min(min_cnt, abs(channel - n) + len(str(channel)))\n",
    "print(min_cnt)"
   ]
  },
  {
   "cell_type": "code",
   "execution_count": 2,
   "metadata": {},
   "outputs": [
    {
     "name": "stdout",
     "output_type": "stream",
     "text": [
      "5457\n",
      "3\n",
      "6 7 8\n",
      "6\n"
     ]
    }
   ],
   "source": [
    "enable = {str(i) for i in range(10)}\n",
    "\n",
    "N = int(input())\n",
    "M = int(input())\n",
    "if M != 0:\n",
    "    enable -= set(map(str, input().split()))\n",
    "    \n",
    "min_cnt = abs(100 - N)\n",
    "for num in range(1000001):\n",
    "    num = str(num)\n",
    "    for j in range(len(num)):\n",
    "        if num[j] not in enable:\n",
    "            break\n",
    "        elif j == len(num) - 1:\n",
    "            min_cnt = min(min_cnt, abs(N - int(num)) + len(str(num)))\n",
    "\n",
    "print(min_cnt)"
   ]
  },
  {
   "cell_type": "code",
   "execution_count": null,
   "metadata": {},
   "outputs": [],
   "source": [
    "target = int(input())\n",
    "ans = abs(100 - target) # ++ or -- 로 이동할 경우 -> 최댓값\n",
    "M = int(input())\n",
    "if M: # 고장난게 있을 경우만 인풋을 받음\n",
    "    broken = set(input().split())\n",
    "else:\n",
    "    broken = set()\n",
    "\n",
    "# 작은수에서 큰수로 이동할땐 500,000 까지만 보면 되지만\n",
    "# 반대로 큰수에서 작은수로 내려올수도 있으므로 1,000,000 까지 봐야함\n",
    "for num in range(1000001): \n",
    "    for N in str(num):\n",
    "        if N in broken: # 해당 숫자가 번호를 눌러서 만들 수 없는 경우엔 스탑\n",
    "            break\n",
    "    else: # 번호를 눌러서 만들 수 있는 경우엔\n",
    "    \t# min(기존답, 번호를 누른 횟수 + 해당 번호로부터 타겟까지의 차이)\n",
    "        ans = min(ans, len(str(num)) + abs(num - target))\n",
    "\n",
    "print(ans)"
   ]
  },
  {
   "cell_type": "code",
   "execution_count": 9,
   "metadata": {},
   "outputs": [
    {
     "name": "stdout",
     "output_type": "stream",
     "text": [
      "5457\n",
      "3\n",
      "6 7 8\n",
      "6\n"
     ]
    }
   ],
   "source": [
    "target = int(input())\n",
    "min_ans = abs(100 - target)\n",
    "break_sum = int(input())\n",
    "\n",
    "if break_sum:\n",
    "    break_btn = input().split()\n",
    "else:\n",
    "    break_btn = set()\n",
    "\n",
    "for num in range(1000001):\n",
    "    for n in str(num):\n",
    "        if n in break_btn:\n",
    "            break\n",
    "    else: # 왜 else를 이렇게 작성해야 하는가\n",
    "        min_ans = min(min_ans, len(str(num)) + abs(num - target))\n",
    "print(min_ans)\n",
    "    "
   ]
  }
 ],
 "metadata": {
  "kernelspec": {
   "display_name": "Python 3",
   "language": "python",
   "name": "python3"
  },
  "language_info": {
   "codemirror_mode": {
    "name": "ipython",
    "version": 3
   },
   "file_extension": ".py",
   "mimetype": "text/x-python",
   "name": "python",
   "nbconvert_exporter": "python",
   "pygments_lexer": "ipython3",
   "version": "3.7.3"
  }
 },
 "nbformat": 4,
 "nbformat_minor": 2
}
