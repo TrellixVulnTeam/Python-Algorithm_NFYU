{
 "cells": [
  {
   "cell_type": "code",
   "execution_count": 1,
   "metadata": {},
   "outputs": [
    {
     "name": "stdout",
     "output_type": "stream",
     "text": [
      "0 1 2 3 5 7 11 13 17 19 23 29 31 37 41 43 47 53 59 61 67 71 73 79 83 89 97 "
     ]
    }
   ],
   "source": [
    "def is_prime(nums):\n",
    "  arr = [True] * (nums + 1)\n",
    "\n",
    "  for i in range(2, nums + 1):\n",
    "    if arr[i] == True:\n",
    "      j = 2\n",
    "\n",
    "      while (i * j) <= nums:\n",
    "        arr[i * j] = False\n",
    "        j += 1\n",
    "  \n",
    "  return arr\n",
    "\n",
    "\n",
    "arr = is_prime(100)\n",
    "\n",
    "for i in range(len(arr)):\n",
    "  if arr[i] == True:\n",
    "    print(i, end = ' ')"
   ]
  },
  {
   "cell_type": "code",
   "execution_count": null,
   "metadata": {},
   "outputs": [],
   "source": []
  }
 ],
 "metadata": {
  "kernelspec": {
   "display_name": "Python 3",
   "language": "python",
   "name": "python3"
  },
  "language_info": {
   "codemirror_mode": {
    "name": "ipython",
    "version": 3
   },
   "file_extension": ".py",
   "mimetype": "text/x-python",
   "name": "python",
   "nbconvert_exporter": "python",
   "pygments_lexer": "ipython3",
   "version": "3.7.3"
  }
 },
 "nbformat": 4,
 "nbformat_minor": 2
}
