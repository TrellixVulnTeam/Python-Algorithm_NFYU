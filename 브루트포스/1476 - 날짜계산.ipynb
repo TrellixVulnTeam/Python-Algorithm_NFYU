{
 "cells": [
  {
   "cell_type": "code",
   "execution_count": 2,
   "metadata": {},
   "outputs": [
    {
     "name": "stdout",
     "output_type": "stream",
     "text": [
      "1 2 3\n",
      "5266\n"
     ]
    }
   ],
   "source": [
    "e, s, m, cnt = 1, 1, 1, 1\n",
    "ee, ss, mm = map(int, input().split())\n",
    "\n",
    "while True:\n",
    "    if ee == e and ss == s and mm == m:\n",
    "        break\n",
    "    e += 1\n",
    "    s += 1\n",
    "    m += 1\n",
    "    cnt += 1\n",
    "    \n",
    "    if e >= 16:\n",
    "        e -= 15\n",
    "    if s >= 29:\n",
    "        s -= 28\n",
    "    if m >= 20:\n",
    "        m -= 19\n",
    "print(cnt)\n",
    "        "
   ]
  },
  {
   "cell_type": "code",
   "execution_count": 1,
   "metadata": {},
   "outputs": [
    {
     "name": "stdout",
     "output_type": "stream",
     "text": [
      "1 16 16\n",
      "16\n"
     ]
    }
   ],
   "source": [
    "E, S, M = map(int, input().split())\n",
    "year = 1\n",
    "\n",
    "while True:\n",
    "    if (year - E) % 15 == 0 and (year - S) % 28 == 0 and (year - M) % 19 == 0:\n",
    "        print(year)\n",
    "        break\n",
    "    year += 1\n"
   ]
  },
  {
   "cell_type": "code",
   "execution_count": null,
   "metadata": {},
   "outputs": [],
   "source": []
  }
 ],
 "metadata": {
  "kernelspec": {
   "display_name": "Python 3",
   "language": "python",
   "name": "python3"
  },
  "language_info": {
   "codemirror_mode": {
    "name": "ipython",
    "version": 3
   },
   "file_extension": ".py",
   "mimetype": "text/x-python",
   "name": "python",
   "nbconvert_exporter": "python",
   "pygments_lexer": "ipython3",
   "version": "3.7.3"
  }
 },
 "nbformat": 4,
 "nbformat_minor": 2
}
