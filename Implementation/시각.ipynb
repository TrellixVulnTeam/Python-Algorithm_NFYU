{
 "cells": [
  {
   "cell_type": "code",
   "execution_count": null,
   "metadata": {},
   "outputs": [],
   "source": [
    "\"\"\"\n",
    "description:\n",
    "00시 00분 00초 ~ 23시 59분 59초까지의 모든 경우의 수  = 86400개\n",
    "\n",
    "완전탐색 유형\n",
    "완전 탐색 알고리즘은 가능한 경우의 수를 모두 검사해보는 탐색 방법이다. \n",
    "탐색해야 할 전체 데이터의 개수가 100만개 이하일때 완전 탐색을 사용하면 적절하다. \n",
    "\"\"\"\n",
    "\n",
    "n = int(input())\n",
    "cnt = 0\n",
    "\n",
    "for i in range(n+1):\n",
    "    for j in range(60):\n",
    "        for k in range(60):\n",
    "            if '3' in str(i) + str(j) + str(k):\n",
    "                cnt += 1\n",
    "print(cnt)"
   ]
  }
 ],
 "metadata": {
  "kernelspec": {
   "display_name": "Python 3",
   "language": "python",
   "name": "python3"
  },
  "language_info": {
   "codemirror_mode": {
    "name": "ipython",
    "version": 3
   },
   "file_extension": ".py",
   "mimetype": "text/x-python",
   "name": "python",
   "nbconvert_exporter": "python",
   "pygments_lexer": "ipython3",
   "version": "3.7.3"
  }
 },
 "nbformat": 4,
 "nbformat_minor": 2
}
