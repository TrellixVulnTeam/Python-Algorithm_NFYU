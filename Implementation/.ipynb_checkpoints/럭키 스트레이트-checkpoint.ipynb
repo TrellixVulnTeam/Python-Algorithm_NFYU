{
 "cells": [
  {
   "cell_type": "code",
   "execution_count": 3,
   "metadata": {},
   "outputs": [
    {
     "name": "stdout",
     "output_type": "stream",
     "text": [
      "123402\n",
      "LUCKY\n",
      "경과시간 :  0.5122735500335693\n"
     ]
    }
   ],
   "source": [
    "# my code\n",
    "from functools import reduce \n",
    "import time\n",
    "\n",
    "\n",
    "start_time = time.time()\n",
    "\n",
    "num = list(input())\n",
    "left_num = num[:len(num)// 2]\n",
    "right_num = num[len(num) // 2:]\n",
    "left_num_sum = reduce(lambda x, y : x + y, map(int, left_num))\n",
    "right_num_sum = reduce(lambda x, y : x + y, map(int, right_num))\n",
    "(print('LUCKY') if left_num_sum == right_num_sum else print('READY'))\n",
    "\n",
    "end_time = time.time()\n",
    "\n",
    "print('경과시간 : ', end_time - start_time)"
   ]
  },
  {
   "cell_type": "code",
   "execution_count": 5,
   "metadata": {},
   "outputs": [
    {
     "name": "stdout",
     "output_type": "stream",
     "text": [
      "123402\n",
      "LUCKY\n",
      "경과시간 :  0.6579506397247314\n"
     ]
    }
   ],
   "source": [
    "# another code\n",
    "\n",
    "import time\n",
    "\n",
    "start_time = time.time()\n",
    "\n",
    "n = input()\n",
    "length = len(n)\n",
    "summary = 0\n",
    "\n",
    "for i in range(length //2):\n",
    "    summary += int(n[i])\n",
    "    \n",
    "for i in range(length // 2, length):\n",
    "    summary -= int(n[i])\n",
    "\n",
    "if summary == 0:\n",
    "    print('LUCKY')\n",
    "else:\n",
    "    print('READY')\n",
    "    \n",
    "end_time = time.time()\n",
    "\n",
    "print('경과시간 : ', end_time - start_time)"
   ]
  },
  {
   "cell_type": "code",
   "execution_count": null,
   "metadata": {},
   "outputs": [],
   "source": []
  }
 ],
 "metadata": {
  "kernelspec": {
   "display_name": "Python 3",
   "language": "python",
   "name": "python3"
  },
  "language_info": {
   "codemirror_mode": {
    "name": "ipython",
    "version": 3
   },
   "file_extension": ".py",
   "mimetype": "text/x-python",
   "name": "python",
   "nbconvert_exporter": "python",
   "pygments_lexer": "ipython3",
   "version": "3.7.3"
  }
 },
 "nbformat": 4,
 "nbformat_minor": 2
}
