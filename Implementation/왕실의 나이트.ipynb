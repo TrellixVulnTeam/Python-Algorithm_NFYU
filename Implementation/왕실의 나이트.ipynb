{
 "cells": [
  {
   "cell_type": "code",
   "execution_count": 16,
   "metadata": {},
   "outputs": [
    {
     "name": "stdout",
     "output_type": "stream",
     "text": [
      "a 1\n",
      "8\n"
     ]
    }
   ],
   "source": [
    "# error \n",
    "column, low = input().split()\n",
    "steps = [(2, 1), (2, -1), (-2, 1), (-2, -1), (1, 2), (1, -2), (-1, 2), (-1, -2)]\n",
    "cnt = 0\n",
    "for i in steps:\n",
    "    x, y = 2, 1\n",
    "    nx = column\n",
    "    ny = low\n",
    "    if ord(nx) > 0 or int(ny) < 8:\n",
    "        nx = ord(nx)\n",
    "        ny = int(ny)\n",
    "        nx += x\n",
    "        ny += y\n",
    "        cnt += 1\n",
    "    else:\n",
    "        continue\n",
    "print(cnt)"
   ]
  },
  {
   "cell_type": "code",
   "execution_count": 21,
   "metadata": {},
   "outputs": [
    {
     "name": "stdout",
     "output_type": "stream",
     "text": [
      "a1\n",
      "2\n"
     ]
    }
   ],
   "source": [
    "input_date = input()\n",
    "row = int(input_date[1])\n",
    "column = int(ord(input_date[0])) - int(ord('a')) + 1\n",
    "steps = [(2, 1), (2, -1), (-2, 1), (-2, -1), (1, 2), (1, -2), (-1, 2), (-1, -2)]\n",
    "cnt = 0\n",
    "\n",
    "for step in steps :\n",
    "    next_row = row + step[0]\n",
    "    next_column = column + step[1]\n",
    "    if next_row >= 1 and next_row <=8 and next_column >=1 and next_column <=8:\n",
    "        cnt += 1\n",
    "print(cnt)"
   ]
  }
 ],
 "metadata": {
  "kernelspec": {
   "display_name": "Python 3",
   "language": "python",
   "name": "python3"
  },
  "language_info": {
   "codemirror_mode": {
    "name": "ipython",
    "version": 3
   },
   "file_extension": ".py",
   "mimetype": "text/x-python",
   "name": "python",
   "nbconvert_exporter": "python",
   "pygments_lexer": "ipython3",
   "version": "3.7.3"
  }
 },
 "nbformat": 4,
 "nbformat_minor": 2
}
