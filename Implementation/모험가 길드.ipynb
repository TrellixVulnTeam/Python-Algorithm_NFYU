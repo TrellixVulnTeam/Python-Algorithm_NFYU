{
 "cells": [
  {
   "cell_type": "code",
   "execution_count": null,
   "metadata": {},
   "outputs": [],
   "source": [
    "# my code\n",
    "\n",
    "n = int(input())\n",
    "n_list = list(map(int,input().split()))\n",
    "n_list.sort(reverse=True)\n",
    "cnt = 0\n",
    "for i in n_list:\n",
    "    if i <= n:\n",
    "        a = n // i\n",
    "        n = n % i\n",
    "        cnt += a\n",
    "print(cnt)\n",
    "    "
   ]
  },
  {
   "cell_type": "code",
   "execution_count": null,
   "metadata": {},
   "outputs": [],
   "source": [
    "# solution\n",
    "\n",
    "n = int(input())\n",
    "data = list(map(int, input().split()))\n",
    "data.sort()\n",
    "\n",
    "result = 0 \n",
    "cnt = 0\n",
    "\n",
    "for i in data:\n",
    "    cnt += 1\n",
    "    if cnt >= i:\n",
    "        result += 1\n",
    "        cnt = 0\n",
    "print(result)"
   ]
  }
 ],
 "metadata": {
  "kernelspec": {
   "display_name": "Python 3",
   "language": "python",
   "name": "python3"
  },
  "language_info": {
   "codemirror_mode": {
    "name": "ipython",
    "version": 3
   },
   "file_extension": ".py",
   "mimetype": "text/x-python",
   "name": "python",
   "nbconvert_exporter": "python",
   "pygments_lexer": "ipython3",
   "version": "3.7.3"
  }
 },
 "nbformat": 4,
 "nbformat_minor": 2
}
