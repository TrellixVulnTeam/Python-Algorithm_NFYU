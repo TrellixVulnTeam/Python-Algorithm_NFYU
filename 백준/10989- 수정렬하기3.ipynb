{
 "cells": [
  {
   "cell_type": "markdown",
   "metadata": {},
   "source": [
    "아래의 코드첨럼 리스트에 받아 정렬시킨후 출력하면 시간초과와 메모리초과를 피해갈 수 없다. __메모리제한이 8mb라는 점과 n의 수가 10000보다 작거나 같은 자연수이다__ 라는 조건을 보고 리스트에 미리 10001 or 10000 이라는 범위를 지정하고 문제를 풀어야한다는 것을 유추했어야 한다 (진행중...)"
   ]
  },
  {
   "cell_type": "code",
   "execution_count": 7,
   "metadata": {},
   "outputs": [
    {
     "name": "stdout",
     "output_type": "stream",
     "text": [
      "10\n",
      "5\n",
      "2\n",
      "3\n",
      "1\n",
      "4\n",
      "2\n",
      "3\n",
      "5\n",
      "1\n",
      "7\n",
      "1\n",
      "1\n",
      "2\n",
      "2\n",
      "3\n",
      "3\n",
      "4\n",
      "5\n",
      "5\n",
      "7\n"
     ]
    }
   ],
   "source": [
    "# 메모리 초과\n",
    "n = int(input())\n",
    "num = []\n",
    "\n",
    "for i in range(n):\n",
    "    num.append(int(input()))\n",
    "\n",
    "for i in sorted(num):\n",
    "    print(i)"
   ]
  },
  {
   "cell_type": "code",
   "execution_count": null,
   "metadata": {},
   "outputs": [],
   "source": [
    "import sys\n",
    "\n",
    "n = int(sys.stdin.readline())\n",
    "arr = [0]*10001\n",
    "\n",
    "for i in range(n):\n",
    "    arr.append(int(sys.stdin.readline()))\n",
    "\n",
    "for i in sorted(num):\n",
    "    print(i)"
   ]
  }
 ],
 "metadata": {
  "kernelspec": {
   "display_name": "Python 3",
   "language": "python",
   "name": "python3"
  },
  "language_info": {
   "codemirror_mode": {
    "name": "ipython",
    "version": 3
   },
   "file_extension": ".py",
   "mimetype": "text/x-python",
   "name": "python",
   "nbconvert_exporter": "python",
   "pygments_lexer": "ipython3",
   "version": "3.7.3"
  }
 },
 "nbformat": 4,
 "nbformat_minor": 2
}
