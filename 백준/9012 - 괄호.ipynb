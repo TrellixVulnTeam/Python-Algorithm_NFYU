{
 "cells": [
  {
   "cell_type": "markdown",
   "metadata": {},
   "source": [
    "__[문제접근]__     \n",
    "\n",
    "(과 )은 무조건 완성되야하므로 한쌍으써 존재해야 한다. 입력받은 (,)개수가 같으면 되지 않을까 ?\n",
    "\n",
    "__[pseudocode]__\n",
    "- 입력값 n을 받는다\n",
    "- for문으로 n번 반복한다\n",
    "- 받은 문자열 (,)을 기준으로 잘라 배열에 넣는다   \n",
    "- 배열에 넣은 (과 )의 개숫를 센다\n",
    "- 배열에는 0번째와 1번째의 값만이 들어오거나 0번째의 값만이 들어올 것이므로 try~except문을 이용하여 같으면 YES 다르면 NO 인덱스가 0만 인경우는 NO를 출력해준다    \n",
    "\n",
    "__[문제오류]__    \n",
    "\n",
    "```())(()``` 이렇게 각각의 (,)의 개수가 같지만 ()의 모양이 아닌 경우에도 YES가 출력되는 오류가 발생했다"
   ]
  },
  {
   "cell_type": "code",
   "execution_count": 43,
   "metadata": {},
   "outputs": [
    {
     "name": "stdout",
     "output_type": "stream",
     "text": [
      "3\n",
      "((\n",
      "NO\n",
      "))\n",
      "NO\n",
      "())(()\n",
      "YES\n"
     ]
    }
   ],
   "source": [
    "n = int(input())\n",
    "\n",
    "for i in range(n):\n",
    "    word = input().split()\n",
    "    for i in word:\n",
    "        count = {}\n",
    "        arrays = []\n",
    "        arr = list(i)\n",
    "        for j in arr:\n",
    "            try: count[j] += 1\n",
    "            except: count[j] =1\n",
    "        for v in count.values():\n",
    "            arrays.append(v)\n",
    "        try:\n",
    "            if arrays[0] == arrays[1]:\n",
    "                print('YES')\n",
    "        except:\n",
    "            print('NO')"
   ]
  },
  {
   "cell_type": "markdown",
   "metadata": {},
   "source": [
    "__[해결]__   \n",
    "(가 들어오면 바로)가 들어와야 한다. 따라서 sum_이라는 변수를 하나 만들어 받은 문자열 (,)을 리스트화 시키고 (가 나왔을때 sum_에 1을 증가시킨다. 만약 )가 나오면 sum_에 1을 감소시킨다. 이때 sum_의 값이 0보다 작으면 for문의 동작을 break해준다 (왜 sum_<0 이 되어야 할까)"
   ]
  },
  {
   "cell_type": "code",
   "execution_count": 9,
   "metadata": {},
   "outputs": [
    {
     "name": "stdout",
     "output_type": "stream",
     "text": [
      "1\n",
      "()\n",
      "NO\n"
     ]
    }
   ],
   "source": [
    "a = int(input())\n",
    "\n",
    "for i in range(a):\n",
    "    word = input()\n",
    "    newWord = list(word)\n",
    "    sum_ = 0\n",
    "    for i in newWord:\n",
    "        if i == '(':\n",
    "            sum_ += 1\n",
    "        elif i == ')':\n",
    "            sum_ -=1\n",
    "        if sum_ < 0:\n",
    "            break\n",
    "    if sum_ > 0 or sum_ < 0:\n",
    "        print('NO')\n",
    "    elif sum_ == 0: \n",
    "        print('YES')"
   ]
  },
  {
   "cell_type": "code",
   "execution_count": 5,
   "metadata": {},
   "outputs": [
    {
     "name": "stdout",
     "output_type": "stream",
     "text": [
      "6\n",
      "((()()(()))(((())))()\n",
      "NO\n",
      "()()()()(()()())()\n",
      "YES\n",
      "(()((())()(\n",
      "NO\n",
      "((((()\n",
      "NO\n",
      "()()\n",
      "YES\n",
      "()()()((()))\n",
      "YES\n"
     ]
    }
   ],
   "source": [
    "# my code\n",
    "for _ in range(int(input())):\n",
    "    str_list = []\n",
    "    strings = input()\n",
    "    for string in strings:\n",
    "        if string == '(':\n",
    "            str_list.append(string)\n",
    "        elif string == ')':\n",
    "            if '(' not in str_list:\n",
    "                str_list.append(string)\n",
    "            else:\n",
    "                str_list.pop()\n",
    "    print('NO') if str_list else print('YES')"
   ]
  },
  {
   "cell_type": "code",
   "execution_count": null,
   "metadata": {},
   "outputs": [],
   "source": []
  }
 ],
 "metadata": {
  "kernelspec": {
   "display_name": "Python 3",
   "language": "python",
   "name": "python3"
  },
  "language_info": {
   "codemirror_mode": {
    "name": "ipython",
    "version": 3
   },
   "file_extension": ".py",
   "mimetype": "text/x-python",
   "name": "python",
   "nbconvert_exporter": "python",
   "pygments_lexer": "ipython3",
   "version": "3.7.3"
  }
 },
 "nbformat": 4,
 "nbformat_minor": 2
}
