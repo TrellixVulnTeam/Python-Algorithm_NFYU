{
 "cells": [
  {
   "cell_type": "code",
   "execution_count": 29,
   "metadata": {},
   "outputs": [
    {
     "name": "stdout",
     "output_type": "stream",
     "text": [
      "2\n",
      "I ma yppah yadot\n",
      "I am happy today eW tnaw ot niw eht tsrif ezirp\n",
      "We want to win the first prize "
     ]
    }
   ],
   "source": [
    "import sys\n",
    "\n",
    "for _ in range(int(sys.stdin.readline())):\n",
    "    strings = sys.stdin.readline().split()\n",
    "    for string in strings:\n",
    "        print(string[::-1], end=' ')"
   ]
  }
 ],
 "metadata": {
  "kernelspec": {
   "display_name": "Python 3",
   "language": "python",
   "name": "python3"
  },
  "language_info": {
   "codemirror_mode": {
    "name": "ipython",
    "version": 3
   },
   "file_extension": ".py",
   "mimetype": "text/x-python",
   "name": "python",
   "nbconvert_exporter": "python",
   "pygments_lexer": "ipython3",
   "version": "3.7.3"
  }
 },
 "nbformat": 4,
 "nbformat_minor": 2
}
