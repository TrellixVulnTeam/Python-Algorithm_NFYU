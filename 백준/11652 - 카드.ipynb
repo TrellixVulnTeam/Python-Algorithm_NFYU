{
 "cells": [
  {
   "cell_type": "markdown",
   "metadata": {},
   "source": [
    "#### 11652\n",
    "1. 딕셔너리 사용하기\n",
    "2. 딕셔너리 이용해 정렬하기\n",
    "3. 딕셔너리 이용해 최댓값과 최솟값 구하기"
   ]
  },
  {
   "cell_type": "code",
   "execution_count": 37,
   "metadata": {
    "scrolled": true
   },
   "outputs": [
    {
     "name": "stdout",
     "output_type": "stream",
     "text": [
      "4\n",
      "1\n",
      "1\n",
      "4\n",
      "5\n",
      "1\n"
     ]
    }
   ],
   "source": [
    "# 에러발생 .. 왜..?\n",
    "import operator\n",
    "\n",
    "n = int(input())\n",
    "dic = {}\n",
    "\n",
    "for i in range(n):\n",
    "    num = int(input())\n",
    "    if num in dic:\n",
    "        dic[num] +=1\n",
    "    else:\n",
    "        dic[num] = 1\n",
    "\n",
    "sort_dic = sorted(dic.items(), key=lambda x:(-x[1]))\n",
    "\n",
    "print(sort_dic[0][0])\n"
   ]
  },
  {
   "cell_type": "code",
   "execution_count": null,
   "metadata": {},
   "outputs": [],
   "source": [
    "# 시간 4572ms\n",
    "\n",
    "import operator,sys\n",
    "\n",
    "n = int(sys.stdin.readline())\n",
    "dic = {}\n",
    "\n",
    "for i in range(n):\n",
    "    num = int(sys.stdin.readline())\n",
    "    if num in dic:\n",
    "        dic[num] +=1\n",
    "    else:\n",
    "        dic[num] = 1\n",
    "\n",
    "sort_dic = sorted(dic.items(), key=lambda x:(-x[1]))\n",
    "\n",
    "print(sys.stdout.write(sort_dic[0][0])+'\\n')"
   ]
  }
 ],
 "metadata": {
  "kernelspec": {
   "display_name": "Python 3",
   "language": "python",
   "name": "python3"
  },
  "language_info": {
   "codemirror_mode": {
    "name": "ipython",
    "version": 3
   },
   "file_extension": ".py",
   "mimetype": "text/x-python",
   "name": "python",
   "nbconvert_exporter": "python",
   "pygments_lexer": "ipython3",
   "version": "3.7.3"
  }
 },
 "nbformat": 4,
 "nbformat_minor": 2
}
