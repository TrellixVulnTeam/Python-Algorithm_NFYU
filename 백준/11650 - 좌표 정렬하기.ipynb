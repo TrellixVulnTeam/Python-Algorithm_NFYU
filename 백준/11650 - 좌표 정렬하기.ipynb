{
 "cells": [
  {
   "cell_type": "code",
   "execution_count": 48,
   "metadata": {},
   "outputs": [
    {
     "name": "stdout",
     "output_type": "stream",
     "text": [
      "3\n",
      "2 4\n",
      "2 -1\n",
      "-1 2\n",
      "-1 2\n",
      "2 -1\n",
      "2 4\n"
     ]
    }
   ],
   "source": [
    "n = int(input())\n",
    "arr = []\n",
    "for _ in range(n):\n",
    "    num1,num2 = map(int,input().split())\n",
    "    arr.append([num1,num2])\n",
    "    \n",
    "arrs = sorted(arr)\n",
    "\n",
    "for i in range(n):\n",
    "    print(arrs[i][0],arrs[i][1])"
   ]
  },
  {
   "cell_type": "code",
   "execution_count": 45,
   "metadata": {},
   "outputs": [
    {
     "name": "stdout",
     "output_type": "stream",
     "text": [
      "2\n",
      "2 3\n",
      "3 5\n",
      "2 3\n",
      "3 5\n"
     ]
    }
   ],
   "source": [
    "n = int(input())\n",
    "arr = []\n",
    "for _ in range(n):\n",
    "    num1,num2 = map(int,input().split())\n",
    "    arr.append([num1,num2])\n",
    "    \n",
    "arr = sorted(arr)\n",
    "\n",
    "\n",
    "for i in arr:\n",
    "    print(i[0],i[1])"
   ]
  }
 ],
 "metadata": {
  "kernelspec": {
   "display_name": "Python 3",
   "language": "python",
   "name": "python3"
  },
  "language_info": {
   "codemirror_mode": {
    "name": "ipython",
    "version": 3
   },
   "file_extension": ".py",
   "mimetype": "text/x-python",
   "name": "python",
   "nbconvert_exporter": "python",
   "pygments_lexer": "ipython3",
   "version": "3.7.3"
  }
 },
 "nbformat": 4,
 "nbformat_minor": 2
}
