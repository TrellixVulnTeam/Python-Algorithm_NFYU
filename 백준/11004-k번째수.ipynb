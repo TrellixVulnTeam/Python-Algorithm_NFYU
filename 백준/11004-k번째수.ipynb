{
 "cells": [
  {
   "cell_type": "markdown",
   "metadata": {},
   "source": [
    "시간복잡도를 고려해야하는 문제이다"
   ]
  },
  {
   "cell_type": "code",
   "execution_count": 16,
   "metadata": {},
   "outputs": [
    {
     "name": "stdout",
     "output_type": "stream",
     "text": [
      "5 2\n",
      "4 2 1 3 5\n",
      "2\n"
     ]
    }
   ],
   "source": [
    "#error발생\n",
    "\n",
    "n,k = input().split()\n",
    "n = int(n)\n",
    "k = int(k)\n",
    "\n",
    "num = input().split()\n",
    "\n",
    "num.sort(reverse=False)\n",
    "result = num[k-1:k]\n",
    "result = ''.join(result)\n",
    "print(int(result))"
   ]
  },
  {
   "cell_type": "code",
   "execution_count": 18,
   "metadata": {},
   "outputs": [
    {
     "name": "stdout",
     "output_type": "stream",
     "text": [
      "5 2\n",
      "4 2 1 3 5\n",
      "2\n"
     ]
    }
   ],
   "source": [
    "n,k = map(int,input().split())\n",
    "arr = list(map(int,input().split()))\n",
    "\n",
    "arr.sort(reverse=False)\n",
    "print(arr[k-1])"
   ]
  }
 ],
 "metadata": {
  "kernelspec": {
   "display_name": "Python 3",
   "language": "python",
   "name": "python3"
  },
  "language_info": {
   "codemirror_mode": {
    "name": "ipython",
    "version": 3
   },
   "file_extension": ".py",
   "mimetype": "text/x-python",
   "name": "python",
   "nbconvert_exporter": "python",
   "pygments_lexer": "ipython3",
   "version": "3.7.3"
  }
 },
 "nbformat": 4,
 "nbformat_minor": 2
}
