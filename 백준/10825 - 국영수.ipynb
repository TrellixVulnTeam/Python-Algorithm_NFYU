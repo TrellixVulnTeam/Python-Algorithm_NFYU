{
 "cells": [
  {
   "cell_type": "code",
   "execution_count": 4,
   "metadata": {},
   "outputs": [
    {
     "name": "stdout",
     "output_type": "stream",
     "text": [
      "12\n",
      "Junkyu 50 60 100\n",
      "Sangkeun 80 60 50\n",
      "Sunyoung 80 70 100\n",
      "Soong 50 60 90\n",
      "Haebin 50 60 100\n",
      "Kangsoo 60 80 100\n",
      "Donghyuk 80 60 100\n",
      "Sei 70 70 70\n",
      "Wonseob 70 70 90\n",
      "Sanghyun 70 70 80\n",
      "nsj 80 80 80\n",
      "Taewhan 50 60 90\n",
      "Donghyuk\n",
      "Sangkeun\n",
      "Sunyoung\n",
      "nsj\n",
      "Wonseob\n",
      "Sanghyun\n",
      "Sei\n",
      "Kangsoo\n",
      "Haebin\n",
      "Junkyu\n",
      "Soong\n",
      "Taewhan\n"
     ]
    }
   ],
   "source": [
    "# 시간 4856ms\n",
    "n = int(input())\n",
    "arr =[]\n",
    "\n",
    "for _ in range(n):\n",
    "    name,kor,eng,math = input().split()\n",
    "    arr.append([name,kor,eng,math])\n",
    "arr.sort(key=lambda member:(-int(member[1]),int(member[2]),-int(member[3]),member[0]))\n",
    "\n",
    "for member in arr:\n",
    "    print(member[0])"
   ]
  },
  {
   "cell_type": "code",
   "execution_count": null,
   "metadata": {},
   "outputs": [],
   "source": [
    "# 시간 504ms\n",
    "import sys\n",
    "\n",
    "n = int(sys.stdin.readline())\n",
    "arr = []\n",
    "\n",
    "for _ in range(n):\n",
    "    arr.append(list(sys.stdin.readline().split()))\n",
    "    \n",
    "arr.sort(key=lambda member:(-int(member[1]),int(member[2]),-int(member[3]),member[0]))\n",
    "for member in arr:\n",
    "    sys.stdout.write(str(member[0])+'\\n')"
   ]
  }
 ],
 "metadata": {
  "kernelspec": {
   "display_name": "Python 3",
   "language": "python",
   "name": "python3"
  },
  "language_info": {
   "codemirror_mode": {
    "name": "ipython",
    "version": 3
   },
   "file_extension": ".py",
   "mimetype": "text/x-python",
   "name": "python",
   "nbconvert_exporter": "python",
   "pygments_lexer": "ipython3",
   "version": "3.7.3"
  }
 },
 "nbformat": 4,
 "nbformat_minor": 2
}
