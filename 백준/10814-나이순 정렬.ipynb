{
 "cells": [
  {
   "cell_type": "code",
   "execution_count": 12,
   "metadata": {},
   "outputs": [
    {
     "name": "stdout",
     "output_type": "stream",
     "text": [
      "3\n",
      "21 junkyu\n",
      "21 dohyun\n",
      "20 sunyoung\n",
      "20 sunyoung\n",
      "21 junkyu\n",
      "21 dohyun\n"
     ]
    }
   ],
   "source": [
    "#시간 : 4476ms\n",
    "n = int(input())\n",
    "infor = []\n",
    "\n",
    "for _ in range(n):\n",
    "    age,name = input().split()\n",
    "    age = int(age)\n",
    "    infor.append([age,name])\n",
    "infor.sort(key=lambda person:person[0])\n",
    "\n",
    "for person in infor:\n",
    "    print(person[0],person[1])"
   ]
  },
  {
   "cell_type": "code",
   "execution_count": null,
   "metadata": {},
   "outputs": [],
   "source": [
    "#시간 : 288ms\n",
    "import sys\n",
    "\n",
    "n = int(sys.stdin.readline())\n",
    "infor = []\n",
    "\n",
    "for _ in range(n):\n",
    "    infor.append(list(sys.stdin.readline().split()))\n",
    "infor.sort(key=lambda person:person[0])\n",
    "for person in infor:\n",
    "    print(person[0],person[1])"
   ]
  },
  {
   "cell_type": "code",
   "execution_count": 7,
   "metadata": {},
   "outputs": [
    {
     "name": "stdout",
     "output_type": "stream",
     "text": [
      "3\n",
      "21 Junkyu\n",
      "21 Dohyun\n",
      "20 Sunyoung\n",
      "20 Sunyoung\n",
      "21 Junkyu\n",
      "21 Dohyun\n"
     ]
    }
   ],
   "source": [
    "# 332\n",
    "\n",
    "import sys\n",
    "\n",
    "n = int(sys.stdin.readline())\n",
    "n_list = [sys.stdin.readline().split() for _ in range(n)]\n",
    "n_list.sort(key = lambda x: (int(x[0])))\n",
    "\n",
    "for i in n_list:\n",
    "    print(i[0], i[1])"
   ]
  }
 ],
 "metadata": {
  "kernelspec": {
   "display_name": "Python 3",
   "language": "python",
   "name": "python3"
  },
  "language_info": {
   "codemirror_mode": {
    "name": "ipython",
    "version": 3
   },
   "file_extension": ".py",
   "mimetype": "text/x-python",
   "name": "python",
   "nbconvert_exporter": "python",
   "pygments_lexer": "ipython3",
   "version": "3.7.3"
  }
 },
 "nbformat": 4,
 "nbformat_minor": 2
}
