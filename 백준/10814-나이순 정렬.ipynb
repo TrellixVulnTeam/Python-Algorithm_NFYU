{
 "cells": [
  {
   "cell_type": "code",
   "execution_count": 12,
   "metadata": {},
   "outputs": [
    {
     "name": "stdout",
     "output_type": "stream",
     "text": [
      "3\n",
      "21 junkyu\n",
      "21 dohyun\n",
      "20 sunyoung\n",
      "20 sunyoung\n",
      "21 junkyu\n",
      "21 dohyun\n"
     ]
    }
   ],
   "source": [
    "#시간 : 4476ms\n",
    "n = int(input())\n",
    "infor = []\n",
    "\n",
    "for _ in range(n):\n",
    "    age,name = input().split()\n",
    "    age = int(age)\n",
    "    infor.append([age,name])\n",
    "infor.sort(key=lambda person:person[0])\n",
    "\n",
    "for person in infor:\n",
    "    print(person[0],person[1])"
   ]
  },
  {
   "cell_type": "code",
   "execution_count": null,
   "metadata": {},
   "outputs": [],
   "source": [
    "#시간 : 288ms\n",
    "import sys\n",
    "\n",
    "n = int(sys.stdin.readline())\n",
    "infor = []\n",
    "\n",
    "for _ in range(n):\n",
    "    infor.append(list(sys.stdin.readline().split()))\n",
    "infor.sort(key=lambda person:person[0])\n",
    "for person in infor:\n",
    "    print(person[0],person[1])"
   ]
  }
 ],
 "metadata": {
  "kernelspec": {
   "display_name": "Python 3",
   "language": "python",
   "name": "python3"
  },
  "language_info": {
   "codemirror_mode": {
    "name": "ipython",
    "version": 3
   },
   "file_extension": ".py",
   "mimetype": "text/x-python",
   "name": "python",
   "nbconvert_exporter": "python",
   "pygments_lexer": "ipython3",
   "version": "3.7.3"
  }
 },
 "nbformat": 4,
 "nbformat_minor": 2
}
