{
 "cells": [
  {
   "cell_type": "markdown",
   "metadata": {},
   "source": [
    "#### 동적 계획법(dynamic programming)\n",
    "복잡한 문제를 간단한 여러개의 문제로 나누어 푸는 방법\n",
    "바로 한 번 결과를 수행한 것을 메모리에 저장해 놓고 다음에 똑같은 결과가 필요하면 그때 연산하지 않고 메모리에 저장된 값을 가져와 쓰는 것이다(메모이제이션 - 캐싱)\n",
    "\n",
    "최소값의 경로를 저장(메모제이션)하기 위해 dp라는 배열을 선언해준다\n",
    "\n",
    "\n",
    "ex) 피보나치 수열\n",
    "\n",
    "동적 계획법은 소문제의 해를 따로 저장해서 나중에 다시 사용한다. 이렇게 중복연산을 방지하는 방법에는 두가지 방법이 있다\n",
    "\n",
    "#### 1. 메모이제이션(하향식 - Top Down(메모제이션))\n",
    "하향식은 하위문제에 대한 정답을 계산했는지 확인해가며 문제를 자연스러운 방식으로 풀어 나가는 방법이다. \n",
    "```python\n",
    "dp = [0] *100 # 소문제 결과를 저장할 리스트\n",
    "dp[0] = 1\n",
    "dp[1] = 1\n",
    "\n",
    "def fib(n):\n",
    "    if dp[n] == 0:\n",
    "        dp[n] = fib(n - 1) + fib(n - 2)\n",
    "    return dp[n]\n",
    "\n",
    "fib(10)\n",
    "```\n",
    "\n",
    "#### 2. 타뷸레이션(상향식 - Bottom Up(DP테이블))\n",
    "상향식은 더 작은 하위 문제부터 살펴본 다음 작은 문제의 정답을 이용해서 큰 문제의 정답을 풀어나가는 방법이다. \n",
    "```python\n",
    "def fib(n):\n",
    "    dp = [0] * (n + 1)\n",
    "    dp[0] = 1\n",
    "    dp[1] = 1\n",
    "    \n",
    "    for i in range(2, n + 1): # 작은 값부터 직접 계산하면서 진행한다\n",
    "        dp[i] = dp[i - 1] + dp[i - 2]\n",
    "    return dp[n]\n",
    "fib(5)\n",
    "```\n",
    "\n",
    "Bottom-Up방식을 권장한다. 만약 재귀함수를 사용하는 Top-Bottom방식을 사용하다 보면 재귀 횟수 제한 오류가 걸릴 수 있기 때문이다.   \n",
    "\n",
    "#### DP 문제 조건\n",
    "- 최적 부분 구조\n",
    "큰 문제를 작은 문제로 나눌 수 있으며 작은 문제의 답을 모아서 큰 문제를 해결할 수 있다\n",
    "- 중복되는 부분 문제\n",
    "동일하게 반복되는 작은 문제로 해결해야 한다\n",
    "\n",
    "#### DP 문제 해결법\n",
    "- 주어진 문제가 dp 문제 유형이 맞는지 확인한다. 최종적으로 구할 큰 문제가 무엇인지 확인한다   \n",
    "- 작은 문제들과 큰 문제 사이의 관계를 점화식 형태로 나타내 보자\n",
    "- top-down 방식 혹은 bottom-up 방식을 통해 풀어나간다"
   ]
  },
  {
   "cell_type": "code",
   "execution_count": 19,
   "metadata": {},
   "outputs": [
    {
     "name": "stdout",
     "output_type": "stream",
     "text": [
      "14930352\n",
      "걸린시간 : 4.026633977890015\n"
     ]
    }
   ],
   "source": [
    "'''\n",
    "단순 재귀함수로 구현했을때는 x의 값이 커짐에 따라 연산 수행시간이 기하급수적으로 늘어난다 \n",
    "'''\n",
    "import time\n",
    "\n",
    "start = time.time()\n",
    "\n",
    "def fibo(x):\n",
    "    if x == 1 or x == 0:\n",
    "        return 1\n",
    "    else:\n",
    "        return fibo(x - 1) + fibo(x - 2)\n",
    "print(fibo(35))\n",
    "\n",
    "end = time.time()\n",
    "print('걸린시간 : {}'.format(end - start))"
   ]
  },
  {
   "cell_type": "code",
   "execution_count": 20,
   "metadata": {},
   "outputs": [
    {
     "name": "stdout",
     "output_type": "stream",
     "text": [
      "14930352\n",
      "걸린시간 : 0.0003669261932373047\n"
     ]
    }
   ],
   "source": [
    "import time\n",
    "\n",
    "start = time.time()\n",
    "\n",
    "dp = [0] *100 # 소문제 결과를 저장할 리스트\n",
    "dp[0] = 1\n",
    "dp[1] = 1\n",
    "\n",
    "def fib(n):\n",
    "    if dp[n] == 0:\n",
    "        dp[n] = fib(n - 1) + fib(n - 2)\n",
    "    return dp[n]\n",
    "\n",
    "print(fib(35))\n",
    "\n",
    "end = time.time()\n",
    "print('걸린시간 : {}'.format(end - start))"
   ]
  },
  {
   "cell_type": "code",
   "execution_count": 23,
   "metadata": {},
   "outputs": [
    {
     "name": "stdout",
     "output_type": "stream",
     "text": [
      "14930352\n",
      "걸린시간 : 0.0002856254577636719\n"
     ]
    }
   ],
   "source": [
    "import time\n",
    "\n",
    "start = time.time()\n",
    "\n",
    "def fib(n):\n",
    "    dp = [0] * (n + 1)\n",
    "    dp[0] = 1\n",
    "    dp[1] = 1\n",
    "    \n",
    "    for i in range(2, n + 1): # 작은 값부터 직접 계산하면서 진행한다\n",
    "        dp[i] = dp[i - 1] + dp[i - 2]\n",
    "    return dp[n]\n",
    "print(fib(35))\n",
    "\n",
    "end = time.time()\n",
    "print('걸린시간 : {}'.format(end - start))"
   ]
  },
  {
   "cell_type": "code",
   "execution_count": 30,
   "metadata": {},
   "outputs": [
    {
     "name": "stdout",
     "output_type": "stream",
     "text": [
      "10\n",
      "4\n"
     ]
    }
   ],
   "source": [
    "# 1463\n",
    "'''\n",
    "그리디로 풀면 안되는 이유\n",
    "그리디 알고리즘은 자신이 생각한 처음 최적의 방법이 끝까지 반례 없이 적용되어야 한다. 예를 들자면\n",
    "그리디로 풀면 큰 수로 처음부터 계속 나누는 것이 제일 빨리 1로 도달할 수 있어야 하지만\n",
    "이 문제는 처음부터 1을 빼고 10 - 9 - 3 - 1을 만드는 방법이 최솟값이다. 그렇기에 dp를\n",
    "이용해 문제를 풀어야 한다\n",
    "'''\n",
    "\n",
    "n = int(input())\n",
    "\n",
    "def interger(n):\n",
    "    cnt = 0\n",
    "    while True:\n",
    "        if n == 1:\n",
    "            return cnt\n",
    "        if n % 3 == 0:\n",
    "            n //= 3\n",
    "        elif n % 2 == 0:\n",
    "            n //= 2\n",
    "        else:\n",
    "            n -= 1\n",
    "        cnt += 1\n",
    "\n",
    "print(interger(n))\n",
    "    "
   ]
  },
  {
   "cell_type": "code",
   "execution_count": null,
   "metadata": {},
   "outputs": [],
   "source": [
    "n = int(input())\n",
    "d = [0] * (n + 1) # 0부터 시작하는 인덱스 값을 1부터 시작할 수 있게 하기 위해\n",
    "\n",
    "for i in range(2, n + 1): # "
   ]
  },
  {
   "cell_type": "code",
   "execution_count": null,
   "metadata": {},
   "outputs": [],
   "source": [
    "N = int(input())\n",
    "dp_list = [0,0,1,1] # 0 ,1, 2, 3 의 최소 수 미리 저장\n",
    "\n",
    "for i in range(4, N + 1) :\n",
    "    # 먼저 1을 뺏을 경우 나오는 경우의 수 저장\n",
    "    dp_list.append(dp_list[i-1] + 1)\n",
    "\n",
    "    #2로 나누어질 경우 기존 1을 뺏을 경우의 수와 비교하여 최솟값 저장\n",
    "    if i % 2 == 0 :\n",
    "        dp_list[i] = min(dp_list[i], dp_list[i//2] + 1)\n",
    "\n",
    "    #3으로 나누어질 경우 기존 1을 뺏을 경우의 수와 비교하여 최솟값 저장\n",
    "    #여기서 2 또는 3으로 나누어질 경우 모든 경우를 봐야하므로 elif가 아닌 if로 설정\n",
    "    if i % 3 == 0 :\n",
    "        dp_list[i] = min(dp_list[i], dp_list[i//3] + 1)\n",
    "\n",
    "print(dp_list[-1])"
   ]
  },
  {
   "cell_type": "code",
   "execution_count": null,
   "metadata": {},
   "outputs": [],
   "source": [
    "n = int(input())\n",
    "\n",
    "dp = [0] * (n+1)\n",
    "\n",
    "for i in range(2, n+1):\n",
    "    dp[i] = dp[i-1] + 1\n",
    "\n",
    "    if i % 2 == 0:\n",
    "        dp[i] = min(dp[i], dp[i//2]+1)\n",
    "    if i % 3 == 0:\n",
    "        dp[i] = min(dp[i], dp[i//3] + 1)\n",
    "\n",
    "print(dp[n])"
   ]
  },
  {
   "cell_type": "code",
   "execution_count": null,
   "metadata": {},
   "outputs": [],
   "source": [
    "연산에 우선순위를 두는 것은 소용이 없다\n",
    "10이라는 입력에 대해 올바른 출력을 위해 1을 빼는 것을 우선 순위로 처리한다면\n"
   ]
  },
  {
   "cell_type": "code",
   "execution_count": null,
   "metadata": {},
   "outputs": [],
   "source": [
    "n = int(input())\n",
    "d = [0] * (n + 1)\t## d에 계산된 값을 저장해둔다. n + 1이라고 한 이유는, 1번째 수는 사실 d[1]이 아니고 d[2]이기 때문에, 계산하기 편하게 d[1]을 1번째 인 것 처럼 만들어준다.\n",
    "\n",
    "for i in range(2, n + 1):\n",
    "## 여기서 왜 if 1빼는 방법, 2 나누기, 3 나누기 동등하게 하지 않고 처음에 1을 빼고 시작하는지 의아해 할 수 있다.\n",
    "## 1을 빼고 시작하는 이유는 다음에 계산할 나누기가 1을 뺀 값보다 작거나 큼에 따라 어차피 교체되기 때문이다.\n",
    "## 즉 셋 다 시도하는 방법이 맞다.\n",
    "\n",
    "## 여기서 if elif else를 사용하면 안된다. if만 이용해야 세 연산을 다 거칠 수 있다, 가끔 if continue, else continue를 쓰는 분도 계신데, 난 이게 편한듯.\n",
    "    d[i] = d[i - 1] + 1\n",
    "    if i % 3 == 0:\n",
    "        d[i] = min(d[i], d[i // 3] + 1)\t## 1을 더하는 것은 d는 결과가 아닌 계산한 횟수를 저장하는 것 이기 때문이다. d[i]에는 더하지 않는 이유는 이미 1을 뺄 때 1을 더해준 이력이 있기 때문이다.\n",
    "    if i % 2 == 0:\n",
    "        d[i] = min(d[i], d[i // 2] + 1)\n",
    "print(d[n])"
   ]
  },
  {
   "cell_type": "code",
   "execution_count": 32,
   "metadata": {},
   "outputs": [
    {
     "name": "stdout",
     "output_type": "stream",
     "text": [
      "10\n",
      "3\n"
     ]
    }
   ],
   "source": [
    "n = int(input())\n",
    "d = [0] * (n + 1)\n",
    "\n",
    "for i in range(2, n + 1):\n",
    "    d[i] = d[i - 1] + 1\n",
    "    \n",
    "    if i % 3 == 0:\n",
    "        d[i] = min(d[i], d[i // 3] + 1)\n",
    "    if i % 2 == 0:\n",
    "        d[i] = min(d[i], d[i // 2] + 1)\n",
    "print(d[n])"
   ]
  },
  {
   "cell_type": "code",
   "execution_count": null,
   "metadata": {},
   "outputs": [],
   "source": [
    "#### 11726"
   ]
  },
  {
   "cell_type": "code",
   "execution_count": null,
   "metadata": {},
   "outputs": [],
   "source": []
  },
  {
   "cell_type": "code",
   "execution_count": null,
   "metadata": {},
   "outputs": [],
   "source": []
  },
  {
   "cell_type": "code",
   "execution_count": null,
   "metadata": {},
   "outputs": [],
   "source": []
  },
  {
   "cell_type": "code",
   "execution_count": null,
   "metadata": {},
   "outputs": [],
   "source": []
  },
  {
   "cell_type": "code",
   "execution_count": null,
   "metadata": {},
   "outputs": [],
   "source": []
  },
  {
   "cell_type": "code",
   "execution_count": null,
   "metadata": {},
   "outputs": [],
   "source": []
  },
  {
   "cell_type": "code",
   "execution_count": null,
   "metadata": {},
   "outputs": [],
   "source": []
  },
  {
   "cell_type": "code",
   "execution_count": null,
   "metadata": {},
   "outputs": [],
   "source": []
  },
  {
   "cell_type": "code",
   "execution_count": null,
   "metadata": {},
   "outputs": [],
   "source": []
  }
 ],
 "metadata": {
  "kernelspec": {
   "display_name": "Python 3",
   "language": "python",
   "name": "python3"
  },
  "language_info": {
   "codemirror_mode": {
    "name": "ipython",
    "version": 3
   },
   "file_extension": ".py",
   "mimetype": "text/x-python",
   "name": "python",
   "nbconvert_exporter": "python",
   "pygments_lexer": "ipython3",
   "version": "3.7.3"
  }
 },
 "nbformat": 4,
 "nbformat_minor": 2
}
