{
 "cells": [
  {
   "cell_type": "code",
   "execution_count": 2,
   "metadata": {},
   "outputs": [
    {
     "name": "stdout",
     "output_type": "stream",
     "text": [
      "10\n",
      "3\n"
     ]
    }
   ],
   "source": [
    "# 1463\n",
    "\n",
    "n = int(input())\n",
    "dp = [0] * (n + 1)\n",
    "\n",
    "for i in range(2, n + 1):\n",
    "    dp[i] = dp[i - 1] + 1 # 1을 먼저 뺀다\n",
    "    if i % 3 == 0:\n",
    "        dp[i] = min(dp[i], dp[i // 3] + 1) # 1뺀것보다 3으로 나눈게 더 작으면 3으로 나누어진다\n",
    "    if i % 2 == 0:\n",
    "        dp[i] = min(dp[i], dp[i // 2] + 1) # 1뺀것보다 2로 나눈게 더 작으면 2로 나누어진다\n",
    "print(dp[n])"
   ]
  },
  {
   "cell_type": "markdown",
   "metadata": {},
   "source": [
    "#### 11726번 설명\n",
    "\n",
    "만약 입력을 1,2,3,4,5를 넣으면 각각 1,2,3,5,8이 나온다. 2*n 타일링을 할때 선택할 수 있는 두가지 경우의 수가 있다. 하나는 | 다른 하나는 = 이다. |는 가로크기 1 , =는 가로크기 2이다. 가로 길이가 n일때 (ex-5) 맨 끝에는 |나 =가 온다. 맨끝에 |가 온다면 n - 1의 가로 길이를 가진 2 * n 타일의 경우의 수를 가지게 된다, 맨끝에 =가 온다면, n-2의 가로길이를 가진 2*n 타일의 경우의 수를 가지게 된다. 이는 다른 타일들도 마찬가지이다. f(n) = f(n - 1) + f(n - 2).... 이런식으로 2 * n 타일의 수는 피보나치 수와 완전히 일치하게 된다"
   ]
  },
  {
   "cell_type": "code",
   "execution_count": 4,
   "metadata": {},
   "outputs": [
    {
     "name": "stdout",
     "output_type": "stream",
     "text": [
      "9\n",
      "55\n"
     ]
    }
   ],
   "source": [
    "# 11726\n",
    "\n",
    "n = int(input())\n",
    "dp = [0, 1, 2]\n",
    "for i in range(3, n +1):\n",
    "    dp.append(dp[i - 1] + dp[i - 2])\n",
    "print(dp[n] %10007)"
   ]
  },
  {
   "cell_type": "code",
   "execution_count": 11,
   "metadata": {},
   "outputs": [
    {
     "name": "stdout",
     "output_type": "stream",
     "text": [
      "9\n",
      "55\n"
     ]
    }
   ],
   "source": [
    "n = int(input())\n",
    "dp = [0, 1, 2] + [0] * n\n",
    "for i in range(3, n + 1):\n",
    "    dp[i] = dp[i - 1] + dp[i - 2]\n",
    "print(dp[n] % 10007)"
   ]
  },
  {
   "cell_type": "code",
   "execution_count": null,
   "metadata": {},
   "outputs": [],
   "source": []
  }
 ],
 "metadata": {
  "kernelspec": {
   "display_name": "Python 3",
   "language": "python",
   "name": "python3"
  },
  "language_info": {
   "codemirror_mode": {
    "name": "ipython",
    "version": 3
   },
   "file_extension": ".py",
   "mimetype": "text/x-python",
   "name": "python",
   "nbconvert_exporter": "python",
   "pygments_lexer": "ipython3",
   "version": "3.7.3"
  }
 },
 "nbformat": 4,
 "nbformat_minor": 2
}
