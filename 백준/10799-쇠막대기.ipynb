{
 "cells": [
  {
   "cell_type": "code",
   "execution_count": 5,
   "metadata": {},
   "outputs": [
    {
     "name": "stdout",
     "output_type": "stream",
     "text": [
      "(())))\n",
      "4\n"
     ]
    }
   ],
   "source": [
    "# 다시풀어보기\n",
    "word = input()\n",
    "sum_ = 0\n",
    "num = 0\n",
    "\n",
    "for i in range(len(word)):\n",
    "    if word[i] == '(':\n",
    "        num+=1\n",
    "    elif word[i] ==')':\n",
    "        num-=1\n",
    "        if word[i-1] =='(':\n",
    "            sum_+=num\n",
    "        else:\n",
    "            sum_+=1\n",
    "print(sum_)\n"
   ]
  }
 ],
 "metadata": {
  "kernelspec": {
   "display_name": "Python 3",
   "language": "python",
   "name": "python3"
  },
  "language_info": {
   "codemirror_mode": {
    "name": "ipython",
    "version": 3
   },
   "file_extension": ".py",
   "mimetype": "text/x-python",
   "name": "python",
   "nbconvert_exporter": "python",
   "pygments_lexer": "ipython3",
   "version": "3.7.3"
  }
 },
 "nbformat": 4,
 "nbformat_minor": 2
}
