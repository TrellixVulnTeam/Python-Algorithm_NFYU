{
 "cells": [
  {
   "cell_type": "code",
   "execution_count": 3,
   "metadata": {},
   "outputs": [
    {
     "name": "stdout",
     "output_type": "stream",
     "text": [
      "14\n",
      "push 1\n",
      "push 2\n",
      "top\n",
      "2\n",
      "size\n",
      "2\n",
      "empty\n",
      "0\n",
      "pop\n",
      "2\n",
      "pop\n",
      "1\n",
      "pop\n",
      "-1\n",
      "size\n",
      "0\n",
      "empty\n",
      "1\n",
      "pop\n",
      "-1\n",
      "push 3\n",
      "empty\n",
      "0\n",
      "top\n",
      "3\n"
     ]
    }
   ],
   "source": [
    "import sys\n",
    "\n",
    "\n",
    "def push(num):\n",
    "    return stack_list.append(num)\n",
    "\n",
    "\n",
    "def pop():\n",
    "    if not stack_list:\n",
    "        return print(-1)\n",
    "    num = stack_list.pop()\n",
    "    return print(num)\n",
    "\n",
    "\n",
    "def size():\n",
    "    return print(len(stack_list))\n",
    "\n",
    "\n",
    "def empty():\n",
    "    if not stack_list:\n",
    "        return print(1)\n",
    "    return print(0)\n",
    "\n",
    "\n",
    "def top():\n",
    "    if not stack_list:\n",
    "        return print(-1)\n",
    "    return print(stack_list[-1])\n",
    "\n",
    "\n",
    "num = int(sys.stdin.readline())\n",
    "stack_list = []\n",
    "\n",
    "for _ in range(num):\n",
    "    com = \n",
    "    if com[0] == 'push':\n",
    "        push(int(com[1]))\n",
    "    if com[0] == 'pop':\n",
    "        pop()\n",
    "    if com[0] == 'size':\n",
    "        size()\n",
    "    if com[0] == 'empty':\n",
    "        empty()\n",
    "    if com[0] == 'top':\n",
    "        top()\n",
    "    "
   ]
  }
 ],
 "metadata": {
  "kernelspec": {
   "display_name": "Python 3",
   "language": "python",
   "name": "python3"
  },
  "language_info": {
   "codemirror_mode": {
    "name": "ipython",
    "version": 3
   },
   "file_extension": ".py",
   "mimetype": "text/x-python",
   "name": "python",
   "nbconvert_exporter": "python",
   "pygments_lexer": "ipython3",
   "version": "3.7.3"
  }
 },
 "nbformat": 4,
 "nbformat_minor": 2
}
