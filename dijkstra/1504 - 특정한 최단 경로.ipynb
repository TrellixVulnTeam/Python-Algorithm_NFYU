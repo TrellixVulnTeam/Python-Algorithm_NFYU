{
 "cells": [
  {
   "cell_type": "code",
   "execution_count": null,
   "id": "b62fea69",
   "metadata": {},
   "outputs": [],
   "source": [
    "import heapq\n",
    "\n",
    "INF = int(1e9)\n",
    "n, e = map(int, input().split())\n",
    "graph = [[] for _ in range(n + 1)]\n",
    "\n",
    "for _ in range(e):\n",
    "    a, b, c = map(int,input().split())\n",
    "    graph[a].append((b, c))\n",
    "    graph[b].append((a, c))\n",
    "v1, v2 = map(int, input().split())\n",
    "\n",
    "\n",
    "\n",
    "def dijkstra(start):\n",
    "    distance = [INF] * (n + 1)\n",
    "    q = []\n",
    "    heapq.heappush(q, (0, start)) # dist, node\n",
    "    distance[start] = 0\n",
    "    while q:\n",
    "        dist, node = heapq.heappop(q)\n",
    "        \n",
    "        if dist > distance[node]:\n",
    "            continue\n",
    "            \n",
    "        for i in graph[node]:\n",
    "            cost = dist + i[1]\n",
    "            \n",
    "            if distance[i[0]] > cost:\n",
    "                distance[i[0]] = cost\n",
    "                heapq.heappush(q, (cost, i[0]))\n",
    "    \n",
    "    return distance\n",
    "                \n",
    "\n",
    "from_one = dijkstra(1) # 1 ~ v1 or 1~v2\n",
    "from_v1 = dijkstra(v1) # v1 ~ v2\n",
    "from_v2 = dijkstra(v2) # v2 ~ v1\n",
    "\n",
    "\n",
    "cand1 = from_one[v1] + from_v1[v2] + from_v2[n]\n",
    "cand2 = from_one[v2] + from_v2[v1] + from_v1[n]\n",
    "ans = min(cand1, cand2)\n",
    "\n",
    "print(ans if ans < INF else -1)\n",
    "\n"
   ]
  }
 ],
 "metadata": {
  "kernelspec": {
   "display_name": "Python 3 (ipykernel)",
   "language": "python",
   "name": "python3"
  },
  "language_info": {
   "codemirror_mode": {
    "name": "ipython",
    "version": 3
   },
   "file_extension": ".py",
   "mimetype": "text/x-python",
   "name": "python",
   "nbconvert_exporter": "python",
   "pygments_lexer": "ipython3",
   "version": "3.8.10"
  }
 },
 "nbformat": 4,
 "nbformat_minor": 5
}
