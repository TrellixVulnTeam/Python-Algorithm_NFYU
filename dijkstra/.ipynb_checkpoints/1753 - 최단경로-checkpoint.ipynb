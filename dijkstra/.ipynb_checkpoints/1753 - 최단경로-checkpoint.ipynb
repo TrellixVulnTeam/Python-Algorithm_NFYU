{
 "cells": [
  {
   "cell_type": "code",
   "execution_count": null,
   "id": "1fe80c38",
   "metadata": {},
   "outputs": [],
   "source": [
    "import heapq\n",
    "import sys\n",
    "\n",
    "INF = int(1e9)\n",
    "\n",
    "n, m = map(int, sys.stdin.readline().split())\n",
    "start = int(input())\n",
    "graph = [[] for i in range(n + 1)]\n",
    "distance = [INF] * (n + 1)\n",
    "\n",
    "for _ in range(m):\n",
    "    a, b, c = map(int, sys.stdin.readline().split())\n",
    "    graph[a].append((b, c))\n",
    "    \n",
    "    \n",
    "def dijkstra(start):\n",
    "    q = []\n",
    "    heapq.heappush(q, (0, start)) # 출발노드까지의 거리가 0이도록 처음에 설정한다\n",
    "    distance[start] = 0\n",
    "    \n",
    "    while q:\n",
    "        dist, node = heapq.heappop(q) # q안에서 가장 최단 거리가 짧은 노드와 거리를 꺼낸다\n",
    "        if distance[node] < dist: # 현재 꺼낸 노드의 거리값이 테이블에 기록되어 있는 값보다 크다면 이미 처리된것으로 간주 \n",
    "            continue\n",
    "        for i in graph[node]: # 현재 우선순위 큐에서 꺼낸 노드를 기준으로 해당 노드를 거쳐가는 경우를 확인하면 된다\n",
    "            cost = dist + i[1] # i[0]은 인접한 노드를 말하고 i[1]은 거리값을 말한다\n",
    "                               # 현재확인하고 있는 노드까지의 거리값 Dist에 그 노드와 인접한 다른 노드까지의 거리를 더한 값을 cost에 담는다 \n",
    "            \n",
    "            if cost < distance[i[0]]: # 현재 노드를 거쳐서 다른 노드로 이동하는 거리가 더 짧을 경우 \n",
    "                distance[i[0]] = cost # 현재 인접한 거리값distance[i[0]]보다 cost값이 더 작은경우 업데이트 해준다\n",
    "                heapq.heappush(q, (cost, i[0])) # 값이 갱신될때마다 우선순위 큐에 해당 정보를 담아준다\n",
    "                \n",
    "\n",
    "dijkstra(start)\n",
    "\n",
    "for i in range(1, n + 1):\n",
    "    if distance[i] == INF:\n",
    "        print('INF')\n",
    "    else:\n",
    "        print(distance[i])\n",
    "    "
   ]
  }
 ],
 "metadata": {
  "kernelspec": {
   "display_name": "Python 3 (ipykernel)",
   "language": "python",
   "name": "python3"
  },
  "language_info": {
   "codemirror_mode": {
    "name": "ipython",
    "version": 3
   },
   "file_extension": ".py",
   "mimetype": "text/x-python",
   "name": "python",
   "nbconvert_exporter": "python",
   "pygments_lexer": "ipython3",
   "version": "3.8.10"
  }
 },
 "nbformat": 4,
 "nbformat_minor": 5
}
