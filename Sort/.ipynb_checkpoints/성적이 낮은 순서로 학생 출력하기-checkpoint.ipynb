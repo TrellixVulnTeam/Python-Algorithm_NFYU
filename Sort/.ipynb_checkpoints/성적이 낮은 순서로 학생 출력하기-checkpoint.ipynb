{
 "cells": [
  {
   "cell_type": "code",
   "execution_count": null,
   "metadata": {},
   "outputs": [],
   "source": [
    "\n",
    "n = int(input())\n",
    "\n",
    "n_dict = {}\n",
    "for _ in range(n):\n",
    "    name = input()\n",
    "    score = int(input())\n",
    "    n_dict[name] = score\n",
    "sort_dict = sorted(n_dict.items(), key = lambda item: item[1])\n",
    "\n",
    "for name in sort_dict:\n",
    "    print(name[0], end=' ')\n"
   ]
  },
  {
   "cell_type": "code",
   "execution_count": null,
   "metadata": {},
   "outputs": [],
   "source": [
    "n = int(input())\n",
    "\n",
    "n_list = []\n",
    "for i in range(n):\n",
    "    n_list.append([input(), int(input())])\n",
    "sort_list = sorted(n_list, key = lambda item: item[1])\n",
    "\n",
    "for name in sort_list:\n",
    "    print(name[0], end=' ')"
   ]
  },
  {
   "cell_type": "code",
   "execution_count": null,
   "metadata": {},
   "outputs": [],
   "source": [
    "n_list = [[input(), int(input())] for i in range(int(input()))]\n",
    "print(' '.join(name[0] for name in sorted(n_list, key = lambda item: item[1])))"
   ]
  }
 ],
 "metadata": {
  "kernelspec": {
   "display_name": "Python 3",
   "language": "python",
   "name": "python3"
  },
  "language_info": {
   "codemirror_mode": {
    "name": "ipython",
    "version": 3
   },
   "file_extension": ".py",
   "mimetype": "text/x-python",
   "name": "python",
   "nbconvert_exporter": "python",
   "pygments_lexer": "ipython3",
   "version": "3.7.3"
  }
 },
 "nbformat": 4,
 "nbformat_minor": 2
}
