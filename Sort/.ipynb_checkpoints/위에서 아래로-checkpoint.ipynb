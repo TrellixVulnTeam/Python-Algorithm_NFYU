{
 "cells": [
  {
   "cell_type": "code",
   "execution_count": null,
   "metadata": {},
   "outputs": [],
   "source": [
    "# 조건에서 수의 개수가 500개 이하로 매우 적기 때문에 가장 코드가 간결해질 수 있는 기본 정렬 라이브러리를 이용하는 것이 효과적 \n",
    "n = int(input())\n",
    "num_list = []\n",
    "for _ in range(n):\n",
    "    num_list.append(int(input()))\n",
    "num_list.sort(reverse=True)\n",
    "for i in num_list:\n",
    "    print(i,end=' ')"
   ]
  }
 ],
 "metadata": {
  "kernelspec": {
   "display_name": "Python 3",
   "language": "python",
   "name": "python3"
  },
  "language_info": {
   "codemirror_mode": {
    "name": "ipython",
    "version": 3
   },
   "file_extension": ".py",
   "mimetype": "text/x-python",
   "name": "python",
   "nbconvert_exporter": "python",
   "pygments_lexer": "ipython3",
   "version": "3.7.3"
  }
 },
 "nbformat": 4,
 "nbformat_minor": 2
}
