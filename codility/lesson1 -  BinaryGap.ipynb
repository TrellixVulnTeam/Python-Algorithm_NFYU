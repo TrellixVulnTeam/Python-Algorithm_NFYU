{
 "cells": [
  {
   "cell_type": "markdown",
   "metadata": {},
   "source": [
    "```python\n",
    "def solution(N):\n",
    "    binary1 = N.lstrip('2').split('1') # left 문자열 왼쪽기준으로 2라는 문자열 앞에 있는 데이터만 처리 + split()로 1을 기준으로 문자열 자름\n",
    "    binary2 = N.rstrip('2').split('1') # right 문자열 오른쪽 기준으로 2라는 문자열 오른쪽에 있는 데이터만 처리 + split()로 문자열 자름\n",
    "    binary3 = N.strip('2').split('1') # 2라는 문자열 양쪽을 기준으로 2라는 문자열 양쪽에 있는 데이터 처리\n",
    "    print(binary1)\n",
    "    print(binary2)\n",
    "    print(binary3)\n",
    "\n",
    "\n",
    "solution('12222122')\n",
    "```\n",
    "답:   \n",
    "['', '2222', '22']   \n",
    "['', '2222', '']   \n",
    "['', '2222', '']   \n",
    "```\n",
    "```\n"
   ]
  },
  {
   "cell_type": "code",
   "execution_count": 4,
   "metadata": {
    "scrolled": true
   },
   "outputs": [
    {
     "data": {
      "text/plain": [
       "5"
      ]
     },
     "execution_count": 4,
     "metadata": {},
     "output_type": "execute_result"
    }
   ],
   "source": [
    "def solution(N):\n",
    "    binary_n = (bin(N)[2:]).strip('0').split('1')\n",
    "    return len(max(binary_n))\n",
    "\n",
    "solution(1041)"
   ]
  }
 ],
 "metadata": {
  "kernelspec": {
   "display_name": "Python 3 (ipykernel)",
   "language": "python",
   "name": "python3"
  },
  "language_info": {
   "codemirror_mode": {
    "name": "ipython",
    "version": 3
   },
   "file_extension": ".py",
   "mimetype": "text/x-python",
   "name": "python",
   "nbconvert_exporter": "python",
   "pygments_lexer": "ipython3",
   "version": "3.8.10"
  }
 },
 "nbformat": 4,
 "nbformat_minor": 2
}
