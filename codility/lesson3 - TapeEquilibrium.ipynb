{
 "cells": [
  {
   "cell_type": "code",
   "execution_count": null,
   "id": "d01c982c",
   "metadata": {},
   "outputs": [],
   "source": [
    "# O(N * N)\n",
    "\n",
    "def solution(A):\n",
    "    a_sum, p_sum = 0, 0\n",
    "    cand = []\n",
    "    for i in range(1, len(A)):\n",
    "        for k in range(i):\n",
    "            a_sum += A[k]\n",
    "        for j in range(i, len(A)):\n",
    "            p_sum += A[j]\n",
    "        cand.append(abs(a_sum - p_sum))\n",
    "        a_sum, p_sum = 0, 0\n",
    "    return min(cand)\n",
    "            "
   ]
  },
  {
   "cell_type": "code",
   "execution_count": null,
   "id": "cc5f30c0",
   "metadata": {},
   "outputs": [],
   "source": [
    "# O(N * N)\n",
    "# list slice 후 sum()을 통해서 합계를 구하는 부분이 o(n^2)의 시간복잡도를 갖는다\n",
    "\n",
    "def solution(A):\n",
    "    cand = []\n",
    "    for i in range(1, len(A)):\n",
    "        a_sum, p_sum = 0, 0\n",
    "        a_sum = sum(A[0:i])\n",
    "        p_sum = sum(A[i:])\n",
    "        \n",
    "        cand.append(abs(a_sum - p_sum))\n",
    "        \n",
    "    return min(cand)"
   ]
  },
  {
   "cell_type": "code",
   "execution_count": null,
   "id": "0fdc01f0",
   "metadata": {},
   "outputs": [],
   "source": [
    "#  O(N * N)\n",
    "def solution(A):\n",
    "    m = 100000\n",
    "    for i in range(1, len(A)):\n",
    "        a_sum, p_sum = 0, 0\n",
    "        a_sum = sum(A[0:i])\n",
    "        p_sum = sum(A[i:])\n",
    "        print(a_sum, p_sum)\n",
    "        if m > abs(a_sum - p_sum):\n",
    "            m = abs(a_sum - p_sum)\n",
    "        \n",
    "    return m"
   ]
  },
  {
   "cell_type": "markdown",
   "id": "06c64ea7",
   "metadata": {},
   "source": [
    "- list slice를 사용하지 않는다\n",
    "- m 에 None을 담아서 시작\n",
    "- A[i - 1]은 For문을 통해서 구한다\n",
    "- A[P] ~ A[N - 1]은 sum(A)에서 A[i - 1]을 빼서 구한다"
   ]
  },
  {
   "cell_type": "code",
   "execution_count": null,
   "id": "14493b52",
   "metadata": {},
   "outputs": [],
   "source": [
    "# o(n)\n",
    "\n",
    "def solution(A):\n",
    "    a_sum = 0\n",
    "    p_sum = sum(A)\n",
    "    m = None\n",
    "    \n",
    "    for i in range(1, len(A)):\n",
    "        a_sum += A[i - 1]\n",
    "        p_sum -= A[i - 1]\n",
    "        diff = abs(a_sum - p_sum)\n",
    "        if m == None:\n",
    "            m = diff\n",
    "        else:\n",
    "            m = min(m, diff)\n",
    "    \n",
    "    return m\n",
    "        \n",
    "        \n",
    "solution([1, 2, 3, 4, 2] )"
   ]
  }
 ],
 "metadata": {
  "kernelspec": {
   "display_name": "Python 3 (ipykernel)",
   "language": "python",
   "name": "python3"
  },
  "language_info": {
   "codemirror_mode": {
    "name": "ipython",
    "version": 3
   },
   "file_extension": ".py",
   "mimetype": "text/x-python",
   "name": "python",
   "nbconvert_exporter": "python",
   "pygments_lexer": "ipython3",
   "version": "3.8.10"
  }
 },
 "nbformat": 4,
 "nbformat_minor": 5
}
