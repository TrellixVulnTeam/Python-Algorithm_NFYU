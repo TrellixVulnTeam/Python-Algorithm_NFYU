{
 "cells": [
  {
   "cell_type": "code",
   "execution_count": null,
   "id": "31d8c528",
   "metadata": {},
   "outputs": [],
   "source": [
    "# error 0%\n",
    "\n",
    "def solution(A):\n",
    "    A.sort()\n",
    "    res = 0\n",
    "    for i,v in enumerate(A):\n",
    "        if (i + 1) != v:\n",
    "            res = i + 1\n",
    "    return res or 1\n",
    "solution([2,3,1,5])"
   ]
  },
  {
   "cell_type": "code",
   "execution_count": null,
   "id": "573c6d49",
   "metadata": {},
   "outputs": [],
   "source": [
    "# error 0%\n",
    "# sort한 이유가 A의 값과 A의 인덱스 값(인덱스 + 1)을 비교했을때 서로 같지 않으면\n",
    "# 해당 값이 miss된 값이기 때문에 not in A가 아니라 인덱스 +1 != A[i]를 비교해야 한다\n",
    "# 이후 for문을 통해 값이 Return되지 않으면 원래 A의 LEN값에 +1을 해준 값을 리턴해야 한다\n",
    "\n",
    "def solution(A):\n",
    "    A.sort()\n",
    "    arr = [i for i in range(1, len(A) + 1)]\n",
    "    \n",
    "    for i in arr: \n",
    "        if i not in A:\n",
    "            return i\n",
    "        \n",
    "solution([2,3,5,1])"
   ]
  },
  {
   "cell_type": "code",
   "execution_count": null,
   "id": "b29bd5f2",
   "metadata": {},
   "outputs": [],
   "source": [
    "# 성공\n",
    "\n",
    "def solution(A):\n",
    "    A.sort()\n",
    "    arr = [i for i in range(1, len(A) + 1)]\n",
    "    \n",
    "    for i in range(len(arr)): \n",
    "        if arr[i] != A[i]:\n",
    "            return arr[i]\n",
    "    return len(A) + 1\n",
    "        \n",
    "solution([2,3,5,1])"
   ]
  },
  {
   "cell_type": "code",
   "execution_count": null,
   "id": "fe19ed1b",
   "metadata": {},
   "outputs": [],
   "source": [
    "# 성공 O(N) or O(N * log(N))\n",
    "\n",
    "def solution(A):\n",
    "    return 1 if not A else sum([i for i in range(1, len(A) + 2)]) - sum(A) \n",
    "\n",
    "solution([2, 3, 1, 5])"
   ]
  },
  {
   "cell_type": "code",
   "execution_count": null,
   "id": "faa3d76c",
   "metadata": {
    "scrolled": true
   },
   "outputs": [],
   "source": [
    "# 성공 O(N) or O(N * log(N))\n",
    "\n",
    "def solution(A):\n",
    "    A.sort()\n",
    "    \n",
    "    for i in range(1, len(A) + 1):\n",
    "        if i != A[i - 1]:\n",
    "            return i\n",
    "    return len(A) + 1\n",
    "\n",
    "solution([2, 3, 1, 5])"
   ]
  }
 ],
 "metadata": {
  "kernelspec": {
   "display_name": "Python 3 (ipykernel)",
   "language": "python",
   "name": "python3"
  },
  "language_info": {
   "codemirror_mode": {
    "name": "ipython",
    "version": 3
   },
   "file_extension": ".py",
   "mimetype": "text/x-python",
   "name": "python",
   "nbconvert_exporter": "python",
   "pygments_lexer": "ipython3",
   "version": "3.8.10"
  }
 },
 "nbformat": 4,
 "nbformat_minor": 5
}
