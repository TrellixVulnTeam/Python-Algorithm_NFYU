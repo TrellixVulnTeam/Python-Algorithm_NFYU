{
 "cells": [
  {
   "cell_type": "code",
   "execution_count": 82,
   "id": "ae65138b",
   "metadata": {},
   "outputs": [
    {
     "data": {
      "text/plain": [
       "0"
      ]
     },
     "execution_count": 82,
     "metadata": {},
     "output_type": "execute_result"
    }
   ],
   "source": [
    "# 테스트 케이스 시간초과 66%\n",
    "def solution(A):\n",
    "    cand = []\n",
    "    dic = {}\n",
    "    for i in A:\n",
    "        if i in dic:\n",
    "            dic[i] += 1\n",
    "        else:\n",
    "            dic[i] = 1\n",
    "    \n",
    "    for k, v in dic.items():\n",
    "        if v < 2:\n",
    "            cand.append(k)\n",
    "    return cand[0] if cand else 0\n",
    "   \n",
    "\n",
    "solution([])"
   ]
  },
  {
   "cell_type": "code",
   "execution_count": 90,
   "id": "fd9b6147",
   "metadata": {},
   "outputs": [
    {
     "data": {
      "text/plain": [
       "7"
      ]
     },
     "execution_count": 90,
     "metadata": {},
     "output_type": "execute_result"
    }
   ],
   "source": [
    "# 테스트 케이스 시간초과 66%\n",
    "\n",
    "from collections import Counter\n",
    "\n",
    "\n",
    "def solution(A):\n",
    "    cand = []\n",
    "    ans = []\n",
    "    cand = Counter(A)\n",
    "    for k, v in cand.items():\n",
    "        if v < 2:\n",
    "            ans.append(k)\n",
    "    return ans[0] if ans else A\n",
    "solution([9, 3, 9, 3, 9, 7, 9])"
   ]
  },
  {
   "cell_type": "code",
   "execution_count": 102,
   "id": "62ca090d",
   "metadata": {},
   "outputs": [
    {
     "data": {
      "text/plain": [
       "7"
      ]
     },
     "execution_count": 102,
     "metadata": {},
     "output_type": "execute_result"
    }
   ],
   "source": [
    "# 통과\n",
    "from collections import Counter\n",
    "\n",
    "\n",
    "def solution(A):\n",
    "    cand = Counter(A)\n",
    "    for i, v in cand.items():\n",
    "        if v % 2 != 0:\n",
    "            return i\n",
    "solution([9, 3, 9, 3, 9, 7, 9])"
   ]
  },
  {
   "cell_type": "code",
   "execution_count": 105,
   "id": "f578bbdd",
   "metadata": {},
   "outputs": [
    {
     "name": "stdout",
     "output_type": "stream",
     "text": [
      "[1, 1, 2, 2, 3]\n"
     ]
    },
    {
     "data": {
      "text/plain": [
       "3"
      ]
     },
     "execution_count": 105,
     "metadata": {},
     "output_type": "execute_result"
    }
   ],
   "source": [
    "# 다른 사람 풀이1\n",
    "def test3(A):\n",
    "    if len(A) == 1:\n",
    "        return A[0]\n",
    "\n",
    "    A = sorted(A)\n",
    "    for i in range(0, len(A), 2):\n",
    "        if i+1 == len(A):\n",
    "            return A[i]\n",
    "        if A[i] != A[i+1]:\n",
    "            return A[i]\n",
    "\n",
    "test3([1,2,1,2,3])"
   ]
  },
  {
   "cell_type": "code",
   "execution_count": 112,
   "id": "aa6364ce",
   "metadata": {},
   "outputs": [
    {
     "data": {
      "text/plain": [
       "3"
      ]
     },
     "execution_count": 112,
     "metadata": {},
     "output_type": "execute_result"
    }
   ],
   "source": [
    "# 다른 사람 풀이2\n",
    "from functools import reduce\n",
    "\n",
    "def solution(A):\n",
    "  return reduce(lambda x,y: x^y, A)\n",
    "\n",
    "solution([1,2,1,2,3])"
   ]
  }
 ],
 "metadata": {
  "kernelspec": {
   "display_name": "Python 3 (ipykernel)",
   "language": "python",
   "name": "python3"
  },
  "language_info": {
   "codemirror_mode": {
    "name": "ipython",
    "version": 3
   },
   "file_extension": ".py",
   "mimetype": "text/x-python",
   "name": "python",
   "nbconvert_exporter": "python",
   "pygments_lexer": "ipython3",
   "version": "3.8.10"
  }
 },
 "nbformat": 4,
 "nbformat_minor": 5
}
