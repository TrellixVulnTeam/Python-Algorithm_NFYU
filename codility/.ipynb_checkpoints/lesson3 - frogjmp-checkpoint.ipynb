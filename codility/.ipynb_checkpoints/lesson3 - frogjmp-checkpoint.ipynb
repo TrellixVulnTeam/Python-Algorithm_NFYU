{
 "cells": [
  {
   "cell_type": "code",
   "execution_count": 8,
   "id": "38f6d0d9",
   "metadata": {
    "scrolled": true
   },
   "outputs": [
    {
     "name": "stdout",
     "output_type": "stream",
     "text": [
      "142730189\n"
     ]
    }
   ],
   "source": [
    "# 시간복잡도  O(Y-X) 시간초과\n",
    "# 내풀이 ,, 왜 더이상 아무런 생각이 나지 않는것인가\n",
    "\n",
    "def solution(X, Y, D):\n",
    "    cnt = 0\n",
    "    while X < Y:\n",
    "        X += D\n",
    "        cnt += 1\n",
    "    print(cnt)\n",
    "    \n",
    "solution(3, 999111321, 7)"
   ]
  },
  {
   "cell_type": "code",
   "execution_count": 12,
   "id": "a68c5760",
   "metadata": {},
   "outputs": [
    {
     "data": {
      "text/plain": [
       "142730189"
      ]
     },
     "execution_count": 12,
     "metadata": {},
     "output_type": "execute_result"
    }
   ],
   "source": [
    "# 시간복잡도 o(1)\n",
    "# 몫과 나머지를 이용함\n",
    "\n",
    "def solution(X, Y, D):\n",
    "    dis = Y - X\n",
    "    q = dis // D\n",
    "    m = dis % D\n",
    "    return q if m == 0 else q + 1\n",
    "\n",
    "solution(3, 999111321, 7)"
   ]
  },
  {
   "cell_type": "code",
   "execution_count": 14,
   "id": "6f6401b2",
   "metadata": {},
   "outputs": [
    {
     "data": {
      "text/plain": [
       "142730189"
      ]
     },
     "execution_count": 14,
     "metadata": {},
     "output_type": "execute_result"
    }
   ],
   "source": [
    "# divmod로 몫과 나머지를 구함\n",
    "\n",
    "def solution(X, Y, D):\n",
    "    dis = Y - X\n",
    "    div, mod = divmod(dis, D)\n",
    "    return div if mod == 0 else div + 1\n",
    "\n",
    "solution(3, 999111321, 7)"
   ]
  }
 ],
 "metadata": {
  "kernelspec": {
   "display_name": "Python 3 (ipykernel)",
   "language": "python",
   "name": "python3"
  },
  "language_info": {
   "codemirror_mode": {
    "name": "ipython",
    "version": 3
   },
   "file_extension": ".py",
   "mimetype": "text/x-python",
   "name": "python",
   "nbconvert_exporter": "python",
   "pygments_lexer": "ipython3",
   "version": "3.8.10"
  }
 },
 "nbformat": 4,
 "nbformat_minor": 5
}
