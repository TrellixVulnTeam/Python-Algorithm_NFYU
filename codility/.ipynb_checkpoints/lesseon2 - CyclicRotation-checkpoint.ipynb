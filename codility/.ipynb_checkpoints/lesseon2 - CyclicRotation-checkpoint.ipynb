{
 "cells": [
  {
   "cell_type": "markdown",
   "id": "94d6f7af",
   "metadata": {},
   "source": [
    "1. k번 arr인 A를 업데이트 시켜주어야 한다\n",
    "2. "
   ]
  },
  {
   "cell_type": "code",
   "execution_count": null,
   "id": "dc144aba",
   "metadata": {},
   "outputs": [],
   "source": [
    "def solution(A, K):\n",
    "    \n",
    "    if not A:\n",
    "        return []\n",
    "    \n",
    "    for i in range(K):\n",
    "        A.insert(0, A[len(A) - 1])\n",
    "        A.pop()\n",
    "    return A\n",
    "            \n",
    "    \n",
    "solution([], 1)"
   ]
  },
  {
   "cell_type": "code",
   "execution_count": null,
   "id": "30db7e6a",
   "metadata": {},
   "outputs": [],
   "source": [
    "# 다른 풀이 error [],0에 대한 처리 없음\n",
    "\n",
    "def solution(A, K):\n",
    "    if not A:\n",
    "        return []\n",
    "    \n",
    "    for i in range(K):\n",
    "        temp = A.pop(-1)\n",
    "        A.insert(0, temp)\n",
    "    return A\n",
    "\n",
    "solution([3, 8, 9, 7, 6], 3)"
   ]
  }
 ],
 "metadata": {
  "kernelspec": {
   "display_name": "Python 3 (ipykernel)",
   "language": "python",
   "name": "python3"
  },
  "language_info": {
   "codemirror_mode": {
    "name": "ipython",
    "version": 3
   },
   "file_extension": ".py",
   "mimetype": "text/x-python",
   "name": "python",
   "nbconvert_exporter": "python",
   "pygments_lexer": "ipython3",
   "version": "3.8.10"
  }
 },
 "nbformat": 4,
 "nbformat_minor": 5
}
