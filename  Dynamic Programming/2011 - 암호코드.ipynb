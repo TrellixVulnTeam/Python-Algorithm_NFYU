{
 "cells": [
  {
   "cell_type": "code",
   "execution_count": 7,
   "metadata": {},
   "outputs": [
    {
     "name": "stdout",
     "output_type": "stream",
     "text": [
      "25114\n",
      "6\n"
     ]
    }
   ],
   "source": [
    "n = list(map(int,input()))\n",
    "l = len(n)\n",
    "dp = [0 for _ in range(l+1)]\n",
    "if (n[0] == 0) :\n",
    "    print(\"0\")\n",
    "else :\n",
    "    n = [0] + n\n",
    "    dp[0]=dp[1]=1\n",
    "    for i in range(2, l+1):\n",
    "        if n[i] > 0:\n",
    "            dp[i] += dp[i-1]\n",
    "        temp = n[i-1] * 10 + n[i]\n",
    "        if temp >= 10 and temp <= 26 :\n",
    "            dp[i] += dp[i-2]\n",
    "    print(dp[l] % 1000000)\n",
    "    "
   ]
  }
 ],
 "metadata": {
  "kernelspec": {
   "display_name": "Python 3",
   "language": "python",
   "name": "python3"
  },
  "language_info": {
   "codemirror_mode": {
    "name": "ipython",
    "version": 3
   },
   "file_extension": ".py",
   "mimetype": "text/x-python",
   "name": "python",
   "nbconvert_exporter": "python",
   "pygments_lexer": "ipython3",
   "version": "3.7.3"
  }
 },
 "nbformat": 4,
 "nbformat_minor": 2
}
