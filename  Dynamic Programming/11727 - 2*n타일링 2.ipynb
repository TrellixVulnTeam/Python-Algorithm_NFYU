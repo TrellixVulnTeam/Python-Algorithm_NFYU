{
 "cells": [
  {
   "cell_type": "markdown",
   "metadata": {},
   "source": [
    "2 * n에 타일링할 수 있는 경우는 세가지가 존재한다\n",
    "- 2 * (n - 1) 만큼 타일링하고 2 * 1 타일을 붙인다\n",
    "- 2 * (n - 2) 만큼 타일링하고 1 * 2 타일을 두개 붙인다\n",
    "- 2 * (n - 2) 만큼 타일링하고 2 * 2 타일을 한개 붙인다"
   ]
  },
  {
   "cell_type": "code",
   "execution_count": null,
   "metadata": {},
   "outputs": [],
   "source": [
    "n = int(input())\n",
    "dp = [0, 1, 3]\n",
    "for i in range(3, n + 1):\n",
    "    dp.append(dp[i - 1] + dp[i - 2] * 2 % 10007)\n",
    "print(dp[n])"
   ]
  }
 ],
 "metadata": {
  "kernelspec": {
   "display_name": "Python 3",
   "language": "python",
   "name": "python3"
  },
  "language_info": {
   "codemirror_mode": {
    "name": "ipython",
    "version": 3
   },
   "file_extension": ".py",
   "mimetype": "text/x-python",
   "name": "python",
   "nbconvert_exporter": "python",
   "pygments_lexer": "ipython3",
   "version": "3.7.3"
  }
 },
 "nbformat": 4,
 "nbformat_minor": 2
}
