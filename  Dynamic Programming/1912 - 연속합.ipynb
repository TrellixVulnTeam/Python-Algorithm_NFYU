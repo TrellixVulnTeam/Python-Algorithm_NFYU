{
 "cells": [
  {
   "cell_type": "code",
   "execution_count": 56,
   "metadata": {},
   "outputs": [
    {
     "name": "stdout",
     "output_type": "stream",
     "text": [
      "5\n",
      "-1 -2 -3 -4 -5\n",
      "-1\n"
     ]
    }
   ],
   "source": [
    "# 왼쪽부터 더한값 vs 현재값\n",
    "# 현재까지의 최댓값 vs result값\n",
    "\n",
    "n = int(input())\n",
    "l_list = list(map(int, input().split()))\n",
    "dp = [0] * n\n",
    "result = -100\n",
    "# dp[0] = l_list[0]\n",
    "\n",
    "for i in range(n):\n",
    "    dp[i] = max(l_list[i], dp[i - 1] + l_list[i])\n",
    "    result = max(result, dp[i])\n",
    "print(max(dp))"
   ]
  }
 ],
 "metadata": {
  "kernelspec": {
   "display_name": "Python 3",
   "language": "python",
   "name": "python3"
  },
  "language_info": {
   "codemirror_mode": {
    "name": "ipython",
    "version": 3
   },
   "file_extension": ".py",
   "mimetype": "text/x-python",
   "name": "python",
   "nbconvert_exporter": "python",
   "pygments_lexer": "ipython3",
   "version": "3.7.3"
  }
 },
 "nbformat": 4,
 "nbformat_minor": 2
}
