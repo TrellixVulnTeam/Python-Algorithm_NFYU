{
 "cells": [
  {
   "cell_type": "code",
   "execution_count": 18,
   "metadata": {},
   "outputs": [
    {
     "name": "stdout",
     "output_type": "stream",
     "text": [
      "10\n",
      "1 5 2 1 4 3 4 5 2 1\n",
      "7\n"
     ]
    }
   ],
   "source": [
    "n = int(input())\n",
    "l_list = list(map(int, input().split()))\n",
    "dp_front = [1] * n\n",
    "dp_back = [1] * n\n",
    "\n",
    "for i in range(n):\n",
    "    for j in range(i):\n",
    "        if l_list[i] > l_list[j]:\n",
    "            dp_front[i] = max(dp_front[i], dp_front[j] + 1)\n",
    "            \n",
    "for i in range(n - 1, -1, -1):\n",
    "    for j in range(n - 1, i, -1):\n",
    "        if l_list[i] > l_list[j]:\n",
    "            dp_back[i] = max(dp_back[i], dp_back[j] + 1)\n",
    "        \n",
    "maxSum = 0\n",
    "for i in range(n):\n",
    "    for j in range(n):\n",
    "        if maxSum  < dp_front[j] + dp_back[j]:\n",
    "            maxSum = dp_front[j] + dp_back[j]\n",
    "print(maxSum - 1)"
   ]
  }
 ],
 "metadata": {
  "kernelspec": {
   "display_name": "Python 3",
   "language": "python",
   "name": "python3"
  },
  "language_info": {
   "codemirror_mode": {
    "name": "ipython",
    "version": 3
   },
   "file_extension": ".py",
   "mimetype": "text/x-python",
   "name": "python",
   "nbconvert_exporter": "python",
   "pygments_lexer": "ipython3",
   "version": "3.7.3"
  }
 },
 "nbformat": 4,
 "nbformat_minor": 2
}
