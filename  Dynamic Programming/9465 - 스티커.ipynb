{
 "cells": [
  {
   "cell_type": "code",
   "execution_count": null,
   "metadata": {},
   "outputs": [],
   "source": [
    "cnt = int(input())\n",
    "for i in range(cnt):\n",
    "    num = int(input())\n",
    "    n_table = [list(map(int, input().split())) for _ in range(2)]\n",
    "    if num == 1:\n",
    "        print(max(n_table[0][0], n_table[1][0]))\n",
    "    else:\n",
    "        n_table[0][1] += n_table[1][0]\n",
    "        n_table[1][1] += n_table[0][0]\n",
    "        for i in range(2, num):\n",
    "            n_table[0][i] += max(n_table[1][i - 1], n_table[1][i - 2])\n",
    "            n_table[1][i] += max(n_table[0][i - 1], n_table[0][i - 2])\n",
    "        print(max(n_table[0][num - 1], n_table[1][num - 1]))"
   ]
  }
 ],
 "metadata": {
  "kernelspec": {
   "display_name": "Python 3",
   "language": "python",
   "name": "python3"
  },
  "language_info": {
   "codemirror_mode": {
    "name": "ipython",
    "version": 3
   },
   "file_extension": ".py",
   "mimetype": "text/x-python",
   "name": "python",
   "nbconvert_exporter": "python",
   "pygments_lexer": "ipython3",
   "version": "3.7.3"
  }
 },
 "nbformat": 4,
 "nbformat_minor": 2
}
