{
 "cells": [
  {
   "cell_type": "code",
   "execution_count": 43,
   "metadata": {},
   "outputs": [
    {
     "name": "stdout",
     "output_type": "stream",
     "text": [
      "6\n",
      "41\n"
     ]
    }
   ],
   "source": [
    "# 다시 풀어보기\n",
    "n = int(input())\n",
    "dp = [0 for i in range(31)]\n",
    "dp[2] = 3\n",
    "for i in range(4, 31, 2):\n",
    "    dp[i] = dp[2] * dp[i - 2]\n",
    "    for j in range(4, i, 2):\n",
    "        dp[i] += 2 * dp[i - j]\n",
    "    dp[i] += 2\n",
    "print(dp[n])\n",
    "    "
   ]
  }
 ],
 "metadata": {
  "kernelspec": {
   "display_name": "Python 3",
   "language": "python",
   "name": "python3"
  },
  "language_info": {
   "codemirror_mode": {
    "name": "ipython",
    "version": 3
   },
   "file_extension": ".py",
   "mimetype": "text/x-python",
   "name": "python",
   "nbconvert_exporter": "python",
   "pygments_lexer": "ipython3",
   "version": "3.7.3"
  }
 },
 "nbformat": 4,
 "nbformat_minor": 2
}
