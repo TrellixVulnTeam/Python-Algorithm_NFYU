{
 "cells": [
  {
   "cell_type": "code",
   "execution_count": 16,
   "metadata": {},
   "outputs": [
    {
     "name": "stdout",
     "output_type": "stream",
     "text": [
      "6\n",
      "6\n",
      "10\n",
      "13\n",
      "9\n",
      "8\n",
      "1\n",
      "[0, 6, 16, 0, 0, 0, 0]\n",
      "[0, 6, 16, 23, 0, 0, 0]\n",
      "[0, 6, 16, 23, 28, 0, 0]\n",
      "[0, 6, 16, 23, 28, 33, 0]\n",
      "33\n"
     ]
    }
   ],
   "source": [
    "n = int(input())\n",
    "wine = [0]\n",
    "dp = [0] * (n + 1)\n",
    "\n",
    "for i in range(n):\n",
    "    wine.append(int(input()))\n",
    "\n",
    "for i in range(1, n + 1):\n",
    "    if i == 1:\n",
    "        dp[i] = wine[1]\n",
    "    elif i == 2:\n",
    "        dp[i] = wine[1] + wine[2]\n",
    "    else:\n",
    "        dp[i] = max(dp[i - 2] + wine[i], dp[i - 1], dp[i - 3] + wine[i - 1] + wine[i])\n",
    "    \n",
    "print(dp[n])\n",
    "        \n",
    "        "
   ]
  }
 ],
 "metadata": {
  "kernelspec": {
   "display_name": "Python 3",
   "language": "python",
   "name": "python3"
  },
  "language_info": {
   "codemirror_mode": {
    "name": "ipython",
    "version": 3
   },
   "file_extension": ".py",
   "mimetype": "text/x-python",
   "name": "python",
   "nbconvert_exporter": "python",
   "pygments_lexer": "ipython3",
   "version": "3.7.3"
  }
 },
 "nbformat": 4,
 "nbformat_minor": 2
}
