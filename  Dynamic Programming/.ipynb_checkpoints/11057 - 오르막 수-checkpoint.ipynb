{
 "cells": [
  {
   "cell_type": "code",
   "execution_count": 11,
   "metadata": {},
   "outputs": [
    {
     "name": "stdout",
     "output_type": "stream",
     "text": [
      "2\n",
      "55\n"
     ]
    }
   ],
   "source": [
    "n = int(input())\n",
    "dp = [[0] * 10 for i in range(n + 1)]\n",
    "\n",
    "for i in range(10):\n",
    "    dp[1][i] = 1\n",
    "\n",
    "for i in range(2, n + 1):\n",
    "    for j in range(10):\n",
    "        if j == 9:\n",
    "            dp[i][j] = dp[i - 1][j]\n",
    "        else:\n",
    "            for k in range(10):\n",
    "                if k < j:\n",
    "                    continue\n",
    "                dp[i][j] += dp[i - 1][k]\n",
    "print(sum(dp[n]) % 10007)"
   ]
  }
 ],
 "metadata": {
  "kernelspec": {
   "display_name": "Python 3",
   "language": "python",
   "name": "python3"
  },
  "language_info": {
   "codemirror_mode": {
    "name": "ipython",
    "version": 3
   },
   "file_extension": ".py",
   "mimetype": "text/x-python",
   "name": "python",
   "nbconvert_exporter": "python",
   "pygments_lexer": "ipython3",
   "version": "3.7.3"
  }
 },
 "nbformat": 4,
 "nbformat_minor": 2
}
