{
 "cells": [
  {
   "cell_type": "markdown",
   "metadata": {},
   "source": [
    "1. 5, 3, 2로 나누어 떨어지지 않으면 셋중에 하나로 나누어 떨어질때까지 1을 빼준다\n",
    "2. 5 -> 3 -> 2 순으로 나누면 수가 더 빠르게 줄기 때문에 if문을 앞에 순서와 같이 써준다"
   ]
  },
  {
   "cell_type": "code",
   "execution_count": 24,
   "metadata": {},
   "outputs": [
    {
     "name": "stdout",
     "output_type": "stream",
     "text": [
      "12344\n",
      "14\n"
     ]
    }
   ],
   "source": [
    "# 10분 //  다이나믹 방식으로 다시 풀어보기 \n",
    "num = int(input())\n",
    "cnt = 0\n",
    "while True:\n",
    "    if num / 5 == 1 or num / 3 == 1 or num / 2 == 1:\n",
    "        cnt += 1\n",
    "        break\n",
    "    if num % 5 != 0 and num % 3 != 0 and num % 3 != 0:\n",
    "        num -= 1\n",
    "        cnt += 1\n",
    "    if num % 5 == 0:\n",
    "        num /= 5\n",
    "        cnt += 1\n",
    "    elif num % 3 == 0:\n",
    "        num /= 3\n",
    "        cnt += 1\n",
    "    elif num % 2 == 0:\n",
    "        cnt += 1\n",
    "print(cnt)"
   ]
  },
  {
   "cell_type": "code",
   "execution_count": 25,
   "metadata": {},
   "outputs": [
    {
     "name": "stdout",
     "output_type": "stream",
     "text": [
      "12344\n",
      "14\n"
     ]
    }
   ],
   "source": [
    "# 문제를 풀기전에 함수가 호출되는 과정을 그림으로 그려보자\n",
    "# 보텀업 방식으로 풀 수 있다\n",
    "\n",
    "x = int(input())\n",
    "d = [0] * 30001 # dp테이블 초기화\n",
    "\n",
    "for i in range(2, x+1):\n",
    "    d[i] = d[i - 1] + 1\n",
    "    if i % 2 == 0:\n",
    "        d[i] == min(d[i], d[i // 2] + 1)\n",
    "    if i % 3 == 0:\n",
    "        d[i] = min(d[i], d[i // 3] + 1)\n",
    "    if i % 5 == 0:\n",
    "        d[i] = min(d[i], d[i // 5] + 1)\n",
    "\n",
    "print(d[x])"
   ]
  }
 ],
 "metadata": {
  "kernelspec": {
   "display_name": "Python 3",
   "language": "python",
   "name": "python3"
  },
  "language_info": {
   "codemirror_mode": {
    "name": "ipython",
    "version": 3
   },
   "file_extension": ".py",
   "mimetype": "text/x-python",
   "name": "python",
   "nbconvert_exporter": "python",
   "pygments_lexer": "ipython3",
   "version": "3.7.3"
  }
 },
 "nbformat": 4,
 "nbformat_minor": 2
}
