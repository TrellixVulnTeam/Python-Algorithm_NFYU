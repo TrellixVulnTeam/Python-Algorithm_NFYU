{
 "cells": [
  {
   "cell_type": "code",
   "execution_count": 33,
   "metadata": {},
   "outputs": [
    {
     "name": "stdout",
     "output_type": "stream",
     "text": [
      "6\n",
      "10\n",
      "20\n",
      "15\n",
      "25\n",
      "10\n",
      "20\n",
      "10 20 15\n",
      "75\n"
     ]
    }
   ],
   "source": [
    "# 입력값을 구할때는 리스트의 공간을 입력 조건에 있는 만큼 해주던가 해줘야 하는가...\n",
    "n = int(input())\n",
    "l_list = [0] * (n + 1) #error 런타임 에러\n",
    "dp = [0] * (n + 1)\n",
    "for i in range(1, n + 1):\n",
    "    l_list[i] = int(input())\n",
    "\n",
    "dp[1] = l_list[1]\n",
    "dp[2] = l_list[1] + l_list[2]\n",
    "dp[3] = max(l_list[1] + l_list[3], l_list[2] + l_list[3])\n",
    "\n",
    "for i in range(4, n + 1):\n",
    "    dp[i] = max(l_list[i] + dp[i - 2], l_list[i] + l_list[i - 1] + dp[i - 3])\n",
    "\n",
    "print(dp[n])\n",
    "\n",
    "        \n"
   ]
  },
  {
   "cell_type": "code",
   "execution_count": 37,
   "metadata": {},
   "outputs": [
    {
     "name": "stdout",
     "output_type": "stream",
     "text": [
      "6\n",
      "10\n",
      "20\n",
      "15\n",
      "25\n",
      "10\n",
      "20\n",
      "[10, 30, 35, 55, 65, 75, 0, 0, 0]\n",
      "75\n"
     ]
    }
   ],
   "source": [
    "# 리스트 공간 1이 적다면 2 -> 3-> 식으로 에러가 발생하지 않을만큼만 증가시켜주면 되는가..\n",
    "n = int(input())\n",
    "l_list = [0] *  (n + 300)\n",
    "dp = [0] * (n + 300)\n",
    "for i in range(n):\n",
    "    l_list[i] = int(input())\n",
    "\n",
    "dp[0] = l_list[0]\n",
    "dp[1] = l_list[0] + l_list[1]\n",
    "dp[2] = max(l_list[2] + l_list[1], l_list[2] + l_list[0])\n",
    "\n",
    "for i in range(3, n):\n",
    "    dp[i] = max(l_list[i] + dp[i - 2], l_list[i] + l_list[i - 1] + dp[i - 3])\n",
    "print(dp)\n",
    "print(dp[n - 1])"
   ]
  }
 ],
 "metadata": {
  "kernelspec": {
   "display_name": "Python 3",
   "language": "python",
   "name": "python3"
  },
  "language_info": {
   "codemirror_mode": {
    "name": "ipython",
    "version": 3
   },
   "file_extension": ".py",
   "mimetype": "text/x-python",
   "name": "python",
   "nbconvert_exporter": "python",
   "pygments_lexer": "ipython3",
   "version": "3.7.3"
  }
 },
 "nbformat": 4,
 "nbformat_minor": 2
}
