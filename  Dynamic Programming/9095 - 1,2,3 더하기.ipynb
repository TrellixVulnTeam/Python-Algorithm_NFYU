{
 "cells": [
  {
   "cell_type": "code",
   "execution_count": null,
   "metadata": {},
   "outputs": [],
   "source": [
    "def solution(n):\n",
    "    if n == 1:\n",
    "        return 1\n",
    "    if n == 2:\n",
    "        return 2\n",
    "    if n == 3:\n",
    "        return 4\n",
    "    else:\n",
    "        return solution(n - 1) + solution(n - 2) + solution(n - 3)\n",
    "num = int(input())\n",
    "for i in range(num):\n",
    "    print(solution(int(input())))"
   ]
  },
  {
   "cell_type": "code",
   "execution_count": null,
   "metadata": {},
   "outputs": [],
   "source": [
    "for _ in range(int(input())):\n",
    "    n = int(input())\n",
    "    dp = [0, 1, 2, 4]\n",
    "    for i in range(4, n + 1):\n",
    "        dp.append(dp[i - 3] + dp[i - 2] + dp[i - 1])\n",
    "    print(dp[n])"
   ]
  },
  {
   "cell_type": "code",
   "execution_count": null,
   "metadata": {},
   "outputs": [],
   "source": [
    "# my code\n",
    "for _ in range(int(input())):\n",
    "    num = int(input())\n",
    "    dp = [0] * (num + 1)\n",
    "    dp[0] = 1\n",
    "    dp[1] = 1\n",
    "    dp[2] = 2\n",
    "    for i in range(3, num + 1):\n",
    "        dp[i] = (dp[i - 1] + dp[i - 2] + dp[i - 3])\n",
    "    print(dp[num])"
   ]
  }
 ],
 "metadata": {
  "kernelspec": {
   "display_name": "Python 3",
   "language": "python",
   "name": "python3"
  },
  "language_info": {
   "codemirror_mode": {
    "name": "ipython",
    "version": 3
   },
   "file_extension": ".py",
   "mimetype": "text/x-python",
   "name": "python",
   "nbconvert_exporter": "python",
   "pygments_lexer": "ipython3",
   "version": "3.7.3"
  }
 },
 "nbformat": 4,
 "nbformat_minor": 2
}
