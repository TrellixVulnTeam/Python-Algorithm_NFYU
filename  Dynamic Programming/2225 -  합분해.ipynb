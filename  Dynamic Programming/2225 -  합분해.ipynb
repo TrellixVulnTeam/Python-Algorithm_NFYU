{
 "cells": [
  {
   "cell_type": "code",
   "execution_count": null,
   "metadata": {},
   "outputs": [],
   "source": [
    "# 2차원 dp로 풀어야 한다...왜..ㅠ error\n",
    "n, k = map(int, input().split())\n",
    "dp = [1] * (n + 2)\n",
    "dp[0] = 0\n",
    "for i in range(1, n + 2):\n",
    "    dp[i] = dp[i - 1] + 1\n",
    "print((dp[n] + 1) % 1000000000)"
   ]
  },
  {
   "cell_type": "code",
   "execution_count": null,
   "metadata": {},
   "outputs": [],
   "source": [
    "# 표를 그려서 점화식을 구해보자 !!\n",
    "n, k = map(int, input().split())\n",
    "dp = [[0] * (n + 1) for _ in range(k + 1)]\n",
    "\n",
    "for i in range(1, k + 1):\n",
    "    for j in range(n + 1):\n",
    "        if j == 0:\n",
    "            dp[i][j] = 1\n",
    "        else:\n",
    "            dp[i][j] = (dp[i - 1][j] + dp[i][j - 1]) % 1000000000\n",
    "print(dp)\n",
    "print(dp[-1][-1])"
   ]
  }
 ],
 "metadata": {
  "kernelspec": {
   "display_name": "Python 3",
   "language": "python",
   "name": "python3"
  },
  "language_info": {
   "codemirror_mode": {
    "name": "ipython",
    "version": 3
   },
   "file_extension": ".py",
   "mimetype": "text/x-python",
   "name": "python",
   "nbconvert_exporter": "python",
   "pygments_lexer": "ipython3",
   "version": "3.7.3"
  }
 },
 "nbformat": 4,
 "nbformat_minor": 2
}
