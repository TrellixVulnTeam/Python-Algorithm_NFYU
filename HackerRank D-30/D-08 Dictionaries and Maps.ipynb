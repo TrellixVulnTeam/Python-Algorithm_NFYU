{
 "cells": [
  {
   "cell_type": "code",
   "execution_count": 33,
   "metadata": {},
   "outputs": [
    {
     "name": "stdout",
     "output_type": "stream",
     "text": [
      "3\n",
      "vcwolcoui 36670016\n",
      "ttbotvgpl 65785652\n",
      "gkry 12304153\n",
      "gkry\n",
      "gkry=12304153\n",
      "v\n",
      "Not found\n",
      "vcwolcoui\n",
      "vcwolcoui=36670016\n",
      "{'vcwolcoui': '36670016', 'ttbotvgpl': '65785652', 'gkry': '12304153'}\n"
     ]
    }
   ],
   "source": [
    "phoneBook = {}\n",
    "\n",
    "num = int(input())\n",
    "\n",
    "for i in range(num):\n",
    "    name,number = input().split()\n",
    "    phoneBook[name]=number\n",
    "for i in range(num):\n",
    "    user_name = input()\n",
    "    if user_name not in phoneBook.keys():\n",
    "        print('Not found')\n",
    "    else:\n",
    "        print(f'{user_name}={phoneBook[user_name]}')\n"
   ]
  },
  {
   "cell_type": "code",
   "execution_count": null,
   "metadata": {},
   "outputs": [],
   "source": []
  }
 ],
 "metadata": {
  "kernelspec": {
   "display_name": "Python 3",
   "language": "python",
   "name": "python3"
  },
  "language_info": {
   "codemirror_mode": {
    "name": "ipython",
    "version": 3
   },
   "file_extension": ".py",
   "mimetype": "text/x-python",
   "name": "python",
   "nbconvert_exporter": "python",
   "pygments_lexer": "ipython3",
   "version": "3.8.3"
  },
  "toc": {
   "base_numbering": 1,
   "nav_menu": {},
   "number_sections": true,
   "sideBar": true,
   "skip_h1_title": false,
   "title_cell": "Table of Contents",
   "title_sidebar": "Contents",
   "toc_cell": false,
   "toc_position": {},
   "toc_section_display": true,
   "toc_window_display": false
  }
 },
 "nbformat": 4,
 "nbformat_minor": 4
}
