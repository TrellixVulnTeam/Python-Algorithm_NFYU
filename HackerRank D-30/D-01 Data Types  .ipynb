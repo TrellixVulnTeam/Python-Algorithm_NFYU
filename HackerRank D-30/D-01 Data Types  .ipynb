{
 "cells": [
  {
   "cell_type": "code",
   "execution_count": 1,
   "metadata": {},
   "outputs": [
    {
     "name": "stdout",
     "output_type": "stream",
     "text": [
      "12\n",
      "4.0\n",
      " is very difficult\n",
      "16\n",
      "8.0\n",
      "HackerRank  is very difficult\n"
     ]
    }
   ],
   "source": [
    "i = 4\n",
    "d = 4.0\n",
    "s = 'HackerRank '\n",
    "# Declare second integer, double, and String variables.\n",
    "\n",
    "user_i = int(input())\n",
    "user_d = float(input())\n",
    "user_s = input()\n",
    "\n",
    "# Read and save an integer, double, and String to your variables.\n",
    "i_sum = i+user_i\n",
    "d_sum = d+user_d\n",
    "s_concat = s+user_s\n",
    "\n",
    "# Print the sum of both integer variables on a new line.\n",
    "print(i_sum)\n",
    "\n",
    "# Print the sum of the double variables on a new line.\n",
    "print('%.1f' % d_sum)\n",
    "\n",
    "# Concatenate and print the String variables on a new line\n",
    "# The 's' variable above should be printed first.\n",
    "print(s_concat)"
   ]
  },
  {
   "cell_type": "code",
   "execution_count": null,
   "metadata": {},
   "outputs": [],
   "source": []
  }
 ],
 "metadata": {
  "kernelspec": {
   "display_name": "Python 3",
   "language": "python",
   "name": "python3"
  },
  "language_info": {
   "codemirror_mode": {
    "name": "ipython",
    "version": 3
   },
   "file_extension": ".py",
   "mimetype": "text/x-python",
   "name": "python",
   "nbconvert_exporter": "python",
   "pygments_lexer": "ipython3",
   "version": "3.8.3"
  },
  "toc": {
   "base_numbering": 1,
   "nav_menu": {},
   "number_sections": true,
   "sideBar": true,
   "skip_h1_title": false,
   "title_cell": "Table of Contents",
   "title_sidebar": "Contents",
   "toc_cell": false,
   "toc_position": {},
   "toc_section_display": true,
   "toc_window_display": false
  }
 },
 "nbformat": 4,
 "nbformat_minor": 4
}
