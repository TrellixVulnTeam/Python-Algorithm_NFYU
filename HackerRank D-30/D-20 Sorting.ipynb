{
 "cells": [
  {
   "cell_type": "code",
   "execution_count": 1,
   "metadata": {},
   "outputs": [
    {
     "name": "stdout",
     "output_type": "stream",
     "text": [
      "3\n",
      "3 2 1\n"
     ]
    },
    {
     "data": {
      "text/plain": [
       "'\\na와 b는 시작 숫자와 끝 숫자를 나타낸다. c는 숫자 사이의 거리를 나타낸다\\n'"
      ]
     },
     "execution_count": 1,
     "metadata": {},
     "output_type": "execute_result"
    }
   ],
   "source": [
    "import sys\n",
    "\n",
    "n = int(input().strip())\n",
    "a = list(map(int, input().strip().split(' ')))\n",
    "# Write Your Code Here\n",
    "swap = 0\n",
    "for num in range(len(a)-1,0,-1):\n",
    "    for i in range(num):\n",
    "        if a[i] > a[i+1]:\n",
    "            a[i], a[i+1] = a[i+1],a[i]\n",
    "            swap += 1\n",
    "\n",
    "# range(a,b,c)\n",
    "\n",
    "\"\"\"\n",
    "a와 b는 시작 숫자와 끝 숫자를 나타낸다. c는 숫자 사이의 거리를 나타낸다\n",
    "\"\"\""
   ]
  },
  {
   "cell_type": "code",
   "execution_count": 2,
   "metadata": {},
   "outputs": [
    {
     "name": "stdout",
     "output_type": "stream",
     "text": [
      "4\n",
      "3\n",
      "2\n",
      "1\n"
     ]
    }
   ],
   "source": [
    "#sorting문제 참고 (buble sort)\n",
    "nums = [1,2,3,4,5]\n",
    "for num in range(len(nums)-1,0,-1):\n",
    "    print(num)"
   ]
  }
 ],
 "metadata": {
  "kernelspec": {
   "display_name": "Python 3",
   "language": "python",
   "name": "python3"
  },
  "language_info": {
   "codemirror_mode": {
    "name": "ipython",
    "version": 3
   },
   "file_extension": ".py",
   "mimetype": "text/x-python",
   "name": "python",
   "nbconvert_exporter": "python",
   "pygments_lexer": "ipython3",
   "version": "3.7.3"
  }
 },
 "nbformat": 4,
 "nbformat_minor": 2
}
