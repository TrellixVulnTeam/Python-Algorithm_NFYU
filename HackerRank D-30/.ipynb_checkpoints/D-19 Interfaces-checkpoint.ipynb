{
 "cells": [
  {
   "cell_type": "code",
   "execution_count": 1,
   "metadata": {},
   "outputs": [
    {
     "name": "stdout",
     "output_type": "stream",
     "text": [
      "6\n",
      "I implemented: AdvancedArithmetic\n",
      "12\n"
     ]
    }
   ],
   "source": [
    "# mycode 굳이 배열로 변경뒤 sum함수 쓸 필요없음\n",
    "class AdvancedArithmetic(object):\n",
    "    def divisorSum(n):\n",
    "        raise NotImplementedError\n",
    "\n",
    "class Calculator(AdvancedArithmetic):\n",
    "    arr = []\n",
    "    def divisorSum(self, n):\n",
    "        for i in range(1,n+1):\n",
    "            if n % i == 0:\n",
    "                Calculator.arr.append(i)\n",
    "        sum_arr = sum(Calculator.arr)\n",
    "        return sum_arr\n",
    "                \n",
    "\n",
    "n = int(input())\n",
    "my_calculator = Calculator()\n",
    "s = my_calculator.divisorSum(n)\n",
    "print(\"I implemented: \" + type(my_calculator).__bases__[0].__name__)\n",
    "print(s)"
   ]
  },
  {
   "cell_type": "code",
   "execution_count": 2,
   "metadata": {},
   "outputs": [
    {
     "name": "stdout",
     "output_type": "stream",
     "text": [
      "6\n",
      "I implemented: AdvancedArithmetic\n",
      "12\n"
     ]
    }
   ],
   "source": [
    "class AdvancedArithmetic(object):\n",
    "    def divisorSum(n):\n",
    "        raise NotImplementedError\n",
    "\n",
    "class Calculator(AdvancedArithmetic):\n",
    "    \n",
    "    def divisorSum(self, n):\n",
    "        sum_ = 0\n",
    "        for i in range(1,n+1):\n",
    "            if n%i == 0:\n",
    "                sum_ += i\n",
    "        return sum_\n",
    "                \n",
    "\n",
    "n = int(input())\n",
    "my_calculator = Calculator()\n",
    "s = my_calculator.divisorSum(n)\n",
    "print(\"I implemented: \" + type(my_calculator).__bases__[0].__name__)\n",
    "print(s)"
   ]
  },
  {
   "cell_type": "code",
   "execution_count": null,
   "metadata": {},
   "outputs": [],
   "source": []
  }
 ],
 "metadata": {
  "kernelspec": {
   "display_name": "Python 3",
   "language": "python",
   "name": "python3"
  },
  "language_info": {
   "codemirror_mode": {
    "name": "ipython",
    "version": 3
   },
   "file_extension": ".py",
   "mimetype": "text/x-python",
   "name": "python",
   "nbconvert_exporter": "python",
   "pygments_lexer": "ipython3",
   "version": "3.7.3"
  }
 },
 "nbformat": 4,
 "nbformat_minor": 2
}
