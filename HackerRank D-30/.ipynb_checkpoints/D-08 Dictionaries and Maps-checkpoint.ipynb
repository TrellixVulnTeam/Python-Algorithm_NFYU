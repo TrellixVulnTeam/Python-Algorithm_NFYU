{
 "cells": [
  {
   "cell_type": "code",
   "execution_count": 33,
   "metadata": {
    "scrolled": true
   },
   "outputs": [
    {
     "name": "stdout",
     "output_type": "stream",
     "text": [
      "3\n",
      "vcwolcoui 36670016\n",
      "ttbotvgpl 65785652\n",
      "gkry 12304153\n",
      "gkry\n",
      "gkry=12304153\n",
      "v\n",
      "Not found\n",
      "vcwolcoui\n",
      "vcwolcoui=36670016\n",
      "{'vcwolcoui': '36670016', 'ttbotvgpl': '65785652', 'gkry': '12304153'}\n"
     ]
    }
   ],
   "source": [
    "### Runtime Error 발생\n",
    "phoneBook = {}\n",
    "\n",
    "num = int(input())\n",
    "\n",
    "for i in range(num):\n",
    "    name,number = input().split()\n",
    "    phoneBook[name]=number\n",
    "for i in range(num):\n",
    "    user_name = input()\n",
    "    if user_name not in phoneBook.keys():\n",
    "        print('Not found')\n",
    "    else:\n",
    "        print(f'{user_name}={phoneBook[user_name]}')\n"
   ]
  },
  {
   "cell_type": "code",
   "execution_count": 4,
   "metadata": {},
   "outputs": [
    {
     "name": "stdout",
     "output_type": "stream",
     "text": [
      "2\n",
      "vcwolcoui 36670016\n",
      "ttbotvgpl 65785652\n",
      "ttbotvgpl\n",
      "ttbotvgpl=65785652\n",
      "ttbotvgpl 6578\n",
      "Not Found\n"
     ]
    }
   ],
   "source": [
    "# try ~ except 구문으로 해결\n",
    "phoneBook = {}\n",
    "\n",
    "num = int(input())\n",
    "\n",
    "for i in range(0,num):\n",
    "    name,number = input().split()\n",
    "    phoneBook[name]=number\n",
    "for i in range(0,num):\n",
    "    user_name = input()\n",
    "    if user_name in phoneBook:\n",
    "        print(f'{user_name}={phoneBook[user_name]}')\n",
    "    else:\n",
    "        print('Not Found')"
   ]
  },
  {
   "cell_type": "code",
   "execution_count": null,
   "metadata": {},
   "outputs": [],
   "source": []
  }
 ],
 "metadata": {
  "kernelspec": {
   "display_name": "Python 3",
   "language": "python",
   "name": "python3"
  },
  "language_info": {
   "codemirror_mode": {
    "name": "ipython",
    "version": 3
   },
   "file_extension": ".py",
   "mimetype": "text/x-python",
   "name": "python",
   "nbconvert_exporter": "python",
   "pygments_lexer": "ipython3",
   "version": "3.8.3"
  },
  "toc": {
   "base_numbering": 1,
   "nav_menu": {},
   "number_sections": true,
   "sideBar": true,
   "skip_h1_title": false,
   "title_cell": "Table of Contents",
   "title_sidebar": "Contents",
   "toc_cell": false,
   "toc_position": {},
   "toc_section_display": true,
   "toc_window_display": false
  }
 },
 "nbformat": 4,
 "nbformat_minor": 4
}
