{
 "cells": [
  {
   "cell_type": "markdown",
   "metadata": {},
   "source": [
    "#### 연결리스트 추가,삭제 공부하기 \n",
    "insert에 맨처음 head=None과 data=2가 인자로 들어가게 되고 if의 조건문이 실행된다 따라서 tail과 head의 위치는 2를 가리키는 첫번째 리스트가 된다.\n",
    "이후 head = 2를 리턴해주고 리턴된 2와 입력한 데이터 3이 insert에 들어가게 되고 head는 none이 아니므로  else문이 실행되게 된다\n",
    "node = Node(data)로 3이 node에 들어가게 되고 tail의 위치가 next를 통해서 다음리스트의 값이된다. 즉 다음 리스트에는 3이 들어가고 그곳을 tail이 \n",
    "가리키게 된다 이렇게 반복이 끝난 후 mylist.display(head)를 통해 head=2가 current가 되고 current.data인 "
   ]
  },
  {
   "cell_type": "code",
   "execution_count": 31,
   "metadata": {},
   "outputs": [
    {
     "name": "stdout",
     "output_type": "stream",
     "text": [
      "4\n",
      "2\n",
      "3\n",
      "4\n",
      "1\n",
      "2 3 4 1 "
     ]
    }
   ],
   "source": [
    "class Node:\n",
    "    def __init__(self,data):\n",
    "        self.data = data\n",
    "        self.next = None \n",
    "        \n",
    "class Solution: \n",
    "    def display(self,head):\n",
    "        current = head\n",
    "        while current:\n",
    "            print(current.data,end=' ')\n",
    "            current = current.next\n",
    "\n",
    "    def insert(self,head,data): \n",
    "    #Complete this method\n",
    "        if head == None:\n",
    "            head = Node(data)\n",
    "            self.tail = head\n",
    "        else:\n",
    "            node = Node(data)\n",
    "            self.tail.next = node\n",
    "            self.tail = node\n",
    "            \n",
    "        return head\n",
    "\n",
    "mylist= Solution()\n",
    "T=int(input())\n",
    "head=None\n",
    "for i in range(T):\n",
    "    data=int(input())\n",
    "    head=mylist.insert(head,data) \n",
    "mylist.display(head); \t  "
   ]
  }
 ],
 "metadata": {
  "kernelspec": {
   "display_name": "Python 3",
   "language": "python",
   "name": "python3"
  },
  "language_info": {
   "codemirror_mode": {
    "name": "ipython",
    "version": 3
   },
   "file_extension": ".py",
   "mimetype": "text/x-python",
   "name": "python",
   "nbconvert_exporter": "python",
   "pygments_lexer": "ipython3",
   "version": "3.7.3"
  },
  "toc": {
   "base_numbering": 1,
   "nav_menu": {},
   "number_sections": true,
   "sideBar": true,
   "skip_h1_title": false,
   "title_cell": "Table of Contents",
   "title_sidebar": "Contents",
   "toc_cell": false,
   "toc_position": {},
   "toc_section_display": true,
   "toc_window_display": false
  }
 },
 "nbformat": 4,
 "nbformat_minor": 4
}
