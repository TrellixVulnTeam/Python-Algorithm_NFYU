{
 "cells": [
  {
   "cell_type": "code",
   "execution_count": null,
   "metadata": {},
   "outputs": [],
   "source": [
    "import sys\n",
    "\n",
    "\n",
    "n = int(input())\n",
    "s = [[0] * 3 for _ in range(26)]\n",
    "\n",
    "def preorder(a):\n",
    "    print(a, end=\"\")\n",
    "    if s[ord(a)-65][1] != \".\":\n",
    "        preorder(s[ord(a) - 65][1])\n",
    "    if s[ord(a)-65][2] != \".\":\n",
    "        preorder(s[ord(a) - 65][2])\n",
    "\n",
    "def inorder(a):\n",
    "    if s[ord(a)-65][1] != \".\":\n",
    "        inorder(s[ord(a) - 65][1])\n",
    "    print(a, end=\"\")\n",
    "    if s[ord(a)-65][2] != \".\":\n",
    "        inorder(s[ord(a) - 65][2]) \n",
    "\n",
    "def postorder(a):\n",
    "    if s[ord(a)-65][1] != \".\":\n",
    "        postorder(s[ord(a) - 65][1])\n",
    "    if s[ord(a)-65][2] != \".\":\n",
    "        postorder(s[ord(a) - 65][2])\n",
    "    print(a, end=\"\")\n",
    "\n",
    "for i in range(n):\n",
    "    node, left, right = map(str, input().split())\n",
    "    item = ord(node) - 65\n",
    "    s[item][0], s[item][1], s[item][2] = node, left, right\n",
    "\n",
    "preorder(\"A\")\n",
    "print()\n",
    "inorder(\"A\")\n",
    "print()\n",
    "postorder(\"A\")"
   ]
  }
 ],
 "metadata": {
  "kernelspec": {
   "display_name": "Python 3",
   "language": "python",
   "name": "python3"
  },
  "language_info": {
   "codemirror_mode": {
    "name": "ipython",
    "version": 3
   },
   "file_extension": ".py",
   "mimetype": "text/x-python",
   "name": "python",
   "nbconvert_exporter": "python",
   "pygments_lexer": "ipython3",
   "version": "3.7.3"
  }
 },
 "nbformat": 4,
 "nbformat_minor": 2
}
