{
 "cells": [
  {
   "cell_type": "code",
   "execution_count": null,
   "metadata": {},
   "outputs": [],
   "source": [
    "from collections import deque\n",
    "\n",
    "def bfs(x):\n",
    "    visited[x] = 1\n",
    "    q = deque([x])\n",
    "    \n",
    "    while q:\n",
    "        a = q.popleft()\n",
    "        for i in graph[a]:\n",
    "            if visited[i] == 0:\n",
    "                visited[i] = -visited[a]\n",
    "                q.append(i)\n",
    "            else:\n",
    "                if visited[i] == visited[a]:\n",
    "                    return False\n",
    "    return True\n",
    "\n",
    "\n",
    "n = int(input())\n",
    "for i in range(n):\n",
    "    v, e = map(int, input().split())\n",
    "    graph = [[] for i in range(v + 1)]\n",
    "    visited = [0] * (v + 1)\n",
    "    flg = 1\n",
    "    for j in range(e):\n",
    "        a, b = map(int, input().split())\n",
    "        graph[a].append(b)\n",
    "        graph[b].append(a)\n",
    "    for k in range(1, v + 1):\n",
    "        if visited[k] == 0:\n",
    "            if not bfs(k):\n",
    "                flg = -1\n",
    "                break\n",
    "    print('YES' if flg == 1 else 'NO')\n",
    "    "
   ]
  }
 ],
 "metadata": {
  "kernelspec": {
   "display_name": "Python 3",
   "language": "python",
   "name": "python3"
  },
  "language_info": {
   "codemirror_mode": {
    "name": "ipython",
    "version": 3
   },
   "file_extension": ".py",
   "mimetype": "text/x-python",
   "name": "python",
   "nbconvert_exporter": "python",
   "pygments_lexer": "ipython3",
   "version": "3.7.3"
  }
 },
 "nbformat": 4,
 "nbformat_minor": 2
}
