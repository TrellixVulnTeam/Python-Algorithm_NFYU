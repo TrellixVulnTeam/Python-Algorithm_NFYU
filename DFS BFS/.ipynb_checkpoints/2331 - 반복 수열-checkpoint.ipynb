{
 "cells": [
  {
   "cell_type": "code",
   "execution_count": 48,
   "metadata": {},
   "outputs": [
    {
     "name": "stdout",
     "output_type": "stream",
     "text": [
      "57\n",
      "[0, 57, 74, 65, 61, 37, 58, 89, 145, 314, 116, 40, 16, 37, 58, 89, 145, 314, 116, 40, 16, 37, 58, 89, 145, 314, 116, 40, 16, 37, 58, 89, 145, 314, 116, 40, 16, 37, 58, 89, 145, 314, 116, 40, 16, 37, 58, 89, 145, 314, 116, 40, 16, 37, 58, 89, 145]\n"
     ]
    }
   ],
   "source": [
    "from functools import reduce\n",
    "\n",
    "n = int(input())\n",
    "result = [n]\n",
    "# n_list = list(map(int, ' '.join(dp[i - 1]).split(' ')))\n",
    "dp = [0] * (n)\n",
    "dp[1] = n\n",
    "\n",
    "for i in range(2, n):\n",
    "#     print(list(map(int, ' '.join(str(dp[i - 1])).split(' '))))\n",
    "    dp[i] = reduce(lambda x,y,z=0: x*x + y*y + z*z, list(map(int, ' '.join(str(dp[i - 1])).split(' '))))\n",
    "\n",
    "for i in dp:\n",
    "    if dp[i]"
   ]
  },
  {
   "cell_type": "code",
   "execution_count": null,
   "metadata": {},
   "outputs": [],
   "source": [
    "\n",
    "\n",
    "chk = [0] * 250000\n",
    "a, p = map(int, input().split())\n",
    "count = 1\n",
    "print(dfs(a, p, count, check))"
   ]
  },
  {
   "cell_type": "code",
   "execution_count": 67,
   "metadata": {},
   "outputs": [
    {
     "name": "stdout",
     "output_type": "stream",
     "text": [
      "57 2\n",
      "57 2\n",
      "[57, 74, 65, 61, 37, 58, 89, 145, 314, 116, 40, 16]\n"
     ]
    }
   ],
   "source": [
    "# read = list(map(int, ' '.join(input()).split(' ')))\n",
    "from functools import reduce\n",
    "a, p = map(int, input().split())\n",
    "print(a, p)\n",
    "d = []\n",
    "\n",
    "while a not in d:\n",
    "    d.append(a)\n",
    "    a = reduce(lambda x, y: x*x + y*y ,list(map(int, ' '.join(str(a)).split(' '))))\n",
    "print(d)"
   ]
  },
  {
   "cell_type": "code",
   "execution_count": 77,
   "metadata": {},
   "outputs": [
    {
     "name": "stdout",
     "output_type": "stream",
     "text": [
      "57 2\n",
      "4\n"
     ]
    }
   ],
   "source": [
    "def Daum(n, m):\n",
    "    n = str(n)\n",
    "    res = 0\n",
    "    for i in n:\n",
    "        res += pow(int(i), m)\n",
    "    return res\n",
    "\n",
    "def dfs(n, m, flag, chk):\n",
    "    if chk[n] != 0:\n",
    "        return chk[n] - 1\n",
    "    chk[n] = flag\n",
    "    daum = Daum(n, m)\n",
    "    flag += 1\n",
    "    return dfs(daum, m, flag, chk)\n",
    "\n",
    "n, m = map(int, input().split())\n",
    "chk = [0] * 250000\n",
    "flag = 1\n",
    "print(dfs(n, m, flag, chk))"
   ]
  }
 ],
 "metadata": {
  "kernelspec": {
   "display_name": "Python 3",
   "language": "python",
   "name": "python3"
  },
  "language_info": {
   "codemirror_mode": {
    "name": "ipython",
    "version": 3
   },
   "file_extension": ".py",
   "mimetype": "text/x-python",
   "name": "python",
   "nbconvert_exporter": "python",
   "pygments_lexer": "ipython3",
   "version": "3.7.3"
  }
 },
 "nbformat": 4,
 "nbformat_minor": 2
}
