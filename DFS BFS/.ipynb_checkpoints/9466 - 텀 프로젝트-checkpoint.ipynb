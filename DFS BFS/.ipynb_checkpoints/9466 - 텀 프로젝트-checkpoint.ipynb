{
 "cells": [
  {
   "cell_type": "code",
   "execution_count": 6,
   "metadata": {
    "scrolled": true
   },
   "outputs": [
    {
     "name": "stdout",
     "output_type": "stream",
     "text": [
      "2\n",
      "7\n",
      "3 1 3 7 3 4 6\n",
      "ans의 값 [3]\n",
      "ans의 값 [3, 3]\n",
      "ans의 값 [3, 3, 7, 6, 4]\n",
      "3\n",
      "8\n",
      "1 2 3 4 5 6 7 8\n",
      "ans의 값 [1]\n",
      "ans의 값 [1, 2]\n",
      "ans의 값 [1, 2, 3]\n",
      "ans의 값 [1, 2, 3, 4]\n",
      "ans의 값 [1, 2, 3, 4, 5]\n",
      "ans의 값 [1, 2, 3, 4, 5, 6]\n",
      "ans의 값 [1, 2, 3, 4, 5, 6, 7]\n",
      "ans의 값 [1, 2, 3, 4, 5, 6, 7, 8]\n",
      "0\n"
     ]
    }
   ],
   "source": [
    "def dfs(v):\n",
    "    global ans\n",
    "    visited[v] = True\n",
    "    loop.append(v)\n",
    "    num = arr[v]\n",
    "    if visited[num]:\n",
    "        if num in loop:\n",
    "            ans += loop[loop.index(num):]\n",
    "            return\n",
    "        else:\n",
    "            dfs(num)\n",
    "\n",
    "\n",
    "for _ in range(int(input())):\n",
    "    n = int(input())\n",
    "    arr = [0] + list(map(int, input().split()))\n",
    "    visited = [True] + [False] * n\n",
    "    ans = []\n",
    "    for i in range(1, n + 1):\n",
    "        if not visited[i]:\n",
    "            loop = []\n",
    "            dfs(i)\n",
    "    print(n - len(set(ans)))"
   ]
  },
  {
   "cell_type": "code",
   "execution_count": null,
   "metadata": {},
   "outputs": [],
   "source": [
    "import sys\n",
    "\n",
    "sys.setrecursionlimit(10 ** 7)\n",
    "\n",
    "def dfs(v):\n",
    "    global ans\n",
    "    visited[v] = True\n",
    "    loop.append(v)\n",
    "    num = arr[v]\n",
    "    if visited[num]:\n",
    "        if num in loop:\n",
    "            ans += loop[loop.index(num):]\n",
    "            return\n",
    "        else:\n",
    "            dfs(num)\n",
    "\n",
    "\n",
    "for _ in range(int(sys.stdin.readline())):\n",
    "    n = int(sys.stdin.readline())\n",
    "    arr = [0] + list(map(int, sys.stdin.readline().split()))\n",
    "    visited = [True] + [False] * n\n",
    "    ans = []\n",
    "    for i in range(1, n + 1):\n",
    "        if not visited[i]:\n",
    "            loop = []\n",
    "            dfs(i)\n",
    "    print(n - len(set(ans)))"
   ]
  }
 ],
 "metadata": {
  "kernelspec": {
   "display_name": "Python 3",
   "language": "python",
   "name": "python3"
  },
  "language_info": {
   "codemirror_mode": {
    "name": "ipython",
    "version": 3
   },
   "file_extension": ".py",
   "mimetype": "text/x-python",
   "name": "python",
   "nbconvert_exporter": "python",
   "pygments_lexer": "ipython3",
   "version": "3.7.3"
  }
 },
 "nbformat": 4,
 "nbformat_minor": 2
}
