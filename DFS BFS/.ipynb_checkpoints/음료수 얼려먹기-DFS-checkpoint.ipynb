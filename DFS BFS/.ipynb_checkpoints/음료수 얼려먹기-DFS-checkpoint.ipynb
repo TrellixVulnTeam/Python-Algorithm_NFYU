{
 "cells": [
  {
   "cell_type": "markdown",
   "metadata": {},
   "source": [
    "### DFS(깊이우선 탐색) 유형\n",
    "\n",
    "얼음을 얼릴 수 있는 공간이 상, 하, 좌, 우로 연결되어 있기 때문에 그래프 형태로 모델링 할 수 있다. \n",
    "\n",
    "1. 특정하 지점의 주변 상, 하, 좌, 우를 살펴본 뒤에 주변 지점 중에서 값이 '0'이면서 아직 방문하지 않은 지점이 있다면 해당 지점을 방문한다\n",
    "2. 방문한 지점에서 다시 상, 하, 좌, 우를 살펴보면서 방문을 다시 진행하면, 연결된 모든 지점을 방문할 수 있다\n",
    "3. 1-2번의 과정을 모든 노드에 반복하며 방문하지 않은 지점의 수를 센다"
   ]
  },
  {
   "cell_type": "code",
   "execution_count": null,
   "metadata": {},
   "outputs": [],
   "source": [
    "n, m = map(int, input().split())\n",
    "graph = []\n",
    "for i in range(n):\n",
    "    graph.append(list(map(int,input())))\n",
    "\n",
    "def dfs(x, y):\n",
    "    if x <= -1 or y<= -1 or x >=n or y >= m:\n",
    "        return False\n",
    "    if graph[x][y] == 0:\n",
    "        graph[x][y] = 1\n",
    "        \n",
    "        # 재귀함수 사용\n",
    "        dfs(x, y - 1) # 상\n",
    "        dfs(x, y + 1) # 하\n",
    "        dfs(x - 1, y) # 좌\n",
    "        dfs(x + 1, y) # 우\n",
    "        return True\n",
    "    return False\n",
    "\n",
    "result = 0\n",
    "for i in range(n):\n",
    "    for j in range(m):\n",
    "        if dfs(i, j) == True:\n",
    "            result +=1\n",
    "print(result)\n",
    "        "
   ]
  }
 ],
 "metadata": {
  "kernelspec": {
   "display_name": "Python 3",
   "language": "python",
   "name": "python3"
  },
  "language_info": {
   "codemirror_mode": {
    "name": "ipython",
    "version": 3
   },
   "file_extension": ".py",
   "mimetype": "text/x-python",
   "name": "python",
   "nbconvert_exporter": "python",
   "pygments_lexer": "ipython3",
   "version": "3.7.3"
  }
 },
 "nbformat": 4,
 "nbformat_minor": 2
}
