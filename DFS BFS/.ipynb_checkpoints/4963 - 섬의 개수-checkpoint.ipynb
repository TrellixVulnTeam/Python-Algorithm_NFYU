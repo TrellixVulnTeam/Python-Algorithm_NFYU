{
 "cells": [
  {
   "cell_type": "code",
   "execution_count": null,
   "metadata": {},
   "outputs": [],
   "source": [
    "import sys\n",
    "sys.setrecursionlimit(10000)\n",
    "\n",
    "dx = [0, 0, -1, 1, -1, -1, 1, 1] # 왼, 오, 상, 하, 왼상대, 오상대, 왼하대, 오하대 \n",
    "dy = [-1, 1, 0, 0, -1, 1, -1, 1]\n",
    "\n",
    "def dfs(x, y):\n",
    "    graph[x][y] = 'OK'\n",
    "    for i in range(8):\n",
    "        nx = x + dx[i]\n",
    "        ny = y + dy[i]\n",
    "        if 0 <= nx < h and 0 <= ny < w and graph[nx][ny] == 1:\n",
    "            graph[nx][ny] = 'OK'\n",
    "            dfs(nx, ny)\n",
    "    return\n",
    "while True:\n",
    "    result = []\n",
    "    w, h = map(int, sys.stdin.readline().split()) # 열, 행\n",
    "    if w == 0 and h == 0:\n",
    "        break\n",
    "    graph = []\n",
    "    graph += [list(map(int, sys.stdin.readline().split())) for _ in range(h)]\n",
    "\n",
    "    for i in range(h):\n",
    "        for j in range(w):\n",
    "            if graph[i][j] == 1:\n",
    "                 result.append(dfs(i, j))\n",
    "\n",
    "    print(len(result))\n"
   ]
  }
 ],
 "metadata": {
  "kernelspec": {
   "display_name": "Python 3",
   "language": "python",
   "name": "python3"
  },
  "language_info": {
   "codemirror_mode": {
    "name": "ipython",
    "version": 3
   },
   "file_extension": ".py",
   "mimetype": "text/x-python",
   "name": "python",
   "nbconvert_exporter": "python",
   "pygments_lexer": "ipython3",
   "version": "3.7.3"
  }
 },
 "nbformat": 4,
 "nbformat_minor": 2
}
