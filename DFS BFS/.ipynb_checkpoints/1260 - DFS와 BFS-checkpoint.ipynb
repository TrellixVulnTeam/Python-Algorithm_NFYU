{
 "cells": [
  {
   "cell_type": "code",
   "execution_count": null,
   "metadata": {},
   "outputs": [],
   "source": [
    "# bfs error\n",
    "from collections import deque\n",
    "\n",
    "def bfs(n_list, start, visited):\n",
    "    queue = deque([start])\n",
    "    visited[start] = True\n",
    "    while queue:\n",
    "        v = queue.popleft()\n",
    "        print(v, end=' ')\n",
    "        for i in n_list[v]:\n",
    "            if not visited[i]:\n",
    "                queue.append(i)\n",
    "                visited[i] = True\n",
    "\n",
    "n, m, k = map(int, input().split())\n",
    "n_list = [list(map(int, input().split())) for _ in range(m)]\n",
    "visited = [False] * m\n",
    "bfs(n_list, k, visited)"
   ]
  },
  {
   "cell_type": "code",
   "execution_count": null,
   "metadata": {},
   "outputs": [],
   "source": [
    "# dfs error\n",
    "\n",
    "def dfs(n_list, start, visited):\n",
    "    visited[start] = True\n",
    "    print(start, end=' ')\n",
    "    for i in n_list[start]:\n",
    "        if not visited[i]:\n",
    "            dfs(n_list, i, visited)\n",
    "    \n",
    "\n",
    "n, m, k = map(int, input().split())\n",
    "n_list = [list(map(int, input().split())) for _ in range(m)]\n",
    "visited = [False] * m\n",
    "dfs(n_list, k, visited)"
   ]
  },
  {
   "cell_type": "code",
   "execution_count": null,
   "metadata": {},
   "outputs": [],
   "source": [
    "from collections import deque\n",
    "\n",
    "\n",
    "n, m, v = map(int, input().split())\n",
    "graph = [[0] * (n + 1) for _ in range(n + 1)]\n",
    "visited = [False] * (n + 1)\n",
    "\n",
    "for _ in range(m):\n",
    "    x, y = map(int, input().split())\n",
    "    graph[x][y] = 1\n",
    "    graph[y][x] = 1\n",
    "\n",
    "def dfs(v):\n",
    "    visited[v] = True\n",
    "    print(v, end=' ')\n",
    "    for i in range(1, n + 1):\n",
    "        if not visited[i] and graph[v][i] == 1:\n",
    "            dfs(i)\n",
    "\n",
    "def bfs(v):\n",
    "    visited[v] = False\n",
    "    queue = deque([v])\n",
    "    while queue:\n",
    "        v = queue.popleft()\n",
    "        print(v, end=' ')\n",
    "        for i in range(1, n + 1):\n",
    "            if visited[i] and graph[v][i] == 1:\n",
    "                queue.append(i)\n",
    "                visited[i] = False\n",
    "\n",
    "dfs(v)\n",
    "print()\n",
    "bfs(v)"
   ]
  }
 ],
 "metadata": {
  "kernelspec": {
   "display_name": "Python 3",
   "language": "python",
   "name": "python3"
  },
  "language_info": {
   "codemirror_mode": {
    "name": "ipython",
    "version": 3
   },
   "file_extension": ".py",
   "mimetype": "text/x-python",
   "name": "python",
   "nbconvert_exporter": "python",
   "pygments_lexer": "ipython3",
   "version": "3.7.3"
  }
 },
 "nbformat": 4,
 "nbformat_minor": 2
}
