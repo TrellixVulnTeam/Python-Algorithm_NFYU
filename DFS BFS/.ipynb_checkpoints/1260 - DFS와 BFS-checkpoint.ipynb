{
 "cells": [
  {
   "cell_type": "code",
   "execution_count": null,
   "metadata": {},
   "outputs": [],
   "source": [
    "# bfs error\n",
    "from collections import deque\n",
    "\n",
    "def bfs(n_list, start, visited):\n",
    "    queue = deque([start])\n",
    "    visited[start] = True\n",
    "    while queue:\n",
    "        v = queue.popleft()\n",
    "        print(v, end=' ')\n",
    "        for i in n_list[v]:\n",
    "            if not visited[i]:\n",
    "                queue.append(i)\n",
    "                visited[i] = True\n",
    "\n",
    "n, m, k = map(int, input().split())\n",
    "n_list = [list(map(int, input().split())) for _ in range(m)]\n",
    "visited = [False] * m\n",
    "bfs(n_list, k, visited)"
   ]
  },
  {
   "cell_type": "code",
   "execution_count": null,
   "metadata": {},
   "outputs": [],
   "source": [
    "# dfs error\n",
    "\n",
    "def dfs(n_list, start, visited):\n",
    "    visited[start] = True\n",
    "    print(start, end=' ')\n",
    "    for i in n_list[start]:\n",
    "        if not visited[i]:\n",
    "            dfs(n_list, i, visited)\n",
    "    \n",
    "\n",
    "n, m, k = map(int, input().split())\n",
    "n_list = [list(map(int, input().split())) for _ in range(m)]\n",
    "visited = [False] * m\n",
    "dfs(n_list, k, visited)"
   ]
  },
  {
   "cell_type": "code",
   "execution_count": 10,
   "metadata": {},
   "outputs": [
    {
     "name": "stdout",
     "output_type": "stream",
     "text": [
      "4 5 1\n",
      "1 2\n",
      "1 3\n",
      "1 4\n",
      "2 4\n",
      "3 4\n",
      "1 2 4 3 \n",
      "1 2 3 4 "
     ]
    }
   ],
   "source": [
    "from collections import deque\n",
    "\n",
    "def dfs(v):\n",
    "    visited[v] = 1\n",
    "    print(v, end=' ')\n",
    "    for i in range(1, n + 1):\n",
    "        if visited[i] == 0 and graph[v][i] == 1:\n",
    "            dfs(i)\n",
    "\n",
    "def bfs(v):\n",
    "    queue = deque()\n",
    "    visited[v] = 0\n",
    "    queue.append(v)\n",
    "    while queue:\n",
    "        v = queue.popleft()\n",
    "        print(v, end=' ')\n",
    "        for i in range(1, n + 1):\n",
    "            if visited[i] == 1 and graph[v][i] == 1:\n",
    "                queue.append(i)\n",
    "                visited[i] = 0\n",
    "    \n",
    "    \n",
    "\n",
    "n, m, v = map(int, input().split())\n",
    "graph = [[0] * (n + 1) for _ in range(n + 1)]\n",
    "visited = [0] * (n + 1)\n",
    "for k in range(m):\n",
    "    i, j = map(int, input().split())\n",
    "    graph[i][j] = 1\n",
    "    graph[j][i] = 1\n",
    "\n",
    "dfs(v)\n",
    "print()\n",
    "bfs(v)"
   ]
  }
 ],
 "metadata": {
  "kernelspec": {
   "display_name": "Python 3",
   "language": "python",
   "name": "python3"
  },
  "language_info": {
   "codemirror_mode": {
    "name": "ipython",
    "version": 3
   },
   "file_extension": ".py",
   "mimetype": "text/x-python",
   "name": "python",
   "nbconvert_exporter": "python",
   "pygments_lexer": "ipython3",
   "version": "3.7.3"
  }
 },
 "nbformat": 4,
 "nbformat_minor": 2
}
