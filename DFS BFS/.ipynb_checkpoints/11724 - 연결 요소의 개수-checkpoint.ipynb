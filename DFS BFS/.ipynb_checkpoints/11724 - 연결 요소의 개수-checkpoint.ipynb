{
 "cells": [
  {
   "cell_type": "code",
   "execution_count": 6,
   "metadata": {},
   "outputs": [
    {
     "name": "stdout",
     "output_type": "stream",
     "text": [
      "6 5\n",
      "1 2\n",
      "2 5\n",
      "5 1\n",
      "3 4\n",
      "4 6\n",
      "2\n"
     ]
    }
   ],
   "source": [
    "from collections import deque\n",
    "\n",
    "n, m = map(int, input().split())\n",
    "graph = [[] * n for _ in range(n + 1)]\n",
    "for _ in range(m):\n",
    "    u, v = map(int, input().split())\n",
    "    graph[u].append(v)\n",
    "    graph[v].append(u)\n",
    "\n",
    "visited = [False] * (n + 1)\n",
    "\n",
    "def bfs(n):\n",
    "    queue = deque([n])\n",
    "    while(queue):\n",
    "        n = queue.popleft()\n",
    "        for node in graph[n]:\n",
    "            if not visited[node]:\n",
    "                queue.append(node)\n",
    "                visited[node] = 1\n",
    "\n",
    "cnt = 0\n",
    "for i in range(1, n + 1):\n",
    "    if visited[i] == False:\n",
    "        bfs(i)\n",
    "        cnt += 1\n",
    "print(cnt)"
   ]
  }
 ],
 "metadata": {
  "kernelspec": {
   "display_name": "Python 3",
   "language": "python",
   "name": "python3"
  },
  "language_info": {
   "codemirror_mode": {
    "name": "ipython",
    "version": 3
   },
   "file_extension": ".py",
   "mimetype": "text/x-python",
   "name": "python",
   "nbconvert_exporter": "python",
   "pygments_lexer": "ipython3",
   "version": "3.7.3"
  }
 },
 "nbformat": 4,
 "nbformat_minor": 2
}
