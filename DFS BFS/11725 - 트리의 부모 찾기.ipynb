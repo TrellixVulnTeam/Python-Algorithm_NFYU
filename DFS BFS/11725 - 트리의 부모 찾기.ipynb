{
 "cells": [
  {
   "cell_type": "code",
   "execution_count": null,
   "metadata": {},
   "outputs": [],
   "source": [
    "import sys\n",
    "sys.setrecursionlimit(10**9)\n",
    "\n",
    "\n",
    "def dfs(start, graph, visited):\n",
    "    for i in graph[start]:\n",
    "        if visited[i] == 0:\n",
    "            visited[i] = start\n",
    "            dfs(i, graph, visited)\n",
    "            \n",
    "            \n",
    "n = int(input())\n",
    "graph = [[] for _ in range(n + 1)]\n",
    "visited = [0 for _ in range(n + 1)]\n",
    "\n",
    "for _ in range(n - 1):\n",
    "    i, j = map(int,input().split())\n",
    "    graph[i].append(j)\n",
    "    graph[j].append(i)\n",
    "    \n",
    "dfs(1, graph, visited)\n",
    "\n",
    "for i in range(2, n + 1):\n",
    "    print(visited[i])"
   ]
  }
 ],
 "metadata": {
  "kernelspec": {
   "display_name": "Python 3",
   "language": "python",
   "name": "python3"
  },
  "language_info": {
   "codemirror_mode": {
    "name": "ipython",
    "version": 3
   },
   "file_extension": ".py",
   "mimetype": "text/x-python",
   "name": "python",
   "nbconvert_exporter": "python",
   "pygments_lexer": "ipython3",
   "version": "3.7.3"
  }
 },
 "nbformat": 4,
 "nbformat_minor": 2
}
