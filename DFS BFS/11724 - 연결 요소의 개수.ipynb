{
 "cells": [
  {
   "cell_type": "code",
   "execution_count": null,
   "metadata": {},
   "outputs": [],
   "source": [
    "# bfs풀이\n",
    "\n",
    "from collections import deque\n",
    "import sys\n",
    "\n",
    "\n",
    "def bfs(v):\n",
    "    visited[v] = 1\n",
    "    queue = deque()\n",
    "    queue.append(v)\n",
    "    while queue:\n",
    "        v = queue.popleft()\n",
    "        for i in range(1, n + 1):\n",
    "            if visited[i] == 0 and graph[v][i] == 1:\n",
    "                    queue.append(i)\n",
    "                    visited[i] = 1\n",
    "    \n",
    "    \n",
    "\n",
    "cnt = 0\n",
    "n, m = map(int, sys.stdin.readline().split())\n",
    "graph = [[0] * (n + 1) for _ in range(n + 1)]\n",
    "visited = [0] * (n + 1)\n",
    "for k in range(m):\n",
    "    i, j = map(int, sys.stdin.readline().split())\n",
    "    graph[i][j] = 1\n",
    "    graph[j][i] = 1\n",
    "\n",
    "for i in range(1, n + 1):\n",
    "         if visited[i] == 0:\n",
    "                cnt += 1\n",
    "                bfs(i)\n",
    "                \n",
    "print(cnt)"
   ]
  },
  {
   "cell_type": "code",
   "execution_count": null,
   "metadata": {},
   "outputs": [],
   "source": [
    "# dfs풀이\n",
    "\n",
    "import sys\n",
    "\n",
    "sys.setrecursionlimit(10000)\n",
    "\n",
    "def dfs(v):\n",
    "    visited[v] = 1\n",
    "    for i in range(1, n + 1):\n",
    "        if visited[i] == 0 and graph[v][i] == 1:\n",
    "            dfs(i)\n",
    "\n",
    "\n",
    "n, m = map(int, sys.stdin.readline().split())\n",
    "graph = [[0] * (n + 1) for _ in range(n + 1)]\n",
    "visited = [0] * (n + 1)\n",
    "cnt = 0\n",
    "\n",
    "for k in range(m):\n",
    "    i, j = map(int, sys.stdin.readline().split())\n",
    "    graph[i][j] = 1\n",
    "    graph[j][i] = 1\n",
    "    \n",
    "for i in range(1, n + 1):\n",
    "    if visited[i] == 0:\n",
    "        dfs(i)\n",
    "        cnt += 1\n",
    "print(cnt)\n",
    "        "
   ]
  }
 ],
 "metadata": {
  "kernelspec": {
   "display_name": "Python 3",
   "language": "python",
   "name": "python3"
  },
  "language_info": {
   "codemirror_mode": {
    "name": "ipython",
    "version": 3
   },
   "file_extension": ".py",
   "mimetype": "text/x-python",
   "name": "python",
   "nbconvert_exporter": "python",
   "pygments_lexer": "ipython3",
   "version": "3.7.3"
  }
 },
 "nbformat": 4,
 "nbformat_minor": 2
}
