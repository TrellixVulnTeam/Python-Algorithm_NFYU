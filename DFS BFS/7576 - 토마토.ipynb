{
 "cells": [
  {
   "cell_type": "code",
   "execution_count": 9,
   "metadata": {},
   "outputs": [
    {
     "name": "stdout",
     "output_type": "stream",
     "text": [
      "6 4\n",
      "0 0 0 0 0 0\n",
      "0 0 0 0 0 0\n",
      "0 0 0 0 0 0\n",
      "0 0 0 0 0 1\n",
      "8\n"
     ]
    }
   ],
   "source": [
    "from collections import deque\n",
    "\n",
    "def bfs():\n",
    "    day = 0\n",
    "    while queue: # 상태가 1인 지점을 반복해서 돌린다\n",
    "        day += 1\n",
    "        for _ in range(len(queue)): # 상태가 1이였던 곳을 기준으로 차례대로 상하좌우 상태값 살핀다\n",
    "            x, y = queue.popleft()\n",
    "            for i in range(4):\n",
    "                nx = x + dx[i]\n",
    "                ny = y + dy[i]\n",
    "                \n",
    "                if 0 <= nx < n and 0 <= ny < m:\n",
    "                    if graph[nx][ny] == 0:\n",
    "                        graph[nx][ny] = 1\n",
    "                        queue.append([nx, ny])\n",
    "\n",
    "    for i in range(n):\n",
    "        for j in range(m):\n",
    "            if graph[i][j] == 0:\n",
    "                return -1\n",
    "    return day - 1\n",
    "\n",
    "m, n = map(int,input().split()) # 열, 행\n",
    "queue = deque([])\n",
    "graph = []\n",
    "graph += [list(map(int, input().split())) for _ in range(n)]\n",
    "dx = [0, 0, 1, -1]\n",
    "dy = [1, -1, 0, 0]\n",
    "\n",
    "for i in range(n):\n",
    "    for j in range(m):\n",
    "        if graph[i][j] == 1: # 1인 지점을 기준으로 상하좌우의 상태를 살피기 위해 queue에 append한다\n",
    "            queue.append([i, j])\n",
    "print(bfs())\n",
    "        \n",
    "        "
   ]
  }
 ],
 "metadata": {
  "kernelspec": {
   "display_name": "Python 3",
   "language": "python",
   "name": "python3"
  },
  "language_info": {
   "codemirror_mode": {
    "name": "ipython",
    "version": 3
   },
   "file_extension": ".py",
   "mimetype": "text/x-python",
   "name": "python",
   "nbconvert_exporter": "python",
   "pygments_lexer": "ipython3",
   "version": "3.7.3"
  }
 },
 "nbformat": 4,
 "nbformat_minor": 2
}
