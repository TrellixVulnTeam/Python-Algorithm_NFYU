{
 "cells": [
  {
   "cell_type": "code",
   "execution_count": 30,
   "metadata": {},
   "outputs": [
    {
     "name": "stdout",
     "output_type": "stream",
     "text": [
      "7\n",
      "0110100\n",
      "0110101\n",
      "1110101\n",
      "0000111\n",
      "0100000\n",
      "0111110\n",
      "0111000\n",
      "3\n",
      "7\n",
      "8\n",
      "9\n"
     ]
    }
   ],
   "source": [
    "def dfs(x, y):\n",
    "    global cnt\n",
    "    graph[x][y] = 'OK'\n",
    "    cnt += 1\n",
    "    for k in range(4):\n",
    "        nx = x + dx[k]\n",
    "        ny = y + dy[k]\n",
    "        if 0 <= nx < n and 0 <= ny < n and graph[nx][ny] == 1:\n",
    "            graph[nx][ny] = 'OK'\n",
    "            dfs(nx, ny)\n",
    "    return cnt\n",
    "\n",
    "\n",
    "n = int(input())\n",
    "dx = [0, 0, -1, 1]\n",
    "dy = [1, -1, 0, 0]\n",
    "graph = []\n",
    "result = []\n",
    "cnt = 0\n",
    "for _ in range(n):\n",
    "    x = list(map(int,input()))\n",
    "    graph.append(x)\n",
    "\n",
    "for i in range(n):\n",
    "    for j in range(n):\n",
    "        if graph[i][j] == 1:\n",
    "            cnt = 0\n",
    "            result.append(dfs(i, j))\n",
    "print(len(result))\n",
    "result.sort()\n",
    "for i in result:\n",
    "    print(i)"
   ]
  }
 ],
 "metadata": {
  "kernelspec": {
   "display_name": "Python 3",
   "language": "python",
   "name": "python3"
  },
  "language_info": {
   "codemirror_mode": {
    "name": "ipython",
    "version": 3
   },
   "file_extension": ".py",
   "mimetype": "text/x-python",
   "name": "python",
   "nbconvert_exporter": "python",
   "pygments_lexer": "ipython3",
   "version": "3.7.3"
  }
 },
 "nbformat": 4,
 "nbformat_minor": 2
}
