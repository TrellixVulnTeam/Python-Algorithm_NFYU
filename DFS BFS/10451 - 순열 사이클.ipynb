{
 "cells": [
  {
   "cell_type": "code",
   "execution_count": null,
   "metadata": {},
   "outputs": [],
   "source": [
    "# bfs 풀이 my code\n",
    "# 다시 풀어보기.. 왜 bfs가 아닌 dfs가 더 적합한 문제인것인가\n",
    "\n",
    "from collections import deque\n",
    "import sys\n",
    "\n",
    "\n",
    "def bfs(v):\n",
    "    visited[v] = True\n",
    "    queue = deque([v])\n",
    "    while queue:\n",
    "        v = queue.popleft()\n",
    "        for i in graph[v]:\n",
    "            if not visited[i]:\n",
    "                queue.append(i)\n",
    "                visited[i] = True\n",
    "                \n",
    "n = int(input())\n",
    "for _ in range(n):\n",
    "    count = 0\n",
    "    cnt = int(input())\n",
    "    n_list = list(map(int, input().split()))\n",
    "    graph = [[] * (cnt) for _ in range(cnt + 1)]\n",
    "    visited = [False] * (cnt + 1)\n",
    "    for i, j in enumerate(n_list):\n",
    "        graph[i + 1].append(j)\n",
    "    for i in range(1, cnt + 1):\n",
    "        if not visited[i]: \n",
    "            bfs(i)\n",
    "            count += 1\n",
    "    print(count)\n",
    "        "
   ]
  },
  {
   "cell_type": "code",
   "execution_count": null,
   "metadata": {},
   "outputs": [],
   "source": [
    "# dfs 풀이 other code\n",
    "# 방문했던 정점을 다시 방문한 경우엔 그 순간 사이클이 형성되기 때문에 하나의 정정씩 방향대로 이동하며 점검해주는 dfs 방식이 좀 더 적합\n",
    "\n",
    "\n",
    "\n",
    "def dfs(v):\n",
    "    visited[v] = 1\n",
    "    next = arr[v]\n",
    "    if visited[next] == 0:\n",
    "        dfs(next)\n",
    "\n",
    "\n",
    "for i in range(int(input())):\n",
    "    cnt = 0\n",
    "    n = int(input())\n",
    "    arr = [0] + list(map(int, input().split()))\n",
    "    visited = [0] * (n + 1)\n",
    "    \n",
    "    for i in range(1, n + 1):\n",
    "        if visited[i] == 0:\n",
    "            dfs(i)\n",
    "            cnt += 1\n",
    "    print(cnt)"
   ]
  }
 ],
 "metadata": {
  "kernelspec": {
   "display_name": "Python 3",
   "language": "python",
   "name": "python3"
  },
  "language_info": {
   "codemirror_mode": {
    "name": "ipython",
    "version": 3
   },
   "file_extension": ".py",
   "mimetype": "text/x-python",
   "name": "python",
   "nbconvert_exporter": "python",
   "pygments_lexer": "ipython3",
   "version": "3.7.3"
  }
 },
 "nbformat": 4,
 "nbformat_minor": 2
}
