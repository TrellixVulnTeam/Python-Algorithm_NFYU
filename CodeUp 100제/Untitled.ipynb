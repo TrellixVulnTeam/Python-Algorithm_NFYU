{
 "cells": [
  {
   "cell_type": "markdown",
   "metadata": {},
   "source": [
    "### 1081\n",
    "1부터 n까지, 1부터 m까지 숫자가 적힌 서로 다른 주사위 2개를 던졌을 때 나올 수 있는 모든 경우를 출력해보자."
   ]
  },
  {
   "cell_type": "code",
   "execution_count": 2,
   "metadata": {},
   "outputs": [
    {
     "name": "stdout",
     "output_type": "stream",
     "text": [
      "2 3\n",
      "1 1\n",
      "1 2\n",
      "1 3\n",
      "2 1\n",
      "2 2\n",
      "2 3\n"
     ]
    }
   ],
   "source": [
    "num1, num2 = input().split()\n",
    "num1 = int(num1)\n",
    "num2 = int(num2)\n",
    "for i in range(1, num1+1):\n",
    "    for j in range(1, num2+1):\n",
    "        print(i,j)"
   ]
  },
  {
   "cell_type": "markdown",
   "metadata": {},
   "source": [
    "### 1082\n",
    "A, B, C, D, E, F 중 하나가 입력될 때,\n",
    "1부터 F까지 곱한 16진수 구구단의 내용을 출력해보자.\n",
    "(단, A ~ F 까지만 입력된다.)"
   ]
  },
  {
   "cell_type": "code",
   "execution_count": 4,
   "metadata": {},
   "outputs": [
    {
     "name": "stdout",
     "output_type": "stream",
     "text": [
      "B\n",
      "B * 1 = B\n",
      "B * 2 = 16\n",
      "B * 3 = 21\n",
      "B * 4 = 2C\n",
      "B * 5 = 37\n",
      "B * 6 = 42\n",
      "B * 7 = 4D\n",
      "B * 8 = 58\n",
      "B * 9 = 63\n",
      "B * A = 6E\n",
      "B * B = 79\n",
      "B * C = 84\n",
      "B * D = 8F\n",
      "B * E = 9A\n",
      "B * F = A5\n"
     ]
    }
   ],
   "source": [
    "num = int(input(),16)\n",
    "for i in range(1, 15+1):\n",
    "    print('%X * %X = %X' % (num, i, num*i))"
   ]
  },
  {
   "cell_type": "markdown",
   "metadata": {},
   "source": [
    "### 1083\n",
    "3 6 9 게임의 왕이 되기 위한 마스터 프로그램을 작성해 보자    \n",
    "1 부터 그 수까지 순서대로 공백을 두고 수를 출력하는데,\n",
    "3 또는 6 또는 9인 경우 그 수 대신 영문 대문자 X 를 출력한다."
   ]
  },
  {
   "cell_type": "code",
   "execution_count": 5,
   "metadata": {},
   "outputs": [
    {
     "name": "stdout",
     "output_type": "stream",
     "text": [
      "9\n",
      "1 2 X 4 5 X 7 8 X "
     ]
    }
   ],
   "source": [
    "num = int(input())\n",
    "clap =[3,6,9]\n",
    "\n",
    "for i in range(1, num+1):\n",
    "    if i in clap:\n",
    "        print('X',end=' ')\n",
    "    else:\n",
    "        print(i, end=' ')"
   ]
  },
  {
   "cell_type": "markdown",
   "metadata": {},
   "source": [
    "### 1084\n",
    "빨강(r), 초록(g), 파랑(b) 각각의 빛의 개수가 주어질 때,\n",
    "(빛의 강약에 따라 0 ~ n-1 까지 n가지의 빛 색깔을 만들 수 있다.)\n",
    "주어진 rgb 빛들을 다르게 섞어 만들 수 있는 모든 경우의 조합(r g b)과\n",
    "총 가짓 수를 계산해보자.    \n",
    "빨녹파(r, g, b) 각 빛의 강약에 따른 가짓수(0 ~ 128))가 공백을 사이에 두고 입력된다.\n",
    "예를 들어, 3 3 3 은 각 색깔 빛에 대해서 그 강약에 따라 0~2까지 3가지의 색이 있음을 의미한다.    \n",
    "<br>\n",
    "\n",
    "__preudocode__   \n",
    "1. 3개의 빛 각각 n개 입력   \n",
    "2. 3중 for문을 이용해 각 색을 순서대로 출력   "
   ]
  },
  {
   "cell_type": "code",
   "execution_count": 6,
   "metadata": {},
   "outputs": [
    {
     "name": "stdout",
     "output_type": "stream",
     "text": [
      "2 2 2\n",
      "0 0 0\n",
      "0 0 1\n",
      "0 1 0\n",
      "0 1 1\n",
      "1 0 0\n",
      "1 0 1\n",
      "1 1 0\n",
      "1 1 1\n",
      "8\n"
     ]
    }
   ],
   "source": [
    "num1, num2, num3 = map(int,input().split())\n",
    "cnt = 0\n",
    "\n",
    "for i in range(0, num1):\n",
    "    for j in range(0, num2):\n",
    "        for k in range(0, num3):\n",
    "            print(i, j, k)\n",
    "            cnt +=1\n",
    "print(cnt)"
   ]
  },
  {
   "cell_type": "markdown",
   "metadata": {},
   "source": [
    "### 1087\n",
    "1, 2, 3 ... 을 순서대로 계속 더해나갈 때,\n",
    "그 합이 입력한 정수보다 작을 동안만 계속 더하는 프로그램을 작성해보자.\n",
    "<br>\n",
    "\n",
    "__preudocode__    \n",
    "1. 입력값 n\n",
    "2. 더해질때마다 카운트 해주는 변수 i\n",
    "3. 더해질때마다 누적으로 더해주는 변수 sum\n",
    "4. 만약 sum이 n보다 작아지면 sum 출력"
   ]
  },
  {
   "cell_type": "code",
   "execution_count": 8,
   "metadata": {},
   "outputs": [
    {
     "name": "stdout",
     "output_type": "stream",
     "text": [
      "57\n",
      "66\n"
     ]
    }
   ],
   "source": [
    "n = int(input())\n",
    "\n",
    "i = 1\n",
    "sum_ = 0\n",
    "\n",
    "while n > sum_:\n",
    "    sum_ += i\n",
    "    i += 1\n",
    "print(sum_)"
   ]
  },
  {
   "cell_type": "markdown",
   "metadata": {},
   "source": [
    "### 1088\n",
    "1부터 입력한 정수까지 1씩 증가시켜 출력하는 프로그램을 작성하되,\n",
    "3의 배수인 경우는 출력하지 않도록 만들어보자.\n",
    "<br>\n",
    "\n",
    "__preudocode__   \n",
    "1. 입력값 n\n",
    "2. for문 이용해 1-n까지의 값 출력\n",
    "3. 만약 n값 3의 배수이면 출력 x"
   ]
  },
  {
   "cell_type": "code",
   "execution_count": 9,
   "metadata": {},
   "outputs": [
    {
     "name": "stdout",
     "output_type": "stream",
     "text": [
      "10\n",
      "1 2 4 5 7 8 10 "
     ]
    }
   ],
   "source": [
    "n = int(input())\n",
    "\n",
    "for i in range(1, n+1):\n",
    "    if i % 3 != 0:\n",
    "        print(i,end=' ')"
   ]
  },
  {
   "cell_type": "markdown",
   "metadata": {},
   "source": [
    "### 1089  \n",
    "등차수열 (수 나열하기1)  \n",
    "시작 값(a), 등차(d), 몇 번째인지를 나타내는 정수(n)가 입력될 때\n",
    "n번째 수를 출력하는 프로그램을 만들어보자.    \n",
    "<br>\n",
    "\n",
    "__presudocode__\n",
    "1. 3개의 값 입력받는다 a,d,n   \n",
    "2. for문을 n번 돌린다\n",
    "3. 시작값 a를 d와 더한 값 a에 할당"
   ]
  },
  {
   "cell_type": "code",
   "execution_count": 11,
   "metadata": {},
   "outputs": [
    {
     "name": "stdout",
     "output_type": "stream",
     "text": [
      "1 3 5\n",
      "13\n"
     ]
    }
   ],
   "source": [
    "a,d,n = map(int,input().split())\n",
    "for _ in range(n-1):\n",
    "    a += d\n",
    "print(a)"
   ]
  },
  {
   "cell_type": "markdown",
   "metadata": {},
   "source": [
    "### 1090\n",
    "등비수열 (수 나열하기2)    \n",
    "시작 값(a), 등비(r), 몇 번째인지를 나타내는 정수(n)가 입력될 때\n",
    "n번째 수를 출력하는 프로그램을 만들어보자.   \n",
    "<br>\n",
    "\n",
    "__presudocode__   \n",
    "1. 3개의 값 입력받는다 a,r,n\n",
    "2. for문을 n번 돌린다\n",
    "3. 시작값 a를 r과 곱한값 a에 할당"
   ]
  },
  {
   "cell_type": "code",
   "execution_count": 13,
   "metadata": {},
   "outputs": [
    {
     "name": "stdout",
     "output_type": "stream",
     "text": [
      "2 3 7\n",
      "1458\n"
     ]
    }
   ],
   "source": [
    "a, r, n = map(int, input().split())\n",
    "for _ in range(n-1):\n",
    "    a *= r\n",
    "print(a)"
   ]
  },
  {
   "cell_type": "markdown",
   "metadata": {},
   "source": [
    "### 1091\n",
    "수 나열하기3   \n",
    "시작 값(a), 곱할 값(m), 더할 값(d), 몇 번째인지를 나타내는 정수(n)가 입력될 때,\n",
    "n번째 수를 출력하는 프로그램을 만들어보자.    \n",
    "<br>\n",
    "\n",
    "1. 4개의 값 입력받는다. a, m, d, n\n",
    "2. for문으로 n번 돌린다   \n",
    "3. a*m+d를 계산하여 n번 반복해준다"
   ]
  },
  {
   "cell_type": "code",
   "execution_count": 15,
   "metadata": {},
   "outputs": [
    {
     "name": "stdout",
     "output_type": "stream",
     "text": [
      "1 -2 1 8\n",
      "-85\n"
     ]
    }
   ],
   "source": [
    "a, m, d, n = map(int, input().split())\n",
    "for _ in range(n-1):\n",
    "    a = a * m + d\n",
    "print(a)"
   ]
  },
  {
   "cell_type": "markdown",
   "metadata": {},
   "source": [
    "### 1092\n",
    "함께 문제 푸는 날\n",
    "같은 날 동시에 가입한 인원 3명이 규칙적으로 방문하는,\n",
    "방문 주기가 공백을 두고 입력된다. (단, 입력값은 100이하의 자연수이다.)\n",
    "3명이 다시 모두 함께 방문해 문제를 풀어보는 날(동시 가입/등업 후 며칠 후?)을 출력한다.   \n",
    "<br>\n",
    "\n",
    "__preudocode__\n",
    "\n",
    "1. 3명의 방문 주기를 입력한다, num1, num2, num3\n",
    "2. if문을 이용해 3명이 동시에 일치하는 값을 출력한다\n"
   ]
  },
  {
   "cell_type": "code",
   "execution_count": 18,
   "metadata": {},
   "outputs": [
    {
     "name": "stdout",
     "output_type": "stream",
     "text": [
      "3 7 9\n",
      "63\n"
     ]
    }
   ],
   "source": [
    "num1, num2, num3 = map(int,input().split())\n",
    "\n",
    "day = 1\n",
    "\n",
    "while day % num1 != 0 or day % num2 != 0 or day % num3 != 0:\n",
    "    day+=1\n",
    "print(day)"
   ]
  },
  {
   "cell_type": "markdown",
   "metadata": {},
   "source": [
    "### 1093\n",
    "[1차원배열] 이상한 출석 번호 부르기1   \n",
    "첫 번째 줄에 출석 번호를 부른 횟수인 정수 n이 입력된다. (1 ~ 10000)\n",
    "두 번째 줄에는 무작위로 부른 n개의 번호(1 ~ 23)가 공백을 두고 순서대로 입력  \n",
    "<br>\n",
    "\n",
    "__preudocode__   \n",
    "1. 배열 arr=[1~23]생성\n",
    "2. 출력될 값을 정해주는 입력값 n\n",
    "3. n개의 개수만큼 arr에서 random으로 출력"
   ]
  },
  {
   "cell_type": "code",
   "execution_count": 14,
   "metadata": {},
   "outputs": [
    {
     "name": "stdout",
     "output_type": "stream",
     "text": [
      "10\n",
      "[0, 0, 0, 0, 0, 0, 0, 0, 0, 0, 0, 0, 0, 0, 0, 0, 0, 0, 0, 0, 0, 0, 0]\n"
     ]
    }
   ],
   "source": [
    "#     print(random.choice(arr),end=' ')\n",
    "import random\n",
    "arr = []\n",
    "n = int(input())\n",
    "b = \n",
    "for _ in range(0,23):\n",
    "    arr.append(0)\n",
    "for i in range(n):\n",
    "    arr[]\n"
   ]
  },
  {
   "cell_type": "code",
   "execution_count": 13,
   "metadata": {},
   "outputs": [
    {
     "name": "stdout",
     "output_type": "stream",
     "text": [
      "10\n",
      "1 3 2 2 5 6 7 4 5 9\n",
      "1 2 1 1 2 1 1 0 1 0 0 0 0 0 0 0 0 0 0 0 0 0 0 "
     ]
    }
   ],
   "source": [
    "\n",
    "a=input()\n",
    "b=input().split()\n",
    "\n",
    "n=int(a)\n",
    "arr=[]\n",
    "for i in range(24) :\n",
    "    arr.append(0)\n",
    "for i in range(n) :\n",
    "    arr[int(b[i])]+=1\n",
    "\n",
    "for i in range(1, 24) :\n",
    "    print(arr[i], end=' ')\n"
   ]
  },
  {
   "cell_type": "code",
   "execution_count": null,
   "metadata": {},
   "outputs": [],
   "source": []
  }
 ],
 "metadata": {
  "kernelspec": {
   "display_name": "Python 3",
   "language": "python",
   "name": "python3"
  },
  "language_info": {
   "codemirror_mode": {
    "name": "ipython",
    "version": 3
   },
   "file_extension": ".py",
   "mimetype": "text/x-python",
   "name": "python",
   "nbconvert_exporter": "python",
   "pygments_lexer": "ipython3",
   "version": "3.8.3"
  },
  "toc": {
   "base_numbering": 1,
   "nav_menu": {},
   "number_sections": true,
   "sideBar": true,
   "skip_h1_title": false,
   "title_cell": "Table of Contents",
   "title_sidebar": "Contents",
   "toc_cell": false,
   "toc_position": {},
   "toc_section_display": true,
   "toc_window_display": false
  }
 },
 "nbformat": 4,
 "nbformat_minor": 4
}
