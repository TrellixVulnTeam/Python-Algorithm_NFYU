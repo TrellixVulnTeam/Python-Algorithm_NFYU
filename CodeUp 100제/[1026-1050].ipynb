{
 "cells": [
  {
   "cell_type": "markdown",
   "metadata": {},
   "source": [
    "### 1026 \n",
    "#### 시분초 입력받아 분만 출력하기\n",
    "preudocode     \n",
    "1. : : 을 기준으로 문자열을 자른다    \n",
    "2. 자른 문자열 새로운 리스트에 삽입한다    \n",
    "3. [1]번째 문자열을 가져온다    "
   ]
  },
  {
   "cell_type": "code",
   "execution_count": 69,
   "metadata": {},
   "outputs": [
    {
     "name": "stdout",
     "output_type": "stream",
     "text": [
      "17:23:57\n",
      "23\n"
     ]
    }
   ],
   "source": [
    "date = input()\n",
    "date = int(date.split(':')[1])\n",
    "print(m)"
   ]
  },
  {
   "cell_type": "markdown",
   "metadata": {},
   "source": [
    "### 1027\n",
    "#### 년월일 입력받아 형식 바꾸어 출력하기 (yyyy.mm.dd) -> (dd-mm-yyyy)     \n",
    "(단, 한 자리 일/월은 0을 붙여 두자리로 년도도 0을 붙여 네자리로 출력한다)   \n",
    "\n",
    "preudocode   \n",
    "1. ```.``` 을 - 으로 교체한 뒤 - 기준으로 쪼개어 리스트에 담는다   \n",
    "2. ```-``` 기준으로 문자열 변경 후 reversed를 이용해 뒤에서부터 출력해준다    "
   ]
  },
  {
   "cell_type": "code",
   "execution_count": 27,
   "metadata": {},
   "outputs": [
    {
     "name": "stdout",
     "output_type": "stream",
     "text": [
      "2014.07.15\n",
      "15-07-2014\n"
     ]
    }
   ],
   "source": [
    "date = input()\n",
    "list_ = []\n",
    "list_ = date.replace('.','-').split('-')\n",
    "list_ = '-'.join(reversed(list_))\n",
    "print(list_)"
   ]
  },
  {
   "cell_type": "markdown",
   "metadata": {},
   "source": [
    "### 1028\n",
    "#### 정수 1개 입력받아 그대로 출력하기"
   ]
  },
  {
   "cell_type": "code",
   "execution_count": 36,
   "metadata": {},
   "outputs": [
    {
     "name": "stdout",
     "output_type": "stream",
     "text": [
      "-2147483649\n",
      "-2147483649\n"
     ]
    }
   ],
   "source": [
    "num = int(input())\n",
    "print(num)"
   ]
  },
  {
   "cell_type": "markdown",
   "metadata": {},
   "source": [
    "### 1031 \n",
    "#### 10진 정수 1개 입력받아 8진수로 출력하기\n",
    "\n",
    "preudocode\n",
    "1. (진법함수)진수를 변환해주는 함수를 이용한다   \n",
    "hex(16진수)    \n",
    "oct(8진수)     \n",
    "bin(2진수)    \n",
    "<br>\n",
    "\n",
    "2. 서식문자를 이용한다   \n",
    "%X(16진수 대문자)   \n",
    "%x(16진수 소문자)    \n",
    "%o(8진수)\n"
   ]
  },
  {
   "cell_type": "code",
   "execution_count": 12,
   "metadata": {},
   "outputs": [
    {
     "name": "stdout",
     "output_type": "stream",
     "text": [
      "10\n",
      "0o12\n"
     ]
    }
   ],
   "source": [
    "#함수쓰는 경우 앞에 0o 붙는 걸 볼 수 있다\n",
    "number_ten = int(input())\n",
    "number_eight = oct(number_ten)\n",
    "print(number_eight)"
   ]
  },
  {
   "cell_type": "code",
   "execution_count": 14,
   "metadata": {},
   "outputs": [
    {
     "name": "stdout",
     "output_type": "stream",
     "text": [
      "10\n",
      "12\n"
     ]
    }
   ],
   "source": [
    "number_ten = int(input())\n",
    "print('%o' % number_ten)"
   ]
  },
  {
   "cell_type": "markdown",
   "metadata": {},
   "source": [
    "### 1032\n",
    "#### 10진 정수 입력받아 16진수(소문자)로 출력하기"
   ]
  },
  {
   "cell_type": "code",
   "execution_count": 13,
   "metadata": {},
   "outputs": [
    {
     "name": "stdout",
     "output_type": "stream",
     "text": [
      "255\n",
      "ff\n"
     ]
    }
   ],
   "source": [
    "num = int(input())\n",
    "print('%x' % num)"
   ]
  },
  {
   "cell_type": "markdown",
   "metadata": {},
   "source": [
    "### 1033 \n",
    "#### 10진수 입력받아 16진수(대문자)로 출력하기"
   ]
  },
  {
   "cell_type": "code",
   "execution_count": 15,
   "metadata": {},
   "outputs": [
    {
     "name": "stdout",
     "output_type": "stream",
     "text": [
      "255\n",
      "FF\n"
     ]
    }
   ],
   "source": [
    "num = int(input())\n",
    "print('%X' % num)"
   ]
  },
  {
   "cell_type": "markdown",
   "metadata": {},
   "source": [
    "### 1034\n",
    "#### 8진수 1개 입력받아 10진수로 출력하기\n",
    "input : int(input(), 8) -> 8진수로 입력받는 방법    \n",
    "output : print(int('진수값', '몇진수?')) -> 10진수로 변환하는 방법"
   ]
  },
  {
   "cell_type": "code",
   "execution_count": 21,
   "metadata": {},
   "outputs": [
    {
     "name": "stdout",
     "output_type": "stream",
     "text": [
      "13\n",
      "11\n"
     ]
    }
   ],
   "source": [
    "o_num = int(input(), 8)\n",
    "print(o_num)"
   ]
  },
  {
   "cell_type": "markdown",
   "metadata": {},
   "source": [
    "### 1035\n",
    "#### 16진수 (소문자)1개 입력받아 8진수로 출력하기"
   ]
  },
  {
   "cell_type": "code",
   "execution_count": 24,
   "metadata": {},
   "outputs": [
    {
     "name": "stdout",
     "output_type": "stream",
     "text": [
      "f\n",
      "17\n"
     ]
    }
   ],
   "source": [
    "h_num = int(input(), 16)\n",
    "print('%o' % h_num)"
   ]
  },
  {
   "cell_type": "markdown",
   "metadata": {},
   "source": [
    "### 1036\n",
    "#### 영문자 1개 입력받아 10진수로 출력하기\n",
    "\n",
    "진법함수 사용한다    \n",
    "ord() : 문자에서 아스키 코드 번호로 변환    \n",
    "chr() : 아스키 코드 번호에서 문자로 변환    "
   ]
  },
  {
   "cell_type": "code",
   "execution_count": 27,
   "metadata": {},
   "outputs": [
    {
     "name": "stdout",
     "output_type": "stream",
     "text": [
      "A\n",
      "65\n"
     ]
    }
   ],
   "source": [
    "word = input()\n",
    "print(ord(word))"
   ]
  },
  {
   "cell_type": "code",
   "execution_count": 28,
   "metadata": {},
   "outputs": [
    {
     "name": "stdout",
     "output_type": "stream",
     "text": [
      "65\n",
      "A\n"
     ]
    }
   ],
   "source": [
    "### 1037\n",
    "#### 정수를 입력받아 아스키 문자로 출력하기\n",
    "num = int(input())\n",
    "print(chr(num))"
   ]
  },
  {
   "cell_type": "markdown",
   "metadata": {},
   "source": [
    "### 1038\n",
    "(1039문제 비슷함)\n",
    "#### 정수 2개를 입력받아 합을 출력하기"
   ]
  },
  {
   "cell_type": "code",
   "execution_count": 31,
   "metadata": {},
   "outputs": [
    {
     "name": "stdout",
     "output_type": "stream",
     "text": [
      "123 -123\n",
      "0\n"
     ]
    }
   ],
   "source": [
    "num1, num2 = map(int,input().split())\n",
    "print(num1 + num2)"
   ]
  },
  {
   "cell_type": "markdown",
   "metadata": {},
   "source": [
    "### 1040\n",
    "#### 정수 1개 입력받아 부호 바꾸어 출력하기"
   ]
  },
  {
   "cell_type": "code",
   "execution_count": 37,
   "metadata": {},
   "outputs": [
    {
     "name": "stdout",
     "output_type": "stream",
     "text": [
      "-19\n",
      "19\n"
     ]
    }
   ],
   "source": [
    "num = int(input())\n",
    "num = str(num)\n",
    "if '-' in num:\n",
    "    num = num.replace('-','')\n",
    "print(num)"
   ]
  },
  {
   "cell_type": "code",
   "execution_count": 70,
   "metadata": {},
   "outputs": [
    {
     "name": "stdout",
     "output_type": "stream",
     "text": [
      "-19\n",
      "19\n"
     ]
    }
   ],
   "source": [
    "num = int(input())\n",
    "print(-num)"
   ]
  },
  {
   "cell_type": "markdown",
   "metadata": {},
   "source": [
    "### 1041\n",
    "#### 문자 1개를 입력받아 다음 문자 출력하기\n",
    "\n",
    "preudocode\n",
    "1. 문자를 아스키 코드로 변환한다 (ord())\n",
    "2. 변환한 아스키 코드에 +1\n",
    "3. 다시 문자로 바꾸어 준다(chr())"
   ]
  },
  {
   "cell_type": "code",
   "execution_count": 71,
   "metadata": {},
   "outputs": [
    {
     "name": "stdout",
     "output_type": "stream",
     "text": [
      "a\n",
      "b\n"
     ]
    }
   ],
   "source": [
    "num = input()\n",
    "num = ord(num)\n",
    "print(chr(num+1))"
   ]
  },
  {
   "cell_type": "markdown",
   "metadata": {},
   "source": [
    "### 1042\n",
    "#### 정수 2개를 입력받아 나눈 몫 출력하기\n"
   ]
  },
  {
   "cell_type": "code",
   "execution_count": 73,
   "metadata": {},
   "outputs": [
    {
     "name": "stdout",
     "output_type": "stream",
     "text": [
      "1 3\n",
      "0\n"
     ]
    }
   ],
   "source": [
    "num1, num2 = map(int,input().split())\n",
    "mogs = num1 // num2\n",
    "print(mogs)"
   ]
  },
  {
   "cell_type": "markdown",
   "metadata": {},
   "source": [
    "###  1043\n",
    "#### 정수 2개를 입력받아 나눈 나머지 출력하기"
   ]
  },
  {
   "cell_type": "code",
   "execution_count": 47,
   "metadata": {},
   "outputs": [
    {
     "name": "stdout",
     "output_type": "stream",
     "text": [
      "10 3\n",
      "1\n"
     ]
    }
   ],
   "source": [
    "num1, num2 = map(int, input().split())\n",
    "nameoji = num1 % num2\n",
    "print(nameoji)\n"
   ]
  },
  {
   "cell_type": "markdown",
   "metadata": {},
   "source": [
    "### 1044\n",
    "#### 정수 1개를 입력받아 1 더해 출력하기"
   ]
  },
  {
   "cell_type": "code",
   "execution_count": 48,
   "metadata": {},
   "outputs": [
    {
     "name": "stdout",
     "output_type": "stream",
     "text": [
      "2147483647\n",
      "2147483648\n"
     ]
    }
   ],
   "source": [
    "num = int(input())\n",
    "print(num+1)"
   ]
  },
  {
   "cell_type": "markdown",
   "metadata": {},
   "source": [
    "### 1045\n",
    "#### 정수 2개 입력받아 자동 계산하기\n",
    "\n",
    "첫 줄에 합    \n",
    "둘째 줄에 차,    \n",
    "셋째 줄에 곱,   \n",
    "넷째 줄에 몫,    \n",
    "다섯째 줄에 나머지,    \n",
    "여섯째 줄에 나눈 값을 순서대로 출력한다.   \n",
    "(실수, 소수점 이하 셋째 자리에서 반올림해 둘째 자리까지 출력)    "
   ]
  },
  {
   "cell_type": "code",
   "execution_count": 51,
   "metadata": {},
   "outputs": [
    {
     "name": "stdout",
     "output_type": "stream",
     "text": [
      "10 3\n",
      "13\n",
      "7\n",
      "30\n",
      "3\n",
      "1\n",
      "3.33\n"
     ]
    }
   ],
   "source": [
    "num1, num2 = map(int, input().split())\n",
    "print(num1 + num2)\n",
    "print(num1 - num2)\n",
    "print(num1 * num2)\n",
    "print(num1// num2)\n",
    "print(num1 % num2)\n",
    "print(round(num1/num2,2))"
   ]
  },
  {
   "cell_type": "markdown",
   "metadata": {},
   "source": [
    "### 1046\n",
    "#### 정수 3개 입력받아 합과 평균 출력하기"
   ]
  },
  {
   "cell_type": "code",
   "execution_count": 53,
   "metadata": {},
   "outputs": [
    {
     "name": "stdout",
     "output_type": "stream",
     "text": [
      "1 2 3\n",
      "6\n",
      "2.0\n"
     ]
    }
   ],
   "source": [
    "num1, num2, num3 = map(int,input().split())\n",
    "sum_ = num1 + num2 + num3\n",
    "avg = round(sum_/3,1)\n",
    "print(f'{sum_}\\n{avg}')\n"
   ]
  },
  {
   "cell_type": "markdown",
   "metadata": {},
   "source": [
    "### 1047\n",
    "#### [비트 시프트 연산]정수 1개 입력받아 2배 곱해 출력하기\n",
    "\n",
    "a=10\n",
    "print(a<<1) #10을 2배 한 값인 20 이 출력된다.\n",
    "print(a>>1) #10을 반으로 나눈 값인 5 가 출력된다.\n",
    "print(a<<2) #10을 4배 한 값인 40 이 출력된다.\n",
    "print(a>>2) #10을 반으로 나눈 후 다시 반으로 나눈 값인 2 가 출력된다."
   ]
  },
  {
   "cell_type": "code",
   "execution_count": 61,
   "metadata": {},
   "outputs": [
    {
     "name": "stdout",
     "output_type": "stream",
     "text": [
      "20\n",
      "5\n",
      "40\n",
      "2\n"
     ]
    }
   ],
   "source": [
    "a=10\n",
    "print(a<<1) #10을 2배 한 값인 20 이 출력된다.\n",
    "print(a>>1) #10을 반으로 나눈 값인 5 가 출력된다.\n",
    "print(a<<2) #10을 4배 한 값인 40 이 출력된다.\n",
    "print(a>>2) #10을 반으로 나눈 후 다시 반으로 나눈 값인 2 가 출력된다."
   ]
  },
  {
   "cell_type": "code",
   "execution_count": 56,
   "metadata": {},
   "outputs": [
    {
     "name": "stdout",
     "output_type": "stream",
     "text": [
      "1024\n",
      "2048\n"
     ]
    }
   ],
   "source": [
    "num = int(input())\n",
    "print(num<<1)"
   ]
  },
  {
   "cell_type": "markdown",
   "metadata": {},
   "source": [
    "### 1048\n",
    "#### [비트 시프트 연산]한 번에 2의 거듭제곱 배로 출력하기\n",
    "(a 를 2^b배 만큼 곱한 값을 출력한다.)\n"
   ]
  },
  {
   "cell_type": "code",
   "execution_count": 66,
   "metadata": {},
   "outputs": [
    {
     "name": "stdout",
     "output_type": "stream",
     "text": [
      "1 3\n",
      "8\n"
     ]
    }
   ],
   "source": [
    "num1, num2 = map(int,input().split())\n",
    "print(num1 << num2)"
   ]
  },
  {
   "cell_type": "markdown",
   "metadata": {},
   "source": [
    "### 1049\n",
    "(1050 문제 비슷함)\n",
    "#### 두 정수 입력받아 비교하기\n"
   ]
  },
  {
   "cell_type": "code",
   "execution_count": 67,
   "metadata": {},
   "outputs": [
    {
     "name": "stdout",
     "output_type": "stream",
     "text": [
      "9 1\n",
      "1\n"
     ]
    }
   ],
   "source": [
    "num1, num2 = map(int,input().split())\n",
    "if num1 > num2:\n",
    "    print(1)\n",
    "else:\n",
    "    print(0)"
   ]
  }
 ],
 "metadata": {
  "kernelspec": {
   "display_name": "Python 3",
   "language": "python",
   "name": "python3"
  },
  "language_info": {
   "codemirror_mode": {
    "name": "ipython",
    "version": 3
   },
   "file_extension": ".py",
   "mimetype": "text/x-python",
   "name": "python",
   "nbconvert_exporter": "python",
   "pygments_lexer": "ipython3",
   "version": "3.8.3"
  }
 },
 "nbformat": 4,
 "nbformat_minor": 4
}
