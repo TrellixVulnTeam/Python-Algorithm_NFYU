{
 "cells": [
  {
   "cell_type": "markdown",
   "metadata": {},
   "source": [
    "### 1081\n",
    "주사위를 2개 던지면 ?\n",
    "\n",
    "1부터 n까지, 1부터 m까지 숫자가 적힌\n",
    "서로 다른 주사위 2개를 던졌을 때 나올 수 있는 모든 경우를 출력해보자."
   ]
  },
  {
   "cell_type": "code",
   "execution_count": 2,
   "metadata": {},
   "outputs": [
    {
     "name": "stdout",
     "output_type": "stream",
     "text": [
      "2 3\n",
      "1 1\n",
      "1 2\n",
      "1 3\n",
      "2 1\n",
      "2 2\n",
      "2 3\n"
     ]
    }
   ],
   "source": [
    "num1, num2 = map(int,input().split())\n",
    "for i in range(1, num1+1):\n",
    "    for j in range(1, num2+1):\n",
    "        print(i,j)"
   ]
  },
  {
   "cell_type": "markdown",
   "metadata": {},
   "source": [
    "### 1082\n",
    "16진수 구구단?   \n",
    "A, B, C, D, E, F 중 하나가 입력될 때,\n",
    "1부터 F까지 곱한 16진수 구구단의 내용을 출력해보자.\n",
    "(단, A ~ F 까지만 입력된다.)"
   ]
  },
  {
   "cell_type": "code",
   "execution_count": 5,
   "metadata": {},
   "outputs": [
    {
     "name": "stdout",
     "output_type": "stream",
     "text": [
      "B\n",
      "B * 1 = B\n",
      "B * 2 = 16\n",
      "B * 3 = 21\n",
      "B * 4 = 2C\n",
      "B * 5 = 37\n",
      "B * 6 = 42\n",
      "B * 7 = 4D\n",
      "B * 8 = 58\n",
      "B * 9 = 63\n",
      "B * A = 6E\n",
      "B * B = 79\n",
      "B * C = 84\n",
      "B * D = 8F\n",
      "B * E = 9A\n",
      "B * F = A5\n"
     ]
    }
   ],
   "source": [
    "num = int(input(),16)\n",
    "\n",
    "for i in range(1, 15+1):\n",
    "    print('%X * %X = %X'% (num, i, num*i))"
   ]
  },
  {
   "cell_type": "markdown",
   "metadata": {},
   "source": [
    "### 1083\n",
    "3 6 9 게임의 왕이 되자   \n",
    "1 부터 그 수까지 순서대로 공백을 두고 수를 출력하는데,\n",
    "3 또는 6 또는 9인 경우 그 수 대신 영문 대문자 X 를 출력한다.    \n",
    "\n",
    "__preudocode__\n",
    "1. 숫자를 입력\n",
    "2. for문으로 1부터 입력수까지 출력될 수 있게한다\n",
    "3. if문으로 3또는 6또는 9가 들어가면 x를 출력한다"
   ]
  },
  {
   "cell_type": "code",
   "execution_count": 8,
   "metadata": {},
   "outputs": [
    {
     "name": "stdout",
     "output_type": "stream",
     "text": [
      "9\n",
      "1 2 X 4 5 X 7 8 X "
     ]
    }
   ],
   "source": [
    "num = int(input())\n",
    "clap = [3,6,9]\n",
    "\n",
    "for i in range(1, num+1):\n",
    "    if i in clap:\n",
    "        print('X', end=' ')\n",
    "    else:\n",
    "        print(i, end=' ')"
   ]
  },
  {
   "cell_type": "markdown",
   "metadata": {},
   "source": [
    "### 1084\n",
    "빛 섞어 색 만들기   \n",
    "빨강(r), 초록(g), 파랑(b) 각각의 빛의 개수가 주어질 때,\n",
    "(빛의 강약에 따라 0 ~ n-1 까지 n가지의 빛 색깔을 만들 수 있다.)\n",
    "주어진 rgb 빛들을 다르게 섞어 만들 수 있는 모든 경우의 조합(r g b)과\n",
    "총 가짓 수를 계산해보자.\n",
    "\n",
    "__preudocode__\n",
    "1. 3개의 빛 각각 n가지 입력\n",
    "2. 3중 for문을 이용해 각 색을 순서대로 출력"
   ]
  },
  {
   "cell_type": "code",
   "execution_count": 9,
   "metadata": {},
   "outputs": [
    {
     "name": "stdout",
     "output_type": "stream",
     "text": [
      "2 2 2\n",
      "0 0 0\n",
      "0 0 1\n",
      "0 1 0\n",
      "0 1 1\n",
      "1 0 0\n",
      "1 0 1\n",
      "1 1 0\n",
      "1 1 1\n",
      "8\n"
     ]
    }
   ],
   "source": [
    "num1, num2, num3 = map(int,input().split())\n",
    "cnt = 0\n",
    "for i in range(0,num1):\n",
    "    for j in range(0, num2):\n",
    "        for k in range(0, num3):\n",
    "            print(i,j,k)\n",
    "            cnt +=1\n",
    "print(cnt)"
   ]
  },
  {
   "cell_type": "markdown",
   "metadata": {},
   "source": [
    "### 1085 x\n",
    "### 1086 x"
   ]
  },
  {
   "cell_type": "markdown",
   "metadata": {},
   "source": [
    "### 1087\n",
    "여기까지! 이제그만~    \n",
    "(등차수열)   \n",
    "1, 2, 3, 4, 5 ... 순서대로 계속 더해가다가, 그 합이 입력된 정수보다 커지거나 같아지는 경우,\n",
    "그때까지의 합을 출력한다. \n",
    "\n",
    "__presudocode__\n",
    "1. 입력값 n\n",
    "2. 더해질때마다 카운트 해주는 변수 i\n",
    "3. 더해질때마다 누적으로 더해주는 변수 sum\n",
    "4. 만약 sum이 n보다 작아지면 sum 출력\n"
   ]
  },
  {
   "cell_type": "code",
   "execution_count": 10,
   "metadata": {},
   "outputs": [
    {
     "name": "stdout",
     "output_type": "stream",
     "text": [
      "57\n",
      "66\n"
     ]
    }
   ],
   "source": [
    "n = int(input())\n",
    "i = 1\n",
    "sum_ = 0\n",
    "\n",
    "while n > sum_:\n",
    "    sum_ += i\n",
    "    i += 1\n",
    "print(sum_)"
   ]
  },
  {
   "cell_type": "markdown",
   "metadata": {},
   "source": [
    "### 1088\n",
    "3의 배수는 통과 ?\n",
    "\n",
    "1부터 입력한 정수보다 작거나 같을 때까지 1씩 증가시켜 출력하되\n",
    "3의 배수는 출력하지 않는다.\n",
    "\n",
    "__preudcode__\n",
    "1. 입력정수n\n",
    "2. for문을 이용해 1-n까지의 값 출력\n",
    "3. 만약 n값이 3의 배수이면 출력x"
   ]
  },
  {
   "cell_type": "code",
   "execution_count": 11,
   "metadata": {},
   "outputs": [
    {
     "name": "stdout",
     "output_type": "stream",
     "text": [
      "10\n",
      "1 2 4 5 7 8 10 "
     ]
    }
   ],
   "source": [
    "n = int(input())\n",
    "for i in range(1, n+1):\n",
    "    if i%3 !=0:\n",
    "        print(i, end=' ')"
   ]
  },
  {
   "cell_type": "markdown",
   "metadata": {},
   "source": [
    "### 1089\n",
    "수 나열하기1    \n",
    "시작 값(a), 등차의 값(d), 몇 번째 수 인지를 의미하는 정수(n)가\n",
    "공백을 두고 입력될때(모두 0 ~ 100) n번째 수를 출력한다.   \n",
    "\n",
    "__preudocode__\n",
    "1. 3개의 값을 입력받는다, a,d,n\n",
    "2. for문을 n번 돌린다\n",
    "3. 시작값 a를 d와 더한 값 a에 할당"
   ]
  },
  {
   "cell_type": "code",
   "execution_count": 13,
   "metadata": {
    "scrolled": true
   },
   "outputs": [
    {
     "name": "stdout",
     "output_type": "stream",
     "text": [
      "1 3 5\n",
      "13\n"
     ]
    }
   ],
   "source": [
    "a,d,n = map(int,input().split())\n",
    "for _ in range(n-1):\n",
    "    a+=d\n",
    "print(a)"
   ]
  },
  {
   "cell_type": "markdown",
   "metadata": {},
   "source": [
    "### 1091\n",
    "수 나열하기3    \n",
    "시작 값(a), 곱할 값(m), 더할 값(d), 몇 번째인지를 나타내는 정수(n)가 입력될 때,\n",
    "n번째 수를 출력하는 프로그램을 만들어보자.\n",
    "시작 값(a), 곱할 값(m), 더할 값(d), 몇 번째 인지를 나타내는 정수(n)가\n",
    "공백을 두고 입력된다.(a, m, d는 -50 ~ +50, n은 10이하의 자연수)\n",
    "n번째 수를 출력한다.\n"
   ]
  },
  {
   "cell_type": "code",
   "execution_count": 16,
   "metadata": {},
   "outputs": [
    {
     "name": "stdout",
     "output_type": "stream",
     "text": [
      "1 -2 1 8\n",
      "-85\n"
     ]
    }
   ],
   "source": [
    "a,m,d,n = map(int,input().split())\n",
    "\n",
    "for i in range(n-1):\n",
    "    a= a*m+d\n",
    "    \n",
    "print(a)\n",
    "    "
   ]
  },
  {
   "cell_type": "markdown",
   "metadata": {},
   "source": [
    "### 1092\n",
    "함께 문제 푸는 날   \n",
    "같은 날 동시에 가입한 3명의 사람들이 온라인 채점시스템에 들어와 문제를 푸는 날짜가\n",
    "매우 규칙적이라고 할 때, 다시 모두 함께 문제를 풀게 되는 그날은 언제일까?\n",
    "\n",
    "예를 들어 3명이 같은 날 가입/등업하고, 각각 3일마다, 7일마다, 9일마다\n",
    "한 번씩 들어온다면, 처음 가입하고 63일 만에 다시 3명이 함께 문제를 풀게 된다.\n",
    "같은 날 동시에 가입한 인원 3명이 규칙적으로 방문하는,\n",
    "방문 주기가 공백을 두고 입력된다. (단, 입력값은 100이하의 자연수이다.)\n",
    "3명이 다시 모두 함께 방문해 문제를 풀어보는 날(동시 가입/등업 후 며칠 후?)을 출력한다."
   ]
  },
  {
   "cell_type": "code",
   "execution_count": 28,
   "metadata": {},
   "outputs": [
    {
     "name": "stdout",
     "output_type": "stream",
     "text": [
      "3 7 9\n",
      "63\n"
     ]
    }
   ],
   "source": [
    "per01,per02,per03 = map(int,input().split())\n",
    "day = 1\n",
    "while True:\n",
    "    if (day % per01) ==0 and (day % per02) == 0 and (day % per03) == 0:\n",
    "        print(day)\n",
    "        break\n",
    "    day = day + 1\n"
   ]
  },
  {
   "cell_type": "markdown",
   "metadata": {},
   "source": [
    "### 1093\n",
    "이상한 출석 번호 부르기1    \n",
    "첫 번째 줄에 출석 번호를 부른 횟수인 정수 n이 입력된다. (1 ~ 10000)\n",
    "두 번째 줄에는 무작위로 부른 n개의 번호(1 ~ 23)가 공백을 두고 순서대로 입력될때 1번부터 번호가 불린 횟수를 순서대로 공백으로 구분하여 한 줄로 출력한다.     \n",
    "__preudocode__\n",
    "1. 23개의 초기값이 0인 배열 for문으로 출력 list인 arr 생성됨   \n",
    "2. 몇개의 정수를 입력받을 것인지 n개 입력    \n",
    "3. for문으로 n개만 출력할 수 있도록 범위 지정     \n",
    "4. 사용자 입력값에 -1을 한 후 만들었던 arr배열에 +1을 카운트    "
   ]
  },
  {
   "cell_type": "code",
   "execution_count": 70,
   "metadata": {},
   "outputs": [
    {
     "name": "stdout",
     "output_type": "stream",
     "text": [
      "10\n",
      "4 3 2 5 6 7 3 3 5 6 7\n",
      "0 1 3 1 2 2 1 0 0 0 0 0 0 0 0 0 0 0 0 0 0 0 0 "
     ]
    }
   ],
   "source": [
    "num = int(input())\n",
    "random_num = input().split()\n",
    "\n",
    "arr = [0 for _ in range(23)]\n",
    "\n",
    "for i in range(num):\n",
    "    arr[int(random_num[i])-1] += 1\n",
    "for i in arr:\n",
    "    print(i,end=' ')"
   ]
  },
  {
   "cell_type": "markdown",
   "metadata": {},
   "source": [
    "### 1094 \n",
    "이상한 출석 번호 부르기2    \n",
    "번호를 부른 횟수(n, 1 ~ 10000)가 첫 줄에 입력된다.\n",
    "n개의 랜덤 번호(k, 1 ~ 23)가 두 번째 줄에 공백을 사이에 두고 순서대로 입력된다.\n",
    "\n",
    "\n"
   ]
  },
  {
   "cell_type": "code",
   "execution_count": 27,
   "metadata": {},
   "outputs": [
    {
     "name": "stdout",
     "output_type": "stream",
     "text": [
      "10\n",
      "10 4 2 3 6 6 7 9 8 5\n",
      "5 8 9 7 6 6 3 2 4 10 "
     ]
    }
   ],
   "source": [
    "num = int(input())\n",
    "random_num = input().split()\n",
    "arr = []\n",
    "for i in range(num):\n",
    "    arr.append(int(random_num[i]))\n",
    "for i in reversed(arr):\n",
    "    print(i,end=' ')"
   ]
  },
  {
   "cell_type": "markdown",
   "metadata": {},
   "source": [
    "### 1095\n",
    "이상한 출석 번호 부르기3    \n",
    "번호를 부른 횟수(n, 1 ~ 10000)가 첫 줄에 입력된다.\n",
    "n개의 랜덤 번호(k, 1 ~ 23)가 두 번째 줄에 공백을 사이에 두고 순서대로 입력된다.\n",
    "출석을 부른 번호 중에 가장 빠른 번호를 1개만 출력한다.\n"
   ]
  },
  {
   "cell_type": "code",
   "execution_count": 33,
   "metadata": {},
   "outputs": [
    {
     "name": "stdout",
     "output_type": "stream",
     "text": [
      "10\n",
      "10 4 2 3 6 6 7 9 8 5\n",
      "2\n"
     ]
    }
   ],
   "source": [
    "num = int(input())\n",
    "user_num = input().split()\n",
    "arr = []\n",
    "\n",
    "for i in range(num):\n",
    "    arr.append(int(user_num[i]))\n",
    "print(min(arr))\n"
   ]
  },
  {
   "cell_type": "markdown",
   "metadata": {},
   "source": [
    "### 1096\n",
    "바둑판에 흰 돌 놓기    \n",
    "바둑판(19 * 19)에 n개의 흰 돌을 놓는다고 할 때,\n",
    "n개의 흰 돌이 놓인 위치를 출력하는 프로그램을 작성해보자.   \n",
    "바둑판에 올려 놓을 흰 돌의 개수(n)가 첫 줄에 입력된다.\n",
    "둘째 줄 부터 n+1 번째 줄까지 힌 돌을 놓을 좌표(x, y)가 n줄 입력된다.\n",
    "n은 10이하의 자연수이고 x, y 좌표는 1 ~ 19 까지이며, 같은 좌표는 입력되지 않는다.\n",
    "흰 돌이 올려진 바둑판의 상황을 출력한다.\n",
    "흰 돌이 있는 위치는 1, 없는 곳은 0으로 출력한다."
   ]
  },
  {
   "cell_type": "code",
   "execution_count": 49,
   "metadata": {},
   "outputs": [
    {
     "name": "stdout",
     "output_type": "stream",
     "text": [
      "5\n",
      "1 1\n",
      "2 2\n",
      "3 3\n",
      "4 4\n",
      "5 5\n",
      "1 0 0 0 0 0 0 0 0 0 0 0 0 0 0 0 0 0 0 \n",
      "0 1 0 0 0 0 0 0 0 0 0 0 0 0 0 0 0 0 0 \n",
      "0 0 1 0 0 0 0 0 0 0 0 0 0 0 0 0 0 0 0 \n",
      "0 0 0 1 0 0 0 0 0 0 0 0 0 0 0 0 0 0 0 \n",
      "0 0 0 0 1 0 0 0 0 0 0 0 0 0 0 0 0 0 0 \n",
      "0 0 0 0 0 0 0 0 0 0 0 0 0 0 0 0 0 0 0 \n",
      "0 0 0 0 0 0 0 0 0 0 0 0 0 0 0 0 0 0 0 \n",
      "0 0 0 0 0 0 0 0 0 0 0 0 0 0 0 0 0 0 0 \n",
      "0 0 0 0 0 0 0 0 0 0 0 0 0 0 0 0 0 0 0 \n",
      "0 0 0 0 0 0 0 0 0 0 0 0 0 0 0 0 0 0 0 \n",
      "0 0 0 0 0 0 0 0 0 0 0 0 0 0 0 0 0 0 0 \n",
      "0 0 0 0 0 0 0 0 0 0 0 0 0 0 0 0 0 0 0 \n",
      "0 0 0 0 0 0 0 0 0 0 0 0 0 0 0 0 0 0 0 \n",
      "0 0 0 0 0 0 0 0 0 0 0 0 0 0 0 0 0 0 0 \n",
      "0 0 0 0 0 0 0 0 0 0 0 0 0 0 0 0 0 0 0 \n",
      "0 0 0 0 0 0 0 0 0 0 0 0 0 0 0 0 0 0 0 \n",
      "0 0 0 0 0 0 0 0 0 0 0 0 0 0 0 0 0 0 0 \n",
      "0 0 0 0 0 0 0 0 0 0 0 0 0 0 0 0 0 0 0 \n",
      "0 0 0 0 0 0 0 0 0 0 0 0 0 0 0 0 0 0 0 \n"
     ]
    }
   ],
   "source": [
    "arr = []\n",
    "for i in range(20):\n",
    "    arr.append([])\n",
    "    for j in range(20):\n",
    "        arr[i].append(0)\n",
    "n = int(input())\n",
    "for i in range(n):\n",
    "    x,y = input().split()\n",
    "    arr[int(x)][int(y)] = 1\n",
    "for i in range(1, 20):\n",
    "    for j in range(1,20):\n",
    "        print(arr[i][j],end=' ')\n",
    "    print()\n",
    "        \n",
    "    "
   ]
  },
  {
   "cell_type": "markdown",
   "metadata": {},
   "source": [
    "### 1097\n",
    "바둑알 십자 뒤집기  \n",
    "바둑판(19 * 19)에 흰 돌(1) 또는 검정 돌(0)이 모두 꽉 채워져 놓여있을 때,\n",
    "n개의 좌표를 입력받아 십(+)자 뒤집기한 결과를 출력하는 프로그램을 작성해보자.    \n",
    "바둑알이 깔려 있는 상황이 19 * 19 크기의 정수값으로 입력된다.\n",
    "십자 뒤집기 횟수(n)가 입력된다.\n",
    "십자 뒤집기 좌표가 횟수(n) 만큼 입력된다. 단, n은 10이하의 자연수이다."
   ]
  },
  {
   "cell_type": "code",
   "execution_count": 48,
   "metadata": {},
   "outputs": [
    {
     "data": {
      "text/plain": [
       "'\\narr = []\\n\\nfor i in range(20):\\n    arr.append([])\\n    for j in range(20):\\n        arr[i].append(0)\\nprint(arr)\\n\\nfor i in range(1,20):\\n    for j in range(1,20):\\n        arr[10].append()\\n'"
      ]
     },
     "execution_count": 48,
     "metadata": {},
     "output_type": "execute_result"
    }
   ],
   "source": [
    "\"\"\"\n",
    "arr = []\n",
    "\n",
    "for i in range(20):\n",
    "    arr.append([])\n",
    "    for j in range(20):\n",
    "        arr[i].append(0)\n",
    "print(arr)\n",
    "\n",
    "for i in range(1,20):\n",
    "    for j in range(1,20):\n",
    "        arr[10].append()\n",
    "\"\"\""
   ]
  },
  {
   "cell_type": "markdown",
   "metadata": {},
   "source": [
    "### 1098"
   ]
  },
  {
   "cell_type": "markdown",
   "metadata": {},
   "source": [
    "### 1099"
   ]
  },
  {
   "cell_type": "code",
   "execution_count": null,
   "metadata": {},
   "outputs": [],
   "source": []
  }
 ],
 "metadata": {
  "kernelspec": {
   "display_name": "Python 3",
   "language": "python",
   "name": "python3"
  },
  "language_info": {
   "codemirror_mode": {
    "name": "ipython",
    "version": 3
   },
   "file_extension": ".py",
   "mimetype": "text/x-python",
   "name": "python",
   "nbconvert_exporter": "python",
   "pygments_lexer": "ipython3",
   "version": "3.8.3"
  },
  "toc": {
   "base_numbering": 1,
   "nav_menu": {},
   "number_sections": true,
   "sideBar": true,
   "skip_h1_title": false,
   "title_cell": "Table of Contents",
   "title_sidebar": "Contents",
   "toc_cell": false,
   "toc_position": {},
   "toc_section_display": true,
   "toc_window_display": false
  }
 },
 "nbformat": 4,
 "nbformat_minor": 4
}
