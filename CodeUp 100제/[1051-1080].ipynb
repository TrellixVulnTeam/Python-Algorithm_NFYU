{
 "cells": [
  {
   "cell_type": "markdown",
   "metadata": {},
   "source": [
    "### 1051\n",
    "#### 두 정수 입력받아 비교하기"
   ]
  },
  {
   "cell_type": "code",
   "execution_count": 2,
   "metadata": {},
   "outputs": [
    {
     "name": "stdout",
     "output_type": "stream",
     "text": [
      "0 -1\n",
      "1\n"
     ]
    }
   ],
   "source": [
    "num1, num2 = map(int,input().split())\n",
    "if num1 > num2 :\n",
    "    print(1)\n",
    "else:\n",
    "    print(0)"
   ]
  },
  {
   "cell_type": "markdown",
   "metadata": {},
   "source": [
    "### 1052\n",
    "#### 두 정수 입력받아 비교하기"
   ]
  },
  {
   "cell_type": "code",
   "execution_count": 3,
   "metadata": {},
   "outputs": [
    {
     "name": "stdout",
     "output_type": "stream",
     "text": [
      "0 1\n",
      "1\n"
     ]
    }
   ],
   "source": [
    "num1, num2 = map(int,input().split())\n",
    "if num1 != num2:\n",
    "    print(1)\n",
    "else:\n",
    "    print(0)"
   ]
  },
  {
   "cell_type": "markdown",
   "metadata": {},
   "source": [
    "### 1053\n",
    "#### 참,거짓 바꾸기\n",
    "1(true), 2(false)이 입력되었을때 반대로 출력하기    \n",
    "\n",
    "bool은 값의 true와 false를 출력해준다. 이때 1은 항상 참이고 0은 항상 거짓임을 알아야 한다.    \n",
    "반대로 false의 값으로 바꾸기 위해서 not을 붙여 값의 bool형태를 반대로 바꿔준다"
   ]
  },
  {
   "cell_type": "code",
   "execution_count": 5,
   "metadata": {},
   "outputs": [
    {
     "name": "stdout",
     "output_type": "stream",
     "text": [
      "1\n",
      "0\n"
     ]
    }
   ],
   "source": [
    "num1 = int(input())\n",
    "num = bool(num1)\n",
    "result = int(not num)\n",
    "print(result)\n"
   ]
  },
  {
   "cell_type": "markdown",
   "metadata": {},
   "source": [
    "### 1054\n",
    "#### 둘 다 참일 경우만 참 출력하기"
   ]
  },
  {
   "cell_type": "code",
   "execution_count": 7,
   "metadata": {},
   "outputs": [
    {
     "name": "stdout",
     "output_type": "stream",
     "text": [
      "0 1\n",
      "0\n"
     ]
    }
   ],
   "source": [
    "num1, num2 = map(int,input().split())\n",
    "\n",
    "if bool(num1) and bool(num2):\n",
    "    print(1)\n",
    "else:\n",
    "    print(0)"
   ]
  },
  {
   "cell_type": "markdown",
   "metadata": {},
   "source": [
    "### 1055  \n",
    "#### 하나라도 참이면 참 출력하기"
   ]
  },
  {
   "cell_type": "code",
   "execution_count": 8,
   "metadata": {},
   "outputs": [
    {
     "name": "stdout",
     "output_type": "stream",
     "text": [
      "0 1\n",
      "1\n"
     ]
    }
   ],
   "source": [
    "num1, num2 = map(int,input().split())\n",
    "\n",
    "if bool(num1) or bool(num2):\n",
    "    print(1)\n",
    "else:\n",
    "    print(0)"
   ]
  },
  {
   "cell_type": "markdown",
   "metadata": {},
   "source": [
    "### 1056\n",
    "#### 참/거짓이 서로 다를때에만 참 출력하기"
   ]
  },
  {
   "cell_type": "code",
   "execution_count": 9,
   "metadata": {},
   "outputs": [
    {
     "name": "stdout",
     "output_type": "stream",
     "text": [
      "1 1 \n",
      "0\n"
     ]
    }
   ],
   "source": [
    "num1, num2 = map(int,input().split())\n",
    "\n",
    "if bool(num1) == True and bool(num2) == True:\n",
    "    print(0)\n",
    "else:\n",
    "    print(1)"
   ]
  },
  {
   "cell_type": "markdown",
   "metadata": {},
   "source": [
    "### 1057\n",
    "#### 참/거짓이 서로 같을때에만 참 출력하기\n"
   ]
  },
  {
   "cell_type": "code",
   "execution_count": 10,
   "metadata": {},
   "outputs": [
    {
     "name": "stdout",
     "output_type": "stream",
     "text": [
      "0 0\n",
      "1\n"
     ]
    }
   ],
   "source": [
    "num1, num2 = map(int,input().split())\n",
    "\n",
    "if bool(num1) == bool(num2):\n",
    "    print(1)\n",
    "else:\n",
    "    print(0)"
   ]
  },
  {
   "cell_type": "markdown",
   "metadata": {},
   "source": [
    "### 1058\n",
    "#### 둘 다 거짓일 경우만 참 출력하기"
   ]
  },
  {
   "cell_type": "code",
   "execution_count": 11,
   "metadata": {},
   "outputs": [
    {
     "name": "stdout",
     "output_type": "stream",
     "text": [
      "0 1\n",
      "0\n"
     ]
    }
   ],
   "source": [
    "num1, num2 = map(int,input().split())\n",
    "\n",
    "if bool(num1) == False and bool(num2) == False:\n",
    "    print(1)\n",
    "else:\n",
    "    print(0)"
   ]
  },
  {
   "cell_type": "markdown",
   "metadata": {},
   "source": [
    "### 1059\n",
    "#### [비트단위 논리연산] 비트단위로 not 하여 출력하기\n",
    "입력 된 정수를 비트단위로 참/거짓을 바꾼 후 정수로 출력해보자\n",
    "\n",
    "__비트단위 연산자 ~를 사용하자__\n",
    "\n",
    "<br>\n",
    "\n",
    "cf ) __비트연산자__\n",
    "\n",
    "입력받은 값을 2진수로 변경하여 연산을 한다   \n",
    "\n",
    "- a & b : and   둘다 1이면 1, 아니면 0\n",
    "- a | b : or    둘 중 하나만 1이면 1\n",
    "- a ^ b : not   서로 다른 값이면 1 같은 값이면 0\n",
    "- a << b : 왼쪽으로 1비트 밀때마다 2배씩 늘어난다 \n",
    "- a >> b : 오른쪽으로 1비트 밀때마다 1/2씩 줄어든다\n"
   ]
  },
  {
   "cell_type": "code",
   "execution_count": 12,
   "metadata": {},
   "outputs": [
    {
     "name": "stdout",
     "output_type": "stream",
     "text": [
      "2\n",
      "-3\n"
     ]
    }
   ],
   "source": [
    "num1 = int(input())\n",
    "print(~(num1))"
   ]
  },
  {
   "cell_type": "markdown",
   "metadata": {},
   "source": [
    "### 1060  \n",
    "__[비트단위 논리연산] 비트단위로 and하여 출력하기__    \n",
    "입력된 정수 두개를 비트단위로 and연산한 후 그 결과를 정수로 출력해보자   \n",
    "\n",
    "- and 연산 : 3(011) 5(101) and 연산 시 -> 0 0 1 이므로 10진수변환 시 => 1\n"
   ]
  },
  {
   "cell_type": "code",
   "execution_count": 2,
   "metadata": {},
   "outputs": [
    {
     "name": "stdout",
     "output_type": "stream",
     "text": [
      "3 5\n",
      "1\n"
     ]
    }
   ],
   "source": [
    "num1, num2 = map(int,input().split())\n",
    "\n",
    "result = num1 & num2\n",
    "print(result)"
   ]
  },
  {
   "cell_type": "markdown",
   "metadata": {},
   "source": [
    "### 1061\n",
    "__[비트단위 논리연산] 비트단위로 or하여 출력하기__  \n",
    "입력된 정수 두개를 비트단위로 or 연산한 후 그 결과를 정수로 출력해보자   \n",
    "\n",
    "- or 연산 : 3(011) 5(101) or 연산 시 -> 1 1 1 이므로 10진수변환 시 => 7\n"
   ]
  },
  {
   "cell_type": "code",
   "execution_count": 3,
   "metadata": {},
   "outputs": [
    {
     "name": "stdout",
     "output_type": "stream",
     "text": [
      "3 5\n",
      "7\n"
     ]
    }
   ],
   "source": [
    "num1, num2 = map(int,input().split())\n",
    "\n",
    "result = num1 | num2\n",
    "print(result)"
   ]
  },
  {
   "cell_type": "markdown",
   "metadata": {},
   "source": [
    "### 1062 \n",
    "__[비트단위 논리연산]비트단위로 xor하여 출력하기__    \n",
    "입력된 정수 두 개를 비트단위로 xor 연산한 후 그 결과를 정수로 출력해보자   \n",
    "\n",
    "- xor 연산 : 3(011) 5(101) xor 연산 시 ->  1 1 0 이므로 10진수변환 시 => 6"
   ]
  },
  {
   "cell_type": "code",
   "execution_count": 6,
   "metadata": {},
   "outputs": [
    {
     "name": "stdout",
     "output_type": "stream",
     "text": [
      "3 5\n",
      "6\n"
     ]
    }
   ],
   "source": [
    "num1, num2 = map(int,input().split())\n",
    "\n",
    "result = num1 ^ num2\n",
    "print(result)"
   ]
  },
  {
   "cell_type": "markdown",
   "metadata": {},
   "source": [
    "### 1063 \n",
    "__[삼항연산] 두 정수 입력받아 큰 수 출력하기__"
   ]
  },
  {
   "cell_type": "code",
   "execution_count": 9,
   "metadata": {},
   "outputs": [
    {
     "name": "stdout",
     "output_type": "stream",
     "text": [
      "40 10\n",
      "40\n"
     ]
    }
   ],
   "source": [
    "num1, num2 = map(int,input().split())\n",
    "print(num1) if num1 > num2 else print(num2)"
   ]
  },
  {
   "cell_type": "markdown",
   "metadata": {},
   "source": [
    "### 1064\n",
    "__[삼항연산] 정수 3개를 입력받아 가장 작은 수 출력하기__"
   ]
  },
  {
   "cell_type": "code",
   "execution_count": 20,
   "metadata": {},
   "outputs": [
    {
     "name": "stdout",
     "output_type": "stream",
     "text": [
      "3 2 1\n",
      "2\n"
     ]
    }
   ],
   "source": [
    "num1, num2, num3 = map(int,input().split())\n",
    "\n",
    "if num1 > num2:\n",
    "    min_ = num2\n",
    "elif num2 > num3:\n",
    "    min_ = num3\n",
    "\n",
    "print(min_)\n"
   ]
  },
  {
   "cell_type": "markdown",
   "metadata": {},
   "source": [
    "### 1065\n",
    "\n",
    "정수 3개 입력받아 짝수만 출력하기"
   ]
  },
  {
   "cell_type": "code",
   "execution_count": 9,
   "metadata": {},
   "outputs": [
    {
     "name": "stdout",
     "output_type": "stream",
     "text": [
      "1 2 4\n",
      "2\n",
      "4\n"
     ]
    }
   ],
   "source": [
    "even_num = []\n",
    "even_num = list(map(int, input().split()))\n",
    "\n",
    "for num in even_num:\n",
    "    if num % 2 ==0:\n",
    "        print(num)"
   ]
  },
  {
   "cell_type": "markdown",
   "metadata": {},
   "source": [
    "### 1066\n",
    "정수 3개 입력받아 짝/홀 출력하기"
   ]
  },
  {
   "cell_type": "code",
   "execution_count": 12,
   "metadata": {},
   "outputs": [
    {
     "name": "stdout",
     "output_type": "stream",
     "text": [
      "1 2 8\n",
      "odd\n",
      "even\n",
      "even\n"
     ]
    }
   ],
   "source": [
    "even_num = []; even = 'even'; odd = 'odd';\n",
    "even_num = list(map(int, input().split()))\n",
    "\n",
    "for num in even_num:\n",
    "    if num % 2 == 0:\n",
    "        print(even)\n",
    "    else:\n",
    "        print(odd)"
   ]
  },
  {
   "cell_type": "markdown",
   "metadata": {},
   "source": [
    "### 1067\n",
    "정수 1개 입력받아 분석하기"
   ]
  },
  {
   "cell_type": "code",
   "execution_count": 21,
   "metadata": {},
   "outputs": [
    {
     "name": "stdout",
     "output_type": "stream",
     "text": [
      "-2147483648\n",
      "minus\n",
      "even\n"
     ]
    }
   ],
   "source": [
    "num = int(input())\n",
    "\n",
    "print('minus') if num < 0 else print('plus')\n",
    "print('even') if num % 2 == 0 else print('odd')"
   ]
  },
  {
   "cell_type": "markdown",
   "metadata": {},
   "source": [
    "### 1068\n",
    "\n",
    "점수(0~100)를 입력받아 평가를 출력해보자   \n",
    "\n",
    "평가 기준   \n",
    "\n",
    "점수 범위 : 평가   \n",
    " 90 ~  100 : A   \n",
    " 70 ~   89 : B   \n",
    " 40 ~   69 : C   \n",
    "  0 ~   39 : D   \n",
    "로 평가되어야 한다.      "
   ]
  },
  {
   "cell_type": "markdown",
   "metadata": {},
   "source": [
    "### 1069\n",
    "평가를 문자(A,B..)로 입력받아 내용을 다르게 출력해보자    \n",
    "\n",
    "평가 내용   \n",
    "평가 : 내용   \n",
    "A : best!!!   \n",
    "B : good!!   \n",
    "C : run!    \n",
    "D : slowly~       \n",
    "나머지 문자들 : what?    "
   ]
  },
  {
   "cell_type": "code",
   "execution_count": 24,
   "metadata": {},
   "outputs": [
    {
     "name": "stdout",
     "output_type": "stream",
     "text": [
      "A\n",
      "best !\n"
     ]
    }
   ],
   "source": [
    "value = input()\n",
    "\n",
    "if value == 'A':\n",
    "    print('best !')\n",
    "elif value == 'B':\n",
    "    print('good !')\n",
    "elif value == 'C':\n",
    "    print('run !')\n",
    "else:\n",
    "    print('what?')"
   ]
  },
  {
   "cell_type": "markdown",
   "metadata": {},
   "source": [
    "### 1070\n",
    "월 입력받아 계절 출력하기\n",
    "\n",
    "예   \n",
    "월 : 계절 이름      \n",
    "12, 1, 2 : winter   \n",
    "  3, 4, 5 : spring   \n",
    "  6, 7, 8 : summer   \n",
    "  9, 10, 11 : fall    "
   ]
  },
  {
   "cell_type": "code",
   "execution_count": 27,
   "metadata": {},
   "outputs": [
    {
     "name": "stdout",
     "output_type": "stream",
     "text": [
      "12\n",
      "winter\n"
     ]
    }
   ],
   "source": [
    "month = int(input())\n",
    "\n",
    "if month == 12 or month == 1 or month == 2:\n",
    "    print('winter')\n",
    "elif month == 3 or month == 4 or month == 5:\n",
    "    print('spring')\n",
    "elif month == 6 or month == 7 or month == 8:\n",
    "    print('summer')\n",
    "elif month == 9 or month == 10 or month == 11:\n",
    "    print('fall')"
   ]
  },
  {
   "cell_type": "markdown",
   "metadata": {},
   "source": [
    "### 1071\n",
    "0이 입력될 때까지 무한 출력하기1    \n",
    "(while( ), for( ), do~while( ) 등의 반복문을 사용할 수 없다.)"
   ]
  },
  {
   "cell_type": "code",
   "execution_count": 1,
   "metadata": {},
   "outputs": [
    {
     "name": "stdout",
     "output_type": "stream",
     "text": [
      " 7 4 2 3 0 1 5 6 9 10 82\n",
      "7\n",
      "4\n",
      "2\n",
      "3\n"
     ]
    }
   ],
   "source": [
    "lists = input().split()\n",
    "for num in lists:\n",
    "    if int(num) == 0:\n",
    "        break;\n",
    "    print(num)"
   ]
  },
  {
   "cell_type": "markdown",
   "metadata": {},
   "source": [
    "### 1072 \n",
    "정수 입력받아 계속 출력하기"
   ]
  },
  {
   "cell_type": "code",
   "execution_count": 54,
   "metadata": {},
   "outputs": [
    {
     "name": "stdout",
     "output_type": "stream",
     "text": [
      "5\n",
      "1\n",
      "2\n",
      "3\n",
      "4\n",
      "5\n"
     ]
    }
   ],
   "source": [
    "cnt = 0\n",
    "num = int(input())\n",
    "for i in range(1,num+1):\n",
    "    cnt +=1\n",
    "    print(cnt)"
   ]
  },
  {
   "cell_type": "markdown",
   "metadata": {},
   "source": [
    "### 1073\n",
    "0 입력될 때까지 무한 출력하기2"
   ]
  },
  {
   "cell_type": "code",
   "execution_count": 62,
   "metadata": {},
   "outputs": [
    {
     "name": "stdout",
     "output_type": "stream",
     "text": [
      "7 4 2 3 0 1 5 6 9 10 82\n",
      "7\n",
      "4\n",
      "2\n",
      "3\n"
     ]
    }
   ],
   "source": [
    "lists = map(int,input().split())\n",
    "for num in lists:\n",
    "    if num == 0:\n",
    "        break\n",
    "    print(num)"
   ]
  },
  {
   "cell_type": "markdown",
   "metadata": {},
   "source": [
    "### 1073 - 2번째 풀이\n",
    "0 입력될 때까지 무한 출력하기2"
   ]
  },
  {
   "cell_type": "code",
   "execution_count": 66,
   "metadata": {},
   "outputs": [
    {
     "name": "stdout",
     "output_type": "stream",
     "text": [
      "7 4 2 3 0 1 5 6 9 10 82\n",
      "7\n",
      "4\n",
      "2\n",
      "3\n"
     ]
    }
   ],
   "source": [
    "lists = input().split()\n",
    "for num in lists:\n",
    "    if int(num) == 0:\n",
    "        break;\n",
    "    print(num)"
   ]
  },
  {
   "cell_type": "markdown",
   "metadata": {},
   "source": [
    "### 1074 \n",
    "정수 1개 입력받아 카운트다운 출력하기1   \n",
    "(1씩 줄이면서 한 줄에 하나씩 1이 될 때까지 출력한다.)"
   ]
  },
  {
   "cell_type": "code",
   "execution_count": 13,
   "metadata": {},
   "outputs": [
    {
     "name": "stdout",
     "output_type": "stream",
     "text": [
      "5\n",
      "4\n",
      "3\n",
      "2\n",
      "1\n"
     ]
    }
   ],
   "source": [
    "num = int(input())\n",
    "cnt = num\n",
    "for i in range(1, num+1):\n",
    "    cnt -= 1\n",
    "    if cnt == 0:\n",
    "        break\n",
    "    print(cnt)\n",
    "    "
   ]
  },
  {
   "cell_type": "markdown",
   "metadata": {},
   "source": [
    "### 1075\n",
    "정수 1개 입력받아 카운트다운 출력하기2    \n",
    "(1씩 줄이면서 한 줄에 하나씩 0이 될 때까지 출력한다.\n",
    ")"
   ]
  },
  {
   "cell_type": "code",
   "execution_count": 11,
   "metadata": {},
   "outputs": [
    {
     "name": "stdout",
     "output_type": "stream",
     "text": [
      "5\n",
      "4\n",
      "3\n",
      "2\n",
      "1\n",
      "0\n"
     ]
    }
   ],
   "source": [
    "num = int(input())\n",
    "cnt = num\n",
    "for i in range(0, num):\n",
    "    cnt -= 1\n",
    "    print(cnt)\n",
    "    "
   ]
  },
  {
   "cell_type": "markdown",
   "metadata": {},
   "source": [
    "### 1076\n",
    "문자 1개 입력받아 알파벳 출력하기    \n",
    "영문자(a ~ z) 1개가 입력되었을 때 그 문자까지의 알파벳을 순서대로 출력해보자.   \n",
    "\n",
    "__python 아스키 코드 변환하는 내장함수__   \n",
    "아스키 코드 값은 97~122이다   \n",
    "1. ord() : 특정한 한 문자를 아스키 코드 값으로 변환해준다    \n",
    "2. chr() : 아스키 코드값을 문자로 변환해준다    "
   ]
  },
  {
   "cell_type": "code",
   "execution_count": 38,
   "metadata": {},
   "outputs": [
    {
     "name": "stdout",
     "output_type": "stream",
     "text": [
      "f\n",
      "a b c d e f "
     ]
    }
   ],
   "source": [
    "a = 97\n",
    "word = input()\n",
    "int_word = ord(word)\n",
    "\n",
    "while a <= int_word:\n",
    "    print(chr(a),end=' ')\n",
    "    \n",
    "    a += 1"
   ]
  },
  {
   "cell_type": "markdown",
   "metadata": {},
   "source": [
    "### 1077\n",
    "\n",
    "정수 1개를 입력받아 그 수까지 출력하기   \n",
    "정수(0 ~ 100) 1개를 입력받아 0부터 그 수까지 순서대로 출력해보자."
   ]
  },
  {
   "cell_type": "code",
   "execution_count": 45,
   "metadata": {},
   "outputs": [
    {
     "name": "stdout",
     "output_type": "stream",
     "text": [
      "4\n",
      "0\n",
      "1\n",
      "2\n",
      "3\n",
      "4\n"
     ]
    }
   ],
   "source": [
    "num = int(input())\n",
    "output_num = 0\n",
    "while num >= output_num:\n",
    "    print(output_num)\n",
    "    output_num += 1\n",
    "    "
   ]
  },
  {
   "cell_type": "markdown",
   "metadata": {},
   "source": [
    "### 1078\n",
    "짝수 합 구하기    \n",
    "정수(1 ~ 100) 1개를 입력받아 1부터 그 수까지 짝수의 합을 구해보자."
   ]
  },
  {
   "cell_type": "code",
   "execution_count": 50,
   "metadata": {},
   "outputs": [
    {
     "name": "stdout",
     "output_type": "stream",
     "text": [
      "5\n",
      "6\n"
     ]
    }
   ],
   "source": [
    "num = int(input())\n",
    "even_num = 1\n",
    "sum_ = 0\n",
    "while num > even_num:\n",
    "    if even_num %2 == 0:\n",
    "        sum_ += even_num\n",
    "    even_num += 1\n",
    "print(sum_)\n",
    "    \n"
   ]
  },
  {
   "cell_type": "markdown",
   "metadata": {},
   "source": [
    "### 1079\n",
    "원하는 문자가 입력될 때까지 반복 출력하기   \n",
    "'q'가 입력될 때까지 입력한 문자를 계속 출력하는 프로그램을 작성해보자.\n"
   ]
  },
  {
   "cell_type": "code",
   "execution_count": 90,
   "metadata": {},
   "outputs": [
    {
     "name": "stdout",
     "output_type": "stream",
     "text": [
      "h e d g q\n",
      "h\n",
      "e\n",
      "d\n",
      "g\n",
      "q\n"
     ]
    }
   ],
   "source": [
    "word = input().split()\n",
    "\n",
    "for char in word:\n",
    "    print(char)\n",
    "    if char == 'q':\n",
    "        break"
   ]
  },
  {
   "cell_type": "markdown",
   "metadata": {},
   "source": [
    "### 1080 \n",
    "언제까지 더해야 할까?    \n",
    "1, 2, 3, 4, 5 ... 를 순서대로 계속 더해 합을 만들어가다가,\n",
    "입력된 정수와 같거나 커졌을 때, 마지막에 더한 정수를 출력한다.\n",
    "\n"
   ]
  },
  {
   "cell_type": "code",
   "execution_count": 84,
   "metadata": {},
   "outputs": [
    {
     "name": "stdout",
     "output_type": "stream",
     "text": [
      "3\n",
      "2\n"
     ]
    }
   ],
   "source": [
    "num = int(input())\n",
    "sum_ = 1\n",
    "\n",
    "for i in range(1, num+1):\n",
    "    sum_ += i\n",
    "    if num <= sum_:\n",
    "        print(i)\n",
    "        break"
   ]
  },
  {
   "cell_type": "markdown",
   "metadata": {},
   "source": [
    "### 1080 모범답안"
   ]
  },
  {
   "cell_type": "code",
   "execution_count": 86,
   "metadata": {},
   "outputs": [
    {
     "name": "stdout",
     "output_type": "stream",
     "text": [
      "55\n",
      "10\n"
     ]
    }
   ],
   "source": [
    "a=input()\n",
    "n=int(a)\n",
    "\n",
    "i=0\n",
    "s=0\n",
    "while s<n :\n",
    "    i+=1\n",
    "    s+=i\n",
    "\n",
    "print(i)"
   ]
  },
  {
   "cell_type": "code",
   "execution_count": null,
   "metadata": {},
   "outputs": [],
   "source": []
  }
 ],
 "metadata": {
  "kernelspec": {
   "display_name": "Python 3",
   "language": "python",
   "name": "python3"
  },
  "language_info": {
   "codemirror_mode": {
    "name": "ipython",
    "version": 3
   },
   "file_extension": ".py",
   "mimetype": "text/x-python",
   "name": "python",
   "nbconvert_exporter": "python",
   "pygments_lexer": "ipython3",
   "version": "3.8.3"
  }
 },
 "nbformat": 4,
 "nbformat_minor": 4
}
