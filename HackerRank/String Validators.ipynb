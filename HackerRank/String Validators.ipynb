{
 "cells": [
  {
   "cell_type": "markdown",
   "metadata": {},
   "source": [
    "### String Validators\n",
    "\n",
    "#### [description] \n",
    "주어진 문자열에서 isalnum(), isalpha(), isdigit(), islower(), isupper()에 만족하는 문자가 하나라도 있을 경우 true를 출력해라\n",
    "<br>\n",
    "\n",
    "#### [Sample Input]\n",
    "```python\n",
    "qA2\n",
    "```\n",
    "<br>\n",
    "\n",
    "#### [Sample Output]\n",
    "```python\n",
    "True\n",
    "True\n",
    "True\n",
    "True\n",
    "True\n",
    "```\n",
    "<br>\n",
    "\n",
    "#### 👉[새로 알게된 함수 any](https://github.com/heejung-gjt/TIL/blob/master/python/%ED%95%A8%EC%88%98%EC%A0%95%EB%A6%AC.md)  \n",
    "1. 반복 가능한 자료형을 입력 인수로 받는다(for문)   \n",
    "2. 입력받는 값 중 하나라도 참이면 True를 리턴해준다     "
   ]
  },
  {
   "cell_type": "code",
   "execution_count": 4,
   "metadata": {},
   "outputs": [
    {
     "name": "stdout",
     "output_type": "stream",
     "text": [
      "qA2\n",
      "True\n",
      "True\n",
      "True\n",
      "True\n",
      "True\n"
     ]
    }
   ],
   "source": [
    "if __name__ == '__main__':\n",
    "    s = input()\n",
    "    print(any(word.isalnum() for word in s))\n",
    "    print(any(word.isalpha() for word in s))\n",
    "    print(any(word.isdigit() for word in s))\n",
    "    print(any(word.islower() for word in s))\n",
    "    print(any(word.isupper() for word in s))"
   ]
  }
 ],
 "metadata": {
  "kernelspec": {
   "display_name": "Python 3",
   "language": "python",
   "name": "python3"
  },
  "language_info": {
   "codemirror_mode": {
    "name": "ipython",
    "version": 3
   },
   "file_extension": ".py",
   "mimetype": "text/x-python",
   "name": "python",
   "nbconvert_exporter": "python",
   "pygments_lexer": "ipython3",
   "version": "3.8.3"
  },
  "toc": {
   "base_numbering": 1,
   "nav_menu": {},
   "number_sections": true,
   "sideBar": true,
   "skip_h1_title": false,
   "title_cell": "Table of Contents",
   "title_sidebar": "Contents",
   "toc_cell": false,
   "toc_position": {},
   "toc_section_display": true,
   "toc_window_display": false
  }
 },
 "nbformat": 4,
 "nbformat_minor": 4
}
