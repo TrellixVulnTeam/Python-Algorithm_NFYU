{
 "cells": [
  {
   "cell_type": "markdown",
   "metadata": {},
   "source": [
    "### Find the Runner-Up Score !\n",
    "\n",
    "#### [description] \n",
    "\n",
    "array로 받을 정수들을 n개 입력해 그 중 2번째로 큰값을 찾아라\n",
    "   \n",
    "<br>\n",
    "\n",
    "#### [Sample Input]\n",
    "```python\n",
    "5 \n",
    "2 3 6 6 5\n",
    "```\n",
    "<br>\n",
    "\n",
    "#### [Sample Output]\n",
    "```python\n",
    "5\n",
    "```"
   ]
  },
  {
   "cell_type": "code",
   "execution_count": 19,
   "metadata": {
    "scrolled": true
   },
   "outputs": [
    {
     "name": "stdout",
     "output_type": "stream",
     "text": [
      "5\n",
      "2 3 6 6 5\n",
      "5\n"
     ]
    }
   ],
   "source": [
    "#MyCode\n",
    "\n",
    "n = int(input())\n",
    "arr = list(map(int,input().split()))\n",
    "arr = set(arr)\n",
    "arr = list(arr)\n",
    "arr.sort(reverse=True)\n",
    "print(arr[1])"
   ]
  }
 ],
 "metadata": {
  "kernelspec": {
   "display_name": "Python 3",
   "language": "python",
   "name": "python3"
  },
  "language_info": {
   "codemirror_mode": {
    "name": "ipython",
    "version": 3
   },
   "file_extension": ".py",
   "mimetype": "text/x-python",
   "name": "python",
   "nbconvert_exporter": "python",
   "pygments_lexer": "ipython3",
   "version": "3.8.3"
  },
  "toc": {
   "base_numbering": 1,
   "nav_menu": {},
   "number_sections": true,
   "sideBar": true,
   "skip_h1_title": false,
   "title_cell": "Table of Contents",
   "title_sidebar": "Contents",
   "toc_cell": false,
   "toc_position": {},
   "toc_section_display": true,
   "toc_window_display": false
  }
 },
 "nbformat": 4,
 "nbformat_minor": 4
}
