{
 "cells": [
  {
   "cell_type": "markdown",
   "metadata": {},
   "source": [
    "### Lists\n",
    "\n",
    "#### [description] \n",
    "입력한 lists = [] 의 값들을 다음 명령을 순서대로 반복하고 출력해라    \n",
    "   \n",
    "<br>\n",
    "\n",
    "#### [Sample Input]\n",
    "```python\n",
    "12\n",
    "insert 0 5\n",
    "insert 1 10\n",
    "insert 0 6\n",
    "print\n",
    "remove 6\n",
    "append 9\n",
    "append 1\n",
    "sort\n",
    "print\n",
    "pop\n",
    "reverse\n",
    "print\n",
    "```\n",
    "<br>\n",
    "\n",
    "#### [Sample Output]\n",
    "```python\n",
    "[6, 5, 10]\n",
    "[1, 5, 9, 10]\n",
    "[9, 5, 1]\n",
    "```\n",
    "<br>\n",
    "\n",
    "#### 👉[리스트의 함수정리]\n",
    "append : zoo.append('lion') lion이라는 문자열을 zoo값의 맨 뒤에 추가된다    \n",
    "insert : zoo.insert(3,'horse') horse라는 문자열을 인덱스값3에 삽입한다    \n",
    "remove : zoo.remove(1) 인덱스1번째에 있는 값을 지워준다    \n",
    "pop : zoo.pop(2) 인덱스2번째에 있는 값을 뺀 후 제거해준다, 값을 다른 변수에 할당 할 수 있다    \n",
    "sort : zoo.sort() 오름차순 정렬    \n",
    "reverse : zoo.reverse() 내림차순 정렬, zoo.sort(reverse=True)로 직접 변경해줄 수 있다     \n",
    "index값 : zoo[3] index의 값을 이용해 특정한 값을 출력    \n",
    "extend : zoo.extend([3,5]) 3,5를 리스트에 같은 배열로 추가해준다  "
   ]
  },
  {
   "cell_type": "code",
   "execution_count": 18,
   "metadata": {
    "scrolled": false
   },
   "outputs": [
    {
     "name": "stdout",
     "output_type": "stream",
     "text": [
      "12\n",
      "insert 0 5\n",
      "insert 1 10\n",
      "insert 0 6\n",
      "print\n",
      "[6, 5, 10]\n",
      "remove 6\n",
      "append 9\n",
      "append 1\n",
      "sort\n",
      "print\n",
      "[1, 5, 9, 10]\n",
      "pop\n",
      "reverse\n",
      "print\n",
      "[9, 5, 1]\n"
     ]
    }
   ],
   "source": [
    "#MyCode\n",
    "\n",
    "    N = int(input())\n",
    "    lists = []\n",
    "    for _ in range(N):\n",
    "        comm = list(map(str,input().split()))\n",
    "        for str_ in comm:\n",
    "            if 'insert' in str_:\n",
    "                num1 = int(comm[1])\n",
    "                num2 = int(comm[2])\n",
    "                lists.insert(num1,num2)\n",
    "            elif 'append' in str_:\n",
    "                num1 = int(comm[1])\n",
    "                lists.append(num1)\n",
    "            elif 'remove' in str_:\n",
    "                num1 = int(comm[1])\n",
    "                lists.remove(num1)\n",
    "            elif 'sort' in str_:\n",
    "                lists.sort()\n",
    "            elif 'reverse' in str_:\n",
    "                lists.reverse()\n",
    "            elif 'pop' in str_:\n",
    "                lists.pop()\n",
    "            elif 'print' in str_:\n",
    "                print(lists)"
   ]
  },
  {
   "cell_type": "code",
   "execution_count": 30,
   "metadata": {
    "scrolled": true
   },
   "outputs": [
    {
     "name": "stdout",
     "output_type": "stream",
     "text": [
      "12\n",
      "insert 0 5\n",
      "insert 1 10\n",
      "insert 0 6\n",
      "print\n",
      "[6, 5, 10]\n",
      "remove 6\n",
      "append 9\n",
      "append 1\n",
      "sort\n",
      "print\n",
      "[1, 5, 9, 10]\n",
      "pop\n",
      "reverse\n",
      "print\n",
      "[9, 5, 1]\n"
     ]
    }
   ],
   "source": [
    "# OtherCode\n",
    "\n",
    "T = int(input())\n",
    "L = []\n",
    "for t in range(T):\n",
    "    args = input().strip().split(\" \")\n",
    "    if args[0] == \"append\":\n",
    "        L.append(int(args[1]))\n",
    "    elif args[0] == \"insert\":\n",
    "        L.insert(int(args[1]), int(args[2]))\n",
    "    elif args[0] == \"remove\":\n",
    "        L.remove(int(args[1]))\n",
    "    elif args[0] == \"pop\":\n",
    "        L.pop()\n",
    "    elif args[0] == \"sort\":\n",
    "        L.sort()\n",
    "    elif args[0] == \"reverse\":\n",
    "        L.reverse()\n",
    "    elif args[0] == \"print\":\n",
    "        print(L)"
   ]
  }
 ],
 "metadata": {
  "kernelspec": {
   "display_name": "Python 3",
   "language": "python",
   "name": "python3"
  },
  "language_info": {
   "codemirror_mode": {
    "name": "ipython",
    "version": 3
   },
   "file_extension": ".py",
   "mimetype": "text/x-python",
   "name": "python",
   "nbconvert_exporter": "python",
   "pygments_lexer": "ipython3",
   "version": "3.8.3"
  },
  "toc": {
   "base_numbering": 1,
   "nav_menu": {},
   "number_sections": true,
   "sideBar": true,
   "skip_h1_title": false,
   "title_cell": "Table of Contents",
   "title_sidebar": "Contents",
   "toc_cell": false,
   "toc_position": {},
   "toc_section_display": true,
   "toc_window_display": false
  }
 },
 "nbformat": 4,
 "nbformat_minor": 4
}
