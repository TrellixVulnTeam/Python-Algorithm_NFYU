{
 "cells": [
  {
   "cell_type": "markdown",
   "metadata": {},
   "source": [
    "### Python If-Else\n",
    "\n",
    "#### [description] \n",
    "\n",
    "If n is odd, print Weird    \n",
    "만약 홀수이면 weird 출력    \n",
    "If n is even and in the inclusive range 2 of to 5 , print Not Weird    \n",
    "만약 짝수이고 2-5사이에 포함되면 not weird 출력    \n",
    "If n is even and in the inclusive range 6 of to 20 , print Weird   \n",
    "만약 짝수이고 6~20 사이에 포함되면 weird 출력    \n",
    "If n is even and greater than 20 , print Not Weird    \n",
    "만약 짝수이고 20보다 크면  not weird 출력      \n",
    "   \n",
    "<br>\n",
    "\n",
    "#### [Sample Input]\n",
    "```python\n",
    "3\n",
    "```\n",
    "<br>\n",
    "\n",
    "#### [Sample Output]\n",
    "```python\n",
    "Weird\n",
    "```\n",
    "<br>"
   ]
  },
  {
   "cell_type": "code",
   "execution_count": 1,
   "metadata": {},
   "outputs": [
    {
     "name": "stdout",
     "output_type": "stream",
     "text": [
      "3\n",
      "Weird\n"
     ]
    }
   ],
   "source": [
    "#MyCode\n",
    "\n",
    "    n = int(input().strip())\n",
    "\n",
    "    if n % 2 == 1:\n",
    "        print('Weird')\n",
    "    elif n % 2 == 0 and n>=2 and n<=5:\n",
    "        print('Not Weird')\n",
    "    elif n % 2 == 0 and n >= 6 and n <= 20:\n",
    "        print('Weird')\n",
    "    elif n % 2 == 0 and n > 20 :\n",
    "        print('Not Weird')"
   ]
  },
  {
   "cell_type": "markdown",
   "metadata": {},
   "source": [
    "#### if-else statements 없이 dictionary 이용한 풀이\n",
    "딕셔너리안 조건을 달아 True이면 True에 해당하는 value값을 출력, False면 False에 해당하는 value값을 출력"
   ]
  },
  {
   "cell_type": "code",
   "execution_count": 2,
   "metadata": {},
   "outputs": [
    {
     "name": "stdout",
     "output_type": "stream",
     "text": [
      "3\n",
      "Weird\n"
     ]
    }
   ],
   "source": [
    "#Other Code\n",
    "\n",
    "n = int(input().strip())\n",
    "check = {True: \"Not Weird\", False: \"Weird\"}\n",
    "print(check[ n%2==0 and (n in range(2,6) or n > 20)])"
   ]
  }
 ],
 "metadata": {
  "kernelspec": {
   "display_name": "Python 3",
   "language": "python",
   "name": "python3"
  },
  "language_info": {
   "codemirror_mode": {
    "name": "ipython",
    "version": 3
   },
   "file_extension": ".py",
   "mimetype": "text/x-python",
   "name": "python",
   "nbconvert_exporter": "python",
   "pygments_lexer": "ipython3",
   "version": "3.8.3"
  },
  "toc": {
   "base_numbering": 1,
   "nav_menu": {},
   "number_sections": true,
   "sideBar": true,
   "skip_h1_title": false,
   "title_cell": "Table of Contents",
   "title_sidebar": "Contents",
   "toc_cell": false,
   "toc_position": {},
   "toc_section_display": true,
   "toc_window_display": false
  }
 },
 "nbformat": 4,
 "nbformat_minor": 4
}
