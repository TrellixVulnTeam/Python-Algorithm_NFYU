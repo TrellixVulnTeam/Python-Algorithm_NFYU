{
 "cells": [
  {
   "cell_type": "code",
   "execution_count": null,
   "metadata": {
    "scrolled": true
   },
   "outputs": [],
   "source": [
    "from operator import itemgetter\n",
    "\n",
    "\n",
    "n = int(input())\n",
    "list_num = []\n",
    "\n",
    "for i in range(n):\n",
    "    name = input()\n",
    "    num = float(input())\n",
    "    list_num.append([name, num])\n",
    "list_num.sort(key=itemgetter(1,0))\n",
    "second = list(set(num for name, num in list_num))[1]\n",
    "\n",
    "name_list = []\n",
    "for name, num in list_num:\n",
    "    print(name, num)\n",
    "    if num == second:\n",
    "        name_list.append(name)\n",
    "print('\\n'.join(sorted(name_list)))"
   ]
  },
  {
   "cell_type": "code",
   "execution_count": null,
   "metadata": {},
   "outputs": [],
   "source": [
    "## value_list = []\n",
    "\n",
    "for _ in range(int(input())):\n",
    "    value_list.append([input(), float(input())])\n",
    "second = sorted(list(set(num for name, num in value_list)))[1]\n",
    "print(second)\n",
    "print('\\n'.join([name for name, num in sorted(value_list) if num == second]))"
   ]
  },
  {
   "cell_type": "code",
   "execution_count": null,
   "metadata": {
    "scrolled": true
   },
   "outputs": [],
   "source": [
    "value_list = [[input(), float(input())] for _ in range(int(input()))]\n",
    "second = sorted(list(set(num for name, num in value_list)))[1]\n",
    "print('\\n'.join([name for name, num in sorted(value_list) if num == second]))"
   ]
  }
 ],
 "metadata": {
  "kernelspec": {
   "display_name": "Python 3",
   "language": "python",
   "name": "python3"
  }
 },
 "nbformat": 4,
 "nbformat_minor": 2
}
