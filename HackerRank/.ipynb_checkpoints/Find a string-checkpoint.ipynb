{
 "cells": [
  {
   "cell_type": "code",
   "execution_count": null,
   "metadata": {},
   "outputs": [],
   "source": [
    "# MY CODE\n",
    "\n",
    "word_list = ','.join(input()).split(',')\n",
    "sub_word = input()\n",
    "sub_len = len(sub_word)\n",
    "cnt = 0\n",
    "\n",
    "for i in range(0, len(word_list)):\n",
    "    if word_list[i] == sub_word[0]:\n",
    "        if ''.join(word_list[i:i+sub_len]) == sub_word:\n",
    "            cnt += 1\n",
    "print(cnt)"
   ]
  },
  {
   "cell_type": "code",
   "execution_count": null,
   "metadata": {},
   "outputs": [],
   "source": [
    "# MY CODE - use fucntion\n",
    "\n",
    "def count_substring(string, sub_string):\n",
    "    cnt = 0\n",
    "    sub_str_len = len(sub_string)\n",
    "    for i in range(0, len(string)):\n",
    "        if string[i] == sub_string[0]:\n",
    "            if ''.join(string[i:i+sub_str_len]) == sub_string:\n",
    "                cnt += 1\n",
    "    return cnt\n",
    "\n",
    "if __name__ == '__main__':\n",
    "    string = input().strip()\n",
    "    sub_string = input().strip()\n",
    "    \n",
    "    count = count_substring(string, sub_string)\n",
    "    print (count)"
   ]
  },
  {
   "cell_type": "code",
   "execution_count": null,
   "metadata": {},
   "outputs": [],
   "source": [
    "def count_substring(string, sub_string):\n",
    "    cnt = 0\n",
    "    for i in range(len(string)):\n",
    "        if string[i:].startswith(sub_string):\n",
    "            cnt += 1\n",
    "    return cnt\n",
    "\n",
    "if __name__ == '__main__':\n",
    "    string = input().strip()\n",
    "    sub_string = input().strip()\n",
    "    \n",
    "    count = count_substring(string, sub_string)\n",
    "    print (count)"
   ]
  },
  {
   "cell_type": "code",
   "execution_count": null,
   "metadata": {},
   "outputs": [],
   "source": [
    "string, substring = (input().strip(), input().strip())\n",
    "cnt = 0\n",
    "for i in range(0, len(string)):\n",
    "    if string[i:].startswith(substring):\n",
    "        cnt += 1\n",
    "print(cnt)"
   ]
  }
 ],
 "metadata": {
  "kernelspec": {
   "display_name": "Python 3",
   "language": "python",
   "name": "python3"
  },
  "language_info": {
   "codemirror_mode": {
    "name": "ipython",
    "version": 3
   },
   "file_extension": ".py",
   "mimetype": "text/x-python",
   "name": "python",
   "nbconvert_exporter": "python",
   "pygments_lexer": "ipython3",
   "version": "3.7.3"
  }
 },
 "nbformat": 4,
 "nbformat_minor": 2
}
