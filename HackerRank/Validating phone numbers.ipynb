{
 "cells": [
  {
   "cell_type": "markdown",
   "metadata": {},
   "source": [
    "### Validating phone numbers\n",
    "\n",
    "#### [description] \n",
    "\n",
    "정규표현식을 이용하여 입력한 휴대폰 번호가 유효한지 판단해라.    \n",
    "유효한 휴대폰 번호 조건은 1. 7,8,9로 시작한다. 2. 길이가 2~15사이이다   \n",
    "   \n",
    "<br>\n",
    "\n",
    "#### [Sample Input]\n",
    "```python\n",
    "2\n",
    "9587456281\n",
    "1252478965\n",
    "```\n",
    "<br>\n",
    "\n",
    "#### [Sample Output]\n",
    "```python\n",
    "YES\n",
    "NO\n",
    "```\n",
    "<br>\n",
    "\n",
    "\n",
    "#### 👉[정규표현식 정리](https://heejung-gjt.github.io/python-regular-expression)\n",
    " \n",
    "- $ 의 사용 :  문자열 끝은 ```$``` 앞의 문자열로 끝나야 매치된다    \n",
    " \n",
    "- re.compile('정규표현식 조건')을 통해 해당 정규표현식을 컴파일하고 컴파일된 패턴 객체를 이용해 객체가 가지고 있는 메서드를 통해 작업을 수행할 수 있다    \n",
    "\n",
    "- re.fullmatch(pattern,string,flags)는 패턴과 문자열이 남는 부분없이 완벽하게 일치하는지를 검사한다"
   ]
  },
  {
   "cell_type": "markdown",
   "metadata": {},
   "source": [
    "#### ❓ match를 이용하여 검사하면 정규표현식 맨끝에 $을 붙여주어야 한다. 왜??"
   ]
  },
  {
   "cell_type": "code",
   "execution_count": 11,
   "metadata": {},
   "outputs": [
    {
     "name": "stdout",
     "output_type": "stream",
     "text": [
      "2\n",
      "9587456281\n",
      "YES\n",
      "1252478965\n",
      "NO\n"
     ]
    }
   ],
   "source": [
    "import re\n",
    "num = int(input())\n",
    "\n",
    "for _ in range(num):\n",
    "    number = input()\n",
    "    if re.match('[7-9][0-9]{9}$',number):\n",
    "        print('YES')\n",
    "    else:\n",
    "        print('NO')  \n"
   ]
  },
  {
   "cell_type": "markdown",
   "metadata": {},
   "source": [
    "#### fullmatch를 이용하여 정규표현식을 검사한다"
   ]
  },
  {
   "cell_type": "code",
   "execution_count": 12,
   "metadata": {},
   "outputs": [
    {
     "name": "stdout",
     "output_type": "stream",
     "text": [
      "2\n",
      "9587456281\n",
      "YES\n",
      "1252478965\n",
      "NO\n"
     ]
    }
   ],
   "source": [
    "import re\n",
    "num = int(input())\n",
    "\n",
    "for _ in range(num):\n",
    "    number = input()\n",
    "    if re.fullmatch('[7-9][0-9]{9}',number):\n",
    "        print('YES')\n",
    "    else:\n",
    "        print('NO')  "
   ]
  },
  {
   "cell_type": "markdown",
   "metadata": {},
   "source": [
    "#### 해당 정규표현식을 먼저 컴파일 해주고 fullmatch로 검사한다"
   ]
  },
  {
   "cell_type": "code",
   "execution_count": 13,
   "metadata": {},
   "outputs": [
    {
     "name": "stdout",
     "output_type": "stream",
     "text": [
      "2\n",
      "9587456281\n",
      "YES\n",
      "1252478965\n",
      "NO\n"
     ]
    }
   ],
   "source": [
    "n = int(input())\n",
    "phonenum_pattern = re.compile(r'[7-9][0-9]{9}')\n",
    "for _ in range(n):\n",
    "    phonenum_string = input()\n",
    "    result = phonenum_pattern.fullmatch(phonenum_string)\n",
    "    if result:\n",
    "        print('YES')\n",
    "    else:\n",
    "        print('NO')"
   ]
  }
 ],
 "metadata": {
  "kernelspec": {
   "display_name": "Python 3",
   "language": "python",
   "name": "python3"
  },
  "language_info": {
   "codemirror_mode": {
    "name": "ipython",
    "version": 3
   },
   "file_extension": ".py",
   "mimetype": "text/x-python",
   "name": "python",
   "nbconvert_exporter": "python",
   "pygments_lexer": "ipython3",
   "version": "3.8.3"
  },
  "toc": {
   "base_numbering": 1,
   "nav_menu": {},
   "number_sections": true,
   "sideBar": true,
   "skip_h1_title": false,
   "title_cell": "Table of Contents",
   "title_sidebar": "Contents",
   "toc_cell": false,
   "toc_position": {},
   "toc_section_display": true,
   "toc_window_display": false
  }
 },
 "nbformat": 4,
 "nbformat_minor": 4
}
