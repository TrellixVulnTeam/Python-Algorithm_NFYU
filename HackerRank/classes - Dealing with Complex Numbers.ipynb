{
 "cells": [
  {
   "cell_type": "markdown",
   "metadata": {},
   "source": [
    "### Classes : Dealing with Complex \n",
    "\n",
    "클래스 : 복소수 다루기    \n",
    "두개의 복수소가 주어지며, 더하기,빼기,곱하기,나누기 즉 사칙연산의 결과를 출력해야 한다   \n",
    "실수 및 허수 부분은 소수점 이하 두자리까지 정확해야한다.\n",
    "![task](https://user-images.githubusercontent.com/64240637/107841225-6cd4be80-6dfc-11eb-965c-7722b91268c0.PNG)\n",
    "\n",
    "#### [Sample Input]\n",
    "```python\n",
    "2 1 \n",
    "5 6\n",
    "```\n",
    "<br>\n",
    "\n",
    "#### [Sample Output]\n",
    "```python\n",
    "7.00+7.00i\n",
    "-3.00-5.00i\n",
    "4.00+17.00i\n",
    "0.26-0.11i\n",
    "2.24+0.00i\n",
    "7.81+0.00i\n",
    "```\n",
    "<br>\n",
    "\n",
    "![concept](https://user-images.githubusercontent.com/64240637/107841256-cc32ce80-6dfc-11eb-90bf-6a5367c4897c.PNG)"
   ]
  },
  {
   "cell_type": "code",
   "execution_count": 31,
   "metadata": {},
   "outputs": [
    {
     "name": "stdout",
     "output_type": "stream",
     "text": [
      "2 1 \n",
      "5 6\n",
      "7.00+7.00i\n",
      "-3.00-5.00i\n",
      "4.00+17.00i\n",
      "0.26-0.11i\n",
      "2.24+0.00i\n",
      "7.81+0.00i\n"
     ]
    }
   ],
   "source": [
    "\"\"\"\n",
    "복소수 사칙연산 적용\n",
    "덧셈 : (a+bi)+(c+di) = (a+c)=(b+d)i\n",
    "뺄셈 : (a+bi)-(c+di) = (a-c)+(b-d)i\n",
    "곱셈 : (a+bi)*(c+di) = (ac - bd) - (ad + bc)i\n",
    "나눗셈 : (a+bi)/(c+di) = ac+bd/a**2+d**2 + bc-ad/c**2+d**2i\n",
    "\"\"\"\n",
    "import math\n",
    "\n",
    "class Complex(object):\n",
    "    def __init__(self, real, imaginary): # 입력받은값 초기화\n",
    "        self.real = real\n",
    "        self.imaginary = imaginary\n",
    "    def __add__(self, no):  # x의 real값 + y의 real값 => Complex의 real값에 대입// x의 imaginary값 + y의 imaginary값 => Complex의 imaginary값에 대입\n",
    "        return Complex(self.real + no.real, self.imaginary+no.imaginary)\n",
    "    def __sub__(self, no):\n",
    "         return Complex(self.real - no.real, self.imaginary-no.imaginary)\n",
    "    def __mul__(self, no):\n",
    "         return Complex((self.real*no.real - self.imaginary*no.imaginary), (self.real*no.imaginary+self.imaginary*no.real))\n",
    "    def __truediv__(self, no):\n",
    "        deno = no.real**2+no.imaginary**2\n",
    "        return Complex(((self.real*no.real+self.imaginary*no.imaginary)/deno),((self.imaginary*no.real-self.real*no.imaginary)/deno))\n",
    "\n",
    "    def mod(self):\n",
    "        return Complex(math.sqrt(self.real**2+self.imaginary**2),0)\n",
    "\n",
    "    def __str__(self):\n",
    "        if self.imaginary == 0:\n",
    "            result = \"%.2f+0.00i\" % (self.real)\n",
    "        elif self.real == 0:\n",
    "            if self.imaginary >= 0:\n",
    "                result = \"0.00+%.2fi\" % (self.imaginary)\n",
    "            else:\n",
    "                result = \"0.00-%.2fi\" % (abs(self.imaginary))\n",
    "        elif self.imaginary > 0:\n",
    "            result = \"%.2f+%.2fi\" % (self.real, self.imaginary)\n",
    "        else:\n",
    "            result = \"%.2f-%.2fi\" % (self.real, abs(self.imaginary))\n",
    "        return result\n",
    "\n",
    "if __name__ == '__main__':\n",
    "    c = map(float, input().split())\n",
    "    d = map(float, input().split())\n",
    "    x = Complex(*c)# x의 real값, x의 imaginary\n",
    "    y = Complex(*d) # y의 real값, y의 imaginary\n",
    "    print(*map(str, [x+y, x-y, x*y, x/y, x.mod(), y.mod()]), sep='\\n')"
   ]
  },
  {
   "cell_type": "markdown",
   "metadata": {},
   "source": []
  }
 ],
 "metadata": {
  "kernelspec": {
   "display_name": "Python 3",
   "language": "python",
   "name": "python3"
  },
  "language_info": {
   "codemirror_mode": {
    "name": "ipython",
    "version": 3
   },
   "file_extension": ".py",
   "mimetype": "text/x-python",
   "name": "python",
   "nbconvert_exporter": "python",
   "pygments_lexer": "ipython3",
   "version": "3.8.3"
  },
  "toc": {
   "base_numbering": 1,
   "nav_menu": {},
   "number_sections": true,
   "sideBar": true,
   "skip_h1_title": false,
   "title_cell": "Table of Contents",
   "title_sidebar": "Contents",
   "toc_cell": false,
   "toc_position": {},
   "toc_section_display": true,
   "toc_window_display": false
  }
 },
 "nbformat": 4,
 "nbformat_minor": 4
}
