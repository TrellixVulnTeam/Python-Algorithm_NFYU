{
 "cells": [
  {
   "cell_type": "markdown",
   "metadata": {},
   "source": [
    "### Re.findall() and Re.finditer()\n",
    "\n",
    "#### [description] \n",
    "\n",
    "모음과 자음을 정의하여 자음사이에 있는 모음을 출력한다. 이때 re.findall()과 re.finditer()을 사용한다\n",
    "   \n",
    "<br>\n",
    "\n",
    "#### [Sample Input]\n",
    "```python\n",
    "rabcdeefgyYhFjkIoomnpOeorteeeeet\n",
    "```\n",
    "<br>\n",
    "\n",
    "#### [Sample Output]\n",
    "```python\n",
    "ee\n",
    "Ioo\n",
    "Oeo\n",
    "eeeee\n",
    "```\n",
    "<br>\n",
    "\n",
    "#### 👉findall()과 finditer()\n",
    "\n",
    "1. findall()은 주어진 string 전체에서 pattern과 일치하는 것을 모두 찾아서 list로 반환한다     \n",
    "```re.findall(r'패턴문자열','문자열')```   \n",
    "\n",
    "```python\n",
    "import re\n",
    "\n",
    "result_list = re.findall(r\"([A-Z]*)@([1-9]*)\",\"SON@1234.&&\")\n",
    "print(result_list)\n",
    "\n",
    "\"\"\"\n",
    "결과 :\n",
    "\n",
    "[('SON', '1234')]\n",
    "\"\"\"\n",
    "```\n",
    "2.  finditer()은 findall()과 같은 기능을 하지만 결과물로 리스트를 반환하는 것이아니라 이터레이터를 반환하기 때문에 for 문을 사용해 원소값을 하나 하나 꺼내야한다    \n",
    "\n",
    "```re.finditer(r'패턴문자열','문자열')```   \n",
    "\n",
    "```python\n",
    "import re\n",
    "\n",
    "l_m = re.finditer(r'\\d{3}-\\d{4}-\\d{4}', 'kwon 010-3333-4444 lee 010-5555-6666')\n",
    "for m in l_m:\n",
    "    print(m.group())   \n",
    "\"\"\"\n",
    "결과 :\n",
    "\n",
    "010-3333-4444\n",
    "010-5555-6666\n",
    "\n",
    "```\n",
    "<br>\n",
    "\n",
    "3. re.I 옵션은 대소문자 구별없이 매치를 수행할때 사용한다"
   ]
  },
  {
   "cell_type": "code",
   "execution_count": 53,
   "metadata": {},
   "outputs": [
    {
     "name": "stdout",
     "output_type": "stream",
     "text": [
      "rabcdeefgyYhFjkIoomnpOeorteeeeet\n",
      "ee\n",
      "Ioo\n",
      "Oeo\n",
      "eeeee\n"
     ]
    }
   ],
   "source": [
    "import re\n",
    "\n",
    "v = 'aeiou'\n",
    "c = 'qwrtypsdfghjklzxcvbnm'\n",
    "\n",
    "m = re.findall(r'(?<=[%s])([%s]{2,})[%s]' % (c,v,c), input(),re.I)\n",
    "print('\\n'.join(m))"
   ]
  },
  {
   "cell_type": "code",
   "execution_count": 66,
   "metadata": {},
   "outputs": [
    {
     "name": "stdout",
     "output_type": "stream",
     "text": [
      "rabcdeefgyYhFjkIoomnpOeorteeeeet\n",
      "ee\n",
      "Ioo\n",
      "Oeo\n",
      "eeeee\n"
     ]
    }
   ],
   "source": [
    "import re\n",
    "s = '[qwrtypsdfghjklzxcvbnm]'\n",
    "a = re.findall(r'(?<='+s+')([aeiou]{2,})' + s, input(),re.I)\n",
    "print('\\n'.join(a or ['-1']))"
   ]
  }
 ],
 "metadata": {
  "kernelspec": {
   "display_name": "Python 3",
   "language": "python",
   "name": "python3"
  },
  "language_info": {
   "codemirror_mode": {
    "name": "ipython",
    "version": 3
   },
   "file_extension": ".py",
   "mimetype": "text/x-python",
   "name": "python",
   "nbconvert_exporter": "python",
   "pygments_lexer": "ipython3",
   "version": "3.8.3"
  },
  "toc": {
   "base_numbering": 1,
   "nav_menu": {},
   "number_sections": true,
   "sideBar": true,
   "skip_h1_title": false,
   "title_cell": "Table of Contents",
   "title_sidebar": "Contents",
   "toc_cell": false,
   "toc_position": {},
   "toc_section_display": true,
   "toc_window_display": false
  }
 },
 "nbformat": 4,
 "nbformat_minor": 4
}
