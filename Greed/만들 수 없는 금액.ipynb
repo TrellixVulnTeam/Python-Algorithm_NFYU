{
 "cells": [
  {
   "cell_type": "markdown",
   "metadata": {},
   "source": [
    "주어진 동전 리스트를 오름차순으로 sort()한다\n",
    "맨 처음 동전부터 차례대로 동전을 추가해가면 만들 수 없는 금액을 찾는 방식으로 풀이하면 된다\n",
    "ex)\n",
    "현재 동전 리스트가 1,1,2이라면 만들수 있는 금액은 1-4원이다. 이후 확인할 Target은 5이다. "
   ]
  },
  {
   "cell_type": "code",
   "execution_count": 10,
   "metadata": {},
   "outputs": [
    {
     "name": "stdout",
     "output_type": "stream",
     "text": [
      "1\n",
      "1 6 8\n",
      "[1, 6, 8]\n",
      "2\n"
     ]
    }
   ],
   "source": [
    "# 다시 풀어보기\n",
    "num = int(input())\n",
    "num_list = list(map(int, (input().split())))\n",
    "num_list.sort()\n",
    "print(num_list)\n",
    "\n",
    "target = 1\n",
    "for num in num_list:\n",
    "    if target < num:\n",
    "        break\n",
    "    target += num\n",
    "print(target)"
   ]
  },
  {
   "cell_type": "code",
   "execution_count": 19,
   "metadata": {},
   "outputs": [
    {
     "name": "stdout",
     "output_type": "stream",
     "text": [
      "5 3\n",
      "1 3 2 3 2\n",
      "[1, 2, 3, 4, 5]\n",
      "[(1, 2), (1, 3), (4, 5), (1, 4), (1, 5), (2, 3), (2, 5), (3, 4), (2, 4), (3, 5)]\n"
     ]
    }
   ],
   "source": [
    "from itertools import combinations\n",
    "\n",
    "\n",
    "n, m = map(int, input().split())\n",
    "num_list = list(map(int, input().split()))\n",
    "index_list = []\n",
    "for i in range(1, len(num_list)+1):\n",
    "    index_list.append(i)\n",
    "print(index_list)\n",
    "result = list(set(combinations(index_list, 2)))\n",
    "print(result)"
   ]
  },
  {
   "cell_type": "code",
   "execution_count": null,
   "metadata": {},
   "outputs": [],
   "source": []
  }
 ],
 "metadata": {
  "kernelspec": {
   "display_name": "Python 3",
   "language": "python",
   "name": "python3"
  },
  "language_info": {
   "codemirror_mode": {
    "name": "ipython",
    "version": 3
   },
   "file_extension": ".py",
   "mimetype": "text/x-python",
   "name": "python",
   "nbconvert_exporter": "python",
   "pygments_lexer": "ipython3",
   "version": "3.7.3"
  }
 },
 "nbformat": 4,
 "nbformat_minor": 2
}
