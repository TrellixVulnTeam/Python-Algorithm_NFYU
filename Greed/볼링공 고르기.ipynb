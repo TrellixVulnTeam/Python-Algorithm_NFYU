{
 "cells": [
  {
   "cell_type": "code",
   "execution_count": null,
   "metadata": {},
   "outputs": [],
   "source": [
    "# import time\n",
    "\n",
    "# start_time = time.time()\n",
    "\n",
    "# another code\n",
    "n, m = map(int, input().split())\n",
    "data = list(map(int, input().split()))\n",
    "array =[0] * 11\n",
    "\n",
    "for x in data:\n",
    "    array[x] += 1\n",
    "result = 0\n",
    "\n",
    "for i in range(1, m + 1):\n",
    "    n -= array[i]\n",
    "    result += array[i] * n\n",
    "print(result)\n",
    "# end_time = time.time()\n",
    "# print('프로그램 수행 시간 : {}'.format(end_time - start_time))\n"
   ]
  },
  {
   "cell_type": "code",
   "execution_count": null,
   "metadata": {},
   "outputs": [],
   "source": [
    "# another code\n",
    "import sys\n",
    "# N: 공의 개수, M: 무게의 범위\n",
    "N, M = map(int, sys.stdin.readline().split())\n",
    "balls = list(map(int, sys.stdin.readline().split()))\n",
    "\n",
    "# nC2\n",
    "total = N * (N-1) / 2\n",
    "\n",
    "# 같은 무게의 공을 고르는 경우 \n",
    "duplicates = 0\n",
    "for m in range(1, M+1):\n",
    "    dups = balls.count(m)\n",
    "    if dups > 1:\n",
    "        # dups C 2 \n",
    "        duplicates += dups * (dups-1) / 2\n",
    "\n",
    "print(int(total - duplicates))"
   ]
  }
 ],
 "metadata": {
  "kernelspec": {
   "display_name": "Python 3",
   "language": "python",
   "name": "python3"
  },
  "language_info": {
   "codemirror_mode": {
    "name": "ipython",
    "version": 3
   },
   "file_extension": ".py",
   "mimetype": "text/x-python",
   "name": "python",
   "nbconvert_exporter": "python",
   "pygments_lexer": "ipython3",
   "version": "3.7.3"
  }
 },
 "nbformat": 4,
 "nbformat_minor": 2
}
