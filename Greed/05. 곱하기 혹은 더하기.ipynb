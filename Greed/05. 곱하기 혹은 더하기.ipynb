{
 "cells": [
  {
   "cell_type": "code",
   "execution_count": 34,
   "metadata": {},
   "outputs": [
    {
     "name": "stdout",
     "output_type": "stream",
     "text": [
      "567\n",
      "210\n"
     ]
    }
   ],
   "source": [
    "num_list = ' '.join(input()).split(' ')\n",
    "int_list = list(map(int, num_list))\n",
    "\n",
    "while True:\n",
    "    i = 0\n",
    "    if 0 == len(int_list) - 1:\n",
    "        break\n",
    "    if int_list[i] == 0 or int_list[i] == 1:\n",
    "        int_list[i] = int_list[i] + int_list[i+1]\n",
    "        int_list.pop(i+1)\n",
    "    else:\n",
    "        int_list[i] = int_list[i] * int_list[i+1]\n",
    "        int_list.pop(i+1)\n",
    "print(int_list[0])"
   ]
  },
  {
   "cell_type": "code",
   "execution_count": 37,
   "metadata": {},
   "outputs": [
    {
     "name": "stdout",
     "output_type": "stream",
     "text": [
      "567\n",
      "210\n"
     ]
    }
   ],
   "source": [
    "data = input()\n",
    "result = int(data[0])\n",
    "for i in range(1, len(data)):\n",
    "    num =  int(data[i])\n",
    "    if num <= 1 or result <= 1:\n",
    "        result += num\n",
    "    else:\n",
    "        result *= num\n",
    "print(result)"
   ]
  }
 ],
 "metadata": {
  "kernelspec": {
   "display_name": "Python 3",
   "language": "python",
   "name": "python3"
  },
  "language_info": {
   "codemirror_mode": {
    "name": "ipython",
    "version": 3
   },
   "file_extension": ".py",
   "mimetype": "text/x-python",
   "name": "python",
   "nbconvert_exporter": "python",
   "pygments_lexer": "ipython3",
   "version": "3.7.3"
  }
 },
 "nbformat": 4,
 "nbformat_minor": 2
}
